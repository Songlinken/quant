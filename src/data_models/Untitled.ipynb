{
 "cells": [
  {
   "cell_type": "markdown",
   "metadata": {},
   "source": [
    "### ACH RETURN QUERIES"
   ]
  },
  {
   "cell_type": "markdown",
   "metadata": {},
   "source": [
    "#### ACH level fields"
   ]
  },
  {
   "cell_type": "code",
   "execution_count": null,
   "metadata": {},
   "outputs": [],
   "source": [
    "\"\"\"\n",
    "WITH \n",
    "  ach_transfer_info AS \n",
    "  (SELECT \n",
    "  iat.id AS ach_id, iat.bank_account_id, iat.cents, iat.requested AS ach_requested, iat.current_status, iat.user_id, iat.exchange_account_id, \n",
    "  RANK() OVER (PARTITION BY user_id ORDER BY requested DESC) as nth_transfer\n",
    "  ,sare.result_id, sare.tran_code, sare.amount_in_cents, sare.direction, sare.effective_date AS ach_returned, sare.return_code\n",
    "  ,sba.is_corporate, sba.created_at AS created_bankacc, sba.is_deleted, sba.is_primary, sba.ach_info_id, sba.account_type\n",
    "  FROM incoming_ach_transfers AS iat\n",
    "  LEFT JOIN scrubbed_ach_return_entries AS sare USING(id)\n",
    "  LEFT JOIN scrubbed_bank_accounts AS sba ON iat.bank_account_id = sba.id\n",
    "  WHERE iat.id IS NOT NULL)\n",
    "\n",
    ", limits_at_ach AS \n",
    "  (SELECT \n",
    "  ach.ach_id, ach.exchange_account_id,\n",
    "  coalesce(max(blc.daily_deposit_in_cents)/100,500) AS dailydollalimit, max(blc.thirty_day_deposit_in_cents)/1000 AS modollalimit, \n",
    "  coalesce(max(blc.completed_at),max(ach.created_bankacc)) AS limit_change_completed_at\n",
    "  FROM ach_transfer_info AS ach\n",
    "  LEFT JOIN bank_limit_changes AS blc ON (ach.exchange_account_id = blc.exchange_account_id) AND (ach.ach_requested >= blc.completed_at)\n",
    "  GROUP BY ach.ach_id, ach.exchange_account_id)\n",
    "  \n",
    ", session_ach AS \n",
    "  (SELECT \n",
    "  session_start_time.*, us2.last_password_entry, us2.last_authy_entry, us2.last_price, us2.operating_system, us2.browser,\n",
    "  us2.browser_version, us2.one_touch_enabled, us2.expired, us2.last_web_authn_entry\n",
    "  \n",
    "  FROM \n",
    "    (SELECT ach.ach_id, ach.exchange_account_id, ach.user_id, max(us.created) AS session_start\n",
    "    FROM ach_transfer_info AS ach\n",
    "    LEFT JOIN user_sessions AS us ON (ach.user_id = us.exchange_user_id) AND (ach.ach_requested >= us.created)\n",
    "    GROUP BY ach.ach_id, ach.exchange_account_id, ach.user_id) AS session_start_time\n",
    "    LEFT JOIN user_sessions AS us2 ON (session_start_time.user_id = us2.exchange_user_id) AND (session_start_time.session_start = us2.created))\n",
    "  \n",
    "SELECT \n",
    "transfer.*, \n",
    "limits.dailydollalimit, limits.modollalimit, limits.limit_change_completed_at,\n",
    "sesh.session_start, sesh.last_password_entry, sesh.last_authy_entry, sesh.last_price, sesh.operating_system, sesh.browser, sesh.browser_version, sesh.one_touch_enabled, sesh.expired, sesh.last_web_authn_entry\n",
    "FROM ach_transfer_info AS transfer\n",
    "LEFT JOIN limits_at_ach AS limits ON transfer.ach_id = limits.ach_id\n",
    "LEFT JOIN session_ach AS sesh ON transfer.ach_id = sesh.ach_id;\n",
    "\"\"\""
   ]
  },
  {
   "cell_type": "markdown",
   "metadata": {},
   "source": [
    "#### User level fields"
   ]
  },
  {
   "cell_type": "code",
   "execution_count": null,
   "metadata": {},
   "outputs": [],
   "source": [
    "\"\"\"\n",
    "WITH\n",
    "    account_info AS\n",
    "    (SELECT \n",
    "    eu.id as user_id, uagr.account_group_id AS group_id, ea.id AS account_id,\n",
    "    eu.tier, eu.first_verified_at, eu.created_at, eu.state_code, eu.country_code, sadm.is_institutional, sui.birthdate\n",
    "\n",
    "    FROM scrubbed_exchange_users AS eu\n",
    "    LEFT JOIN user_account_group_roles AS uagr ON (eu.id = uagr.exchange_user_id)\n",
    "    LEFT JOIN user_account_roles AS uar ON (eu.id = uar.exchange_user_id)\n",
    "    INNER JOIN scrubbed_exchange_accounts AS ea ON (ea.account_group_id = uagr.account_group_id OR ea.id = uar.exchange_account_id)\n",
    "    LEFT JOIN scrubbed_account_derived_metadata AS sadm ON (ea.id = sadm.exchange_account_id)\n",
    "    LEFT JOIN scrubbed_user_info AS sui ON (sui.exchange_user_id = uagr.exchange_user_id)\n",
    "    WHERE eu.tier = 'Full')\n",
    "    \n",
    ", onfido_info AS \n",
    "  (SELECT  \n",
    "  oa.exchange_user_id, \n",
    "  oc.onfido_applicant_id, oc.onfido_created_at, oc.gemini_created_at, oc.completed_at,\n",
    "  odr.onfido_check_id, odr.result AS odr_result, odr.sub_result AS odr_subresult,\n",
    "  sodp.onfido_report_id, sodp.date_of_birth, sodp.date_of_expiry, sodp.nationality, sodp.document_type, sodp.issuing_country\n",
    "  \n",
    "  FROM onfido_applicants AS oa\n",
    "  LEFT JOIN onfido_checks AS oc USING(onfido_applicant_id) -- duplicates on this join (multiple checks per applicant)\n",
    "  LEFT JOIN onfido_document_reports AS odr USING(onfido_check_id)\n",
    "  LEFT JOIN scrubbed_onfido_document_properties AS sodp USING(onfido_report_id)\n",
    "  WHERE oc.onfido_applicant_id IS NOT NULL\n",
    "  ORDER BY exchange_user_id, onfido_check_id DESC)\n",
    "  \n",
    "SELECT *\n",
    "FROM account_info AS acc\n",
    "LEFT JOIN onfido_info AS onfido\n",
    "ON acc.user_id = onfido.exchange_user_id;\n",
    "\"\"\""
   ]
  },
  {
   "cell_type": "markdown",
   "metadata": {},
   "source": [
    "#### Market Conditions"
   ]
  },
  {
   "cell_type": "code",
   "execution_count": null,
   "metadata": {},
   "outputs": [],
   "source": [
    "\"\"\"WITH \n",
    "  query1 AS\n",
    "  (SELECT dcr.created, dcr.price, dcr2.created AS createdlag, dcr2.price AS pricelag,\n",
    "  RANK() OVER (PARTITION BY dcr.created ORDER BY dcr2.created DESC) AS nthday\n",
    "  \n",
    "  FROM daily_conversion_rates AS dcr\n",
    "  LEFT JOIN daily_conversion_rates AS dcr2 ON dcr.created::date >= dcr2.created::date AND dcr.created::date <= (dcr2.created::date + 4)\n",
    "  WHERE dcr.trading_pair = 'BTCUSD' AND dcr2.trading_pair = 'BTCUSD' \n",
    "  ORDER by dcr.created, dcr2.created)\n",
    "\n",
    ", query2 AS\n",
    "  (SELECT * FROM query1\n",
    "  WHERE created::date NOT IN (SELECT created::date FROM query1 GROUP BY created::date HAVING max(nthday) < 5 ORDER BY created ASC)\n",
    "  ORDER BY created)\n",
    "\n",
    "SELECT \n",
    "created::date, max(pricelag) - min(pricelag) as range,\n",
    "(sum(pricelag * CAST(nthday = 5 as int)) - sum(pricelag * CAST(nthday = 1 as int)))/sum(pricelag * CAST(nthday = 1 as int)) as diffday4,\n",
    "(sum(pricelag * CAST(nthday = 2 as int)) - sum(pricelag * CAST(nthday = 1 as int)))/sum(pricelag * CAST(nthday = 1 as int)) as diffday1\n",
    "FROM query2\n",
    "GROUP BY created::date\n",
    "ORDER BY created;\"\"\""
   ]
  }
 ],
 "metadata": {
  "kernelspec": {
   "display_name": "Python 3",
   "language": "python",
   "name": "python3"
  },
  "language_info": {
   "codemirror_mode": {
    "name": "ipython",
    "version": 3
   },
   "file_extension": ".py",
   "mimetype": "text/x-python",
   "name": "python",
   "nbconvert_exporter": "python",
   "pygments_lexer": "ipython3",
   "version": "3.7.0"
  }
 },
 "nbformat": 4,
 "nbformat_minor": 2
}
