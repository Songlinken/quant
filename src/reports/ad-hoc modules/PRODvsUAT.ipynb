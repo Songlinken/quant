{
 "cells": [
  {
   "cell_type": "code",
   "execution_count": 1,
   "metadata": {},
   "outputs": [
    {
     "name": "stderr",
     "output_type": "stream",
     "text": [
      "/Users/sqian/.pyenv/versions/3.7.0/envs/env_370/lib/python3.7/site-packages/psycopg2/__init__.py:144: UserWarning: The psycopg2 wheel package will be renamed from release 2.8; in order to keep installing from binary please use \"pip install psycopg2-binary\" instead. For details see: <http://initd.org/psycopg/docs/install.html#binary-install-from-pypi>.\n",
      "  \"\"\")\n"
     ]
    }
   ],
   "source": [
    "import os; os.chdir('/Users/sqian/MKTSRV')\n",
    "import pandas as pd; pd.set_option('mode.chained_assignment',None)\n",
    "import numpy as np\n",
    "import datetime\n",
    "import matplotlib.pyplot as plt\n",
    "import matplotlib.mlab as mlab\n",
    "import math\n",
    "import datetime\n",
    "import matplotlib as mpl\n",
    "from matplotlib import pyplot as plt\n",
    "import numpy\n",
    "import re\n",
    "import xlrd\n",
    "from datetime import date\n",
    "from xlsxwriter.utility import xl_rowcol_to_cell\n",
    "from random import sample\n",
    "from math import log10, floor\n",
    "from src.data_models.smartshelper import metrics, fixNum, unSMART, cparty, littleQA, totalUP\n",
    "from src.data_models.SmartsDataModel import SmartsDataModel\n",
    "from src.utility.DataModelUtility import execute_query_data_frame"
   ]
  },
  {
   "cell_type": "markdown",
   "metadata": {},
   "source": [
    "#### 1) Import & Create Datetime & match columns"
   ]
  },
  {
   "cell_type": "code",
   "execution_count": 2,
   "metadata": {},
   "outputs": [],
   "source": [
    "prod = pd.read_excel('~/Documents/vmfldr/Alerts-AllRows_gemini_20190823-20190828_parity_prod.xlsx')\n",
    "uat = pd.read_excel('~/Documents/vmfldr/Alerts-AllRows_gemini_20190823-20190828_parity_test.xlsx')"
   ]
  },
  {
   "cell_type": "code",
   "execution_count": 39,
   "metadata": {},
   "outputs": [],
   "source": [
    "prod['Datetime'] = pd.to_datetime(prod['Date'].astype(str) + ' ' + prod['Time'].astype(str)) \n",
    "uat['Datetime'] = pd.to_datetime(uat['Date'].astype(str) + ' ' + uat['Time'].astype(str)) \n",
    "\n",
    "prod['dtmatch'] = prod['Datetime'].astype(str) + '__' + prod['Alert Code'].astype(str) + '_' + prod['Account ID Code'].fillna(0).astype(int).astype(str) + '_' + prod['Instrument Code'].fillna('_')\n",
    "uat['dtmatch'] = uat['Datetime'].astype(str) + '__' + uat['Alert Code'].astype(str) + '_' + uat['Account ID Code'].fillna(0).astype(int).astype(str) + '_' + uat['Instrument Code'].fillna('_')"
   ]
  },
  {
   "cell_type": "markdown",
   "metadata": {},
   "source": [
    "#### 2) Filter to this year"
   ]
  },
  {
   "cell_type": "code",
   "execution_count": 29,
   "metadata": {},
   "outputs": [],
   "source": [
    "dateoi = '2019-01-01'\n",
    "dayprod = prod.loc[prod['Date'] >= dateoi]\n",
    "dayuat = uat.loc[uat['Date'] >= dateoi]"
   ]
  },
  {
   "cell_type": "markdown",
   "metadata": {},
   "source": [
    "#### 3) Alert Generation Reconcilliation"
   ]
  },
  {
   "cell_type": "code",
   "execution_count": 32,
   "metadata": {},
   "outputs": [],
   "source": [
    "dayprodtest = dayprod.groupby(['Date','Time','Alert Code','Account ID Code', 'Instrument Code']).count()['Alert ID']\n",
    "dayuattest = dayuat.groupby(['Date','Time','Alert Code','Account ID Code', 'Instrument Code']).count()['Alert ID']\n",
    "\n",
    "testdiff = pd.concat([pd.DataFrame(dayprodtest),pd.DataFrame(dayuattest)], axis=1,join='outer',sort=True).fillna(0).astype(int)\n",
    "testdiff.columns = ['dayprodtest','dayuattest']\n",
    "testdiff['count_diff'] = testdiff['dayprodtest'] - testdiff['dayuattest']\n",
    "\n",
    "discrep = testdiff.loc[testdiff['count_diff'] != 0]\n",
    "crep = testdiff.loc[testdiff['count_diff'] == 0]"
   ]
  },
  {
   "cell_type": "markdown",
   "metadata": {},
   "source": [
    "#### 4) Alert Generation Matches - Content Reconcilliation"
   ]
  },
  {
   "cell_type": "code",
   "execution_count": 33,
   "metadata": {},
   "outputs": [],
   "source": [
    "tempcrep = crep.reset_index()\n",
    "tempcrep['Datetime'] = pd.to_datetime(tempcrep['Date'].astype(str) + ' ' + tempcrep['Time'].astype(str))\n",
    "tempcrep['dtmatch'] = tempcrep['Datetime'].astype(str) + '__' + tempcrep['Alert Code'].astype(str)+ '_' + tempcrep['Account ID Code'].fillna(0).astype(int).astype(str)  + '_' + tempcrep['Instrument Code'].fillna('_')"
   ]
  },
  {
   "cell_type": "code",
   "execution_count": 35,
   "metadata": {},
   "outputs": [],
   "source": [
    "fieldoi = 'Long Text'\n",
    "collist = ['Datetime','Instrument Code','Account ID Code','Long Text','Reissue Count','uatLong Text']"
   ]
  },
  {
   "cell_type": "code",
   "execution_count": 36,
   "metadata": {},
   "outputs": [],
   "source": [
    "crepprod = dayprod.loc[(dayprod['dtmatch'].isin(tempcrep['dtmatch']))]\n",
    "crepuat = dayuat.loc[(dayuat['dtmatch'].isin(tempcrep['dtmatch']))]\n",
    "# crepprod"
   ]
  },
  {
   "cell_type": "code",
   "execution_count": 37,
   "metadata": {},
   "outputs": [],
   "source": [
    "mapdict = crepuat[['dtmatch','Long Text']].set_index('dtmatch').to_dict()['Long Text']\n",
    "crepprod['uatLong Text'] = crepprod['dtmatch'].map(mapdict)\n",
    "discrep2 = crepprod.loc[crepprod['uatLong Text'] != crepprod['Long Text']][collist]"
   ]
  },
  {
   "cell_type": "code",
   "execution_count": 38,
   "metadata": {},
   "outputs": [
    {
     "name": "stdout",
     "output_type": "stream",
     "text": [
      "empty: discrep\n",
      "empty: discrep2\n"
     ]
    }
   ],
   "source": [
    "os.chdir('/Users/sqian/Desktop')\n",
    "\n",
    "writer = pd.ExcelWriter('UATvsPROD.xlsx', engine='xlsxwriter')\n",
    "\n",
    "if (len(discrep) == 0): print('empty: discrep')\n",
    "else: discrep.to_excel(writer, 'AlertGeneration_discrp')\n",
    "\n",
    "if (len(crep) == 0): print('empty: crep')\n",
    "else: crep.to_excel(writer, 'AlertGeneration_matches')\n",
    "\n",
    "if (len(discrep2) == 0): print('empty: discrep2')\n",
    "else: discrep2.to_excel(writer, 'AlertContent_discrep')\n",
    "\n",
    "writer.save()"
   ]
  },
  {
   "cell_type": "code",
   "execution_count": null,
   "metadata": {},
   "outputs": [],
   "source": []
  }
 ],
 "metadata": {
  "kernelspec": {
   "display_name": "Python 3",
   "language": "python",
   "name": "python3"
  },
  "language_info": {
   "codemirror_mode": {
    "name": "ipython",
    "version": 3
   },
   "file_extension": ".py",
   "mimetype": "text/x-python",
   "name": "python",
   "nbconvert_exporter": "python",
   "pygments_lexer": "ipython3",
   "version": "3.7.0"
  }
 },
 "nbformat": 4,
 "nbformat_minor": 2
}
