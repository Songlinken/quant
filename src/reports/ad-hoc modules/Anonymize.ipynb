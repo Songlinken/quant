{
 "cells": [
  {
   "cell_type": "code",
   "execution_count": 1,
   "metadata": {},
   "outputs": [
    {
     "name": "stderr",
     "output_type": "stream",
     "text": [
      "/Users/sqian/.pyenv/versions/3.7.0/envs/env_370/lib/python3.7/site-packages/psycopg2/__init__.py:144: UserWarning: The psycopg2 wheel package will be renamed from release 2.8; in order to keep installing from binary please use \"pip install psycopg2-binary\" instead. For details see: <http://initd.org/psycopg/docs/install.html#binary-install-from-pypi>.\n",
      "  \"\"\")\n"
     ]
    }
   ],
   "source": [
    "import os; os.chdir('/Users/sqian/MKTSRV')\n",
    "import pandas as pd; pd.set_option('mode.chained_assignment',None)\n",
    "import numpy as np\n",
    "import datetime\n",
    "import matplotlib.pyplot as plt\n",
    "import matplotlib.mlab as mlab\n",
    "import math\n",
    "import datetime\n",
    "import matplotlib as mpl\n",
    "import re\n",
    "import xlrd\n",
    "from datetime import date\n",
    "from xlsxwriter.utility import xl_rowcol_to_cell\n",
    "from random import sample\n",
    "from math import log10, floor\n",
    "from src.data_models.smartshelper import metrics, fixNum, unSMART, cparty, littleQA, totalUP\n",
    "from src.data_models.SmartsDataModel import SmartsDataModel\n",
    "from src.utility.DataModelUtility import execute_query_data_frame\n",
    "from src.utility.GeneralUtility import date_range, random_string, timer"
   ]
  },
  {
   "cell_type": "markdown",
   "metadata": {},
   "source": [
    "#### 1A) SET day range based on Alert Volume"
   ]
  },
  {
   "cell_type": "code",
   "execution_count": 2,
   "metadata": {},
   "outputs": [],
   "source": [
    "# rangeofdays = 7\n",
    "# book = 'BTCUSD'\n",
    "\n",
    "# alerts = pd.read_excel('~/Documents/vmfldr/Alerts-AllRows_gemini_20190301-20190829.xlsx')\n",
    "\n",
    "# alertsspoof = alerts.loc[alerts['Alert Code'].isin([4022,4023,4032])]\n",
    "# alertsspoof_day = alertsspoof.groupby('Date').count().rolling('{}d'.format(rangeofdays)).sum()\n",
    "# firstdate = alertsspoof_day.loc[alertsspoof_day['Alert Code'] == alertsspoof_day['Alert Code'].max()].index[0] - datetime.timedelta(days=rangeofdays)"
   ]
  },
  {
   "cell_type": "markdown",
   "metadata": {},
   "source": [
    "#### 1B) SET day range manually"
   ]
  },
  {
   "cell_type": "code",
   "execution_count": 3,
   "metadata": {},
   "outputs": [],
   "source": [
    "firstdate = datetime.date(2019,4,1)\n",
    "rangeofdays = 30\n",
    "booklist = ['ZECETH','BTCUSD']"
   ]
  },
  {
   "cell_type": "markdown",
   "metadata": {},
   "source": [
    "#### 2) Date List Creation"
   ]
  },
  {
   "cell_type": "code",
   "execution_count": 4,
   "metadata": {},
   "outputs": [
    {
     "name": "stdout",
     "output_type": "stream",
     "text": [
      "min: 20190401\n",
      "max: 20190430\n"
     ]
    }
   ],
   "source": [
    "datelist = pd.date_range(firstdate, periods=rangeofdays).astype(str).str.replace('-','').tolist()\n",
    "print('min: {}'.format(min(datelist)),'max: {}'.format(max(datelist)), sep='\\n')"
   ]
  },
  {
   "cell_type": "markdown",
   "metadata": {},
   "source": [
    "#### 3) GET that range of dates for BTCUSD"
   ]
  },
  {
   "cell_type": "code",
   "execution_count": 5,
   "metadata": {},
   "outputs": [
    {
     "name": "stdout",
     "output_type": "stream",
     "text": [
      "ZECETH 20190401 (166443, 23) (166443, 23)\n",
      "ZECETH 20190402 (302048, 23) (468491, 23)\n",
      "ZECETH 20190403 (232796, 23) (701287, 23)\n",
      "ZECETH 20190404 (159318, 23) (860605, 23)\n",
      "ZECETH 20190405 (161275, 23) (1021880, 23)\n",
      "ZECETH 20190406 (110592, 23) (1132472, 23)\n",
      "ZECETH 20190407 (136966, 23) (1269438, 23)\n",
      "ZECETH 20190408 (154306, 23) (1423744, 23)\n",
      "ZECETH 20190409 (110818, 23) (1534562, 23)\n",
      "ZECETH 20190410 (102114, 23) (1636676, 23)\n",
      "ZECETH 20190411 (146469, 23) (1783145, 23)\n",
      "ZECETH 20190412 (98083, 23) (1881228, 23)\n",
      "ZECETH 20190413 (82313, 23) (1963541, 23)\n",
      "ZECETH 20190414 (75486, 23) (2039027, 23)\n",
      "ZECETH 20190415 (94996, 23) (2134023, 23)\n",
      "ZECETH 20190416 (87523, 23) (2221546, 23)\n",
      "ZECETH 20190417 (106082, 23) (2327628, 23)\n",
      "ZECETH 20190418 (112922, 23) (2440550, 23)\n",
      "ZECETH 20190419 (63084, 23) (2503634, 23)\n",
      "ZECETH 20190420 (52976, 23) (2556610, 23)\n",
      "ZECETH 20190421 (90297, 23) (2646907, 23)\n",
      "ZECETH 20190422 (109671, 23) (2756578, 23)\n",
      "ZECETH 20190423 (117570, 23) (2874148, 23)\n",
      "ZECETH 20190424 (106691, 23) (2980839, 23)\n",
      "ZECETH 20190425 (123238, 23) (3104077, 23)\n",
      "ZECETH 20190426 (95396, 23) (3199473, 23)\n",
      "ZECETH 20190427 (54697, 23) (3254170, 23)\n",
      "ZECETH 20190428 (58281, 23) (3312451, 23)\n",
      "ZECETH 20190429 (105627, 23) (3418078, 23)\n",
      "ZECETH 20190430 (77580, 23) (3495658, 23)\n",
      "BTCUSD 20190401 (764526, 23) (764526, 23)\n",
      "BTCUSD 20190402 (1448071, 23) (2212597, 23)\n",
      "BTCUSD 20190403 (2370414, 23) (4583011, 23)\n",
      "BTCUSD 20190404 (1435752, 23) (6018763, 23)\n",
      "BTCUSD 20190405 (986206, 23) (7004969, 23)\n",
      "BTCUSD 20190406 (1624785, 23) (8629754, 23)\n",
      "BTCUSD 20190407 (1498866, 23) (10128620, 23)\n",
      "BTCUSD 20190408 (1318222, 23) (11446842, 23)\n",
      "BTCUSD 20190409 (1111054, 23) (12557896, 23)\n",
      "BTCUSD 20190410 (1268845, 23) (13826741, 23)\n",
      "BTCUSD 20190411 (1357371, 23) (15184112, 23)\n",
      "BTCUSD 20190412 (943654, 23) (16127766, 23)\n",
      "BTCUSD 20190413 (1000228, 23) (17127994, 23)\n",
      "BTCUSD 20190414 (771582, 23) (17899576, 23)\n",
      "BTCUSD 20190415 (906221, 23) (18805797, 23)\n",
      "BTCUSD 20190416 (899829, 23) (19705626, 23)\n",
      "BTCUSD 20190417 (935834, 23) (20641460, 23)\n",
      "BTCUSD 20190418 (874044, 23) (21515504, 23)\n",
      "BTCUSD 20190419 (843705, 23) (22359209, 23)\n",
      "BTCUSD 20190420 (687159, 23) (23046368, 23)\n",
      "BTCUSD 20190421 (1006327, 23) (24052695, 23)\n",
      "BTCUSD 20190422 (856938, 23) (24909633, 23)\n",
      "BTCUSD 20190423 (1156157, 23) (26065790, 23)\n",
      "BTCUSD 20190424 (1229227, 23) (27295017, 23)\n",
      "BTCUSD 20190425 (1372037, 23) (28667054, 23)\n",
      "BTCUSD 20190426 (875405, 23) (29542459, 23)\n",
      "BTCUSD 20190427 (797598, 23) (30340057, 23)\n",
      "BTCUSD 20190428 (1224313, 23) (31564370, 23)\n",
      "BTCUSD 20190429 (1004029, 23) (32568399, 23)\n",
      "BTCUSD 20190430 (886427, 23) (33454826, 23)\n"
     ]
    },
    {
     "data": {
      "text/plain": [
       "dict_keys(['ZECETH', 'BTCUSD'])"
      ]
     },
     "execution_count": 5,
     "metadata": {},
     "output_type": "execute_result"
    }
   ],
   "source": [
    "breakpoint = 10000000\n",
    "fulldf = pd.DataFrame()\n",
    "fulldfdict = {}\n",
    "\n",
    "for j in booklist:\n",
    "    appendeddf = pd.DataFrame()\n",
    "    for i in datelist:\n",
    "        temp = pd.read_csv('~/Downloads/{}.orders_{}.csv'.format(i,j))\n",
    "        appendeddf = appendeddf.append(temp)\n",
    "        print(j, i, temp.shape, appendeddf.shape)\n",
    "    fulldf = fulldf.append(appendeddf, sort=False)\n",
    "    fulldfdict[j] = appendeddf\n",
    "    \n",
    "    for i in range(0,math.ceil(appendeddf.shape[0]/breakpoint)):\n",
    "        startpoint = i * breakpoint\n",
    "        endpoint = (i+1) * breakpoint\n",
    "        appendeddf.iloc[startpoint:endpoint].to_pickle('~/Desktop/raw_april{}_part{}.pkl'.format(j,i+1))\n",
    "\n",
    "fulldfdict.keys()"
   ]
  },
  {
   "cell_type": "markdown",
   "metadata": {},
   "source": [
    "#### 4) GENERATE random strings to replace account_Id"
   ]
  },
  {
   "cell_type": "code",
   "execution_count": 10,
   "metadata": {},
   "outputs": [],
   "source": [
    "accIDmap = pd.DataFrame(pd.unique(fulldf['Account ID'])).rename(columns={0:'acc'})\n",
    "\n",
    "accIDmap['accSTR'] = accIDmap['acc'].astype(str)\n",
    "accIDmap['accountANON'] = accIDmap['acc'].apply(lambda x: random_string(12))\n",
    "anondictpart = accIDmap.drop(columns='acc').set_index('accSTR')\n",
    "anondict = anondictpart.to_dict()['accountANON']"
   ]
  },
  {
   "cell_type": "code",
   "execution_count": 12,
   "metadata": {},
   "outputs": [],
   "source": [
    "anondictpart.to_csv('~/Desktop/accID-anonstring-map-CONFIDENTIAL_FOR_INTERNAL_ONLY')"
   ]
  },
  {
   "cell_type": "markdown",
   "metadata": {},
   "source": [
    "#### 5) ANONYMIZE data & export"
   ]
  },
  {
   "cell_type": "code",
   "execution_count": 7,
   "metadata": {},
   "outputs": [
    {
     "name": "stdout",
     "output_type": "stream",
     "text": [
      "ZECETH (3495658, 23)\n",
      "BTCUSD (33454826, 23)\n"
     ]
    }
   ],
   "source": [
    "for j in booklist:\n",
    "    anonymizeddf = pd.DataFrame(fulldfdict[j])\n",
    "    anonymizeddf['Account ID'] = anonymizeddf['Account ID'].astype(str).map(anondict)\n",
    "    fulldfdict['anon_{}'.format(j)] = anonymizeddf\n",
    "    print(j,anonymizeddf.shape)\n",
    "    \n",
    "    dftemp = fulldfdict['anon_{}'.format(j)]\n",
    "    for i in range(0,math.ceil(dftemp.shape[0]/breakpoint)):\n",
    "        startpoint = i * breakpoint\n",
    "        endpoint = (i+1) * breakpoint\n",
    "        dftemp.iloc[startpoint:endpoint].to_pickle('~/Desktop/anon_april{}_part{}.pkl'.format(j,i+1))"
   ]
  },
  {
   "cell_type": "markdown",
   "metadata": {},
   "source": [
    "#### 5) check 100% mapping (any numbers <12 indicate a problem)"
   ]
  },
  {
   "cell_type": "markdown",
   "metadata": {},
   "source": [
    "##### (no account numbers are 12 characters long, and this is the number of characters in the anonymized account string)"
   ]
  },
  {
   "cell_type": "code",
   "execution_count": 8,
   "metadata": {},
   "outputs": [
    {
     "name": "stdout",
     "output_type": "stream",
     "text": [
      "ZECETH 12\n",
      "BTCUSD 12\n"
     ]
    }
   ],
   "source": [
    "for j in booklist:\n",
    "    print(j, fulldfdict['anon_{}'.format(j)]['Account ID'].apply(len).min())"
   ]
  }
 ],
 "metadata": {
  "kernelspec": {
   "display_name": "Python 3",
   "language": "python",
   "name": "python3"
  },
  "language_info": {
   "codemirror_mode": {
    "name": "ipython",
    "version": 3
   },
   "file_extension": ".py",
   "mimetype": "text/x-python",
   "name": "python",
   "nbconvert_exporter": "python",
   "pygments_lexer": "ipython3",
   "version": "3.7.0"
  }
 },
 "nbformat": 4,
 "nbformat_minor": 2
}
