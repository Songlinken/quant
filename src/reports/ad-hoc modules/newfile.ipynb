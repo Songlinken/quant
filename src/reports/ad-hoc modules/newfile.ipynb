{
 "cells": [
  {
   "cell_type": "code",
   "execution_count": 1,
   "metadata": {},
   "outputs": [
    {
     "name": "stderr",
     "output_type": "stream",
     "text": [
      "/Users/sqian/.pyenv/versions/3.7.0/envs/env_370/lib/python3.7/site-packages/psycopg2/__init__.py:144: UserWarning: The psycopg2 wheel package will be renamed from release 2.8; in order to keep installing from binary please use \"pip install psycopg2-binary\" instead. For details see: <http://initd.org/psycopg/docs/install.html#binary-install-from-pypi>.\n",
      "  \"\"\")\n"
     ]
    }
   ],
   "source": [
    "import os; os.chdir('/Users/sqian/MKTSRV')\n",
    "import pandas as pd; pd.set_option('mode.chained_assignment',None) \n",
    "import numpy as np\n",
    "import datetime\n",
    "import matplotlib.pyplot as plt\n",
    "import matplotlib.mlab as mlab\n",
    "import math\n",
    "import datetime\n",
    "from scipy import stats\n",
    "import matplotlib as mpl\n",
    "from matplotlib import pyplot as plt\n",
    "import numpy\n",
    "import re\n",
    "import xlrd\n",
    "from datetime import date\n",
    "from xlsxwriter.utility import xl_rowcol_to_cell\n",
    "from random import sample \n",
    "from math import log10, floor\n",
    "from src.data_models.smartshelper import metrics, fixNum, unSMART, cparty, littleQA, totalUP\n",
    "from src.data_models.SmartsDataModel import SmartsDataModel\n",
    "from src.utility.DataModelUtility import execute_query_data_frame\n",
    "\n",
    "account = 355845"
   ]
  },
  {
   "cell_type": "markdown",
   "metadata": {},
   "source": [
    "### 1) Import Alerts from SMARTS FE"
   ]
  },
  {
   "cell_type": "code",
   "execution_count": 2,
   "metadata": {},
   "outputs": [
    {
     "name": "stdout",
     "output_type": "stream",
     "text": [
      "-> type fixed, kept 205 rows, 15 columns\n"
     ]
    }
   ],
   "source": [
    "alerts0 = fixNum(unSMART(pd.read_excel('~/Documents/datafldr/smarts1_2019JanFeb_spoof.xlsx')))"
   ]
  },
  {
   "cell_type": "code",
   "execution_count": 3,
   "metadata": {},
   "outputs": [],
   "source": [
    "alerts4022 = alerts0.loc[((alerts0['AlertCode'] == 4022) | (alerts0['AlertCode'] == 4023) | (alerts0['AlertCode'] == 4032)) & (alerts0['AccountIDName'] == account),['Date','InstrumentName','AlertID']].reset_index(drop=True)\n",
    "alertsummary = alerts4022.groupby(['Date','InstrumentName']).count()['AlertID']\n",
    "# alertsummary"
   ]
  },
  {
   "cell_type": "markdown",
   "metadata": {},
   "source": [
    "### 2) Keep Account X/ Spoof Group Alerts"
   ]
  },
  {
   "cell_type": "code",
   "execution_count": 4,
   "metadata": {},
   "outputs": [],
   "source": [
    "accdates = alerts4022.groupby(['Date','InstrumentName']).count().reset_index()\n",
    "accdates['Datestr'] = accdates['Date'].astype(str).str.replace('-','')"
   ]
  },
  {
   "cell_type": "markdown",
   "metadata": {},
   "source": [
    "### 3) Read in SMARTS csv files & Combine"
   ]
  },
  {
   "cell_type": "code",
   "execution_count": 5,
   "metadata": {},
   "outputs": [],
   "source": [
    "inputdf = []\n",
    "\n",
    "for i in range(0,accdates.shape[0]):\n",
    "    inputt = pd.read_csv(f\"~/Downloads/csv_archive/{accdates.loc[i,'Datestr']}.orders_{accdates.loc[i,'InstrumentName']}.csv\")\n",
    "    inputt['Date'] = accdates.loc[i,'Date']\n",
    "    inputdf.append(inputt)\n",
    "\n",
    "inputt = pd.concat(inputdf, sort=True)\n",
    "inputt.columns = inputt.columns.str.replace(' ','')\n",
    "inputt['dt'] = pd.to_datetime(inputt['EventDate'] + ' ' + inputt['EventTime'] + '.' + inputt['EventMillis'].apply(lambda x: '{0:0>3}'.format(x)))"
   ]
  },
  {
   "cell_type": "markdown",
   "metadata": {},
   "source": [
    "#### >>> Account Analysis"
   ]
  },
  {
   "cell_type": "code",
   "execution_count": 6,
   "metadata": {},
   "outputs": [
    {
     "data": {
      "text/html": [
       "<div>\n",
       "<style scoped>\n",
       "    .dataframe tbody tr th:only-of-type {\n",
       "        vertical-align: middle;\n",
       "    }\n",
       "\n",
       "    .dataframe tbody tr th {\n",
       "        vertical-align: top;\n",
       "    }\n",
       "\n",
       "    .dataframe thead th {\n",
       "        text-align: right;\n",
       "    }\n",
       "</style>\n",
       "<table border=\"1\" class=\"dataframe\">\n",
       "  <thead>\n",
       "    <tr style=\"text-align: right;\">\n",
       "      <th></th>\n",
       "      <th>count</th>\n",
       "      <th>%</th>\n",
       "    </tr>\n",
       "  </thead>\n",
       "  <tbody>\n",
       "    <tr>\n",
       "      <th>355845</th>\n",
       "      <td>1792751</td>\n",
       "      <td>29%</td>\n",
       "    </tr>\n",
       "    <tr>\n",
       "      <th>1595</th>\n",
       "      <td>796479</td>\n",
       "      <td>13%</td>\n",
       "    </tr>\n",
       "    <tr>\n",
       "      <th>22440</th>\n",
       "      <td>745454</td>\n",
       "      <td>12%</td>\n",
       "    </tr>\n",
       "    <tr>\n",
       "      <th>411770</th>\n",
       "      <td>610815</td>\n",
       "      <td>10%</td>\n",
       "    </tr>\n",
       "    <tr>\n",
       "      <th>847194</th>\n",
       "      <td>550719</td>\n",
       "      <td>9%</td>\n",
       "    </tr>\n",
       "  </tbody>\n",
       "</table>\n",
       "</div>"
      ],
      "text/plain": [
       "          count    %\n",
       "355845  1792751  29%\n",
       "1595     796479  13%\n",
       "22440    745454  12%\n",
       "411770   610815  10%\n",
       "847194   550719   9%"
      ]
     },
     "execution_count": 6,
     "metadata": {},
     "output_type": "execute_result"
    }
   ],
   "source": [
    "metrics(inputt['AccountID']).head()"
   ]
  },
  {
   "cell_type": "markdown",
   "metadata": {},
   "source": [
    "#### >>> Order Type/Execution Analysis"
   ]
  },
  {
   "cell_type": "code",
   "execution_count": 7,
   "metadata": {},
   "outputs": [
    {
     "data": {
      "text/html": [
       "<div>\n",
       "<style scoped>\n",
       "    .dataframe tbody tr th:only-of-type {\n",
       "        vertical-align: middle;\n",
       "    }\n",
       "\n",
       "    .dataframe tbody tr th {\n",
       "        vertical-align: top;\n",
       "    }\n",
       "\n",
       "    .dataframe thead th {\n",
       "        text-align: right;\n",
       "    }\n",
       "</style>\n",
       "<table border=\"1\" class=\"dataframe\">\n",
       "  <thead>\n",
       "    <tr style=\"text-align: right;\">\n",
       "      <th></th>\n",
       "      <th></th>\n",
       "      <th>OrderID</th>\n",
       "    </tr>\n",
       "    <tr>\n",
       "      <th>ExecutionOptions</th>\n",
       "      <th>OrderType</th>\n",
       "      <th></th>\n",
       "    </tr>\n",
       "  </thead>\n",
       "  <tbody>\n",
       "    <tr>\n",
       "      <th>auction-only</th>\n",
       "      <th>limit</th>\n",
       "      <td>281</td>\n",
       "    </tr>\n",
       "    <tr>\n",
       "      <th>block</th>\n",
       "      <th>limit</th>\n",
       "      <td>354</td>\n",
       "    </tr>\n",
       "    <tr>\n",
       "      <th>maker-or-cancel</th>\n",
       "      <th>limit</th>\n",
       "      <td>1789856</td>\n",
       "    </tr>\n",
       "    <tr>\n",
       "      <th>missing</th>\n",
       "      <th>limit</th>\n",
       "      <td>2260</td>\n",
       "    </tr>\n",
       "  </tbody>\n",
       "</table>\n",
       "</div>"
      ],
      "text/plain": [
       "                            OrderID\n",
       "ExecutionOptions OrderType         \n",
       "auction-only     limit          281\n",
       "block            limit          354\n",
       "maker-or-cancel  limit      1789856\n",
       "missing          limit         2260"
      ]
     },
     "execution_count": 7,
     "metadata": {},
     "output_type": "execute_result"
    }
   ],
   "source": [
    "inputt_acc = inputt.loc[inputt['AccountID'] == account].reset_index()\n",
    "inputt_acc[['OrderID','ExecutionOptions','OrderType']].fillna('missing').groupby(['ExecutionOptions','OrderType']).count()"
   ]
  },
  {
   "cell_type": "markdown",
   "metadata": {},
   "source": [
    "### 4) OrderID groupby"
   ]
  },
  {
   "cell_type": "markdown",
   "metadata": {},
   "source": [
    "#### >>> Group by OrderID"
   ]
  },
  {
   "cell_type": "code",
   "execution_count": 8,
   "metadata": {},
   "outputs": [],
   "source": [
    "data0_place = inputt_acc.loc[(inputt_acc['EventType'] == 'Place') & (inputt_acc['EventType'] == 'Place'),['OrderID','dt','Symbol']]\n",
    "data0_cancel = inputt_acc.loc[inputt_acc['EventType'] == 'Cancel',['OrderID','dt']]\n",
    "data0_fill = inputt_acc.loc[inputt_acc['EventType'] == 'Fill',['OrderID','dt']].groupby(['OrderID']).min()\n",
    "\n",
    "data1 = pd.concat([data0_place.set_index(['OrderID']),data0_cancel.set_index(['OrderID']),data0_fill],axis=1)\n",
    "data1.columns = ['place','pair','cancel','fill']\n",
    "data1['canceltime'] = (data1['cancel'] - data1['place']).dt.total_seconds()/60\n",
    "data1['filltime'] = (data1['fill'] - data1['place']).dt.total_seconds()/60\n",
    "# data1"
   ]
  },
  {
   "cell_type": "markdown",
   "metadata": {},
   "source": [
    "#### >>> OrderID check"
   ]
  },
  {
   "cell_type": "markdown",
   "metadata": {},
   "source": [
    "### 5) Figure 1: Liquidity/Side Breakdown"
   ]
  },
  {
   "cell_type": "code",
   "execution_count": 9,
   "metadata": {},
   "outputs": [
    {
     "name": "stderr",
     "output_type": "stream",
     "text": [
      "INFO:root:Constructing Singleton\n",
      "INFO:root:Using global configuration /Users/sqian/msv.yaml.\n",
      "INFO:root:Completed loading configuration.\n",
      "INFO:paramiko.transport:Connected (version 2.0, client OpenSSH_7.4p1)\n",
      "INFO:paramiko.transport:Authentication (publickey) successful!\n"
     ]
    },
    {
     "name": "stdout",
     "output_type": "stream",
     "text": [
      "ssh_connect 0:00:01.174857\n"
     ]
    },
    {
     "name": "stderr",
     "output_type": "stream",
     "text": [
      "INFO:root:Loaded dataframe with 8 rows in 0:00:02.099229.\n"
     ]
    }
   ],
   "source": [
    "query = \"\"\"\n",
    "        SELECT liquidity_indicator, side, count(*)\n",
    "        from order_fill_event\n",
    "        where created between '2019-01-01' and '2019-03-01' and account_id = {}\n",
    "        group by liquidity_indicator, side;\n",
    "        \"\"\".format(account)\n",
    "\n",
    "test = execute_query_data_frame(query,'engine')\n",
    "test2 = round(test.set_index(['liquidity_indicator','side'])/test.sum()['count']*100,0).astype(int)\n",
    "totalUP(pd.pivot_table(test2.loc[test2['count'] > 0].reset_index(), values='count', index=['liquidity_indicator'], columns=['side'], aggfunc=np.sum)).to_csv('~/Desktop/Figure1{}.csv'.format(account))"
   ]
  },
  {
   "cell_type": "markdown",
   "metadata": {},
   "source": [
    "### 6) Figure 2: Combined CSV data for Alert days"
   ]
  },
  {
   "cell_type": "code",
   "execution_count": 10,
   "metadata": {},
   "outputs": [],
   "source": [
    "data2 = data1.loc[~data1['place'].isna()]\n",
    "data2['Date'] = data2['place'].dt.date"
   ]
  },
  {
   "cell_type": "code",
   "execution_count": 11,
   "metadata": {},
   "outputs": [
    {
     "data": {
      "text/plain": [
       "Date        InstrumentName\n",
       "2019-01-07  BTCUSD            2\n",
       "2019-01-11  ETHUSD            2\n",
       "            ZECUSD            1\n",
       "2019-01-14  ZECUSD            1\n",
       "2019-01-15  ETHUSD            2\n",
       "Name: AlertID, dtype: int64"
      ]
     },
     "execution_count": 11,
     "metadata": {},
     "output_type": "execute_result"
    }
   ],
   "source": [
    "alertsummary.head()"
   ]
  },
  {
   "cell_type": "code",
   "execution_count": 12,
   "metadata": {},
   "outputs": [],
   "source": [
    "# data3 = pd.concat([alertsummary.reset_index().set_index(['Date','InstrumentName']),\n",
    "#                    data2.set_index('Date').groupby(['Date','pair']).count()[['place','cancel','fill']]]\n",
    "#                   ,axis=1).rename(columns={'canceltime':'within1m_cancel'})\n",
    "# data3['fill%'] = round((1-data3['cancel']/data3['place'])*100,1).astype(str) +'%'\n",
    "# data3['1sec_cancel'] = round(data2.groupby(['Date','pair'])['canceltime'].apply(stats.percentileofscore,1/60),1).astype(str) + '%'\n",
    "# data3['1min_cancel'] = round(data2.groupby(['Date','pair'])['canceltime'].apply(stats.percentileofscore,1),1).astype(str) + '%'"
   ]
  },
  {
   "cell_type": "code",
   "execution_count": 13,
   "metadata": {},
   "outputs": [
    {
     "data": {
      "text/plain": [
       "place  pair  \n",
       "1      BTCUSD    45.6%\n",
       "       ETHUSD    36.1%\n",
       "       ZECUSD    72.4%\n",
       "2      BTCUSD    69.2%\n",
       "       ETHUSD    45.9%\n",
       "       ZECUSD    60.9%\n",
       "Name: canceltime, dtype: object"
      ]
     },
     "execution_count": 13,
     "metadata": {},
     "output_type": "execute_result"
    }
   ],
   "source": [
    "round(data2.groupby([data2['place'].dt.month,'pair'])['canceltime'].apply(stats.percentileofscore,1/60),1).astype(str) + '%'"
   ]
  },
  {
   "cell_type": "code",
   "execution_count": 14,
   "metadata": {},
   "outputs": [],
   "source": [
    "data3 = pd.concat([alerts4022.groupby([alerts4022['Date'].dt.month,'InstrumentName']).count()['AlertID'],\n",
    "                   data2.groupby([data2['place'].dt.month,'pair']).count()[['place','cancel','fill']]]\n",
    "                  ,axis=1)#.reset_index().rename(columns={'Date':'month'})\n",
    "data3['fill%'] = round((1-data3['cancel']/data3['place'])*100,1).astype(str) +'%'\n",
    "# data3\n",
    "data3['1sec_cancel'] = round(data2.groupby([data2['place'].dt.month,'pair'])['canceltime'].apply(stats.percentileofscore,1/60),1).astype(str) + '%'\n",
    "data3['1min_cancel'] = round(data2.groupby([data2['place'].dt.month,'pair'])['canceltime'].apply(stats.percentileofscore,1),1).astype(str) + '%'\n",
    "totalUP(data3).to_csv('~/Desktop/Figure2{}.csv'.format(account))"
   ]
  },
  {
   "cell_type": "code",
   "execution_count": 15,
   "metadata": {},
   "outputs": [],
   "source": [
    "# data3\n",
    "\n",
    "# writer = pd.ExcelWriter('Spoof_Figures.xlsx', engine='xlsxwriter')\n",
    "\n",
    "# for i in \n",
    "# fig_0.to_excel(writer, 'fig_0')\n",
    "# writer.save()"
   ]
  },
  {
   "cell_type": "markdown",
   "metadata": {},
   "source": [
    "### 7) Figure 3: Total Trading Breakdown"
   ]
  },
  {
   "cell_type": "code",
   "execution_count": 16,
   "metadata": {},
   "outputs": [
    {
     "name": "stderr",
     "output_type": "stream",
     "text": [
      "INFO:paramiko.transport:Connected (version 2.0, client OpenSSH_7.4p1)\n",
      "INFO:paramiko.transport:Authentication (publickey) successful!\n"
     ]
    },
    {
     "name": "stdout",
     "output_type": "stream",
     "text": [
      "ssh_connect 0:00:00.689088\n"
     ]
    },
    {
     "name": "stderr",
     "output_type": "stream",
     "text": [
      "INFO:root:Loaded dataframe with 14 rows in 0:00:01.415113.\n"
     ]
    }
   ],
   "source": [
    "query = \"\"\"\n",
    "        SELECT trading_pair, sum(quantity*price)/1000000 as TVmil\n",
    "        from order_fill_event\n",
    "        where created between '2019-01-01' and '2019-03-01' and account_id = {}\n",
    "        group by trading_pair;\n",
    "        \"\"\".format(account)\n",
    "\n",
    "test = round(execute_query_data_frame(query,'engine').sort_values('tvmil',ascending=False),1)\n",
    "test['%'] = round(test['tvmil']/test['tvmil'].sum()*100).astype(int).astype(str) + '%'\n",
    "test.set_index('trading_pair').to_csv('~/Desktop/Figure3{}.csv'.format(account))"
   ]
  },
  {
   "cell_type": "markdown",
   "metadata": {},
   "source": [
    "### 8) Charts- Cancel time"
   ]
  },
  {
   "cell_type": "code",
   "execution_count": 17,
   "metadata": {},
   "outputs": [],
   "source": [
    "data5a = data1.loc[data1['canceltime'] > 0,'canceltime']\n",
    "data5b = data1.loc[data1['filltime'] > 0,'filltime']"
   ]
  },
  {
   "cell_type": "code",
   "execution_count": 18,
   "metadata": {},
   "outputs": [
    {
     "name": "stdout",
     "output_type": "stream",
     "text": [
      "minutes to cancel / 96.0 percentile = 1 min\n"
     ]
    },
    {
     "data": {
      "image/png": "[encoded data removed]",
      "text/plain": [
       "<Figure size 432x288 with 1 Axes>"
      ]
     },
     "metadata": {
      "needs_background": "light"
     },
     "output_type": "display_data"
    },
    {
     "name": "stdout",
     "output_type": "stream",
     "text": [
      "minutes to fill / 93.0 percentile = 1 min\n"
     ]
    },
    {
     "data": {
      "image/png": "[encoded data removed]",
      "text/plain": [
       "<Figure size 432x288 with 1 Axes>"
      ]
     },
     "metadata": {
      "needs_background": "light"
     },
     "output_type": "display_data"
    }
   ],
   "source": [
    "print('minutes to cancel / ', round(stats.percentileofscore(data5a.values, 1),1),' percentile = 1 min', sep='')\n",
    "data5a.clip(0,1).hist(bins=30); plt.show()\n",
    "\n",
    "print('minutes to fill / ', round(stats.percentileofscore(data5b.values, 1),1),' percentile = 1 min', sep='')\n",
    "data5b.clip(0,1).hist(bins=30); plt.show()"
   ]
  }
 ],
 "metadata": {
  "kernelspec": {
   "display_name": "Python 3",
   "language": "python",
   "name": "python3"
  },
  "language_info": {
   "codemirror_mode": {
    "name": "ipython",
    "version": 3
   },
   "file_extension": ".py",
   "mimetype": "text/x-python",
   "name": "python",
   "nbconvert_exporter": "python",
   "pygments_lexer": "ipython3",
   "version": "3.7.0"
  }
 },
 "nbformat": 4,
 "nbformat_minor": 2
}
