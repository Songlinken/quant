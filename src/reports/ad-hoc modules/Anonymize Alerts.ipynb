{
 "cells": [
  {
   "cell_type": "code",
   "execution_count": null,
   "metadata": {},
   "outputs": [],
   "source": [
    "import os; os.chdir('/Users/sqian/MKTSRV')\n",
    "import pandas as pd\n",
    "import numpy as np\n",
    "import datetime\n",
    "import matplotlib.pyplot as plt\n",
    "import matplotlib.mlab as mlab\n",
    "import re\n",
    "import xlrd\n",
    "from src.utility.SmartsDataUtility import anonymize_account\n",
    "\n",
    "def metrics(args):\n",
    "    series = args.value_counts()\n",
    "    pdfreq = pd.Series(series)\n",
    "    pdfreqpct = pd.Series(series/series.sum()).apply(lambda x: \"{0:.0f}%\".format(x*100))\n",
    "    pdfreqpct2 = pdfreqpct\n",
    "    result = pd.concat([pdfreq, pdfreqpct2], axis=1, sort=False).reset_index(drop=True)\n",
    "    result.columns = ('count','percentage')\n",
    "    return(result)\n",
    "\n",
    "def dateplustime(arg1,arg2):\n",
    "    temp = pd.to_datetime(arg1.astype(str) + ' ' + arg2, format='%Y-%m-%d %H:%M:%S.%f')\n",
    "    return(temp)\n",
    "\n",
    "def fixType(df):\n",
    "    df = df.replace(to_replace=',', value='')\n",
    "    df2 = df.apply(pd.to_datetime, errors='coerce', axis=1)\n",
    "    \n",
    "    nonnumeric = df2.isna().sum() > 0\n",
    "    nonnumeric_todrop = nonnumeric.loc[nonnumeric].index\n",
    "    df3[nonnumeric_todrop] = df2[nonnumeric_todrop]\n",
    "    \n",
    "    dates_bool = df3.isna().sum() == 0\n",
    "    dates = dates_bool.loc[dates_bool].index\n",
    "    df3[dates] =df3[dates]\n",
    "    return(df3)"
   ]
  },
  {
   "cell_type": "code",
   "execution_count": null,
   "metadata": {},
   "outputs": [],
   "source": [
    "alerts = pd.read_excel('~/Documents/vmfldr/Alerts-AllRows_gemini-WASH.xlsx')\n",
    "alerts['Cmd'] = alerts['Cmd'].astype(str)\n",
    "alerts['Alert Attachment'] = alerts['Alert Attachment'].astype(str)\n",
    "alerts['Comments'] = alerts['Comments'].astype(str)"
   ]
  },
  {
   "cell_type": "code",
   "execution_count": null,
   "metadata": {},
   "outputs": [],
   "source": []
  },
  {
   "cell_type": "code",
   "execution_count": null,
   "metadata": {},
   "outputs": [],
   "source": [
    "alert_anon = anonymize_account(alerts)"
   ]
  },
  {
   "cell_type": "code",
   "execution_count": null,
   "metadata": {},
   "outputs": [],
   "source": [
    "alert_anon.to_excel('/Users/sqian/Documents/vmfldr/Alerts-AllRows_gemini-WASH_anony.xlsx',index=False)"
   ]
  },
  {
   "cell_type": "code",
   "execution_count": null,
   "metadata": {},
   "outputs": [],
   "source": [
    "for i in range(0,5): \n",
    "    print(alert_anon.loc[i,'Account ID Name'],'\\n')"
   ]
  }
 ],
 "metadata": {
  "kernelspec": {
   "display_name": "Python 3",
   "language": "python",
   "name": "python3"
  },
  "language_info": {
   "codemirror_mode": {
    "name": "ipython",
    "version": 3
   },
   "file_extension": ".py",
   "mimetype": "text/x-python",
   "name": "python",
   "nbconvert_exporter": "python",
   "pygments_lexer": "ipython3",
   "version": "3.7.0"
  }
 },
 "nbformat": 4,
 "nbformat_minor": 2
}
