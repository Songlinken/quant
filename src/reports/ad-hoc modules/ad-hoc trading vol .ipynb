{
 "cells": [
  {
   "cell_type": "markdown",
   "metadata": {},
   "source": [
    "### Engine DB Queries for Wash Case Reports"
   ]
  },
  {
   "cell_type": "code",
   "execution_count": 1,
   "metadata": {},
   "outputs": [
    {
     "name": "stderr",
     "output_type": "stream",
     "text": [
      "/Users/sqian/.pyenv/versions/3.7.0/envs/env_370/lib/python3.7/site-packages/psycopg2/__init__.py:144: UserWarning: The psycopg2 wheel package will be renamed from release 2.8; in order to keep installing from binary please use \"pip install psycopg2-binary\" instead. For details see: <http://initd.org/psycopg/docs/install.html#binary-install-from-pypi>.\n",
      "  \"\"\")\n"
     ]
    }
   ],
   "source": [
    "import os; \n",
    "import pandas as pd; pd.set_option('mode.chained_assignment',None) \n",
    "import numpy as np\n",
    "import datetime\n",
    "import matplotlib.pyplot as plt\n",
    "import matplotlib.mlab as mlab\n",
    "import math\n",
    "import re\n",
    "import xlrd\n",
    "from xlsxwriter.utility import xl_rowcol_to_cell\n",
    "from random import sample\n",
    "import time\n",
    "\n",
    "from src.data_models.smartshelper import metrics, fixNum, unSMART, cparty, totalUP, wtf\n",
    "from src.data_models.SmartsDataModel import SmartsDataModel\n",
    "from src.utility.DataModelUtility import execute_query_data_frame"
   ]
  },
  {
   "cell_type": "markdown",
   "metadata": {},
   "source": [
    "#### 1) dates & accounts of interest"
   ]
  },
  {
   "cell_type": "code",
   "execution_count": 2,
   "metadata": {},
   "outputs": [],
   "source": [
    "alerting_1 = datetime.date(2019,4,1)\n",
    "alerting_2 = datetime.date(2019,8,31)"
   ]
  },
  {
   "cell_type": "code",
   "execution_count": 4,
   "metadata": {},
   "outputs": [],
   "source": [
    "# query = \"\"\" \n",
    "#         SELECT  *\n",
    "#         from order_fill_event \n",
    "#         where created between '{}' and '{}' and account_id = {};\n",
    "#         \"\"\".format(alerting_1.strftime(\"%Y-%m-%d\"),alerting_2.strftime(\"%Y-%m-%d\"),950942)\n",
    "\n",
    "# df = execute_query_data_frame(query,'engine'); df\n",
    "# # output1a = df.groupby([df['created'].dt.month, 'pair']).sum().astype(int); output1a"
   ]
  },
  {
   "cell_type": "code",
   "execution_count": null,
   "metadata": {},
   "outputs": [],
   "source": [
    "print(query)"
   ]
  },
  {
   "cell_type": "markdown",
   "metadata": {},
   "source": [
    "#### 1A)  traded value($M) by Account (approximation- DO NOT USE)"
   ]
  },
  {
   "cell_type": "code",
   "execution_count": null,
   "metadata": {},
   "outputs": [],
   "source": [
    "query = \"\"\" \n",
    "        SELECT  created::date, account_id as pair, sum(price*quantity)/1000000 as TVmil, count(distinct event_id) as count\n",
    "        from order_fill_event \n",
    "        where created between '{}' and '{}' and account_id in {}\n",
    "        group by account_id, created::date\n",
    "        order by created::date, account_id;\n",
    "        \"\"\".format(alerting_1.strftime(\"%Y-%m-%d\"),alerting_2.strftime(\"%Y-%m-%d\"),str(tuple([worst])))\n",
    "\n",
    "df = execute_query_data_frame(query,'engine')\n",
    "output1a = df.groupby([df['created'].dt.month, 'pair']).sum().astype(int); output1a"
   ]
  },
  {
   "cell_type": "markdown",
   "metadata": {},
   "source": [
    "#### 2) traded value($M) TOTAL EXCHANGE"
   ]
  },
  {
   "cell_type": "code",
   "execution_count": null,
   "metadata": {},
   "outputs": [],
   "source": [
    "query2 = \"\"\" \n",
    "        SELECT sum(firsttable.price * COALESCE(secondtable.open_price,1) * quantity/1000000) as valM\n",
    "        \n",
    "        from  \n",
    "            (SELECT account_id, event_id, side, price, quantity, trading_pair, date_trunc('hour', created) start_time, substring(trading_pair::varchar,4,6) as trunc\n",
    "            from order_fill_event \n",
    "            where created::date between '{t1}' and '{t2}' and side = 'buy') as firsttable \n",
    "        left join \n",
    "            (SELECT substring(trading_pair::varchar,1,3) as truncmatch, start_time, open_price\n",
    "            from candles_1hr \n",
    "            where start_time::date between '{t1}' and '{t2}' and substring(trading_pair::varchar,4,6) = 'USD') as secondtable\n",
    "        \n",
    "        on firsttable.trunc = secondtable.truncmatch and firsttable.start_time = secondtable.start_time \n",
    "        \n",
    "        \n",
    "        \"\"\".format(t1 = alerting_1.strftime(\"%Y%m%d\"), t2 = alerting_2.strftime(\"%Y%m%d\"))\n",
    "\n",
    "output2 = execute_query_data_frame(query2,'engine'); output2"
   ]
  },
  {
   "cell_type": "code",
   "execution_count": null,
   "metadata": {},
   "outputs": [],
   "source": [
    "query2 = \"\"\" \n",
    "        SELECT account_id, side, sum(firsttable.price * COALESCE(secondtable.open_price,1) * quantity/1000000) as valM\n",
    "        \n",
    "        from  \n",
    "            (SELECT account_id, event_id, side, price, quantity, trading_pair, date_trunc('hour', created) start_time, substring(trading_pair::varchar,4,6) as trunc\n",
    "            from order_fill_event \n",
    "            where created::date between '{t1}' and '{t2}' and account_id in {x}) as firsttable \n",
    "        left join \n",
    "            (SELECT substring(trading_pair::varchar,1,3) as truncmatch, start_time, open_price\n",
    "            from candles_1hr \n",
    "            where start_time::date between '{t1}' and '{t2}' and substring(trading_pair::varchar,4,6) = 'USD') as secondtable\n",
    "        \n",
    "        on firsttable.trunc = secondtable.truncmatch and firsttable.start_time = secondtable.start_time \n",
    "        where account_id in {x}\n",
    "        group by account_id, side\n",
    "        \"\"\".format(t1 = alerting_1.strftime(\"%Y%m%d\"), t2 = alerting_2.strftime(\"%Y%m%d\"),x = str(tuple(remainingcpty)))\n",
    "\n",
    "output2 = execute_query_data_frame(query2,'engine')\n",
    "output2b = round(pd.pivot_table(output2,columns='side',index='account_id',values='valm'),2)"
   ]
  },
  {
   "cell_type": "code",
   "execution_count": null,
   "metadata": {},
   "outputs": [],
   "source": [
    "output2b = round(pd.pivot_table(output2,columns='side',index='account_id',values='valm'),1)\n",
    "output2b['TOTAL'] = output2b.sum(axis=1)\n",
    "output2b['pct'] = round(output2b['TOTAL']/2325*100,0).astype(int).astype(str)+'%'\n",
    "output2b.sort_values('TOTAL',ascending=False)"
   ]
  },
  {
   "cell_type": "code",
   "execution_count": null,
   "metadata": {},
   "outputs": [],
   "source": [
    "outputnew = output2b.sort_values('TOTAL',ascending=False)\n",
    "nonzero = outputnew.loc[outputnew['pct'] != '0%']\n",
    "zero = pd.DataFrame(outputnew.loc[outputnew['pct'] == '0%',['buy','sell','TOTAL']].sum(axis=0)).transpose()"
   ]
  },
  {
   "cell_type": "code",
   "execution_count": null,
   "metadata": {},
   "outputs": [],
   "source": [
    "outputnew2 = pd.concat([nonzero,zero],axis=0,sort=False).reset_index()\n",
    "outputnew2.loc[outputnew2['index'] == 0,'pct'] = \"<0%\""
   ]
  },
  {
   "cell_type": "code",
   "execution_count": null,
   "metadata": {},
   "outputs": [],
   "source": [
    "outputnew2.to_csv('~/Desktop/no.csv')"
   ]
  },
  {
   "cell_type": "markdown",
   "metadata": {},
   "source": [
    "#### 3) traded value($M) by Account & Side"
   ]
  },
  {
   "cell_type": "code",
   "execution_count": null,
   "metadata": {},
   "outputs": [],
   "source": [
    "query3 = \"\"\" \n",
    "        SELECT account_id, trading_pair, firsttable.side, sum(firsttable.price * COALESCE(secondtable.open_price,1) * quantity/1000000) as valM\n",
    "        \n",
    "        from  \n",
    "            (SELECT account_id, event_id, side, price, quantity, trading_pair, date_trunc('hour', created) start_time, substring(trading_pair::varchar,4,6) as trunc\n",
    "            from order_fill_event \n",
    "            where created::date between '{t1}' and '{t2}' and account_id in {x}) as firsttable\n",
    "        left join \n",
    "            (SELECT substring(trading_pair::varchar,1,3) as truncmatch, start_time, open_price\n",
    "            from candles_1hr \n",
    "            where start_time::date between '{t1}' and '{t2}' and substring(trading_pair::varchar,4,6) = 'USD') as secondtable\n",
    "        \n",
    "        on firsttable.trunc = secondtable.truncmatch and firsttable.start_time = secondtable.start_time\n",
    "\n",
    "        group by firsttable.side, account_id, trading_pair;\n",
    "        \"\"\".format(t1 = alerting_1.strftime(\"%Y%m%d\"), t2 = alerting_2.strftime(\"%Y%m%d\"), x=str(tuple(worst)))\n",
    "\n",
    "output3_D = execute_query_data_frame(query3,'engine')"
   ]
  },
  {
   "cell_type": "code",
   "execution_count": null,
   "metadata": {},
   "outputs": [],
   "source": [
    "output3 = pd.pivot_table(output3_D, values='valm', index=['account_id','trading_pair'], columns=['side'], aggfunc=np.sum)\n",
    "output3['TOTAL'] = output3.sum(axis=1)\n",
    "round(output3,1)"
   ]
  },
  {
   "cell_type": "code",
   "execution_count": null,
   "metadata": {},
   "outputs": [],
   "source": [
    "output3.reset_index().groupby('account_id').sum()"
   ]
  },
  {
   "cell_type": "markdown",
   "metadata": {},
   "source": [
    "#### 4) traded value($M) by Account & Side"
   ]
  },
  {
   "cell_type": "code",
   "execution_count": null,
   "metadata": {},
   "outputs": [],
   "source": [
    "query4 = \"\"\" \n",
    "        SELECT account_id, sum(firsttable.price * COALESCE(secondtable.open_price,1) * quantity/1000000) as valM\n",
    "        \n",
    "        from  \n",
    "            (SELECT account_id, event_id, side, price, quantity, trading_pair, date_trunc('hour', created) start_time, substring(trading_pair::varchar,4,6) as trunc\n",
    "            from order_fill_event \n",
    "            where created::date between '{t1}' and '{t2}' and account_id in {x}) as firsttable\n",
    "        left join \n",
    "            (SELECT substring(trading_pair::varchar,1,3) as truncmatch, start_time, open_price\n",
    "            from candles_1hr \n",
    "            where start_time::date between '{t1}' and '{t2}' and substring(trading_pair::varchar,4,6) = 'USD') as secondtable\n",
    "        \n",
    "        on firsttable.trunc = secondtable.truncmatch and firsttable.start_time = secondtable.start_time\n",
    "        \n",
    "        where account_id = {y} and event_id in \n",
    "            (SELECT distinct event_id from order_fill_event\n",
    "            where created between '{t1}' and '{t2}' and account_id = {z}\n",
    "            group by event_id) \n",
    "        \n",
    "        group by account_id;\n",
    "        \"\"\"\n",
    "\n",
    "output4 = pd.DataFrame()\n",
    "\n",
    "for i in pairlist:\n",
    "    temp = execute_query_data_frame(query4.format(t1 = alerting_1.strftime(\"%Y%m%d\"), t2 = alerting_2.strftime(\"%Y%m%d\"), x=str(tuple(worst)), y = i[0], z = i[1]),'engine')\n",
    "    temp['pair'] = str(i)\n",
    "    output4 = output4.append(temp, sort=True)\n",
    "    \n",
    "output4"
   ]
  },
  {
   "cell_type": "code",
   "execution_count": null,
   "metadata": {},
   "outputs": [],
   "source": []
  },
  {
   "cell_type": "code",
   "execution_count": null,
   "metadata": {},
   "outputs": [],
   "source": []
  }
 ],
 "metadata": {
  "kernelspec": {
   "display_name": "Python 3",
   "language": "python",
   "name": "python3"
  },
  "language_info": {
   "codemirror_mode": {
    "name": "ipython",
    "version": 3
   },
   "file_extension": ".py",
   "mimetype": "text/x-python",
   "name": "python",
   "nbconvert_exporter": "python",
   "pygments_lexer": "ipython3",
   "version": "3.7.0"
  }
 },
 "nbformat": 4,
 "nbformat_minor": 2
}
