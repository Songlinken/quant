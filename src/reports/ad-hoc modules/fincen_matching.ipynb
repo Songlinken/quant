{
 "cells": [
  {
   "cell_type": "markdown",
   "metadata": {},
   "source": [
    "### tables needed </br>\n",
    "•account_derived_metadata</br>\n",
    "•account_info</br>\n",
    "•user_info</br>\n",
    "•user_phones</br>"
   ]
  },
  {
   "cell_type": "code",
   "execution_count": 2,
   "metadata": {},
   "outputs": [
    {
     "name": "stderr",
     "output_type": "stream",
     "text": [
      "/Users/sqian/.pyenv/versions/3.7.0/envs/env_370/lib/python3.7/site-packages/psycopg2/__init__.py:144: UserWarning: The psycopg2 wheel package will be renamed from release 2.8; in order to keep installing from binary please use \"pip install psycopg2-binary\" instead. For details see: <http://initd.org/psycopg/docs/install.html#binary-install-from-pypi>.\n",
      "  \"\"\")\n"
     ]
    },
    {
     "ename": "ModuleNotFoundError",
     "evalue": "No module named 'nameparser'",
     "output_type": "error",
     "traceback": [
      "\u001b[0;31m---------------------------------------------------------------------------\u001b[0m",
      "\u001b[0;31mModuleNotFoundError\u001b[0m                       Traceback (most recent call last)",
      "\u001b[0;32m<ipython-input-2-11b2e798dbf6>\u001b[0m in \u001b[0;36m<module>\u001b[0;34m\u001b[0m\n\u001b[1;32m     12\u001b[0m \u001b[0;32mimport\u001b[0m \u001b[0mre\u001b[0m\u001b[0;34m\u001b[0m\u001b[0m\n\u001b[1;32m     13\u001b[0m \u001b[0;32mimport\u001b[0m \u001b[0mcsv\u001b[0m\u001b[0;34m\u001b[0m\u001b[0m\n\u001b[0;32m---> 14\u001b[0;31m \u001b[0;32mfrom\u001b[0m \u001b[0mnameparser\u001b[0m \u001b[0;32mimport\u001b[0m \u001b[0mHumanName\u001b[0m\u001b[0;34m\u001b[0m\u001b[0m\n\u001b[0m\u001b[1;32m     15\u001b[0m \u001b[0;32mfrom\u001b[0m \u001b[0mos\u001b[0m \u001b[0;32mimport\u001b[0m \u001b[0mlistdir\u001b[0m\u001b[0;34m\u001b[0m\u001b[0m\n\u001b[1;32m     16\u001b[0m \u001b[0;32mfrom\u001b[0m \u001b[0mast\u001b[0m \u001b[0;32mimport\u001b[0m \u001b[0mliteral_eval\u001b[0m\u001b[0;34m\u001b[0m\u001b[0m\n",
      "\u001b[0;31mModuleNotFoundError\u001b[0m: No module named 'nameparser'"
     ]
    }
   ],
   "source": [
    "import pandas as pd\n",
    "import numpy as np\n",
    "import matplotlib.pyplot as plt\n",
    "import seaborn as sns\n",
    "import requests\n",
    "import random\n",
    "import json\n",
    "import psycopg2\n",
    "import datetime as dt\n",
    "import dateutil.parser\n",
    "from dateutil.relativedelta import relativedelta\n",
    "import re\n",
    "import csv\n",
    "from nameparser import HumanName\n",
    "from os import listdir\n",
    "from ast import literal_eval\n",
    "from functools import reduce\n",
    "from IPython.core.interactiveshell import InteractiveShell\n",
    "\n",
    "# database variables\n",
    "cred     = json.load(open('credential.json'))\n",
    "database = 'gemini'\n",
    "port     = '55432'\n",
    "user     = cred[database]['username']\n",
    "password = cred[database]['password']\n",
    "localhost = '127.0.0.1'\n",
    "\n",
    "def query(sql):\n",
    "    conn = psycopg2.connect(host=localhost,\n",
    "        port=port,\n",
    "        user=user,\n",
    "        password=password,\n",
    "        dbname=database)\n",
    "    return pd.read_sql_query(sql, conn)\n",
    "\n",
    "def query_file(sql_file):\n",
    "    with open(sql_file, \"r\") as f:\n",
    "        sql = f.read()\n",
    "    return query(sql)"
   ]
  },
  {
   "cell_type": "code",
   "execution_count": 2,
   "metadata": {},
   "outputs": [],
   "source": [
    "# query('''\n",
    "# select *\n",
    "# from user_info\n",
    "# where birthdate in ('1989-05-22', '1992-02-03') and\n",
    "# legal_last_name ilike ('thomas')\n",
    "# ''')"
   ]
  },
  {
   "cell_type": "code",
   "execution_count": 9,
   "metadata": {},
   "outputs": [],
   "source": [
    "# raw_bus = pd.read_csv('2019-08-27_business.csv')\n",
    "# raw_per = pd.read_csv('2019-08-27_person.csv')\n",
    "\n",
    "raw_bus = pd.read_excel('~/Documents/2019-08-27.xls',sheet_name='business')\n",
    "raw_per = pd.read_excel('~/Documents/2019-08-27.xls',sheet_name='people')"
   ]
  },
  {
   "cell_type": "code",
   "execution_count": 10,
   "metadata": {},
   "outputs": [],
   "source": [
    "raw_per['dob'] = pd.to_datetime(raw_per['dob'])"
   ]
  },
  {
   "cell_type": "code",
   "execution_count": 11,
   "metadata": {},
   "outputs": [],
   "source": [
    "dates = []\n",
    "\n",
    "for n in raw_per['dob']:\n",
    "    if n.year > dt.datetime.now().year:\n",
    "        dates.append(n - relativedelta(years = 100))\n",
    "    else:\n",
    "        dates.append(n)\n",
    "\n",
    "raw_per['dob'] = dates"
   ]
  },
  {
   "cell_type": "code",
   "execution_count": 12,
   "metadata": {},
   "outputs": [
    {
     "data": {
      "text/plain": [
       "(513, 18)"
      ]
     },
     "execution_count": 12,
     "metadata": {},
     "output_type": "execute_result"
    }
   ],
   "source": [
    "raw_bus.head()\n",
    "raw_bus.shape\n",
    "raw_per.head()\n",
    "raw_per.shape"
   ]
  },
  {
   "cell_type": "code",
   "execution_count": 13,
   "metadata": {},
   "outputs": [],
   "source": [
    "# def name_check(row):\n",
    "#     fn = row['first_name']\n",
    "#     ln = row['last_name']\n",
    "    \n",
    "#     results = query(\n",
    "#     '''\n",
    "#     select\n",
    "#         exchange_user_id\n",
    "#     from\n",
    "#         user_info\n",
    "#     where\n",
    "#         legal_last_name = '{0}'\n",
    "#     ''').format(ln)\n",
    "    \n",
    "#     if results.shape[0] == 0:\n",
    "#         return None\n",
    "#     if results.shape[0] != 0:\n",
    "#         return results['exchange_user_id']"
   ]
  },
  {
   "cell_type": "code",
   "execution_count": 14,
   "metadata": {},
   "outputs": [],
   "source": [
    "raw_per['last_name'] = [n.replace(\"'\", \"''\") for n in raw_per['last_name']]\n",
    "raw_bus['business_name'] = [n.replace(\"'\", '') for n in raw_bus['business_name']]"
   ]
  },
  {
   "cell_type": "code",
   "execution_count": 15,
   "metadata": {},
   "outputs": [],
   "source": [
    "def last_name_search(df, column):\n",
    "    names_list = [n.replace(\"'\", \"''\") for n in df[column]]\n",
    "    names_list = [\"'\"+n.lower()+\"'\" for n in df[column]]\n",
    "    names = ', '.join(names_list)\n",
    "    query_str = '''\n",
    "    select birthdate, lower(legal_last_name) legal_last_name, exchange_user_id\n",
    "    from user_info\n",
    "    where lower(legal_last_name) in ({})\n",
    "    '''.format(names)\n",
    "    results = query(query_str)\n",
    "    \n",
    "#     dobs = []\n",
    "    \n",
    "#     for t in raw_per['dob']:\n",
    "#         try:\n",
    "#             dobs.append(t.strftime('%Y-%m-%d'))\n",
    "#         except:\n",
    "#             continue\n",
    "    \n",
    "#     dobs = [\"'\"+t+\"'\" for t in dobs]\n",
    "#     dobs = ', '.join(dobs)\n",
    "    \n",
    "#     results = results[results['birthdate'].isin(raw_per['dob'])]\n",
    "    \n",
    "    return results"
   ]
  },
  {
   "cell_type": "code",
   "execution_count": 16,
   "metadata": {},
   "outputs": [],
   "source": [
    "def ln_dob_match(gem_df, fincen_df):\n",
    "    match_data = []\n",
    "    for gem_ln, gem_dob, gem_id in zip(gem_df['legal_last_name'], gem_df['birthdate'], gem_df['exchange_user_id']):\n",
    "        for i, row in fincen_df.iterrows():\n",
    "            try:\n",
    "                if (gem_ln == row['last_name']) & (gem_dob == row['dob']):\n",
    "                    match_data.append([gem_ln, gem_dob, gem_id, row['tracking_number']])\n",
    "            except:\n",
    "                continue\n",
    "    return pd.DataFrame(match_data, columns = ['gem_last_name', 'gem_dob', 'user_id', 'tracking_number'])"
   ]
  },
  {
   "cell_type": "code",
   "execution_count": 17,
   "metadata": {},
   "outputs": [],
   "source": [
    "def street_search(df):\n",
    "    \n",
    "    zips_list = [\"'\"+str(int(n))+\"'\" for n in df[df['zip'].notnull()]['zip']]\n",
    "    streets = [\"'\"+s.lower()+\"'\" for s in df[df['street'].notnull()]['street']]\n",
    "    \n",
    "    zips = ', '.join(zips_list)\n",
    "    streets = ', '.join(streets)\n",
    "    \n",
    "    results = query(\n",
    "    '''\n",
    "    select zip, lower(street) street, exchange_user_id\n",
    "    from user_info\n",
    "    where lower(street) in ({0})\n",
    "    '''.format(streets)\n",
    "    )\n",
    "    \n",
    "    results = results[results['zip'].isin(zips_list)]\n",
    "    \n",
    "    return results"
   ]
  },
  {
   "cell_type": "code",
   "execution_count": 18,
   "metadata": {},
   "outputs": [],
   "source": [
    "def street_zip_match(gem_df, fincen_df):\n",
    "    match_data = []\n",
    "    for gem_street, gem_zip, gem_id in zip(gem_df['street'], gem_df['zip'], gem_df['exchange_user_id']):\n",
    "        for i, row in fincen_df.iterrows():\n",
    "            try:\n",
    "                if (gem_street == row['street']) & (gem_zip == str(int(row['zip']))):\n",
    "                    match_data.append([gem_street, gem_zip, gem_id, row['tracking_number']])\n",
    "            except:\n",
    "                continue\n",
    "    return pd.DataFrame(match_data, columns = ['gem_street', 'gem_ziop', 'user_id', 'tracking_number'])"
   ]
  },
  {
   "cell_type": "code",
   "execution_count": 19,
   "metadata": {},
   "outputs": [],
   "source": [
    "def bus_name_search(df, column):\n",
    "    \n",
    "    names_list = [\"'\"+n.lower()+\"'\" for n in df[column]]\n",
    "    names = ', '.join(names_list)\n",
    "    results = query(\n",
    "    '''\n",
    "    select lower(user_or_account_name) user_or_account_name, exchange_account_id\n",
    "    from account_derived_metadata\n",
    "    where\n",
    "        is_institutional is true and\n",
    "        lower(user_or_account_name) in ({})\n",
    "    '''.format(names)\n",
    "    )\n",
    "    return results"
   ]
  },
  {
   "cell_type": "code",
   "execution_count": 20,
   "metadata": {},
   "outputs": [
    {
     "ename": "NameError",
     "evalue": "name 'query' is not defined",
     "output_type": "error",
     "traceback": [
      "\u001b[0;31m---------------------------------------------------------------------------\u001b[0m",
      "\u001b[0;31mNameError\u001b[0m                                 Traceback (most recent call last)",
      "\u001b[0;32m<ipython-input-20-d8d22498f282>\u001b[0m in \u001b[0;36m<module>\u001b[0;34m\u001b[0m\n\u001b[0;32m----> 1\u001b[0;31m \u001b[0mlns\u001b[0m \u001b[0;34m=\u001b[0m \u001b[0mlast_name_search\u001b[0m\u001b[0;34m(\u001b[0m\u001b[0mraw_per\u001b[0m\u001b[0;34m,\u001b[0m \u001b[0;34m'last_name'\u001b[0m\u001b[0;34m)\u001b[0m\u001b[0;34m\u001b[0m\u001b[0m\n\u001b[0m\u001b[1;32m      2\u001b[0m \u001b[0mlns_dob_match\u001b[0m \u001b[0;34m=\u001b[0m \u001b[0mln_dob_match\u001b[0m\u001b[0;34m(\u001b[0m\u001b[0mlns\u001b[0m\u001b[0;34m,\u001b[0m \u001b[0mraw_per\u001b[0m\u001b[0;34m)\u001b[0m\u001b[0;34m\u001b[0m\u001b[0m\n\u001b[1;32m      3\u001b[0m \u001b[0;34m\u001b[0m\u001b[0m\n\u001b[1;32m      4\u001b[0m \u001b[0mstreets_zips\u001b[0m \u001b[0;34m=\u001b[0m \u001b[0mstreet_search\u001b[0m\u001b[0;34m(\u001b[0m\u001b[0mraw_per\u001b[0m\u001b[0;34m)\u001b[0m\u001b[0;34m\u001b[0m\u001b[0m\n\u001b[1;32m      5\u001b[0m \u001b[0mstreet_zips_match\u001b[0m \u001b[0;34m=\u001b[0m \u001b[0mstreet_zip_match\u001b[0m\u001b[0;34m(\u001b[0m\u001b[0mstreets_zips\u001b[0m\u001b[0;34m,\u001b[0m \u001b[0mraw_per\u001b[0m\u001b[0;34m)\u001b[0m\u001b[0;34m\u001b[0m\u001b[0m\n",
      "\u001b[0;32m<ipython-input-15-3562738aac9d>\u001b[0m in \u001b[0;36mlast_name_search\u001b[0;34m(df, column)\u001b[0m\n\u001b[1;32m      8\u001b[0m     \u001b[0mwhere\u001b[0m \u001b[0mlower\u001b[0m\u001b[0;34m(\u001b[0m\u001b[0mlegal_last_name\u001b[0m\u001b[0;34m)\u001b[0m \u001b[0;32min\u001b[0m \u001b[0;34m(\u001b[0m\u001b[0;34m{\u001b[0m\u001b[0;34m}\u001b[0m\u001b[0;34m)\u001b[0m\u001b[0;34m\u001b[0m\u001b[0m\n\u001b[1;32m      9\u001b[0m     '''.format(names)\n\u001b[0;32m---> 10\u001b[0;31m     \u001b[0mresults\u001b[0m \u001b[0;34m=\u001b[0m \u001b[0mquery\u001b[0m\u001b[0;34m(\u001b[0m\u001b[0mquery_str\u001b[0m\u001b[0;34m)\u001b[0m\u001b[0;34m\u001b[0m\u001b[0m\n\u001b[0m\u001b[1;32m     11\u001b[0m \u001b[0;34m\u001b[0m\u001b[0m\n\u001b[1;32m     12\u001b[0m \u001b[0;31m#     dobs = []\u001b[0m\u001b[0;34m\u001b[0m\u001b[0;34m\u001b[0m\u001b[0m\n",
      "\u001b[0;31mNameError\u001b[0m: name 'query' is not defined"
     ]
    }
   ],
   "source": [
    "lns = last_name_search(raw_per, 'last_name')\n",
    "lns_dob_match = ln_dob_match(lns, raw_per)\n",
    "\n",
    "streets_zips = street_search(raw_per)\n",
    "street_zips_match = street_zip_match(streets_zips, raw_per)"
   ]
  },
  {
   "cell_type": "code",
   "execution_count": 21,
   "metadata": {},
   "outputs": [
    {
     "ename": "NameError",
     "evalue": "name 'query' is not defined",
     "output_type": "error",
     "traceback": [
      "\u001b[0;31m---------------------------------------------------------------------------\u001b[0m",
      "\u001b[0;31mNameError\u001b[0m                                 Traceback (most recent call last)",
      "\u001b[0;32m<ipython-input-21-2f91c2841ae3>\u001b[0m in \u001b[0;36m<module>\u001b[0;34m\u001b[0m\n\u001b[0;32m----> 1\u001b[0;31m \u001b[0mbus_names\u001b[0m \u001b[0;34m=\u001b[0m \u001b[0mbus_name_search\u001b[0m\u001b[0;34m(\u001b[0m\u001b[0mraw_bus\u001b[0m\u001b[0;34m,\u001b[0m \u001b[0;34m'business_name'\u001b[0m\u001b[0;34m)\u001b[0m\u001b[0;34m\u001b[0m\u001b[0m\n\u001b[0m\u001b[1;32m      2\u001b[0m \u001b[0mbus_streets_zips\u001b[0m \u001b[0;34m=\u001b[0m \u001b[0mstreet_search\u001b[0m\u001b[0;34m(\u001b[0m\u001b[0mraw_bus\u001b[0m\u001b[0;34m)\u001b[0m\u001b[0;34m\u001b[0m\u001b[0m\n\u001b[1;32m      3\u001b[0m \u001b[0mbus_streets_zips_match\u001b[0m \u001b[0;34m=\u001b[0m \u001b[0mstreet_zip_match\u001b[0m\u001b[0;34m(\u001b[0m\u001b[0mbus_streets_zips\u001b[0m\u001b[0;34m,\u001b[0m \u001b[0mraw_bus\u001b[0m\u001b[0;34m)\u001b[0m\u001b[0;34m\u001b[0m\u001b[0m\n",
      "\u001b[0;32m<ipython-input-19-02b3db4666dd>\u001b[0m in \u001b[0;36mbus_name_search\u001b[0;34m(df, column)\u001b[0m\n\u001b[1;32m      3\u001b[0m     \u001b[0mnames_list\u001b[0m \u001b[0;34m=\u001b[0m \u001b[0;34m[\u001b[0m\u001b[0;34m\"'\"\u001b[0m\u001b[0;34m+\u001b[0m\u001b[0mn\u001b[0m\u001b[0;34m.\u001b[0m\u001b[0mlower\u001b[0m\u001b[0;34m(\u001b[0m\u001b[0;34m)\u001b[0m\u001b[0;34m+\u001b[0m\u001b[0;34m\"'\"\u001b[0m \u001b[0;32mfor\u001b[0m \u001b[0mn\u001b[0m \u001b[0;32min\u001b[0m \u001b[0mdf\u001b[0m\u001b[0;34m[\u001b[0m\u001b[0mcolumn\u001b[0m\u001b[0;34m]\u001b[0m\u001b[0;34m]\u001b[0m\u001b[0;34m\u001b[0m\u001b[0m\n\u001b[1;32m      4\u001b[0m     \u001b[0mnames\u001b[0m \u001b[0;34m=\u001b[0m \u001b[0;34m', '\u001b[0m\u001b[0;34m.\u001b[0m\u001b[0mjoin\u001b[0m\u001b[0;34m(\u001b[0m\u001b[0mnames_list\u001b[0m\u001b[0;34m)\u001b[0m\u001b[0;34m\u001b[0m\u001b[0m\n\u001b[0;32m----> 5\u001b[0;31m     results = query(\n\u001b[0m\u001b[1;32m      6\u001b[0m     '''\n\u001b[1;32m      7\u001b[0m     \u001b[0mselect\u001b[0m \u001b[0mlower\u001b[0m\u001b[0;34m(\u001b[0m\u001b[0muser_or_account_name\u001b[0m\u001b[0;34m)\u001b[0m \u001b[0muser_or_account_name\u001b[0m\u001b[0;34m,\u001b[0m \u001b[0mexchange_account_id\u001b[0m\u001b[0;34m\u001b[0m\u001b[0m\n",
      "\u001b[0;31mNameError\u001b[0m: name 'query' is not defined"
     ]
    }
   ],
   "source": [
    "bus_names = bus_name_search(raw_bus, 'business_name')\n",
    "bus_streets_zips = street_search(raw_bus)\n",
    "bus_streets_zips_match = street_zip_match(bus_streets_zips, raw_bus)"
   ]
  },
  {
   "cell_type": "code",
   "execution_count": 22,
   "metadata": {},
   "outputs": [
    {
     "ename": "NameError",
     "evalue": "name 'lns_dob_match' is not defined",
     "output_type": "error",
     "traceback": [
      "\u001b[0;31m---------------------------------------------------------------------------\u001b[0m",
      "\u001b[0;31mNameError\u001b[0m                                 Traceback (most recent call last)",
      "\u001b[0;32m<ipython-input-22-e0802fa8805e>\u001b[0m in \u001b[0;36m<module>\u001b[0;34m\u001b[0m\n\u001b[0;32m----> 1\u001b[0;31m \u001b[0mlns_dob_match\u001b[0m\u001b[0;34m.\u001b[0m\u001b[0mhead\u001b[0m\u001b[0;34m(\u001b[0m\u001b[0;34m)\u001b[0m\u001b[0;34m\u001b[0m\u001b[0m\n\u001b[0m\u001b[1;32m      2\u001b[0m \u001b[0mlns_dob_match\u001b[0m\u001b[0;34m.\u001b[0m\u001b[0mshape\u001b[0m\u001b[0;34m\u001b[0m\u001b[0m\n\u001b[1;32m      3\u001b[0m \u001b[0mstreet_zips_match\u001b[0m\u001b[0;34m.\u001b[0m\u001b[0mhead\u001b[0m\u001b[0;34m(\u001b[0m\u001b[0;34m)\u001b[0m\u001b[0;34m\u001b[0m\u001b[0m\n\u001b[1;32m      4\u001b[0m \u001b[0mstreet_zips_match\u001b[0m\u001b[0;34m.\u001b[0m\u001b[0mshape\u001b[0m\u001b[0;34m\u001b[0m\u001b[0m\n",
      "\u001b[0;31mNameError\u001b[0m: name 'lns_dob_match' is not defined"
     ]
    }
   ],
   "source": [
    "lns_dob_match.head()\n",
    "lns_dob_match.shape\n",
    "street_zips_match.head()\n",
    "street_zips_match.shape"
   ]
  },
  {
   "cell_type": "code",
   "execution_count": 23,
   "metadata": {},
   "outputs": [
    {
     "ename": "NameError",
     "evalue": "name 'bus_names' is not defined",
     "output_type": "error",
     "traceback": [
      "\u001b[0;31m---------------------------------------------------------------------------\u001b[0m",
      "\u001b[0;31mNameError\u001b[0m                                 Traceback (most recent call last)",
      "\u001b[0;32m<ipython-input-23-5a4e4d3bc364>\u001b[0m in \u001b[0;36m<module>\u001b[0;34m\u001b[0m\n\u001b[0;32m----> 1\u001b[0;31m \u001b[0mbus_names\u001b[0m\u001b[0;34m.\u001b[0m\u001b[0mhead\u001b[0m\u001b[0;34m(\u001b[0m\u001b[0;34m)\u001b[0m\u001b[0;34m\u001b[0m\u001b[0m\n\u001b[0m\u001b[1;32m      2\u001b[0m \u001b[0mbus_names\u001b[0m\u001b[0;34m.\u001b[0m\u001b[0mshape\u001b[0m\u001b[0;34m\u001b[0m\u001b[0m\n\u001b[1;32m      3\u001b[0m \u001b[0mbus_streets_zips_match\u001b[0m\u001b[0;34m.\u001b[0m\u001b[0mhead\u001b[0m\u001b[0;34m(\u001b[0m\u001b[0;34m)\u001b[0m\u001b[0;34m\u001b[0m\u001b[0m\n\u001b[1;32m      4\u001b[0m \u001b[0mbus_streets_zips_match\u001b[0m\u001b[0;34m.\u001b[0m\u001b[0mshape\u001b[0m\u001b[0;34m\u001b[0m\u001b[0m\n",
      "\u001b[0;31mNameError\u001b[0m: name 'bus_names' is not defined"
     ]
    }
   ],
   "source": [
    "bus_names.head()\n",
    "bus_names.shape\n",
    "bus_streets_zips_match.head()\n",
    "bus_streets_zips_match.shape"
   ]
  },
  {
   "cell_type": "markdown",
   "metadata": {},
   "source": [
    "### name matching, street/zip combo, dob"
   ]
  },
  {
   "cell_type": "code",
   "execution_count": null,
   "metadata": {},
   "outputs": [],
   "source": []
  },
  {
   "cell_type": "code",
   "execution_count": null,
   "metadata": {},
   "outputs": [],
   "source": []
  },
  {
   "cell_type": "code",
   "execution_count": null,
   "metadata": {},
   "outputs": [],
   "source": []
  }
 ],
 "metadata": {
  "kernelspec": {
   "display_name": "Python 3",
   "language": "python",
   "name": "python3"
  },
  "language_info": {
   "codemirror_mode": {
    "name": "ipython",
    "version": 3
   },
   "file_extension": ".py",
   "mimetype": "text/x-python",
   "name": "python",
   "nbconvert_exporter": "python",
   "pygments_lexer": "ipython3",
   "version": "3.7.0"
  }
 },
 "nbformat": 4,
 "nbformat_minor": 2
}
