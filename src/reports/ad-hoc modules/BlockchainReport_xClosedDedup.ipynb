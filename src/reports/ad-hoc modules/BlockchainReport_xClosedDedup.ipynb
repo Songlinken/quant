{
 "cells": [
  {
   "cell_type": "code",
   "execution_count": 1,
   "metadata": {},
   "outputs": [
    {
     "name": "stderr",
     "output_type": "stream",
     "text": [
      "/Users/sqian/.pyenv/versions/3.7.0/envs/env_370/lib/python3.7/site-packages/psycopg2/__init__.py:144: UserWarning: The psycopg2 wheel package will be renamed from release 2.8; in order to keep installing from binary please use \"pip install psycopg2-binary\" instead. For details see: <http://initd.org/psycopg/docs/install.html#binary-install-from-pypi>.\n",
      "  \"\"\")\n"
     ]
    }
   ],
   "source": [
    "import os; \n",
    "import pandas as pd; pd.set_option('mode.chained_assignment',None)\n",
    "from pandas.plotting import register_matplotlib_converters; register_matplotlib_converters()\n",
    "import numpy as np\n",
    "import datetime\n",
    "import matplotlib.pyplot as plt\n",
    "import matplotlib.mlab as mlab\n",
    "import math\n",
    "import re\n",
    "import xlrd\n",
    "import statistics as stat\n",
    "from xlsxwriter.utility import xl_rowcol_to_cell\n",
    "from random import sample\n",
    "from pandas.plotting import register_matplotlib_converters\n",
    "from src.data_models.SmartsCsvDataModel import SmartsCsvDataModel\n",
    "from src.data_models.smartshelper import metrics, fixNum, unSMART, cparty, wtf\n",
    "from src.data_models.SmartsDataModel import SmartsDataModel\n",
    "from src.utility.DataModelUtility import execute_query_data_frame\n",
    "from src.data_models.SmartsDataModel import SmartsDataModel\n",
    "from src.data_models.UPMhelper import UPMalerts"
   ]
  },
  {
   "cell_type": "code",
   "execution_count": 11,
   "metadata": {},
   "outputs": [
    {
     "name": "stderr",
     "output_type": "stream",
     "text": [
      "INFO:paramiko.transport:Connected (version 2.0, client OpenSSH_7.4p1)\n",
      "INFO:paramiko.transport:Authentication (publickey) successful!\n"
     ]
    },
    {
     "name": "stdout",
     "output_type": "stream",
     "text": [
      "ssh_connect 0:00:00.648463\n"
     ]
    },
    {
     "name": "stderr",
     "output_type": "stream",
     "text": [
      "INFO:root:Loaded dataframe with 1 rows in 0:00:02.031394.\n"
     ]
    },
    {
     "data": {
      "text/html": [
       "<div>\n",
       "<style scoped>\n",
       "    .dataframe tbody tr th:only-of-type {\n",
       "        vertical-align: middle;\n",
       "    }\n",
       "\n",
       "    .dataframe tbody tr th {\n",
       "        vertical-align: top;\n",
       "    }\n",
       "\n",
       "    .dataframe thead th {\n",
       "        text-align: right;\n",
       "    }\n",
       "</style>\n",
       "<table border=\"1\" class=\"dataframe\">\n",
       "  <thead>\n",
       "    <tr style=\"text-align: right;\">\n",
       "      <th></th>\n",
       "      <th>account_id</th>\n",
       "      <th>count</th>\n",
       "      <th>avg</th>\n",
       "    </tr>\n",
       "  </thead>\n",
       "  <tbody>\n",
       "    <tr>\n",
       "      <th>0</th>\n",
       "      <td>1226196</td>\n",
       "      <td>1226039</td>\n",
       "      <td>1.000128</td>\n",
       "    </tr>\n",
       "  </tbody>\n",
       "</table>\n",
       "</div>"
      ],
      "text/plain": [
       "   account_id    count       avg\n",
       "0     1226196  1226039  1.000128"
      ]
     },
     "execution_count": 11,
     "metadata": {},
     "output_type": "execute_result"
    }
   ],
   "source": [
    "query = \"\"\"\n",
    "        SELECT id as account_id, account_group_id\n",
    "        FROM scrubbed_exchange_accounts\n",
    "        LIMIT 40\n",
    "        \"\"\"\n",
    "query = \"\"\"\n",
    "        SELECT min(id) as account_id, min(account_group_id)\n",
    "        FROM scrubbed_exchange_accounts\n",
    "        \"\"\"\n",
    "query = \"\"\"\n",
    "        SELECT count(distinct id) as account_id, count(distinct account_group_id), 1.0*count(distinct id)/count(distinct account_group_id) as avg\n",
    "        FROM scrubbed_exchange_accounts\n",
    "        \"\"\"\n",
    "data0 = execute_query_data_frame(query, 'gemini', ssh = 'datalab_prod')\n",
    "data0"
   ]
  },
  {
   "cell_type": "markdown",
   "metadata": {},
   "source": [
    "#### User/Group Restrictions for Account_ID"
   ]
  },
  {
   "cell_type": "code",
   "execution_count": 39,
   "metadata": {},
   "outputs": [
    {
     "name": "stderr",
     "output_type": "stream",
     "text": [
      "INFO:paramiko.transport:Connected (version 2.0, client OpenSSH_7.4p1)\n",
      "INFO:paramiko.transport:Authentication (publickey) successful!\n"
     ]
    },
    {
     "name": "stdout",
     "output_type": "stream",
     "text": [
      "ssh_connect 0:00:00.698189\n"
     ]
    },
    {
     "name": "stderr",
     "output_type": "stream",
     "text": [
      "INFO:root:Loaded dataframe with 24 rows in 0:00:01.017482.\n"
     ]
    },
    {
     "data": {
      "text/html": [
       "<div>\n",
       "<style scoped>\n",
       "    .dataframe tbody tr th:only-of-type {\n",
       "        vertical-align: middle;\n",
       "    }\n",
       "\n",
       "    .dataframe tbody tr th {\n",
       "        vertical-align: top;\n",
       "    }\n",
       "\n",
       "    .dataframe thead th {\n",
       "        text-align: right;\n",
       "    }\n",
       "</style>\n",
       "<table border=\"1\" class=\"dataframe\">\n",
       "  <thead>\n",
       "    <tr style=\"text-align: right;\">\n",
       "      <th></th>\n",
       "      <th>exchange_user_id</th>\n",
       "      <th>exchange_account_id</th>\n",
       "      <th>role</th>\n",
       "      <th>last_modified_at</th>\n",
       "      <th>attestation_user_id_account_id</th>\n",
       "    </tr>\n",
       "  </thead>\n",
       "  <tbody>\n",
       "    <tr>\n",
       "      <th>6</th>\n",
       "      <td>906131</td>\n",
       "      <td>874521</td>\n",
       "      <td>Administrator</td>\n",
       "      <td>2019-07-18 20:53:44.390227</td>\n",
       "      <td>[b',', b'\\x1f', b'?', b'n', b'I', b'\\x98', b'l...</td>\n",
       "    </tr>\n",
       "    <tr>\n",
       "      <th>2</th>\n",
       "      <td>911859</td>\n",
       "      <td>907903</td>\n",
       "      <td>Administrator</td>\n",
       "      <td>2019-07-18 20:53:05.313686</td>\n",
       "      <td>[b'\\x94', b'\\x92', b'\\xc1', b'\\xf3', b'\\xb3', ...</td>\n",
       "    </tr>\n",
       "    <tr>\n",
       "      <th>3</th>\n",
       "      <td>1085007</td>\n",
       "      <td>907903</td>\n",
       "      <td>Administrator</td>\n",
       "      <td>2019-07-18 20:53:05.313686</td>\n",
       "      <td>[b'=', b'\\x9e', b'i', b'\\xe9', b'\\x1b', b'\\xeb...</td>\n",
       "    </tr>\n",
       "    <tr>\n",
       "      <th>11</th>\n",
       "      <td>958241</td>\n",
       "      <td>938926</td>\n",
       "      <td>Trader</td>\n",
       "      <td>2019-07-18 20:54:23.709771</td>\n",
       "      <td>[b'j', b'\\xff', b'\\xa4', b'b', b'\\xb4', b'\\x89...</td>\n",
       "    </tr>\n",
       "    <tr>\n",
       "      <th>10</th>\n",
       "      <td>1048575</td>\n",
       "      <td>938926</td>\n",
       "      <td>Administrator</td>\n",
       "      <td>2019-07-18 20:54:23.709771</td>\n",
       "      <td>[b'%', b'S', b'4', b't', b'\\xf5', b'\\xf9', b'R...</td>\n",
       "    </tr>\n",
       "    <tr>\n",
       "      <th>8</th>\n",
       "      <td>958595</td>\n",
       "      <td>938926</td>\n",
       "      <td>Trader</td>\n",
       "      <td>2019-07-18 20:54:23.709771</td>\n",
       "      <td>[b'%', b'\\x98', b'\\xa2', b'J', b'~', b'p', b'\\...</td>\n",
       "    </tr>\n",
       "    <tr>\n",
       "      <th>7</th>\n",
       "      <td>958602</td>\n",
       "      <td>938926</td>\n",
       "      <td>Trader</td>\n",
       "      <td>2019-07-18 20:54:23.709771</td>\n",
       "      <td>[b'\\x19', b' ', b'L', b'X', b'\\x8a', b'\\xab', ...</td>\n",
       "    </tr>\n",
       "    <tr>\n",
       "      <th>9</th>\n",
       "      <td>958018</td>\n",
       "      <td>938926</td>\n",
       "      <td>Administrator</td>\n",
       "      <td>2019-07-18 20:54:23.709771</td>\n",
       "      <td>[b'i', b'\\xe1', b'9', b'\\xf0', b'\\xf9', b'\\xbe...</td>\n",
       "    </tr>\n",
       "    <tr>\n",
       "      <th>12</th>\n",
       "      <td>958602</td>\n",
       "      <td>1355262</td>\n",
       "      <td>Auditor</td>\n",
       "      <td>2019-07-18 20:54:23.709771</td>\n",
       "      <td>[b'\\x06', b'l', b'\\xac', b'f', b'\\xd2', b'\\xfd...</td>\n",
       "    </tr>\n",
       "    <tr>\n",
       "      <th>13</th>\n",
       "      <td>958595</td>\n",
       "      <td>1355262</td>\n",
       "      <td>Auditor</td>\n",
       "      <td>2019-07-18 20:54:23.709771</td>\n",
       "      <td>[b'K', b'\\x85', b'\\xa7', b'm', b'(', b'\\xd8', ...</td>\n",
       "    </tr>\n",
       "    <tr>\n",
       "      <th>14</th>\n",
       "      <td>958018</td>\n",
       "      <td>1355262</td>\n",
       "      <td>Auditor</td>\n",
       "      <td>2019-07-18 20:54:23.709771</td>\n",
       "      <td>[b'\\x8d', b'\\x15', b'\\xf5', b'\\xec', b'&amp;', b'\\...</td>\n",
       "    </tr>\n",
       "    <tr>\n",
       "      <th>15</th>\n",
       "      <td>1048575</td>\n",
       "      <td>1355262</td>\n",
       "      <td>Auditor</td>\n",
       "      <td>2019-07-18 20:54:23.709771</td>\n",
       "      <td>[b'w', b'\\xe7', b'S', b'\\x13', b' ', b' ', b'\\...</td>\n",
       "    </tr>\n",
       "    <tr>\n",
       "      <th>16</th>\n",
       "      <td>958241</td>\n",
       "      <td>1355262</td>\n",
       "      <td>Auditor</td>\n",
       "      <td>2019-07-18 20:54:23.709771</td>\n",
       "      <td>[b'!', b'\\x92', b'\\xa7', b'\\xec', b'\\xe5', b'\\...</td>\n",
       "    </tr>\n",
       "    <tr>\n",
       "      <th>18</th>\n",
       "      <td>958595</td>\n",
       "      <td>1355268</td>\n",
       "      <td>Auditor</td>\n",
       "      <td>2019-07-18 20:54:23.709771</td>\n",
       "      <td>[b'\\x8d', b'Z', b'\\x87', b'\\x11', b'\\xc3', b'X...</td>\n",
       "    </tr>\n",
       "    <tr>\n",
       "      <th>21</th>\n",
       "      <td>958241</td>\n",
       "      <td>1355268</td>\n",
       "      <td>Auditor</td>\n",
       "      <td>2019-07-18 20:54:23.709771</td>\n",
       "      <td>[b'!', b'\\t', b'\\x99', b'\\xa9', b'\\xed', b'(',...</td>\n",
       "    </tr>\n",
       "    <tr>\n",
       "      <th>20</th>\n",
       "      <td>1048575</td>\n",
       "      <td>1355268</td>\n",
       "      <td>Auditor</td>\n",
       "      <td>2019-07-18 20:54:23.709771</td>\n",
       "      <td>[b'5', b'\\xfd', b'!', b'\\x9a', b'\\xe4', b'\\xac...</td>\n",
       "    </tr>\n",
       "    <tr>\n",
       "      <th>17</th>\n",
       "      <td>958602</td>\n",
       "      <td>1355268</td>\n",
       "      <td>Auditor</td>\n",
       "      <td>2019-07-18 20:54:23.709771</td>\n",
       "      <td>[b'!', b'\\xc9', b'\\xbb', b'\\x07', b'\\x11', b'T...</td>\n",
       "    </tr>\n",
       "    <tr>\n",
       "      <th>19</th>\n",
       "      <td>958018</td>\n",
       "      <td>1355268</td>\n",
       "      <td>Auditor</td>\n",
       "      <td>2019-07-18 20:54:23.709771</td>\n",
       "      <td>[b'\\x07', b'\\x9b', b'D', b'e', b'[', b\"'\", b'\\...</td>\n",
       "    </tr>\n",
       "    <tr>\n",
       "      <th>4</th>\n",
       "      <td>911859</td>\n",
       "      <td>1355283</td>\n",
       "      <td>Auditor</td>\n",
       "      <td>2019-07-18 20:53:05.313686</td>\n",
       "      <td>[b'#', b'\\x9e', b'p', b'/', b'\\x01', b'\\xca', ...</td>\n",
       "    </tr>\n",
       "    <tr>\n",
       "      <th>5</th>\n",
       "      <td>1085007</td>\n",
       "      <td>1355283</td>\n",
       "      <td>Auditor</td>\n",
       "      <td>2019-07-18 20:53:05.313686</td>\n",
       "      <td>[b'\\x89', b'\\x8f', b'-', b'{', b'\\xea', b'\\x12...</td>\n",
       "    </tr>\n",
       "    <tr>\n",
       "      <th>0</th>\n",
       "      <td>319549</td>\n",
       "      <td>1355301</td>\n",
       "      <td>Administrator</td>\n",
       "      <td>2019-07-18 20:52:25.487257</td>\n",
       "      <td>[b'4', b'\\xea', b'{', b':', b'\\x8c', b'h', b'\\...</td>\n",
       "    </tr>\n",
       "    <tr>\n",
       "      <th>1</th>\n",
       "      <td>305633</td>\n",
       "      <td>1355301</td>\n",
       "      <td>Administrator</td>\n",
       "      <td>2019-07-18 20:52:25.487257</td>\n",
       "      <td>[b'm', b'|', b'\\xe8', b'\\x1e', b'\\n', b'A', b'...</td>\n",
       "    </tr>\n",
       "    <tr>\n",
       "      <th>22</th>\n",
       "      <td>925266</td>\n",
       "      <td>1355302</td>\n",
       "      <td>Manager</td>\n",
       "      <td>2019-07-18 20:54:40.093573</td>\n",
       "      <td>[b'\\x89', b'\\xe0', b'\\xc9', b'\\xcf', b'|', b'\\...</td>\n",
       "    </tr>\n",
       "    <tr>\n",
       "      <th>23</th>\n",
       "      <td>925209</td>\n",
       "      <td>1355302</td>\n",
       "      <td>Manager</td>\n",
       "      <td>2019-07-18 20:54:40.093573</td>\n",
       "      <td>[b'3', b'Q', b's', b'\\xba', b'\\x19', b'\\xdd', ...</td>\n",
       "    </tr>\n",
       "  </tbody>\n",
       "</table>\n",
       "</div>"
      ],
      "text/plain": [
       "    exchange_user_id  exchange_account_id           role  \\\n",
       "6             906131               874521  Administrator   \n",
       "2             911859               907903  Administrator   \n",
       "3            1085007               907903  Administrator   \n",
       "11            958241               938926         Trader   \n",
       "10           1048575               938926  Administrator   \n",
       "8             958595               938926         Trader   \n",
       "7             958602               938926         Trader   \n",
       "9             958018               938926  Administrator   \n",
       "12            958602              1355262        Auditor   \n",
       "13            958595              1355262        Auditor   \n",
       "14            958018              1355262        Auditor   \n",
       "15           1048575              1355262        Auditor   \n",
       "16            958241              1355262        Auditor   \n",
       "18            958595              1355268        Auditor   \n",
       "21            958241              1355268        Auditor   \n",
       "20           1048575              1355268        Auditor   \n",
       "17            958602              1355268        Auditor   \n",
       "19            958018              1355268        Auditor   \n",
       "4             911859              1355283        Auditor   \n",
       "5            1085007              1355283        Auditor   \n",
       "0             319549              1355301  Administrator   \n",
       "1             305633              1355301  Administrator   \n",
       "22            925266              1355302        Manager   \n",
       "23            925209              1355302        Manager   \n",
       "\n",
       "             last_modified_at  \\\n",
       "6  2019-07-18 20:53:44.390227   \n",
       "2  2019-07-18 20:53:05.313686   \n",
       "3  2019-07-18 20:53:05.313686   \n",
       "11 2019-07-18 20:54:23.709771   \n",
       "10 2019-07-18 20:54:23.709771   \n",
       "8  2019-07-18 20:54:23.709771   \n",
       "7  2019-07-18 20:54:23.709771   \n",
       "9  2019-07-18 20:54:23.709771   \n",
       "12 2019-07-18 20:54:23.709771   \n",
       "13 2019-07-18 20:54:23.709771   \n",
       "14 2019-07-18 20:54:23.709771   \n",
       "15 2019-07-18 20:54:23.709771   \n",
       "16 2019-07-18 20:54:23.709771   \n",
       "18 2019-07-18 20:54:23.709771   \n",
       "21 2019-07-18 20:54:23.709771   \n",
       "20 2019-07-18 20:54:23.709771   \n",
       "17 2019-07-18 20:54:23.709771   \n",
       "19 2019-07-18 20:54:23.709771   \n",
       "4  2019-07-18 20:53:05.313686   \n",
       "5  2019-07-18 20:53:05.313686   \n",
       "0  2019-07-18 20:52:25.487257   \n",
       "1  2019-07-18 20:52:25.487257   \n",
       "22 2019-07-18 20:54:40.093573   \n",
       "23 2019-07-18 20:54:40.093573   \n",
       "\n",
       "                       attestation_user_id_account_id  \n",
       "6   [b',', b'\\x1f', b'?', b'n', b'I', b'\\x98', b'l...  \n",
       "2   [b'\\x94', b'\\x92', b'\\xc1', b'\\xf3', b'\\xb3', ...  \n",
       "3   [b'=', b'\\x9e', b'i', b'\\xe9', b'\\x1b', b'\\xeb...  \n",
       "11  [b'j', b'\\xff', b'\\xa4', b'b', b'\\xb4', b'\\x89...  \n",
       "10  [b'%', b'S', b'4', b't', b'\\xf5', b'\\xf9', b'R...  \n",
       "8   [b'%', b'\\x98', b'\\xa2', b'J', b'~', b'p', b'\\...  \n",
       "7   [b'\\x19', b' ', b'L', b'X', b'\\x8a', b'\\xab', ...  \n",
       "9   [b'i', b'\\xe1', b'9', b'\\xf0', b'\\xf9', b'\\xbe...  \n",
       "12  [b'\\x06', b'l', b'\\xac', b'f', b'\\xd2', b'\\xfd...  \n",
       "13  [b'K', b'\\x85', b'\\xa7', b'm', b'(', b'\\xd8', ...  \n",
       "14  [b'\\x8d', b'\\x15', b'\\xf5', b'\\xec', b'&', b'\\...  \n",
       "15  [b'w', b'\\xe7', b'S', b'\\x13', b' ', b' ', b'\\...  \n",
       "16  [b'!', b'\\x92', b'\\xa7', b'\\xec', b'\\xe5', b'\\...  \n",
       "18  [b'\\x8d', b'Z', b'\\x87', b'\\x11', b'\\xc3', b'X...  \n",
       "21  [b'!', b'\\t', b'\\x99', b'\\xa9', b'\\xed', b'(',...  \n",
       "20  [b'5', b'\\xfd', b'!', b'\\x9a', b'\\xe4', b'\\xac...  \n",
       "17  [b'!', b'\\xc9', b'\\xbb', b'\\x07', b'\\x11', b'T...  \n",
       "19  [b'\\x07', b'\\x9b', b'D', b'e', b'[', b\"'\", b'\\...  \n",
       "4   [b'#', b'\\x9e', b'p', b'/', b'\\x01', b'\\xca', ...  \n",
       "5   [b'\\x89', b'\\x8f', b'-', b'{', b'\\xea', b'\\x12...  \n",
       "0   [b'4', b'\\xea', b'{', b':', b'\\x8c', b'h', b'\\...  \n",
       "1   [b'm', b'|', b'\\xe8', b'\\x1e', b'\\n', b'A', b'...  \n",
       "22  [b'\\x89', b'\\xe0', b'\\xc9', b'\\xcf', b'|', b'\\...  \n",
       "23  [b'3', b'Q', b's', b'\\xba', b'\\x19', b'\\xdd', ...  "
      ]
     },
     "execution_count": 39,
     "metadata": {},
     "output_type": "execute_result"
    }
   ],
   "source": [
    "query = \"\"\"\n",
    "        SELECT * from user_account_roles\n",
    "        \"\"\"\n",
    "\n",
    "data0 = execute_query_data_frame(query, 'gemini', ssh = 'datalab_prod')\n",
    "data0.sort_values('exchange_account_id')"
   ]
  },
  {
   "cell_type": "code",
   "execution_count": 37,
   "metadata": {},
   "outputs": [
    {
     "data": {
      "text/html": [
       "<div>\n",
       "<style scoped>\n",
       "    .dataframe tbody tr th:only-of-type {\n",
       "        vertical-align: middle;\n",
       "    }\n",
       "\n",
       "    .dataframe tbody tr th {\n",
       "        vertical-align: top;\n",
       "    }\n",
       "\n",
       "    .dataframe thead th {\n",
       "        text-align: right;\n",
       "    }\n",
       "</style>\n",
       "<table border=\"1\" class=\"dataframe\">\n",
       "  <thead>\n",
       "    <tr style=\"text-align: right;\">\n",
       "      <th></th>\n",
       "      <th></th>\n",
       "      <th>role</th>\n",
       "      <th>last_modified_at</th>\n",
       "      <th>attestation_user_id_account_id</th>\n",
       "    </tr>\n",
       "    <tr>\n",
       "      <th>exchange_account_id</th>\n",
       "      <th>exchange_user_id</th>\n",
       "      <th></th>\n",
       "      <th></th>\n",
       "      <th></th>\n",
       "    </tr>\n",
       "  </thead>\n",
       "  <tbody>\n",
       "    <tr>\n",
       "      <th>874521</th>\n",
       "      <th>906131</th>\n",
       "      <td>1</td>\n",
       "      <td>1</td>\n",
       "      <td>1</td>\n",
       "    </tr>\n",
       "    <tr>\n",
       "      <th rowspan=\"2\" valign=\"top\">907903</th>\n",
       "      <th>911859</th>\n",
       "      <td>1</td>\n",
       "      <td>1</td>\n",
       "      <td>1</td>\n",
       "    </tr>\n",
       "    <tr>\n",
       "      <th>1085007</th>\n",
       "      <td>1</td>\n",
       "      <td>1</td>\n",
       "      <td>1</td>\n",
       "    </tr>\n",
       "    <tr>\n",
       "      <th rowspan=\"5\" valign=\"top\">938926</th>\n",
       "      <th>958018</th>\n",
       "      <td>1</td>\n",
       "      <td>1</td>\n",
       "      <td>1</td>\n",
       "    </tr>\n",
       "    <tr>\n",
       "      <th>958241</th>\n",
       "      <td>1</td>\n",
       "      <td>1</td>\n",
       "      <td>1</td>\n",
       "    </tr>\n",
       "    <tr>\n",
       "      <th>958595</th>\n",
       "      <td>1</td>\n",
       "      <td>1</td>\n",
       "      <td>1</td>\n",
       "    </tr>\n",
       "    <tr>\n",
       "      <th>958602</th>\n",
       "      <td>1</td>\n",
       "      <td>1</td>\n",
       "      <td>1</td>\n",
       "    </tr>\n",
       "    <tr>\n",
       "      <th>1048575</th>\n",
       "      <td>1</td>\n",
       "      <td>1</td>\n",
       "      <td>1</td>\n",
       "    </tr>\n",
       "    <tr>\n",
       "      <th rowspan=\"5\" valign=\"top\">1355262</th>\n",
       "      <th>958018</th>\n",
       "      <td>1</td>\n",
       "      <td>1</td>\n",
       "      <td>1</td>\n",
       "    </tr>\n",
       "    <tr>\n",
       "      <th>958241</th>\n",
       "      <td>1</td>\n",
       "      <td>1</td>\n",
       "      <td>1</td>\n",
       "    </tr>\n",
       "    <tr>\n",
       "      <th>958595</th>\n",
       "      <td>1</td>\n",
       "      <td>1</td>\n",
       "      <td>1</td>\n",
       "    </tr>\n",
       "    <tr>\n",
       "      <th>958602</th>\n",
       "      <td>1</td>\n",
       "      <td>1</td>\n",
       "      <td>1</td>\n",
       "    </tr>\n",
       "    <tr>\n",
       "      <th>1048575</th>\n",
       "      <td>1</td>\n",
       "      <td>1</td>\n",
       "      <td>1</td>\n",
       "    </tr>\n",
       "    <tr>\n",
       "      <th rowspan=\"5\" valign=\"top\">1355268</th>\n",
       "      <th>958018</th>\n",
       "      <td>1</td>\n",
       "      <td>1</td>\n",
       "      <td>1</td>\n",
       "    </tr>\n",
       "    <tr>\n",
       "      <th>958241</th>\n",
       "      <td>1</td>\n",
       "      <td>1</td>\n",
       "      <td>1</td>\n",
       "    </tr>\n",
       "    <tr>\n",
       "      <th>958595</th>\n",
       "      <td>1</td>\n",
       "      <td>1</td>\n",
       "      <td>1</td>\n",
       "    </tr>\n",
       "    <tr>\n",
       "      <th>958602</th>\n",
       "      <td>1</td>\n",
       "      <td>1</td>\n",
       "      <td>1</td>\n",
       "    </tr>\n",
       "    <tr>\n",
       "      <th>1048575</th>\n",
       "      <td>1</td>\n",
       "      <td>1</td>\n",
       "      <td>1</td>\n",
       "    </tr>\n",
       "    <tr>\n",
       "      <th rowspan=\"2\" valign=\"top\">1355283</th>\n",
       "      <th>911859</th>\n",
       "      <td>1</td>\n",
       "      <td>1</td>\n",
       "      <td>1</td>\n",
       "    </tr>\n",
       "    <tr>\n",
       "      <th>1085007</th>\n",
       "      <td>1</td>\n",
       "      <td>1</td>\n",
       "      <td>1</td>\n",
       "    </tr>\n",
       "    <tr>\n",
       "      <th rowspan=\"2\" valign=\"top\">1355301</th>\n",
       "      <th>305633</th>\n",
       "      <td>1</td>\n",
       "      <td>1</td>\n",
       "      <td>1</td>\n",
       "    </tr>\n",
       "    <tr>\n",
       "      <th>319549</th>\n",
       "      <td>1</td>\n",
       "      <td>1</td>\n",
       "      <td>1</td>\n",
       "    </tr>\n",
       "    <tr>\n",
       "      <th rowspan=\"2\" valign=\"top\">1355302</th>\n",
       "      <th>925209</th>\n",
       "      <td>1</td>\n",
       "      <td>1</td>\n",
       "      <td>1</td>\n",
       "    </tr>\n",
       "    <tr>\n",
       "      <th>925266</th>\n",
       "      <td>1</td>\n",
       "      <td>1</td>\n",
       "      <td>1</td>\n",
       "    </tr>\n",
       "  </tbody>\n",
       "</table>\n",
       "</div>"
      ],
      "text/plain": [
       "                                      role  last_modified_at  \\\n",
       "exchange_account_id exchange_user_id                           \n",
       "874521              906131               1                 1   \n",
       "907903              911859               1                 1   \n",
       "                    1085007              1                 1   \n",
       "938926              958018               1                 1   \n",
       "                    958241               1                 1   \n",
       "                    958595               1                 1   \n",
       "                    958602               1                 1   \n",
       "                    1048575              1                 1   \n",
       "1355262             958018               1                 1   \n",
       "                    958241               1                 1   \n",
       "                    958595               1                 1   \n",
       "                    958602               1                 1   \n",
       "                    1048575              1                 1   \n",
       "1355268             958018               1                 1   \n",
       "                    958241               1                 1   \n",
       "                    958595               1                 1   \n",
       "                    958602               1                 1   \n",
       "                    1048575              1                 1   \n",
       "1355283             911859               1                 1   \n",
       "                    1085007              1                 1   \n",
       "1355301             305633               1                 1   \n",
       "                    319549               1                 1   \n",
       "1355302             925209               1                 1   \n",
       "                    925266               1                 1   \n",
       "\n",
       "                                      attestation_user_id_account_id  \n",
       "exchange_account_id exchange_user_id                                  \n",
       "874521              906131                                         1  \n",
       "907903              911859                                         1  \n",
       "                    1085007                                        1  \n",
       "938926              958018                                         1  \n",
       "                    958241                                         1  \n",
       "                    958595                                         1  \n",
       "                    958602                                         1  \n",
       "                    1048575                                        1  \n",
       "1355262             958018                                         1  \n",
       "                    958241                                         1  \n",
       "                    958595                                         1  \n",
       "                    958602                                         1  \n",
       "                    1048575                                        1  \n",
       "1355268             958018                                         1  \n",
       "                    958241                                         1  \n",
       "                    958595                                         1  \n",
       "                    958602                                         1  \n",
       "                    1048575                                        1  \n",
       "1355283             911859                                         1  \n",
       "                    1085007                                        1  \n",
       "1355301             305633                                         1  \n",
       "                    319549                                         1  \n",
       "1355302             925209                                         1  \n",
       "                    925266                                         1  "
      ]
     },
     "execution_count": 37,
     "metadata": {},
     "output_type": "execute_result"
    }
   ],
   "source": [
    "data0.groupby(['exchange_account_id','exchange_user_id']).count()"
   ]
  },
  {
   "cell_type": "code",
   "execution_count": 35,
   "metadata": {},
   "outputs": [
    {
     "data": {
      "text/plain": [
       "array([1355301,  907903, 1355283,  874521,  938926, 1355262, 1355268,\n",
       "       1355302])"
      ]
     },
     "execution_count": 35,
     "metadata": {},
     "output_type": "execute_result"
    }
   ],
   "source": [
    "pd.unique(data0['exchange_account_id'])"
   ]
  },
  {
   "cell_type": "code",
   "execution_count": 18,
   "metadata": {},
   "outputs": [
    {
     "name": "stderr",
     "output_type": "stream",
     "text": [
      "INFO:paramiko.transport:Connected (version 2.0, client OpenSSH_7.4p1)\n",
      "INFO:paramiko.transport:Authentication (publickey) successful!\n"
     ]
    },
    {
     "name": "stdout",
     "output_type": "stream",
     "text": [
      "ssh_connect 0:00:00.704016\n"
     ]
    },
    {
     "name": "stderr",
     "output_type": "stream",
     "text": [
      "INFO:root:Loaded dataframe with 1142178 rows in 0:01:23.347214.\n"
     ]
    },
    {
     "data": {
      "text/plain": [
       "user_id                    0\n",
       "group_id                   0\n",
       "account_id                 0\n",
       "group_restriction    1140458\n",
       "user_restriction      888967\n",
       "account_idua         1142078\n",
       "user_idua            1142082\n",
       "dtype: int64"
      ]
     },
     "execution_count": 18,
     "metadata": {},
     "output_type": "execute_result"
    }
   ],
   "source": [
    "query = \"\"\"\n",
    "        SELECT \n",
    "        uagr.exchange_user_id as user_id, uagr.account_group_id as group_id, \n",
    "        ea.id as account_id, \n",
    "        ag.restriction as group_restriction,\n",
    "        eu.restriction as user_restriction,\n",
    "        ua.exchange_account_id as account_idUA,\n",
    "        ua2.exchange_user_id as user_idUA\n",
    "        \n",
    "        FROM user_account_group_roles AS uagr\n",
    "        \n",
    "        LEFT join exchange_accounts as ea using(account_group_id)\n",
    "        LEFT join account_group as ag using(account_group_id)      \n",
    "        LEFT join exchange_users as eu on uagr.exchange_user_id = eu.id\n",
    "        LEFT join user_account_roles as ua using(exchange_user_id)\n",
    "        LEFT join user_account_roles as ua2 on ea.id = ua.exchange_account_id\n",
    "        \n",
    "        \"\"\"\n",
    "#        where ag.restriction = 'Closed' or eu.restriction = 'Closed'\n",
    "\n",
    "data0 = execute_query_data_frame(query, 'gemini', ssh = 'datalab_prod')\n",
    "data0.isna().sum(axis=0)"
   ]
  },
  {
   "cell_type": "code",
   "execution_count": 1,
   "metadata": {},
   "outputs": [
    {
     "ename": "NameError",
     "evalue": "name 'execute_query_data_frame' is not defined",
     "output_type": "error",
     "traceback": [
      "\u001b[0;31m---------------------------------------------------------------------------\u001b[0m",
      "\u001b[0;31mNameError\u001b[0m                                 Traceback (most recent call last)",
      "\u001b[0;32m<ipython-input-1-d3ba1911e583>\u001b[0m in \u001b[0;36m<module>\u001b[0;34m\u001b[0m\n\u001b[1;32m      6\u001b[0m \u001b[0;31m#        where ag.restriction = 'Closed' or eu.restriction = 'Closed'\u001b[0m\u001b[0;34m\u001b[0m\u001b[0;34m\u001b[0m\u001b[0m\n\u001b[1;32m      7\u001b[0m \u001b[0;34m\u001b[0m\u001b[0m\n\u001b[0;32m----> 8\u001b[0;31m \u001b[0mdata0\u001b[0m \u001b[0;34m=\u001b[0m \u001b[0mexecute_query_data_frame\u001b[0m\u001b[0;34m(\u001b[0m\u001b[0mquery\u001b[0m\u001b[0;34m,\u001b[0m \u001b[0;34m'gemini'\u001b[0m\u001b[0;34m,\u001b[0m \u001b[0mssh\u001b[0m \u001b[0;34m=\u001b[0m \u001b[0;34m'datalab_prod'\u001b[0m\u001b[0;34m)\u001b[0m\u001b[0;34m\u001b[0m\u001b[0m\n\u001b[0m\u001b[1;32m      9\u001b[0m \u001b[0mdata0\u001b[0m\u001b[0;34m.\u001b[0m\u001b[0misna\u001b[0m\u001b[0;34m(\u001b[0m\u001b[0;34m)\u001b[0m\u001b[0;34m.\u001b[0m\u001b[0msum\u001b[0m\u001b[0;34m(\u001b[0m\u001b[0maxis\u001b[0m\u001b[0;34m=\u001b[0m\u001b[0;36m0\u001b[0m\u001b[0;34m)\u001b[0m\u001b[0;34m\u001b[0m\u001b[0m\n",
      "\u001b[0;31mNameError\u001b[0m: name 'execute_query_data_frame' is not defined"
     ]
    }
   ],
   "source": []
  },
  {
   "cell_type": "code",
   "execution_count": 28,
   "metadata": {},
   "outputs": [
    {
     "data": {
      "text/plain": [
       "2"
      ]
     },
     "execution_count": 28,
     "metadata": {},
     "output_type": "execute_result"
    }
   ],
   "source": [
    "test = data0.loc[(~data0['user_idua'].isna()) | (~data0['account_idua'].isna())]\n",
    "len(pd.unique(test['account_idua']))"
   ]
  },
  {
   "cell_type": "code",
   "execution_count": 53,
   "metadata": {},
   "outputs": [
    {
     "ename": "NameError",
     "evalue": "name 'none' is not defined",
     "output_type": "error",
     "traceback": [
      "\u001b[0;31m---------------------------------------------------------------------------\u001b[0m",
      "\u001b[0;31mNameError\u001b[0m                                 Traceback (most recent call last)",
      "\u001b[0;32m<ipython-input-53-b33bde7da611>\u001b[0m in \u001b[0;36m<module>\u001b[0;34m\u001b[0m\n\u001b[0;32m----> 1\u001b[0;31m \u001b[0mdata0\u001b[0m\u001b[0;34m[\u001b[0m\u001b[0;34m'restriction'\u001b[0m\u001b[0;34m]\u001b[0m \u001b[0;34m=\u001b[0m \u001b[0mpd\u001b[0m\u001b[0;34m.\u001b[0m\u001b[0mDataFrame\u001b[0m\u001b[0;34m(\u001b[0m\u001b[0mnp\u001b[0m\u001b[0;34m.\u001b[0m\u001b[0mwhere\u001b[0m\u001b[0;34m(\u001b[0m\u001b[0mdata0\u001b[0m\u001b[0;34m[\u001b[0m\u001b[0;34m'group_restriction'\u001b[0m\u001b[0;34m]\u001b[0m\u001b[0;34m==\u001b[0m\u001b[0;34m'Closed'\u001b[0m\u001b[0;34m,\u001b[0m \u001b[0;34m'group'\u001b[0m\u001b[0;34m,\u001b[0m\u001b[0mnone\u001b[0m\u001b[0;34m)\u001b[0m\u001b[0;34m)\u001b[0m\u001b[0;34m\u001b[0m\u001b[0m\n\u001b[0m\u001b[1;32m      2\u001b[0m \u001b[0mdata1\u001b[0m \u001b[0;34m=\u001b[0m \u001b[0mdata0\u001b[0m\u001b[0;34m.\u001b[0m\u001b[0mset_index\u001b[0m\u001b[0;34m(\u001b[0m\u001b[0;34m'account_id'\u001b[0m\u001b[0;34m)\u001b[0m\u001b[0;34m\u001b[0m\u001b[0m\n\u001b[1;32m      3\u001b[0m \u001b[0mdata1\u001b[0m\u001b[0;34m.\u001b[0m\u001b[0misna\u001b[0m\u001b[0;34m(\u001b[0m\u001b[0;34m)\u001b[0m\u001b[0;34m.\u001b[0m\u001b[0msum\u001b[0m\u001b[0;34m(\u001b[0m\u001b[0maxis\u001b[0m\u001b[0;34m=\u001b[0m\u001b[0;36m0\u001b[0m\u001b[0;34m)\u001b[0m\u001b[0;34m\u001b[0m\u001b[0m\n",
      "\u001b[0;31mNameError\u001b[0m: name 'none' is not defined"
     ]
    }
   ],
   "source": [
    "data0['restriction'] = pd.DataFrame(np.where(data0['group_restriction']=='Closed', 'group','user'))\n",
    "data1 = data0.set_index('account_id')\n",
    "data1.isna().sum(axis=0)"
   ]
  },
  {
   "cell_type": "markdown",
   "metadata": {},
   "source": [
    "#### Read in Blockchain Report"
   ]
  },
  {
   "cell_type": "code",
   "execution_count": 31,
   "metadata": {},
   "outputs": [
    {
     "data": {
      "text/plain": [
       "(397, 1)"
      ]
     },
     "execution_count": 31,
     "metadata": {},
     "output_type": "execute_result"
    }
   ],
   "source": [
    "report0 = pd.read_excel('~/Downloads/Wall Street Market.xlsx', sheet_name = 'Sheet1').reset_index(drop=True).rename(columns={'Unnamed: 1':'account_id'})\n",
    "report1 = report0.set_index('account_id')\n",
    "report1.shape"
   ]
  },
  {
   "cell_type": "markdown",
   "metadata": {},
   "source": [
    "#### Combined"
   ]
  },
  {
   "cell_type": "code",
   "execution_count": 43,
   "metadata": {},
   "outputs": [
    {
     "data": {
      "text/plain": [
       "(397, 3)"
      ]
     },
     "execution_count": 43,
     "metadata": {},
     "output_type": "execute_result"
    }
   ],
   "source": [
    "combined0 = report1.merge(data1, on='account_id', how='left').drop(columns=['UserID','group_restriction','user_restriction']).sort_index()\n",
    "combined0.shape"
   ]
  },
  {
   "cell_type": "code",
   "execution_count": 44,
   "metadata": {},
   "outputs": [
    {
     "data": {
      "text/html": [
       "<div>\n",
       "<style scoped>\n",
       "    .dataframe tbody tr th:only-of-type {\n",
       "        vertical-align: middle;\n",
       "    }\n",
       "\n",
       "    .dataframe tbody tr th {\n",
       "        vertical-align: top;\n",
       "    }\n",
       "\n",
       "    .dataframe thead th {\n",
       "        text-align: right;\n",
       "    }\n",
       "</style>\n",
       "<table border=\"1\" class=\"dataframe\">\n",
       "  <thead>\n",
       "    <tr style=\"text-align: right;\">\n",
       "      <th></th>\n",
       "      <th>user_id</th>\n",
       "      <th>group_id</th>\n",
       "      <th>restriction</th>\n",
       "    </tr>\n",
       "    <tr>\n",
       "      <th>account_id</th>\n",
       "      <th></th>\n",
       "      <th></th>\n",
       "      <th></th>\n",
       "    </tr>\n",
       "  </thead>\n",
       "  <tbody>\n",
       "    <tr>\n",
       "      <th>1988</th>\n",
       "      <td>NaN</td>\n",
       "      <td>NaN</td>\n",
       "      <td>NaN</td>\n",
       "    </tr>\n",
       "    <tr>\n",
       "      <th>2117</th>\n",
       "      <td>NaN</td>\n",
       "      <td>NaN</td>\n",
       "      <td>NaN</td>\n",
       "    </tr>\n",
       "    <tr>\n",
       "      <th>5340</th>\n",
       "      <td>NaN</td>\n",
       "      <td>NaN</td>\n",
       "      <td>NaN</td>\n",
       "    </tr>\n",
       "    <tr>\n",
       "      <th>10079</th>\n",
       "      <td>NaN</td>\n",
       "      <td>NaN</td>\n",
       "      <td>NaN</td>\n",
       "    </tr>\n",
       "    <tr>\n",
       "      <th>10094</th>\n",
       "      <td>NaN</td>\n",
       "      <td>NaN</td>\n",
       "      <td>NaN</td>\n",
       "    </tr>\n",
       "  </tbody>\n",
       "</table>\n",
       "</div>"
      ],
      "text/plain": [
       "            user_id  group_id restriction\n",
       "account_id                               \n",
       "1988            NaN       NaN         NaN\n",
       "2117            NaN       NaN         NaN\n",
       "5340            NaN       NaN         NaN\n",
       "10079           NaN       NaN         NaN\n",
       "10094           NaN       NaN         NaN"
      ]
     },
     "execution_count": 44,
     "metadata": {},
     "output_type": "execute_result"
    }
   ],
   "source": [
    "combined0.head()"
   ]
  },
  {
   "cell_type": "code",
   "execution_count": 50,
   "metadata": {},
   "outputs": [
    {
     "data": {
      "text/plain": [
       "group    52\n",
       "user     17\n",
       "Name: restriction, dtype: int64"
      ]
     },
     "execution_count": 50,
     "metadata": {},
     "output_type": "execute_result"
    }
   ],
   "source": [
    "combined0['restriction'].value_counts()"
   ]
  },
  {
   "cell_type": "code",
   "execution_count": 47,
   "metadata": {},
   "outputs": [],
   "source": [
    "combined0.to_csv('~/Desktop/Closed.csv')"
   ]
  },
  {
   "cell_type": "code",
   "execution_count": null,
   "metadata": {},
   "outputs": [],
   "source": []
  }
 ],
 "metadata": {
  "kernelspec": {
   "display_name": "Python 3",
   "language": "python",
   "name": "python3"
  },
  "language_info": {
   "codemirror_mode": {
    "name": "ipython",
    "version": 3
   },
   "file_extension": ".py",
   "mimetype": "text/x-python",
   "name": "python",
   "nbconvert_exporter": "python",
   "pygments_lexer": "ipython3",
   "version": "3.7.0"
  }
 },
 "nbformat": 4,
 "nbformat_minor": 2
}
