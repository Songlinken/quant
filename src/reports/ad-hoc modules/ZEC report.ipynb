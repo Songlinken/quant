{
 "cells": [
  {
   "cell_type": "markdown",
   "metadata": {},
   "source": [
    "# Tables Needed\n",
    "## engine.transfer_event, engine.daily_conversion_rates, engine.account_derived_metadata, gemini.exchange_users.level/exchange_account_id, "
   ]
  },
  {
   "cell_type": "code",
   "execution_count": 1,
   "metadata": {},
   "outputs": [
    {
     "name": "stderr",
     "output_type": "stream",
     "text": [
      "/Users/sqian/.pyenv/versions/3.7.0/envs/env_370/lib/python3.7/site-packages/psycopg2/__init__.py:144: UserWarning: The psycopg2 wheel package will be renamed from release 2.8; in order to keep installing from binary please use \"pip install psycopg2-binary\" instead. For details see: <http://initd.org/psycopg/docs/install.html#binary-install-from-pypi>.\n",
      "  \"\"\")\n"
     ]
    },
    {
     "ename": "FileNotFoundError",
     "evalue": "[Errno 2] No such file or directory: 'credential_zec.json'",
     "output_type": "error",
     "traceback": [
      "\u001b[0;31m---------------------------------------------------------------------------\u001b[0m",
      "\u001b[0;31mFileNotFoundError\u001b[0m                         Traceback (most recent call last)",
      "\u001b[0;32m<ipython-input-1-c9394e5d7716>\u001b[0m in \u001b[0;36m<module>\u001b[0;34m\u001b[0m\n\u001b[1;32m     17\u001b[0m \u001b[0;34m\u001b[0m\u001b[0m\n\u001b[1;32m     18\u001b[0m \u001b[0;31m# database variables\u001b[0m\u001b[0;34m\u001b[0m\u001b[0;34m\u001b[0m\u001b[0m\n\u001b[0;32m---> 19\u001b[0;31m \u001b[0mcred\u001b[0m     \u001b[0;34m=\u001b[0m \u001b[0mjson\u001b[0m\u001b[0;34m.\u001b[0m\u001b[0mload\u001b[0m\u001b[0;34m(\u001b[0m\u001b[0mopen\u001b[0m\u001b[0;34m(\u001b[0m\u001b[0;34m'credential_zec.json'\u001b[0m\u001b[0;34m)\u001b[0m\u001b[0;34m)\u001b[0m\u001b[0;34m\u001b[0m\u001b[0m\n\u001b[0m\u001b[1;32m     20\u001b[0m \u001b[0mdb1\u001b[0m \u001b[0;34m=\u001b[0m \u001b[0;34m'gemini'\u001b[0m\u001b[0;34m\u001b[0m\u001b[0m\n\u001b[1;32m     21\u001b[0m \u001b[0mdb2\u001b[0m \u001b[0;34m=\u001b[0m \u001b[0;34m'engine'\u001b[0m\u001b[0;34m\u001b[0m\u001b[0m\n",
      "\u001b[0;31mFileNotFoundError\u001b[0m: [Errno 2] No such file or directory: 'credential_zec.json'"
     ]
    }
   ],
   "source": [
    "import numpy as np\n",
    "import pandas as pd\n",
    "import psycopg2\n",
    "import json\n",
    "from os import listdir\n",
    "from os.path import isfile, join\n",
    "import re\n",
    "import shutil\n",
    "from datetime import datetime\n",
    "from datetime import timedelta\n",
    "from dateutil.relativedelta import *\n",
    "\n",
    "from IPython.core.interactiveshell import InteractiveShell\n",
    "InteractiveShell.ast_node_interactivity = \"all\"\n",
    "\n",
    "pd.set_option('display.float_format', lambda x: '%.3f' % x)\n",
    "\n",
    "# database variables\n",
    "cred     = json.load(open('credential_zec.json'))\n",
    "db1 = 'gemini'\n",
    "db2 = 'engine'\n",
    "db3 = 'wallet'\n",
    "port     = '55432'\n",
    "user1     = cred[db1]['username']\n",
    "password1 = cred[db1]['password']\n",
    "user2     = cred[db2]['username']\n",
    "password2 = cred[db2]['password']\n",
    "user3     = cred[db3]['username']\n",
    "password3 = cred[db3]['password']\n",
    "localhost = '127.0.0.1'\n",
    "\n",
    "conn_gem = psycopg2.connect(host=localhost,\n",
    "    port=port,\n",
    "    user=user1,\n",
    "    password=password1,\n",
    "    dbname=db1)\n",
    "\n",
    "conn_eng = psycopg2.connect(host=localhost,\n",
    "    port=port,\n",
    "    user=user2,\n",
    "    password=password2,\n",
    "    dbname=db2)\n",
    "\n",
    "conn_wal = psycopg2.connect(host=localhost,\n",
    "    port=port,\n",
    "    user=user3,\n",
    "    password=password3,\n",
    "    dbname=db3)\n",
    "\n",
    "def query(sql, c):\n",
    "    return pd.read_sql_query(sql, c)\n",
    "\n",
    "def query_file(sql_file, c):\n",
    "    with open(sql_file, \"r\") as f:\n",
    "        sql = f.read()\n",
    "    return query(sql, c)"
   ]
  },
  {
   "cell_type": "code",
   "execution_count": 2,
   "metadata": {},
   "outputs": [],
   "source": [
    "xfer_query = '''\n",
    "SELECT \n",
    "  transfer_event.account_id,\n",
    "  adm.user_or_account_name,\n",
    "  date(transfer_event.tx_time),\n",
    "  transfer_event.metadata::varchar,\n",
    "\ttransfer_event.amount  AS \"amount\",\n",
    "\tCOALESCE(SUM(CASE\n",
    "           WHEN transfer_event.currency  = 'USD'\n",
    "            THEN (transfer_event.amount )\n",
    "           ELSE (transfer_event.amount ) * (daily_conversion_rates.price)\n",
    "           END), 0) AS \"amount_measure_usd\"\n",
    "FROM public.transfer_event  AS transfer_event\n",
    "LEFT JOIN public.daily_conversion_rates  AS daily_conversion_rates ON (DATE(transfer_event.tx_time)) = (DATE(daily_conversion_rates.created )) and (CASE\n",
    "      WHEN transfer_event.metadata::JSON #>> '{payload,$type}' IN ('OberonDepositedV1', 'OberonWithdrawnV1') THEN 'GUSD'\n",
    "      ELSE transfer_event.currency\n",
    "      END\n",
    ") =  (CASE\n",
    "          WHEN right(cast(daily_conversion_rates.trading_pair as  varchar(10)),3) = 'USD'\n",
    "          THEN left(cast(daily_conversion_rates.trading_pair as  varchar(10)),3)\n",
    "          END)\n",
    "LEFT JOIN account_derived_metadata adm on adm.exchange_account_id = transfer_event.account_id\n",
    "WHERE date(tx_time) between '2019-07-01' and '2019-08-01' AND\n",
    "  currency = 'ZEC' AND\n",
    "  type = 'Deposit'\n",
    "GROUP BY 1,2,3,4,5\n",
    "ORDER BY 2 DESC\n",
    "'''"
   ]
  },
  {
   "cell_type": "code",
   "execution_count": 3,
   "metadata": {},
   "outputs": [],
   "source": [
    "xfers = query(xfer_query, conn_eng)"
   ]
  },
  {
   "cell_type": "code",
   "execution_count": 4,
   "metadata": {},
   "outputs": [],
   "source": [
    "accounts_list = (',').join([str(n) for n in xfers['account_id']])"
   ]
  },
  {
   "cell_type": "code",
   "execution_count": 10,
   "metadata": {},
   "outputs": [],
   "source": [
    "risk_query = '''\n",
    "\n",
    "WITH exchange_users AS (WITH distinct_account as (\n",
    "            SELECT\n",
    "                seu.id as distinct_exchange_user_id\n",
    "                ,min(coalesce(exchange_account_id, sea.id)) as exchange_account_id\n",
    "            FROM scrubbed_exchange_users seu\n",
    "            LEFT OUTER JOIN user_account_group_roles uagr\n",
    "              ON seu.id = uagr.exchange_user_id\n",
    "            LEFT OUTER JOIN account_group ag\n",
    "              ON ag.account_group_id = uagr.account_group_id\n",
    "            LEFT OUTER JOIN user_account_roles uar\n",
    "              ON seu.id = uar.exchange_user_id\n",
    "            LEFT OUTER JOIN scrubbed_exchange_accounts sea\n",
    "              ON sea.account_group_id = ag.account_group_id\n",
    "            GROUP BY 1\n",
    "            )\n",
    "\n",
    "      SELECT\n",
    "        seu.*\n",
    "        ,exchange_account_id\n",
    "      FROM scrubbed_exchange_users seu\n",
    "      INNER JOIN distinct_account da\n",
    "        ON seu.id = da.distinct_exchange_user_id\n",
    "    )\n",
    "        \n",
    "SELECT\n",
    "    exchange_account_id,\n",
    "    level\n",
    "FROM exchange_users\n",
    "WHERE exchange_account_id IN ({})\n",
    "'''.format(accounts_list)"
   ]
  },
  {
   "cell_type": "code",
   "execution_count": 11,
   "metadata": {},
   "outputs": [],
   "source": [
    "risks = query(risk_query, conn_gem)"
   ]
  },
  {
   "cell_type": "code",
   "execution_count": 12,
   "metadata": {},
   "outputs": [],
   "source": [
    "# tx_id = [json.loads(n)['reason']['outpoint']['txId'] for n in xfers.metadata]\n",
    "\n",
    "jsons = []\n",
    "\n",
    "for n in xfers.metadata:\n",
    "    try:\n",
    "        blob = json.loads(n)\n",
    "        jsons.append(blob['reason']['outpoint']['txId'])\n",
    "    except:\n",
    "        jsons.append(blob['payload']['txHash'])"
   ]
  },
  {
   "cell_type": "code",
   "execution_count": 13,
   "metadata": {},
   "outputs": [],
   "source": [
    "tx_ids_list = (', ').join(str(\"'\")+n+str(\"'\") for n in jsons)"
   ]
  },
  {
   "cell_type": "code",
   "execution_count": 14,
   "metadata": {},
   "outputs": [],
   "source": [
    "xfers['tx_id'] = jsons"
   ]
  },
  {
   "cell_type": "code",
   "execution_count": 15,
   "metadata": {},
   "outputs": [],
   "source": [
    "wallet_query = '''\n",
    "SELECT\n",
    "    tx_id,\n",
    "    is_shielded\n",
    "FROM nakamoto_relevants_zec\n",
    "WHERE tx_id IN ({})\n",
    "'''.format(tx_ids_list)"
   ]
  },
  {
   "cell_type": "code",
   "execution_count": 16,
   "metadata": {},
   "outputs": [],
   "source": [
    "shielded = query(wallet_query, conn_wal)"
   ]
  },
  {
   "cell_type": "code",
   "execution_count": 17,
   "metadata": {},
   "outputs": [
    {
     "data": {
      "text/html": [
       "<div>\n",
       "<style scoped>\n",
       "    .dataframe tbody tr th:only-of-type {\n",
       "        vertical-align: middle;\n",
       "    }\n",
       "\n",
       "    .dataframe tbody tr th {\n",
       "        vertical-align: top;\n",
       "    }\n",
       "\n",
       "    .dataframe thead th {\n",
       "        text-align: right;\n",
       "    }\n",
       "</style>\n",
       "<table border=\"1\" class=\"dataframe\">\n",
       "  <thead>\n",
       "    <tr style=\"text-align: right;\">\n",
       "      <th></th>\n",
       "      <th>account_id</th>\n",
       "      <th>user_or_account_name</th>\n",
       "      <th>date</th>\n",
       "      <th>metadata</th>\n",
       "      <th>amount</th>\n",
       "      <th>amount_measure_usd</th>\n",
       "      <th>tx_id</th>\n",
       "    </tr>\n",
       "  </thead>\n",
       "  <tbody>\n",
       "    <tr>\n",
       "      <th>0</th>\n",
       "      <td>492918</td>\n",
       "      <td>zia Abhari</td>\n",
       "      <td>2019-07-01</td>\n",
       "      <td>{\"advanceId\":7199341204,\"account\":492918,\"amou...</td>\n",
       "      <td>0.001</td>\n",
       "      <td>0.127</td>\n",
       "      <td>e7c5b8f6a7c2614a068aff9620ab562b57b67331b14ca5...</td>\n",
       "    </tr>\n",
       "    <tr>\n",
       "      <th>1</th>\n",
       "      <td>492918</td>\n",
       "      <td>zia Abhari</td>\n",
       "      <td>2019-07-02</td>\n",
       "      <td>{\"advanceId\":7220424450,\"account\":492918,\"amou...</td>\n",
       "      <td>0.001</td>\n",
       "      <td>0.133</td>\n",
       "      <td>ffd28ac06b603d4986871ead95266653a288c1b697e424...</td>\n",
       "    </tr>\n",
       "    <tr>\n",
       "      <th>2</th>\n",
       "      <td>492918</td>\n",
       "      <td>zia Abhari</td>\n",
       "      <td>2019-07-03</td>\n",
       "      <td>{\"advanceId\":7234184752,\"account\":492918,\"amou...</td>\n",
       "      <td>0.001</td>\n",
       "      <td>0.138</td>\n",
       "      <td>83c3160ffd6a113c2835051b1684064fd01562f572300f...</td>\n",
       "    </tr>\n",
       "    <tr>\n",
       "      <th>3</th>\n",
       "      <td>492918</td>\n",
       "      <td>zia Abhari</td>\n",
       "      <td>2019-07-04</td>\n",
       "      <td>{\"advanceId\":7251251058,\"account\":492918,\"amou...</td>\n",
       "      <td>0.001</td>\n",
       "      <td>0.142</td>\n",
       "      <td>e3d158fc1a65f60cc3c2f6497de6858ade982841451201...</td>\n",
       "    </tr>\n",
       "    <tr>\n",
       "      <th>4</th>\n",
       "      <td>492918</td>\n",
       "      <td>zia Abhari</td>\n",
       "      <td>2019-07-05</td>\n",
       "      <td>{\"advanceId\":7267359973,\"account\":492918,\"amou...</td>\n",
       "      <td>0.001</td>\n",
       "      <td>0.127</td>\n",
       "      <td>70a5d95f4511b09e23c96c015a11f09c343167cc454e3a...</td>\n",
       "    </tr>\n",
       "  </tbody>\n",
       "</table>\n",
       "</div>"
      ],
      "text/plain": [
       "   account_id user_or_account_name        date  \\\n",
       "0      492918           zia Abhari  2019-07-01   \n",
       "1      492918           zia Abhari  2019-07-02   \n",
       "2      492918           zia Abhari  2019-07-03   \n",
       "3      492918           zia Abhari  2019-07-04   \n",
       "4      492918           zia Abhari  2019-07-05   \n",
       "\n",
       "                                            metadata  amount  \\\n",
       "0  {\"advanceId\":7199341204,\"account\":492918,\"amou...   0.001   \n",
       "1  {\"advanceId\":7220424450,\"account\":492918,\"amou...   0.001   \n",
       "2  {\"advanceId\":7234184752,\"account\":492918,\"amou...   0.001   \n",
       "3  {\"advanceId\":7251251058,\"account\":492918,\"amou...   0.001   \n",
       "4  {\"advanceId\":7267359973,\"account\":492918,\"amou...   0.001   \n",
       "\n",
       "   amount_measure_usd                                              tx_id  \n",
       "0               0.127  e7c5b8f6a7c2614a068aff9620ab562b57b67331b14ca5...  \n",
       "1               0.133  ffd28ac06b603d4986871ead95266653a288c1b697e424...  \n",
       "2               0.138  83c3160ffd6a113c2835051b1684064fd01562f572300f...  \n",
       "3               0.142  e3d158fc1a65f60cc3c2f6497de6858ade982841451201...  \n",
       "4               0.127  70a5d95f4511b09e23c96c015a11f09c343167cc454e3a...  "
      ]
     },
     "execution_count": 17,
     "metadata": {},
     "output_type": "execute_result"
    },
    {
     "data": {
      "text/html": [
       "<div>\n",
       "<style scoped>\n",
       "    .dataframe tbody tr th:only-of-type {\n",
       "        vertical-align: middle;\n",
       "    }\n",
       "\n",
       "    .dataframe tbody tr th {\n",
       "        vertical-align: top;\n",
       "    }\n",
       "\n",
       "    .dataframe thead th {\n",
       "        text-align: right;\n",
       "    }\n",
       "</style>\n",
       "<table border=\"1\" class=\"dataframe\">\n",
       "  <thead>\n",
       "    <tr style=\"text-align: right;\">\n",
       "      <th></th>\n",
       "      <th>exchange_account_id</th>\n",
       "      <th>level</th>\n",
       "    </tr>\n",
       "  </thead>\n",
       "  <tbody>\n",
       "    <tr>\n",
       "      <th>0</th>\n",
       "      <td>889667</td>\n",
       "      <td>EnteringPersonalInfo</td>\n",
       "    </tr>\n",
       "    <tr>\n",
       "      <th>1</th>\n",
       "      <td>22440</td>\n",
       "      <td>EnteringPersonalInfo</td>\n",
       "    </tr>\n",
       "    <tr>\n",
       "      <th>2</th>\n",
       "      <td>240114</td>\n",
       "      <td>LowRisk</td>\n",
       "    </tr>\n",
       "    <tr>\n",
       "      <th>3</th>\n",
       "      <td>882605</td>\n",
       "      <td>HighRisk</td>\n",
       "    </tr>\n",
       "    <tr>\n",
       "      <th>4</th>\n",
       "      <td>444031</td>\n",
       "      <td>LowRisk</td>\n",
       "    </tr>\n",
       "  </tbody>\n",
       "</table>\n",
       "</div>"
      ],
      "text/plain": [
       "   exchange_account_id                 level\n",
       "0               889667  EnteringPersonalInfo\n",
       "1                22440  EnteringPersonalInfo\n",
       "2               240114               LowRisk\n",
       "3               882605              HighRisk\n",
       "4               444031               LowRisk"
      ]
     },
     "execution_count": 17,
     "metadata": {},
     "output_type": "execute_result"
    },
    {
     "data": {
      "text/html": [
       "<div>\n",
       "<style scoped>\n",
       "    .dataframe tbody tr th:only-of-type {\n",
       "        vertical-align: middle;\n",
       "    }\n",
       "\n",
       "    .dataframe tbody tr th {\n",
       "        vertical-align: top;\n",
       "    }\n",
       "\n",
       "    .dataframe thead th {\n",
       "        text-align: right;\n",
       "    }\n",
       "</style>\n",
       "<table border=\"1\" class=\"dataframe\">\n",
       "  <thead>\n",
       "    <tr style=\"text-align: right;\">\n",
       "      <th></th>\n",
       "      <th>tx_id</th>\n",
       "      <th>is_shielded</th>\n",
       "    </tr>\n",
       "  </thead>\n",
       "  <tbody>\n",
       "    <tr>\n",
       "      <th>0</th>\n",
       "      <td>819c31662bc444f7f23507da725d256056970c89ad2c4a...</td>\n",
       "      <td>False</td>\n",
       "    </tr>\n",
       "    <tr>\n",
       "      <th>1</th>\n",
       "      <td>c7e868cece179a8913aab2f22973dcd7250d3f571fdcc4...</td>\n",
       "      <td>False</td>\n",
       "    </tr>\n",
       "    <tr>\n",
       "      <th>2</th>\n",
       "      <td>b5cb8e326bec64bbd5d7c2ea05128b18fe3742bad4e7b4...</td>\n",
       "      <td>False</td>\n",
       "    </tr>\n",
       "    <tr>\n",
       "      <th>3</th>\n",
       "      <td>52600234053eb708239844b932eb8203aaad1960eb4f2d...</td>\n",
       "      <td>False</td>\n",
       "    </tr>\n",
       "    <tr>\n",
       "      <th>4</th>\n",
       "      <td>52600234053eb708239844b932eb8203aaad1960eb4f2d...</td>\n",
       "      <td>False</td>\n",
       "    </tr>\n",
       "  </tbody>\n",
       "</table>\n",
       "</div>"
      ],
      "text/plain": [
       "                                               tx_id  is_shielded\n",
       "0  819c31662bc444f7f23507da725d256056970c89ad2c4a...        False\n",
       "1  c7e868cece179a8913aab2f22973dcd7250d3f571fdcc4...        False\n",
       "2  b5cb8e326bec64bbd5d7c2ea05128b18fe3742bad4e7b4...        False\n",
       "3  52600234053eb708239844b932eb8203aaad1960eb4f2d...        False\n",
       "4  52600234053eb708239844b932eb8203aaad1960eb4f2d...        False"
      ]
     },
     "execution_count": 17,
     "metadata": {},
     "output_type": "execute_result"
    }
   ],
   "source": [
    "xfers.head()\n",
    "# names.head()\n",
    "risks.head()\n",
    "shielded.head()"
   ]
  },
  {
   "cell_type": "code",
   "execution_count": 18,
   "metadata": {},
   "outputs": [],
   "source": [
    "final_df = pd.merge(xfers, risks, how = 'left', left_on = 'account_id', right_on = 'exchange_account_id')\n",
    "final_df = pd.merge(final_df, shielded, how = 'left', left_on = 'tx_id', right_on = 'tx_id')"
   ]
  },
  {
   "cell_type": "code",
   "execution_count": 19,
   "metadata": {},
   "outputs": [
    {
     "data": {
      "text/html": [
       "<div>\n",
       "<style scoped>\n",
       "    .dataframe tbody tr th:only-of-type {\n",
       "        vertical-align: middle;\n",
       "    }\n",
       "\n",
       "    .dataframe tbody tr th {\n",
       "        vertical-align: top;\n",
       "    }\n",
       "\n",
       "    .dataframe thead th {\n",
       "        text-align: right;\n",
       "    }\n",
       "</style>\n",
       "<table border=\"1\" class=\"dataframe\">\n",
       "  <thead>\n",
       "    <tr style=\"text-align: right;\">\n",
       "      <th></th>\n",
       "      <th>account_id</th>\n",
       "      <th>user_or_account_name</th>\n",
       "      <th>date</th>\n",
       "      <th>metadata</th>\n",
       "      <th>amount</th>\n",
       "      <th>amount_measure_usd</th>\n",
       "      <th>tx_id</th>\n",
       "      <th>exchange_account_id</th>\n",
       "      <th>level</th>\n",
       "      <th>is_shielded</th>\n",
       "    </tr>\n",
       "  </thead>\n",
       "  <tbody>\n",
       "    <tr>\n",
       "      <th>0</th>\n",
       "      <td>492918</td>\n",
       "      <td>zia Abhari</td>\n",
       "      <td>2019-07-01</td>\n",
       "      <td>{\"advanceId\":7199341204,\"account\":492918,\"amou...</td>\n",
       "      <td>0.001</td>\n",
       "      <td>0.127</td>\n",
       "      <td>e7c5b8f6a7c2614a068aff9620ab562b57b67331b14ca5...</td>\n",
       "      <td>492918.000</td>\n",
       "      <td>HighRisk</td>\n",
       "      <td>False</td>\n",
       "    </tr>\n",
       "    <tr>\n",
       "      <th>1</th>\n",
       "      <td>492918</td>\n",
       "      <td>zia Abhari</td>\n",
       "      <td>2019-07-01</td>\n",
       "      <td>{\"advanceId\":7199341204,\"account\":492918,\"amou...</td>\n",
       "      <td>0.001</td>\n",
       "      <td>0.127</td>\n",
       "      <td>e7c5b8f6a7c2614a068aff9620ab562b57b67331b14ca5...</td>\n",
       "      <td>492918.000</td>\n",
       "      <td>HighRisk</td>\n",
       "      <td>False</td>\n",
       "    </tr>\n",
       "    <tr>\n",
       "      <th>2</th>\n",
       "      <td>492918</td>\n",
       "      <td>zia Abhari</td>\n",
       "      <td>2019-07-01</td>\n",
       "      <td>{\"advanceId\":7199341204,\"account\":492918,\"amou...</td>\n",
       "      <td>0.001</td>\n",
       "      <td>0.127</td>\n",
       "      <td>e7c5b8f6a7c2614a068aff9620ab562b57b67331b14ca5...</td>\n",
       "      <td>492918.000</td>\n",
       "      <td>HighRisk</td>\n",
       "      <td>False</td>\n",
       "    </tr>\n",
       "    <tr>\n",
       "      <th>3</th>\n",
       "      <td>492918</td>\n",
       "      <td>zia Abhari</td>\n",
       "      <td>2019-07-01</td>\n",
       "      <td>{\"advanceId\":7199341204,\"account\":492918,\"amou...</td>\n",
       "      <td>0.001</td>\n",
       "      <td>0.127</td>\n",
       "      <td>e7c5b8f6a7c2614a068aff9620ab562b57b67331b14ca5...</td>\n",
       "      <td>492918.000</td>\n",
       "      <td>HighRisk</td>\n",
       "      <td>False</td>\n",
       "    </tr>\n",
       "    <tr>\n",
       "      <th>4</th>\n",
       "      <td>492918</td>\n",
       "      <td>zia Abhari</td>\n",
       "      <td>2019-07-01</td>\n",
       "      <td>{\"advanceId\":7199341204,\"account\":492918,\"amou...</td>\n",
       "      <td>0.001</td>\n",
       "      <td>0.127</td>\n",
       "      <td>e7c5b8f6a7c2614a068aff9620ab562b57b67331b14ca5...</td>\n",
       "      <td>492918.000</td>\n",
       "      <td>HighRisk</td>\n",
       "      <td>False</td>\n",
       "    </tr>\n",
       "  </tbody>\n",
       "</table>\n",
       "</div>"
      ],
      "text/plain": [
       "   account_id user_or_account_name        date  \\\n",
       "0      492918           zia Abhari  2019-07-01   \n",
       "1      492918           zia Abhari  2019-07-01   \n",
       "2      492918           zia Abhari  2019-07-01   \n",
       "3      492918           zia Abhari  2019-07-01   \n",
       "4      492918           zia Abhari  2019-07-01   \n",
       "\n",
       "                                            metadata  amount  \\\n",
       "0  {\"advanceId\":7199341204,\"account\":492918,\"amou...   0.001   \n",
       "1  {\"advanceId\":7199341204,\"account\":492918,\"amou...   0.001   \n",
       "2  {\"advanceId\":7199341204,\"account\":492918,\"amou...   0.001   \n",
       "3  {\"advanceId\":7199341204,\"account\":492918,\"amou...   0.001   \n",
       "4  {\"advanceId\":7199341204,\"account\":492918,\"amou...   0.001   \n",
       "\n",
       "   amount_measure_usd                                              tx_id  \\\n",
       "0               0.127  e7c5b8f6a7c2614a068aff9620ab562b57b67331b14ca5...   \n",
       "1               0.127  e7c5b8f6a7c2614a068aff9620ab562b57b67331b14ca5...   \n",
       "2               0.127  e7c5b8f6a7c2614a068aff9620ab562b57b67331b14ca5...   \n",
       "3               0.127  e7c5b8f6a7c2614a068aff9620ab562b57b67331b14ca5...   \n",
       "4               0.127  e7c5b8f6a7c2614a068aff9620ab562b57b67331b14ca5...   \n",
       "\n",
       "   exchange_account_id     level  is_shielded  \n",
       "0           492918.000  HighRisk        False  \n",
       "1           492918.000  HighRisk        False  \n",
       "2           492918.000  HighRisk        False  \n",
       "3           492918.000  HighRisk        False  \n",
       "4           492918.000  HighRisk        False  "
      ]
     },
     "execution_count": 19,
     "metadata": {},
     "output_type": "execute_result"
    }
   ],
   "source": [
    "final_df.head()"
   ]
  },
  {
   "cell_type": "code",
   "execution_count": 20,
   "metadata": {},
   "outputs": [],
   "source": [
    "final_df = final_df[final_df['is_shielded'] == True]"
   ]
  },
  {
   "cell_type": "code",
   "execution_count": 21,
   "metadata": {},
   "outputs": [
    {
     "data": {
      "text/plain": [
       "(230, 10)"
      ]
     },
     "execution_count": 21,
     "metadata": {},
     "output_type": "execute_result"
    }
   ],
   "source": [
    "final_df.shape"
   ]
  },
  {
   "cell_type": "code",
   "execution_count": 22,
   "metadata": {},
   "outputs": [
    {
     "data": {
      "text/plain": [
       "account_id\n",
       "25059       25304.037\n",
       "47085        1273.488\n",
       "223785        456.478\n",
       "247006         37.263\n",
       "372147          5.466\n",
       "409546        318.862\n",
       "839955       5355.000\n",
       "846275        610.822\n",
       "851658      29468.646\n",
       "855525          3.022\n",
       "859243          1.597\n",
       "882605        515.212\n",
       "890287    1882109.407\n",
       "901792       1951.500\n",
       "908364          2.360\n",
       "960608       2396.667\n",
       "1289590    123761.541\n",
       "Name: amount_measure_usd, dtype: float64"
      ]
     },
     "execution_count": 22,
     "metadata": {},
     "output_type": "execute_result"
    }
   ],
   "source": [
    "final_df.groupby('account_id')['amount_measure_usd'].sum()"
   ]
  },
  {
   "cell_type": "code",
   "execution_count": 23,
   "metadata": {},
   "outputs": [],
   "source": [
    "account_sums = final_df.groupby('account_id')['amount_measure_usd'].sum()"
   ]
  },
  {
   "cell_type": "code",
   "execution_count": 24,
   "metadata": {},
   "outputs": [],
   "source": [
    "greater_than_10k = account_sums[account_sums.values > 10000].index"
   ]
  },
  {
   "cell_type": "code",
   "execution_count": 25,
   "metadata": {},
   "outputs": [
    {
     "data": {
      "text/plain": [
       "Int64Index([25059, 851658, 890287, 1289590], dtype='int64', name='account_id')"
      ]
     },
     "execution_count": 25,
     "metadata": {},
     "output_type": "execute_result"
    }
   ],
   "source": [
    "greater_than_10k"
   ]
  },
  {
   "cell_type": "code",
   "execution_count": 26,
   "metadata": {},
   "outputs": [],
   "source": [
    "final_df = final_df[final_df['account_id'].isin(greater_than_10k)]"
   ]
  },
  {
   "cell_type": "code",
   "execution_count": 27,
   "metadata": {},
   "outputs": [
    {
     "data": {
      "text/plain": [
       "Index(['account_id', 'user_or_account_name', 'date', 'metadata', 'amount',\n",
       "       'amount_measure_usd', 'tx_id', 'exchange_account_id', 'level',\n",
       "       'is_shielded'],\n",
       "      dtype='object')"
      ]
     },
     "execution_count": 27,
     "metadata": {},
     "output_type": "execute_result"
    }
   ],
   "source": [
    "final_df.columns"
   ]
  },
  {
   "cell_type": "code",
   "execution_count": 28,
   "metadata": {},
   "outputs": [],
   "source": [
    "final_df = final_df.drop(columns = ['metadata', 'tx_id', 'exchange_account_id', 'is_shielded'])"
   ]
  },
  {
   "cell_type": "code",
   "execution_count": 29,
   "metadata": {},
   "outputs": [],
   "source": [
    "final_df.to_csv('unshielded_zec_txs.csv', index = False)"
   ]
  },
  {
   "cell_type": "code",
   "execution_count": null,
   "metadata": {},
   "outputs": [],
   "source": []
  }
 ],
 "metadata": {
  "kernelspec": {
   "display_name": "Python 3",
   "language": "python",
   "name": "python3"
  },
  "language_info": {
   "codemirror_mode": {
    "name": "ipython",
    "version": 3
   },
   "file_extension": ".py",
   "mimetype": "text/x-python",
   "name": "python",
   "nbconvert_exporter": "python",
   "pygments_lexer": "ipython3",
   "version": "3.7.0"
  }
 },
 "nbformat": 4,
 "nbformat_minor": 2
}
