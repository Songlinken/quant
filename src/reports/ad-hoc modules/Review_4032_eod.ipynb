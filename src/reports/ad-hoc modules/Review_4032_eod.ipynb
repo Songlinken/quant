{
 "cells": [
  {
   "cell_type": "markdown",
   "metadata": {},
   "source": [
    "### Spoofing Case Grouping"
   ]
  },
  {
   "cell_type": "code",
   "execution_count": 1,
   "metadata": {},
   "outputs": [
    {
     "name": "stderr",
     "output_type": "stream",
     "text": [
      "/Users/sqian/.pyenv/versions/3.7.0/envs/env_370/lib/python3.7/site-packages/psycopg2/__init__.py:144: UserWarning: The psycopg2 wheel package will be renamed from release 2.8; in order to keep installing from binary please use \"pip install psycopg2-binary\" instead. For details see: <http://initd.org/psycopg/docs/install.html#binary-install-from-pypi>.\n",
      "  \"\"\")\n"
     ]
    }
   ],
   "source": [
    "import os; os.chdir('/Users/sqian/MKTSRV')\n",
    "import pandas as pd; pd.set_option('mode.chained_assignment',None) \n",
    "import numpy as np\n",
    "import datetime\n",
    "import matplotlib.pyplot as plt\n",
    "import matplotlib.mlab as mlab\n",
    "import math\n",
    "import re\n",
    "import xlrd\n",
    "from xlsxwriter.utility import xl_rowcol_to_cell\n",
    "\n",
    "from src.data_models.smartshelper import metrics, fixType, unSMART, cparty\n",
    "from src.data_models.SmartsDataModel import SmartsDataModel"
   ]
  },
  {
   "cell_type": "markdown",
   "metadata": {},
   "source": [
    "#### 0) Data Prep"
   ]
  },
  {
   "cell_type": "code",
   "execution_count": 2,
   "metadata": {},
   "outputs": [
    {
     "name": "stdout",
     "output_type": "stream",
     "text": [
      "-> type fixed, kept 307 rows, 48 columns\n"
     ]
    }
   ],
   "source": [
    "rawalerts = unSMART(pd.read_excel('~/Documents/datafldr/smarts1_2019JanFeb.xlsx'))"
   ]
  },
  {
   "cell_type": "markdown",
   "metadata": {},
   "source": [
    "#### 1) Variables"
   ]
  },
  {
   "cell_type": "code",
   "execution_count": 3,
   "metadata": {},
   "outputs": [
    {
     "data": {
      "text/plain": [
       "month  ShortText               \n",
       "1      MULTI ORDER SPOOFING        19\n",
       "       MULTI ORDER SPOOFING EOD    30\n",
       "2      MULTI ORDER SPOOFING        13\n",
       "       MULTI ORDER SPOOFING EOD    27\n",
       "Name: AlertID, dtype: int64"
      ]
     },
     "execution_count": 3,
     "metadata": {},
     "output_type": "execute_result"
    }
   ],
   "source": [
    "newdf = rawalerts.loc[rawalerts['AlertCode'] == 4032].reset_index(drop=True)\n",
    "newdf['AccountID'] = newdf['AccountIDCode'].astype(int)\n",
    "\n",
    "newdf.groupby([newdf['Datetime'].dt.month.rename('month'),'ShortText']).count()['AlertID']"
   ]
  },
  {
   "cell_type": "code",
   "execution_count": 4,
   "metadata": {},
   "outputs": [
    {
     "name": "stdout",
     "output_type": "stream",
     "text": [
      "AccountID             22440  355845  Total\n",
      "month InstrumentName                      \n",
      "1     BTCUSD             25       1     26\n",
      "      ETHUSD              0       4      4\n",
      "2     BTCUSD             20      10     30\n",
      "      ETHUSD              0      31     31\n",
      "MULTI ORDER SPOOFING: Broker 355845 has been involved in a suspected spoofing activity on security BTCUSD. Spoofing sell orders: Entry to spoofing candidate : 04:54:03.035 Deleted : 04:54:04.042 Volume x0.976 Price 3980.47000 Entry to spoofing candidate : 04:54:04.042 Deleted : 04:54:04.565 Volume x0.886 Price 3980.36000 Entry to spoofing candidate : 04:54:04.565 Deleted : 04:54:05.527 Volume x0.838 Price 3979.73000 Entry to spoofing candidate : 04:54:05.527 Deleted : 04:54:05.550 Volume x0.919 Price 3979.28000 Entry to spoofing candidate : 04:54:05.550 Deleted : 04:54:07.317 Volume x0.602 Price 3979.23000 Entry to spoofing candidate : 04:54:07.292 Deleted : 04:54:07.317 Volume x7.499 Price 3978.29000 Entry to spoofing candidate : 04:54:07.318 Deleted : 04:54:07.459 Volume x1.7 Price 3977.52000 Entry to spoofing candidate : 04:54:07.459 Deleted : 04:54:07.574 Volume x0.774 Price 3977.42000 Entry to spoofing candidate : 04:54:07.575 Deleted : 04:54:07.658 Volume x0.977 Price 3976.62000 Entry to spoofing candidate : 04:54:07.658 Deleted : 04:54:07.854 Volume x0.71 Price 3972.63000 Entry to spoofing candidate : 04:54:08.175 Deleted : 04:54:08.198 Volume x1.033 Price 3972.47000  Genuine buy order : Entered : 04:54:07.586 Volume x0.633.The genuine order traded at 04:54:08.463. The ratio of genuine order volume x0.633 to maximum spoofing order volume x8.101 is 12.797788. The best price before entry of the spoofing order(s) was $3980.50000 the trade price achieved after spoofing is $3971.05000 which is a price advantage of 9.45000.The potential gain for this spoofing event is 6. The potential gain for all spoofing events up to the present point in time today for this participant/security pair is 6. \n",
      "\n",
      "\n"
     ]
    }
   ],
   "source": [
    "newdf2 = newdf.loc[newdf['ShortText'] == 'MULTI ORDER SPOOFING'].reset_index(drop=True)\n",
    "\n",
    "newdf2.groupby([newdf2['Datetime'].dt.month.rename('month'),'AccountID','InstrumentName']).count()['AlertID']\n",
    "\n",
    "df_acc_pair = pd.pivot_table(newdf2, values='AlertID', index=['month','InstrumentName'], columns=['AccountID'], aggfunc=np.sum).fillna(value=0).astype(int)\n",
    "df_acc_pair['Total'] = df_acc_pair.sum(axis=1)\n",
    "\n",
    "print(df_acc_pair)\n",
    "for i in range(1,2): print(newdf2.loc[i,'LongText'],'\\n\\n')"
   ]
  },
  {
   "cell_type": "code",
   "execution_count": 5,
   "metadata": {},
   "outputs": [
    {
     "data": {
      "text/html": [
       "<div>\n",
       "<style scoped>\n",
       "    .dataframe tbody tr th:only-of-type {\n",
       "        vertical-align: middle;\n",
       "    }\n",
       "\n",
       "    .dataframe tbody tr th {\n",
       "        vertical-align: top;\n",
       "    }\n",
       "\n",
       "    .dataframe thead th {\n",
       "        text-align: right;\n",
       "    }\n",
       "</style>\n",
       "<table border=\"1\" class=\"dataframe\">\n",
       "  <thead>\n",
       "    <tr style=\"text-align: right;\">\n",
       "      <th></th>\n",
       "      <th>Datetime</th>\n",
       "      <th>acc</th>\n",
       "      <th>security</th>\n",
       "      <th>spoofs</th>\n",
       "      <th>timeGenuine</th>\n",
       "      <th>volGenuine</th>\n",
       "      <th>volmaxSpoof</th>\n",
       "      <th>ratio</th>\n",
       "      <th>price0</th>\n",
       "      <th>price1</th>\n",
       "      <th>cumulative</th>\n",
       "      <th>countspoofs</th>\n",
       "    </tr>\n",
       "  </thead>\n",
       "  <tbody>\n",
       "    <tr>\n",
       "      <th>0</th>\n",
       "      <td>2019-01-01 18:19:05</td>\n",
       "      <td>22440</td>\n",
       "      <td>BTCUSD</td>\n",
       "      <td>[(18:18:59.239, 18:18:59.688, 0.5, 3748.16000)...</td>\n",
       "      <td>18:19:03.668</td>\n",
       "      <td>0.683733</td>\n",
       "      <td>10.662674</td>\n",
       "      <td>15.594795</td>\n",
       "      <td>3748.00000</td>\n",
       "      <td>3756.29000</td>\n",
       "      <td>54</td>\n",
       "      <td>12</td>\n",
       "    </tr>\n",
       "    <tr>\n",
       "      <th>1</th>\n",
       "      <td>2019-01-07 04:54:10</td>\n",
       "      <td>355845</td>\n",
       "      <td>BTCUSD</td>\n",
       "      <td>[(04:54:03.035, 04:54:04.042, 0.976, 3980.4700...</td>\n",
       "      <td>04:54:08.463</td>\n",
       "      <td>0.633</td>\n",
       "      <td>8.101</td>\n",
       "      <td>12.797788</td>\n",
       "      <td>3980.50000</td>\n",
       "      <td>3971.05000</td>\n",
       "      <td>6</td>\n",
       "      <td>11</td>\n",
       "    </tr>\n",
       "    <tr>\n",
       "      <th>2</th>\n",
       "      <td>2019-01-10 11:09:41</td>\n",
       "      <td>22440</td>\n",
       "      <td>BTCUSD</td>\n",
       "      <td>[(11:09:37.607, 11:09:39.441, 0.581234, 3705.0...</td>\n",
       "      <td>11:09:39.876</td>\n",
       "      <td>0.5</td>\n",
       "      <td>15.245758</td>\n",
       "      <td>30.491516</td>\n",
       "      <td>3705.02000</td>\n",
       "      <td>3691.09000</td>\n",
       "      <td>14</td>\n",
       "      <td>11</td>\n",
       "    </tr>\n",
       "    <tr>\n",
       "      <th>3</th>\n",
       "      <td>2019-01-11 09:03:33</td>\n",
       "      <td>355845</td>\n",
       "      <td>ETHUSD</td>\n",
       "      <td>[(09:03:26.307, 09:03:29.878, 64.052, 125.5100...</td>\n",
       "      <td>09:03:31.537</td>\n",
       "      <td>12.655</td>\n",
       "      <td>159.613</td>\n",
       "      <td>12.612643</td>\n",
       "      <td>125.54000</td>\n",
       "      <td>124.89000</td>\n",
       "      <td>8</td>\n",
       "      <td>15</td>\n",
       "    </tr>\n",
       "    <tr>\n",
       "      <th>4</th>\n",
       "      <td>2019-01-11 18:36:49</td>\n",
       "      <td>22440</td>\n",
       "      <td>BTCUSD</td>\n",
       "      <td>[(18:36:42.458, 18:36:43.273, 0.194258, 3601.4...</td>\n",
       "      <td>18:36:47.667</td>\n",
       "      <td>0.5</td>\n",
       "      <td>7.347763</td>\n",
       "      <td>14.695525</td>\n",
       "      <td>3601.49000</td>\n",
       "      <td>3615.72000</td>\n",
       "      <td>21</td>\n",
       "      <td>15</td>\n",
       "    </tr>\n",
       "  </tbody>\n",
       "</table>\n",
       "</div>"
      ],
      "text/plain": [
       "             Datetime     acc security  \\\n",
       "0 2019-01-01 18:19:05   22440   BTCUSD   \n",
       "1 2019-01-07 04:54:10  355845   BTCUSD   \n",
       "2 2019-01-10 11:09:41   22440   BTCUSD   \n",
       "3 2019-01-11 09:03:33  355845   ETHUSD   \n",
       "4 2019-01-11 18:36:49   22440   BTCUSD   \n",
       "\n",
       "                                              spoofs   timeGenuine volGenuine  \\\n",
       "0  [(18:18:59.239, 18:18:59.688, 0.5, 3748.16000)...  18:19:03.668   0.683733   \n",
       "1  [(04:54:03.035, 04:54:04.042, 0.976, 3980.4700...  04:54:08.463      0.633   \n",
       "2  [(11:09:37.607, 11:09:39.441, 0.581234, 3705.0...  11:09:39.876        0.5   \n",
       "3  [(09:03:26.307, 09:03:29.878, 64.052, 125.5100...  09:03:31.537     12.655   \n",
       "4  [(18:36:42.458, 18:36:43.273, 0.194258, 3601.4...  18:36:47.667        0.5   \n",
       "\n",
       "  volmaxSpoof      ratio      price0      price1 cumulative  countspoofs  \n",
       "0   10.662674  15.594795  3748.00000  3756.29000         54           12  \n",
       "1       8.101  12.797788  3980.50000  3971.05000          6           11  \n",
       "2   15.245758  30.491516  3705.02000  3691.09000         14           11  \n",
       "3     159.613  12.612643   125.54000   124.89000          8           15  \n",
       "4    7.347763  14.695525  3601.49000  3615.72000         21           15  "
      ]
     },
     "execution_count": 5,
     "metadata": {},
     "output_type": "execute_result"
    }
   ],
   "source": [
    "regex4032 = '\\D+(\\d+)\\D+([A-Z]{6})\\D+orders:\\s(.+).+Genuine.+traded\\D+([\\d:]+\\.\\d+)\\D+ratio\\D+([\\d.,]+)\\D+([\\d.,]+)\\D+([\\d.,]+)\\.\\D+([\\d.,]+)\\D+([\\d.,]+)\\D+[\\d.,]+\\.\\D+[\\d.,]+\\.\\D+([\\d,]+)\\.'\n",
    "name4032 = {0:'acc', 1:'security', 2:'spoofs', 3:'timeGenuine', 4:'volGenuine', 5:'volmaxSpoof', 6:'ratio', 7:'price0', 8:'price1', 9:'cumulative'}\n",
    "regex4032_spoof = 'Entry\\D+([\\d.:]+)\\sDeleted\\D+([\\d.:]+)\\D+([\\d.,]+)\\D+([\\d.,]+)\\s'\n",
    "\n",
    "expanded = newdf2['LongText'].str.extract(regex4032, expand=True).rename(columns=name4032)\n",
    "expanded['spoofs'] = expanded['spoofs'].str.findall(regex4032_spoof)\n",
    "expanded['countspoofs'] = expanded['spoofs'].apply(len)\n",
    "\n",
    "newdf3 = pd.concat([newdf2['Datetime'],expanded],axis=1)\n",
    "newdf3.head()"
   ]
  },
  {
   "cell_type": "markdown",
   "metadata": {},
   "source": [
    "#### 2) Plotted Events over Time"
   ]
  },
  {
   "cell_type": "code",
   "execution_count": 6,
   "metadata": {},
   "outputs": [
    {
     "data": {
      "image/png": "[encoded data removed]",
      "text/plain": [
       "<Figure size 1080x288 with 1 Axes>"
      ]
     },
     "metadata": {
      "needs_background": "light"
     },
     "output_type": "display_data"
    }
   ],
   "source": [
    "base = datetime.date(2019,1,1)\n",
    "date_list = [base + datetime.timedelta(days=x) for x in range(0, 60-1)]\n",
    "datePD = pd.DataFrame(date_list).set_index(0)\n",
    "\n",
    "data = pd.DataFrame(newdf3['Datetime'].dt.date.value_counts())\n",
    "tester = pd.concat([datePD,data['Datetime']],axis=1,sort=True).reset_index(drop=False)\n",
    "tester['index2'] = pd.to_datetime(tester['index'])\n",
    "tester = tester.fillna(value=0)\n",
    "\n",
    "plt.rcParams['figure.figsize'] = (15,4)\n",
    "\n",
    "plt.plot_date(x=tester['index2'], y=tester['Datetime'], fmt=\"go-\",xdate=True)\n",
    "plt.title((\"Triggered Spoofing Alets: Jan - Feb 2019\"))\n",
    "plt.ylabel(\"Number of Alerts\")\n",
    "plt.grid(True)\n",
    "\n",
    "plt.show()"
   ]
  },
  {
   "cell_type": "markdown",
   "metadata": {},
   "source": [
    "#### 3) Accounts Involved & The Worst"
   ]
  },
  {
   "cell_type": "code",
   "execution_count": 7,
   "metadata": {},
   "outputs": [
    {
     "name": "stdout",
     "output_type": "stream",
     "text": [
      "Number of Accounts involved: 2\n",
      "\n",
      "Wash Sales Metrics: \n",
      "         count    %\n",
      "22440      24  75%\n",
      "355845      8  25%\n"
     ]
    }
   ],
   "source": [
    "\n",
    "washMetrics = metrics(newdf3['acc'])\n",
    "\n",
    "print('Number of Accounts involved:', washMetrics.index.size)\n",
    "print('\\nWash Sales Metrics: \\n', washMetrics)"
   ]
  },
  {
   "cell_type": "code",
   "execution_count": 8,
   "metadata": {},
   "outputs": [
    {
     "name": "stdout",
     "output_type": "stream",
     "text": [
      "Accounts Making up >= 15%: ['22440', '355845']\n",
      "Other Accounts: []\n"
     ]
    }
   ],
   "source": [
    "percentageAlerts = 15\n",
    "\n",
    "worstacc = washMetrics.loc[washMetrics['%'].str.replace('%','').astype(float) >= percentageAlerts,'%'].index.tolist()\n",
    "# worstacc = [22440,202474]\n",
    "\n",
    "allacc = washMetrics.loc[washMetrics['%'].str.replace('%','').astype(float) < percentageAlerts,'%'].index.tolist()\n",
    "print('Accounts Making up >= ',(percentageAlerts),'%: ',worstacc,sep='')\n",
    "print('Other Accounts: ', allacc,sep='')"
   ]
  },
  {
   "cell_type": "markdown",
   "metadata": {},
   "source": [
    "#### 9) Aggregate Metrics (Account Level)"
   ]
  },
  {
   "cell_type": "code",
   "execution_count": 11,
   "metadata": {},
   "outputs": [
    {
     "data": {
      "text/html": [
       "<div>\n",
       "<style scoped>\n",
       "    .dataframe tbody tr th:only-of-type {\n",
       "        vertical-align: middle;\n",
       "    }\n",
       "\n",
       "    .dataframe tbody tr th {\n",
       "        vertical-align: top;\n",
       "    }\n",
       "\n",
       "    .dataframe thead th {\n",
       "        text-align: right;\n",
       "    }\n",
       "</style>\n",
       "<table border=\"1\" class=\"dataframe\">\n",
       "  <thead>\n",
       "    <tr style=\"text-align: right;\">\n",
       "      <th></th>\n",
       "      <th>Datetime</th>\n",
       "      <th>acc</th>\n",
       "      <th>security</th>\n",
       "      <th>spoofs</th>\n",
       "      <th>timeGenuine</th>\n",
       "      <th>volGenuine</th>\n",
       "      <th>volmaxSpoof</th>\n",
       "      <th>ratio</th>\n",
       "      <th>price0</th>\n",
       "      <th>price1</th>\n",
       "      <th>cumulative</th>\n",
       "      <th>countspoofs</th>\n",
       "    </tr>\n",
       "  </thead>\n",
       "  <tbody>\n",
       "    <tr>\n",
       "      <th>0</th>\n",
       "      <td>2019-01-01 18:19:05</td>\n",
       "      <td>22440.0</td>\n",
       "      <td>BTCUSD</td>\n",
       "      <td>[(18:18:59.239, 18:18:59.688, 0.5, 3748.16000)...</td>\n",
       "      <td>18:19:03.668</td>\n",
       "      <td>0.683733</td>\n",
       "      <td>10.662674</td>\n",
       "      <td>15.594795</td>\n",
       "      <td>3748.00</td>\n",
       "      <td>3756.29</td>\n",
       "      <td>54.0</td>\n",
       "      <td>12.0</td>\n",
       "    </tr>\n",
       "    <tr>\n",
       "      <th>1</th>\n",
       "      <td>2019-01-07 04:54:10</td>\n",
       "      <td>355845.0</td>\n",
       "      <td>BTCUSD</td>\n",
       "      <td>[(04:54:03.035, 04:54:04.042, 0.976, 3980.4700...</td>\n",
       "      <td>04:54:08.463</td>\n",
       "      <td>0.633000</td>\n",
       "      <td>8.101000</td>\n",
       "      <td>12.797788</td>\n",
       "      <td>3980.50</td>\n",
       "      <td>3971.05</td>\n",
       "      <td>6.0</td>\n",
       "      <td>11.0</td>\n",
       "    </tr>\n",
       "    <tr>\n",
       "      <th>2</th>\n",
       "      <td>2019-01-10 11:09:41</td>\n",
       "      <td>22440.0</td>\n",
       "      <td>BTCUSD</td>\n",
       "      <td>[(11:09:37.607, 11:09:39.441, 0.581234, 3705.0...</td>\n",
       "      <td>11:09:39.876</td>\n",
       "      <td>0.500000</td>\n",
       "      <td>15.245758</td>\n",
       "      <td>30.491516</td>\n",
       "      <td>3705.02</td>\n",
       "      <td>3691.09</td>\n",
       "      <td>14.0</td>\n",
       "      <td>11.0</td>\n",
       "    </tr>\n",
       "    <tr>\n",
       "      <th>3</th>\n",
       "      <td>2019-01-11 09:03:33</td>\n",
       "      <td>355845.0</td>\n",
       "      <td>ETHUSD</td>\n",
       "      <td>[(09:03:26.307, 09:03:29.878, 64.052, 125.5100...</td>\n",
       "      <td>09:03:31.537</td>\n",
       "      <td>12.655000</td>\n",
       "      <td>159.613000</td>\n",
       "      <td>12.612643</td>\n",
       "      <td>125.54</td>\n",
       "      <td>124.89</td>\n",
       "      <td>8.0</td>\n",
       "      <td>15.0</td>\n",
       "    </tr>\n",
       "    <tr>\n",
       "      <th>4</th>\n",
       "      <td>2019-01-11 18:36:49</td>\n",
       "      <td>22440.0</td>\n",
       "      <td>BTCUSD</td>\n",
       "      <td>[(18:36:42.458, 18:36:43.273, 0.194258, 3601.4...</td>\n",
       "      <td>18:36:47.667</td>\n",
       "      <td>0.500000</td>\n",
       "      <td>7.347763</td>\n",
       "      <td>14.695525</td>\n",
       "      <td>3601.49</td>\n",
       "      <td>3615.72</td>\n",
       "      <td>21.0</td>\n",
       "      <td>15.0</td>\n",
       "    </tr>\n",
       "  </tbody>\n",
       "</table>\n",
       "</div>"
      ],
      "text/plain": [
       "             Datetime       acc security  \\\n",
       "0 2019-01-01 18:19:05   22440.0   BTCUSD   \n",
       "1 2019-01-07 04:54:10  355845.0   BTCUSD   \n",
       "2 2019-01-10 11:09:41   22440.0   BTCUSD   \n",
       "3 2019-01-11 09:03:33  355845.0   ETHUSD   \n",
       "4 2019-01-11 18:36:49   22440.0   BTCUSD   \n",
       "\n",
       "                                              spoofs   timeGenuine  \\\n",
       "0  [(18:18:59.239, 18:18:59.688, 0.5, 3748.16000)...  18:19:03.668   \n",
       "1  [(04:54:03.035, 04:54:04.042, 0.976, 3980.4700...  04:54:08.463   \n",
       "2  [(11:09:37.607, 11:09:39.441, 0.581234, 3705.0...  11:09:39.876   \n",
       "3  [(09:03:26.307, 09:03:29.878, 64.052, 125.5100...  09:03:31.537   \n",
       "4  [(18:36:42.458, 18:36:43.273, 0.194258, 3601.4...  18:36:47.667   \n",
       "\n",
       "   volGenuine  volmaxSpoof      ratio   price0   price1  cumulative  \\\n",
       "0    0.683733    10.662674  15.594795  3748.00  3756.29        54.0   \n",
       "1    0.633000     8.101000  12.797788  3980.50  3971.05         6.0   \n",
       "2    0.500000    15.245758  30.491516  3705.02  3691.09        14.0   \n",
       "3   12.655000   159.613000  12.612643   125.54   124.89         8.0   \n",
       "4    0.500000     7.347763  14.695525  3601.49  3615.72        21.0   \n",
       "\n",
       "   countspoofs  \n",
       "0         12.0  \n",
       "1         11.0  \n",
       "2         11.0  \n",
       "3         15.0  \n",
       "4         15.0  "
      ]
     },
     "execution_count": 11,
     "metadata": {},
     "output_type": "execute_result"
    }
   ],
   "source": [
    "newdf4 = fixType(newdf3.loc[newdf3['acc'] != '0'])\n",
    "newdf4.head()"
   ]
  },
  {
   "cell_type": "code",
   "execution_count": 20,
   "metadata": {},
   "outputs": [
    {
     "data": {
      "text/html": [
       "<div>\n",
       "<style scoped>\n",
       "    .dataframe tbody tr th:only-of-type {\n",
       "        vertical-align: middle;\n",
       "    }\n",
       "\n",
       "    .dataframe tbody tr th {\n",
       "        vertical-align: top;\n",
       "    }\n",
       "\n",
       "    .dataframe thead th {\n",
       "        text-align: right;\n",
       "    }\n",
       "</style>\n",
       "<table border=\"1\" class=\"dataframe\">\n",
       "  <thead>\n",
       "    <tr style=\"text-align: right;\">\n",
       "      <th></th>\n",
       "      <th>volGenuine</th>\n",
       "      <th>volmaxSpoof</th>\n",
       "      <th>cumulative</th>\n",
       "      <th>countspoofs</th>\n",
       "      <th>ratio</th>\n",
       "      <th>security</th>\n",
       "    </tr>\n",
       "    <tr>\n",
       "      <th>acc</th>\n",
       "      <th></th>\n",
       "      <th></th>\n",
       "      <th></th>\n",
       "      <th></th>\n",
       "      <th></th>\n",
       "      <th></th>\n",
       "    </tr>\n",
       "  </thead>\n",
       "  <tbody>\n",
       "    <tr>\n",
       "      <th>22440.0</th>\n",
       "      <td>20.279007</td>\n",
       "      <td>362.872194</td>\n",
       "      <td>1528.0</td>\n",
       "      <td>1252.0</td>\n",
       "      <td>17.573390</td>\n",
       "      <td>24</td>\n",
       "    </tr>\n",
       "    <tr>\n",
       "      <th>355845.0</th>\n",
       "      <td>74.542000</td>\n",
       "      <td>829.592000</td>\n",
       "      <td>99.0</td>\n",
       "      <td>107.0</td>\n",
       "      <td>11.495829</td>\n",
       "      <td>8</td>\n",
       "    </tr>\n",
       "  </tbody>\n",
       "</table>\n",
       "</div>"
      ],
      "text/plain": [
       "          volGenuine  volmaxSpoof  cumulative  countspoofs      ratio  \\\n",
       "acc                                                                     \n",
       "22440.0    20.279007   362.872194      1528.0       1252.0  17.573390   \n",
       "355845.0   74.542000   829.592000        99.0        107.0  11.495829   \n",
       "\n",
       "          security  \n",
       "acc                 \n",
       "22440.0         24  \n",
       "355845.0         8  "
      ]
     },
     "execution_count": 20,
     "metadata": {},
     "output_type": "execute_result"
    }
   ],
   "source": [
    "newdf4_sum = newdf4.groupby('acc').sum().drop(columns=['ratio','price0','price1'])\n",
    "newdf4_mean = newdf4.groupby('acc').mean()['ratio']\n",
    "newdf4_count = newdf4.groupby('acc').count()['security']\n",
    "\n",
    "newdf5 = pd.concat([newdf4_sum,newdf4_mean,newdf4_count],join='outer',axis=1)\n",
    "newdf5"
   ]
  },
  {
   "cell_type": "markdown",
   "metadata": {},
   "source": [
    "#### 8) Aggregate Metrics (Pair Level)"
   ]
  },
  {
   "cell_type": "code",
   "execution_count": null,
   "metadata": {},
   "outputs": [],
   "source": [
    "# alerts2Metrics = pd.concat([metrics(output['pair']),output.groupby('pair').sum().astype(int)[['passPOV','TV']].sort_values('TV',ascending=False)],axis=1,sort=False)\n",
    "\n",
    "# alerts2Metrics['TV'] = alerts2Metrics['TV']\n",
    "\n",
    "# print(alerts2Metrics.shape)\n",
    "# alerts2Metrics"
   ]
  }
 ],
 "metadata": {
  "kernelspec": {
   "display_name": "Python 3",
   "language": "python",
   "name": "python3"
  },
  "language_info": {
   "codemirror_mode": {
    "name": "ipython",
    "version": 3
   },
   "file_extension": ".py",
   "mimetype": "text/x-python",
   "name": "python",
   "nbconvert_exporter": "python",
   "pygments_lexer": "ipython3",
   "version": "3.7.0"
  }
 },
 "nbformat": 4,
 "nbformat_minor": 2
}
