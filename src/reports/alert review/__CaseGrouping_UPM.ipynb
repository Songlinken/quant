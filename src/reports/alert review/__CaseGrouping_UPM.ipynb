{
 "cells": [
  {
   "cell_type": "code",
   "execution_count": 3,
   "metadata": {},
   "outputs": [
    {
     "name": "stderr",
     "output_type": "stream",
     "text": [
      "/Users/sqian/.pyenv/versions/3.7.0/envs/env_370/lib/python3.7/site-packages/psycopg2/__init__.py:144: UserWarning: The psycopg2 wheel package will be renamed from release 2.8; in order to keep installing from binary please use \"pip install psycopg2-binary\" instead. For details see: <http://initd.org/psycopg/docs/install.html#binary-install-from-pypi>.\n",
      "  \"\"\")\n"
     ]
    }
   ],
   "source": [
    "import os; os.chdir('/Users/sqian/MKTSRV')\n",
    "import pandas as pd; pd.set_option('mode.chained_assignment',None)\n",
    "import numpy as np\n",
    "import datetime\n",
    "import matplotlib.pyplot as plt\n",
    "import matplotlib.mlab as mlab\n",
    "import math\n",
    "import datetime\n",
    "import matplotlib as mpl\n",
    "from matplotlib import pyplot as plt\n",
    "import numpy\n",
    "import re\n",
    "import xlrd\n",
    "from datetime import date\n",
    "from xlsxwriter.utility import xl_rowcol_to_cell\n",
    "from random import sample\n",
    "from math import log10, floor\n",
    "from src.data_models.smartshelper import metrics, fixNum, unSMART, cparty, littleQA, totalUP\n",
    "from src.data_models.SmartsDataModel import SmartsDataModel\n",
    "from src.utility.DataModelUtility import execute_query_data_frame"
   ]
  },
  {
   "cell_type": "code",
   "execution_count": 4,
   "metadata": {},
   "outputs": [],
   "source": [
    "alerting_1 = datetime.date(2019,3,1)\n",
    "alerting_2 = datetime.date(2019,4,30)\n",
    "acc = 97280"
   ]
  },
  {
   "cell_type": "code",
   "execution_count": 7,
   "metadata": {},
   "outputs": [
    {
     "name": "stdout",
     "output_type": "stream",
     "text": [
      "ssh_connect 0:00:00.791046\n"
     ]
    },
    {
     "data": {
      "text/html": [
       "<div>\n",
       "<style scoped>\n",
       "    .dataframe tbody tr th:only-of-type {\n",
       "        vertical-align: middle;\n",
       "    }\n",
       "\n",
       "    .dataframe tbody tr th {\n",
       "        vertical-align: top;\n",
       "    }\n",
       "\n",
       "    .dataframe thead th {\n",
       "        text-align: right;\n",
       "    }\n",
       "</style>\n",
       "<table border=\"1\" class=\"dataframe\">\n",
       "  <thead>\n",
       "    <tr style=\"text-align: right;\">\n",
       "      <th></th>\n",
       "      <th>0</th>\n",
       "    </tr>\n",
       "  </thead>\n",
       "  <tbody>\n",
       "    <tr>\n",
       "      <th>exchange_account_id</th>\n",
       "      <td>811415</td>\n",
       "    </tr>\n",
       "    <tr>\n",
       "      <th>user_or_account_name</th>\n",
       "      <td>HRTJ Limited</td>\n",
       "    </tr>\n",
       "    <tr>\n",
       "      <th>name_source</th>\n",
       "      <td>Account Name</td>\n",
       "    </tr>\n",
       "    <tr>\n",
       "      <th>country_code</th>\n",
       "      <td>ky</td>\n",
       "    </tr>\n",
       "    <tr>\n",
       "      <th>state_code</th>\n",
       "      <td>None</td>\n",
       "    </tr>\n",
       "    <tr>\n",
       "      <th>is_institutional</th>\n",
       "      <td>True</td>\n",
       "    </tr>\n",
       "    <tr>\n",
       "      <th>first_verified_at</th>\n",
       "      <td>2018-03-07 19:01:35.812000</td>\n",
       "    </tr>\n",
       "    <tr>\n",
       "      <th>is_active</th>\n",
       "      <td>True</td>\n",
       "    </tr>\n",
       "    <tr>\n",
       "      <th>last_modified</th>\n",
       "      <td>2018-10-03 21:12:56.561000</td>\n",
       "    </tr>\n",
       "    <tr>\n",
       "      <th>account_group_id</th>\n",
       "      <td>NaN</td>\n",
       "    </tr>\n",
       "  </tbody>\n",
       "</table>\n",
       "</div>"
      ],
      "text/plain": [
       "                                               0\n",
       "exchange_account_id                       811415\n",
       "user_or_account_name                HRTJ Limited\n",
       "name_source                         Account Name\n",
       "country_code                                  ky\n",
       "state_code                                  None\n",
       "is_institutional                            True\n",
       "first_verified_at     2018-03-07 19:01:35.812000\n",
       "is_active                                   True\n",
       "last_modified         2018-10-03 21:12:56.561000\n",
       "account_group_id                             NaN"
      ]
     },
     "execution_count": 7,
     "metadata": {},
     "output_type": "execute_result"
    }
   ],
   "source": [
    "query = \"\"\"\n",
    "        SELECT *\n",
    "        from account_derived_metadata\n",
    "        where exchange_account_id in ({})\n",
    "        \"\"\".format(acc)\n",
    "\n",
    "test = execute_query_data_frame(query,'engine')\n",
    "test.transpose()"
   ]
  },
  {
   "cell_type": "code",
   "execution_count": 8,
   "metadata": {},
   "outputs": [
    {
     "name": "stdout",
     "output_type": "stream",
     "text": [
      "ssh_connect 0:00:00.803397\n"
     ]
    },
    {
     "data": {
      "text/html": [
       "<div>\n",
       "<style scoped>\n",
       "    .dataframe tbody tr th:only-of-type {\n",
       "        vertical-align: middle;\n",
       "    }\n",
       "\n",
       "    .dataframe tbody tr th {\n",
       "        vertical-align: top;\n",
       "    }\n",
       "\n",
       "    .dataframe thead th {\n",
       "        text-align: right;\n",
       "    }\n",
       "</style>\n",
       "<table border=\"1\" class=\"dataframe\">\n",
       "  <thead>\n",
       "    <tr style=\"text-align: right;\">\n",
       "      <th>side</th>\n",
       "      <th>buy</th>\n",
       "      <th>sell</th>\n",
       "    </tr>\n",
       "    <tr>\n",
       "      <th>trading_pair</th>\n",
       "      <th></th>\n",
       "      <th></th>\n",
       "    </tr>\n",
       "  </thead>\n",
       "  <tbody>\n",
       "    <tr>\n",
       "      <th>BTCUSD</th>\n",
       "      <td>14110.662419</td>\n",
       "      <td>14133.426449</td>\n",
       "    </tr>\n",
       "    <tr>\n",
       "      <th>ETHBTC</th>\n",
       "      <td>18031.537063</td>\n",
       "      <td>17781.537233</td>\n",
       "    </tr>\n",
       "    <tr>\n",
       "      <th>ETHUSD</th>\n",
       "      <td>103157.480882</td>\n",
       "      <td>102932.807274</td>\n",
       "    </tr>\n",
       "  </tbody>\n",
       "</table>\n",
       "</div>"
      ],
      "text/plain": [
       "side                    buy           sell\n",
       "trading_pair                              \n",
       "BTCUSD         14110.662419   14133.426449\n",
       "ETHBTC         18031.537063   17781.537233\n",
       "ETHUSD        103157.480882  102932.807274"
      ]
     },
     "execution_count": 8,
     "metadata": {},
     "output_type": "execute_result"
    }
   ],
   "source": [
    "query = \"\"\"\n",
    "        SELECT *\n",
    "        from order_fill_event\n",
    "        where account_id in ({}) and created::date between '2019-01-01' and '2019-04-04'\n",
    "        \"\"\".format(acc)\n",
    "test = execute_query_data_frame(query,'engine')\n",
    "test2 = pd.pivot(test.groupby(['account_id','trading_pair','side']).sum()['quantity'].reset_index(), index='trading_pair', columns='side',values='quantity'); test2"
   ]
  },
  {
   "cell_type": "code",
   "execution_count": 9,
   "metadata": {},
   "outputs": [],
   "source": [
    "query3 = \"\"\" \n",
    "        SELECT account_id, trading_pair, firsttable.side, sum(firsttable.price * COALESCE(secondtable.open_price,1) * quantity) as val, sum(quantity) as units\n",
    "        \n",
    "        from  \n",
    "            (SELECT account_id, event_id, side, price, quantity, trading_pair, date_trunc('minute', created) start_time, substring(trading_pair::varchar,4,6) as trunc\n",
    "            from order_fill_event \n",
    "            where created::date between '{t1}' and '{t2}' and account_id in ({x})) as firsttable\n",
    "        left join \n",
    "            (SELECT substring(trading_pair::varchar,1,3) as truncmatch, start_time, open_price\n",
    "            from candles_1m \n",
    "            where start_time::date between '{t1}' and '{t2}' and substring(trading_pair::varchar,4,6) = 'USD') as secondtable\n",
    "        \n",
    "        on firsttable.trunc = secondtable.truncmatch and firsttable.start_time = secondtable.start_time\n",
    "\n",
    "        group by firsttable.trading_pair, firsttable.side, account_id;\n",
    "        \"\"\".format(t1 = alerting_1.strftime(\"%Y%m%d\"), t2 = alerting_2.strftime(\"%Y%m%d\"), x=acc)"
   ]
  },
  {
   "cell_type": "code",
   "execution_count": 38,
   "metadata": {},
   "outputs": [
    {
     "name": "stderr",
     "output_type": "stream",
     "text": [
      "INFO:paramiko.transport:Connected (version 2.0, client OpenSSH_7.4p1)\n",
      "INFO:paramiko.transport:Authentication (publickey) successful!\n"
     ]
    },
    {
     "name": "stdout",
     "output_type": "stream",
     "text": [
      "ssh_connect 0:00:00.719842\n"
     ]
    },
    {
     "name": "stderr",
     "output_type": "stream",
     "text": [
      "INFO:root:Loaded dataframe with 18 rows in 0:00:03.575946.\n"
     ]
    },
    {
     "data": {
      "text/html": [
       "<div>\n",
       "<style scoped>\n",
       "    .dataframe tbody tr th:only-of-type {\n",
       "        vertical-align: middle;\n",
       "    }\n",
       "\n",
       "    .dataframe tbody tr th {\n",
       "        vertical-align: top;\n",
       "    }\n",
       "\n",
       "    .dataframe thead th {\n",
       "        text-align: right;\n",
       "    }\n",
       "</style>\n",
       "<table border=\"1\" class=\"dataframe\">\n",
       "  <thead>\n",
       "    <tr style=\"text-align: right;\">\n",
       "      <th>side</th>\n",
       "      <th>buy</th>\n",
       "      <th>sell</th>\n",
       "      <th>net</th>\n",
       "    </tr>\n",
       "  </thead>\n",
       "  <tbody>\n",
       "    <tr>\n",
       "      <th>ZECBTC</th>\n",
       "      <td>661049</td>\n",
       "      <td>576713</td>\n",
       "      <td>-84336</td>\n",
       "    </tr>\n",
       "    <tr>\n",
       "      <th>LTCBTC</th>\n",
       "      <td>713122</td>\n",
       "      <td>749856</td>\n",
       "      <td>36734</td>\n",
       "    </tr>\n",
       "    <tr>\n",
       "      <th>ETHBTC</th>\n",
       "      <td>1380426</td>\n",
       "      <td>1036528</td>\n",
       "      <td>-343897</td>\n",
       "    </tr>\n",
       "    <tr>\n",
       "      <th>BCHBTC</th>\n",
       "      <td>1714891</td>\n",
       "      <td>1600834</td>\n",
       "      <td>-114057</td>\n",
       "    </tr>\n",
       "    <tr>\n",
       "      <th>ZECUSD</th>\n",
       "      <td>1928784</td>\n",
       "      <td>1962964</td>\n",
       "      <td>34179</td>\n",
       "    </tr>\n",
       "    <tr>\n",
       "      <th>BCHUSD</th>\n",
       "      <td>5407557</td>\n",
       "      <td>5503341</td>\n",
       "      <td>95783</td>\n",
       "    </tr>\n",
       "    <tr>\n",
       "      <th>LTCUSD</th>\n",
       "      <td>8967901</td>\n",
       "      <td>8991877</td>\n",
       "      <td>23975</td>\n",
       "    </tr>\n",
       "    <tr>\n",
       "      <th>ETHUSD</th>\n",
       "      <td>13827897</td>\n",
       "      <td>14242645</td>\n",
       "      <td>414747</td>\n",
       "    </tr>\n",
       "    <tr>\n",
       "      <th>BTCUSD</th>\n",
       "      <td>35251129</td>\n",
       "      <td>34909442</td>\n",
       "      <td>-341687</td>\n",
       "    </tr>\n",
       "    <tr>\n",
       "      <th>TOTAL</th>\n",
       "      <td>69852759</td>\n",
       "      <td>69574202</td>\n",
       "      <td>-278556</td>\n",
       "    </tr>\n",
       "  </tbody>\n",
       "</table>\n",
       "</div>"
      ],
      "text/plain": [
       "side         buy      sell     net\n",
       "ZECBTC    661049    576713  -84336\n",
       "LTCBTC    713122    749856   36734\n",
       "ETHBTC   1380426   1036528 -343897\n",
       "BCHBTC   1714891   1600834 -114057\n",
       "ZECUSD   1928784   1962964   34179\n",
       "BCHUSD   5407557   5503341   95783\n",
       "LTCUSD   8967901   8991877   23975\n",
       "ETHUSD  13827897  14242645  414747\n",
       "BTCUSD  35251129  34909442 -341687\n",
       "TOTAL   69852759  69574202 -278556"
      ]
     },
     "execution_count": 38,
     "metadata": {},
     "output_type": "execute_result"
    }
   ],
   "source": [
    "output3_D = execute_query_data_frame(query3,'engine'); output3_D\n",
    "output3 = pd.pivot_table(output3_D, values='val', index=['trading_pair'], columns=['side'], aggfunc=np.sum)\n",
    "output3['net'] = output3['sell'] - output3['buy']\n",
    "output3a = output3.sort_values('sell')\n",
    "pd.concat([output3a,pd.DataFrame(output3a.sum(axis=0)).rename(columns={0:'TOTAL'}).transpose()], axis=0).astype(int)"
   ]
  },
  {
   "cell_type": "code",
   "execution_count": null,
   "metadata": {},
   "outputs": [],
   "source": []
  }
 ],
 "metadata": {
  "kernelspec": {
   "display_name": "Python 3",
   "language": "python",
   "name": "python3"
  },
  "language_info": {
   "codemirror_mode": {
    "name": "ipython",
    "version": 3
   },
   "file_extension": ".py",
   "mimetype": "text/x-python",
   "name": "python",
   "nbconvert_exporter": "python",
   "pygments_lexer": "ipython3",
   "version": "3.7.0"
  }
 },
 "nbformat": 4,
 "nbformat_minor": 2
}
