{
 "cells": [
  {
   "cell_type": "code",
   "execution_count": 1,
   "metadata": {},
   "outputs": [
    {
     "name": "stderr",
     "output_type": "stream",
     "text": [
      "/Users/sqian/.pyenv/versions/3.7.0/envs/env_370/lib/python3.7/site-packages/psycopg2/__init__.py:144: UserWarning: The psycopg2 wheel package will be renamed from release 2.8; in order to keep installing from binary please use \"pip install psycopg2-binary\" instead. For details see: <http://initd.org/psycopg/docs/install.html#binary-install-from-pypi>.\n",
      "  \"\"\")\n"
     ]
    },
    {
     "data": {
      "text/html": [
       "        <script type=\"text/javascript\">\n",
       "        window.PlotlyConfig = {MathJaxConfig: 'local'};\n",
       "        if (window.MathJax) {MathJax.Hub.Config({SVG: {font: \"STIX-Web\"}});}\n",
       "        if (typeof require !== 'undefined') {\n",
       "        require.undef(\"plotly\");\n",
       "        requirejs.config({\n",
       "            paths: {\n",
       "                'plotly': ['https://cdn.plot.ly/plotly-latest.min']\n",
       "            }\n",
       "        });\n",
       "        require(['plotly'], function(Plotly) {\n",
       "            window._Plotly = Plotly;\n",
       "        });\n",
       "        }\n",
       "        </script>\n",
       "        "
      ]
     },
     "metadata": {},
     "output_type": "display_data"
    }
   ],
   "source": [
    "import os; os.chdir('/Users/sqian/MKTSRV')\n",
    "import pandas as pd; pd.set_option('mode.chained_assignment',None)\n",
    "import numpy as np\n",
    "import datetime\n",
    "import matplotlib.pyplot as plt\n",
    "import matplotlib.mlab as mlab\n",
    "import math\n",
    "import datetime\n",
    "import time\n",
    "import matplotlib as mpl\n",
    "import re\n",
    "import xlrd\n",
    "from datetime import date\n",
    "from xlsxwriter.utility import xl_rowcol_to_cell\n",
    "from random import sample\n",
    "from math import log10, floor\n",
    "from src.data_models.smartshelper import metrics, fixNum, unSMART, cparty, littleQA, totalUP\n",
    "from src.data_models.SmartsDataModel import SmartsDataModel\n",
    "from src.utility.DataModelUtility import execute_query_data_frame\n",
    "from src.utility.GeneralUtility import date_range, random_string, timer\n",
    "from src.alert_analysis.SpoofingAnalysis import get_place_rank_of_order\n",
    "from src.data_models.DailyBestPricesSplitByAccountDataModel import DailyBestPricesSplitByAccountDataModel"
   ]
  },
  {
   "cell_type": "markdown",
   "metadata": {},
   "source": [
    "#### (0) SET parameters of analysis"
   ]
  },
  {
   "cell_type": "code",
   "execution_count": 2,
   "metadata": {},
   "outputs": [],
   "source": [
    "evaluation_date = datetime.date(2019,7,1)\n",
    "start_date = datetime.date(2019,7,1)\n",
    "period = (evaluation_date - start_date).days + 1\n",
    "datelist = pd.date_range(start_date, periods=period).astype(str).str.replace('-','').tolist()\n",
    "instrument = 'BTCUSD'"
   ]
  },
  {
   "cell_type": "markdown",
   "metadata": {},
   "source": [
    "#### >>> IMPORT raw source data"
   ]
  },
  {
   "cell_type": "code",
   "execution_count": 119,
   "metadata": {},
   "outputs": [],
   "source": [
    "# base_data_set = SmartsDataModel().initialize(evaluation_date=evaluation_date, start_date = start_date, other_condition=\"symbol = '{}'\".format(instrument)).evaluate()\n",
    "# base_data_set['date_time'] = pd.to_datetime(base_data_set['event_date'].astype('str') + ' ' + base_data_set['event_time'].astype(str)) + base_data_set['event_millis']\n",
    "# base_data_set.to_pickle('~/Documents/base_data_set.pkl')\n",
    "# base_data_set = pd.read_pickle('~/Documents/base_data_set.pkl')"
   ]
  },
  {
   "cell_type": "markdown",
   "metadata": {},
   "source": [
    "#### >>> IMPORT ranked data"
   ]
  },
  {
   "cell_type": "code",
   "execution_count": 4,
   "metadata": {},
   "outputs": [],
   "source": [
    "# for i in datelist:\n",
    "#     print(i)\n",
    "#     best_prices = DailyBestPricesSplitByAccountDataModel().initialize(evaluation_date=i, other_condition=\"symbol = '{}'\".format(instrument)).evaluate()\n",
    "#     best_prices.to_pickle('~/Documents/i_rankeddata.pkl')\n",
    "#     best_prices = pd.read_pickle('~/Documents/i_rankeddata.pkl')"
   ]
  },
  {
   "cell_type": "markdown",
   "metadata": {},
   "source": [
    "#### >>> JOIN together"
   ]
  },
  {
   "cell_type": "code",
   "execution_count": 5,
   "metadata": {},
   "outputs": [],
   "source": [
    "# result = base_data_set.merge(best_prices.drop(columns=['event_date', 'symbol', 'side', 'date_time']), how='left', on=['account_id', 'event_id', 'event_type'])"
   ]
  },
  {
   "cell_type": "markdown",
   "metadata": {},
   "source": [
    "#### >>> COMPUTE rank"
   ]
  },
  {
   "cell_type": "code",
   "execution_count": 6,
   "metadata": {},
   "outputs": [],
   "source": [
    "# abc = datetime.datetime.now()\n",
    "# test = get_place_rank_of_order(result,10)\n",
    "# print(datetime.datetime.now()- abc)"
   ]
  },
  {
   "cell_type": "markdown",
   "metadata": {},
   "source": [
    "#### (1) START HERE by reading in saved ranked data"
   ]
  },
  {
   "cell_type": "code",
   "execution_count": 124,
   "metadata": {},
   "outputs": [],
   "source": [
    "# test.to_pickle('~/Documents/ranked.pkl')\n",
    "test0 = pd.read_pickle('~/Documents/ranked.pkl')"
   ]
  },
  {
   "cell_type": "code",
   "execution_count": 125,
   "metadata": {},
   "outputs": [
    {
     "data": {
      "text/plain": [
       "side\n",
       "buy     842616\n",
       "sell    863819\n",
       "Name: account_id, dtype: int64"
      ]
     },
     "execution_count": 125,
     "metadata": {},
     "output_type": "execute_result"
    }
   ],
   "source": [
    "test0.groupby('side').count()['account_id']"
   ]
  },
  {
   "cell_type": "code",
   "execution_count": 127,
   "metadata": {},
   "outputs": [
    {
     "data": {
      "text/plain": [
       "(842616, 68)"
      ]
     },
     "execution_count": 127,
     "metadata": {},
     "output_type": "execute_result"
    }
   ],
   "source": [
    "test = test0.loc[test0['side'] == 'buy']\n",
    "test.shape"
   ]
  },
  {
   "cell_type": "markdown",
   "metadata": {},
   "source": [
    "#### (2) DROP unnecessary columns"
   ]
  },
  {
   "cell_type": "code",
   "execution_count": 8,
   "metadata": {},
   "outputs": [],
   "source": [
    "cols = ['best_price_' + str(s+1) for s in range(0,10)] + ['best_account_volume_' + str(s+1) for s in range(0,10)]\n",
    "test2 = test.drop(columns=(cols + [s + '_other_side' for s in cols]))"
   ]
  },
  {
   "cell_type": "markdown",
   "metadata": {},
   "source": [
    "#### (3) FIX rank formats"
   ]
  },
  {
   "cell_type": "code",
   "execution_count": 128,
   "metadata": {},
   "outputs": [],
   "source": [
    "def fix(rank):\n",
    "    if rank == '':\n",
    "        return(np.NaN)\n",
    "    elif rank == '> 10': \n",
    "        return(11) \n",
    "    elif len(rank) == 0: return(np.NaN) \n",
    "    else: return(rank)\n",
    "\n",
    "test2['place_rank_int'] = test2['place_rank'].str.replace('Rank ','').apply(fix).astype(float)\n",
    "test2['fill_rank_int'] = test2['fill_rank'].str.replace('Rank ','').apply(fix).astype(float)\n",
    "test2['cancel_rank_int'] = test2['cancel_rank'].str.replace('Rank ','').apply(fix).astype(float)"
   ]
  },
  {
   "cell_type": "markdown",
   "metadata": {},
   "source": [
    "#### (4) VERIFY that ranks are the same over side, order_id and event_type ['side' was already filtered for]"
   ]
  },
  {
   "cell_type": "code",
   "execution_count": 129,
   "metadata": {},
   "outputs": [],
   "source": [
    "# test2.groupby(['place_rank_int', 'place_rank']).count()['account_id']\n",
    "# test2.groupby(['fill_rank_int', 'fill_rank']).count()['account_id']\n",
    "# test2.groupby(['cancel_rank_int', 'cancel_rank']).count()['account_id']"
   ]
  },
  {
   "cell_type": "code",
   "execution_count": 150,
   "metadata": {},
   "outputs": [],
   "source": [
    "test2gb = test2.groupby(['account_id','order_id'])"
   ]
  },
  {
   "cell_type": "code",
   "execution_count": 151,
   "metadata": {},
   "outputs": [
    {
     "data": {
      "text/plain": [
       "placerank_min    0\n",
       "placerank_max    0\n",
       "dtype: int64"
      ]
     },
     "execution_count": 151,
     "metadata": {},
     "output_type": "execute_result"
    }
   ],
   "source": [
    "test2gb_place = pd.concat([test2gb['place_rank_int'].min(),test2gb['place_rank_int'].max()], axis=1)\n",
    "test2gb_place.columns =['placerank_min','placerank_max']\n",
    "test2gb_place.loc[test2gb_place['placerank_min'] != test2gb_place['placerank_max']].count()"
   ]
  },
  {
   "cell_type": "code",
   "execution_count": 152,
   "metadata": {},
   "outputs": [
    {
     "data": {
      "text/plain": [
       "fillrank_min    1134\n",
       "fillrank_max    1134\n",
       "dtype: int64"
      ]
     },
     "execution_count": 152,
     "metadata": {},
     "output_type": "execute_result"
    }
   ],
   "source": [
    "test2gb_fill = pd.concat([test2gb['fill_rank_int'].min(),test2gb['fill_rank_int'].max()], axis=1)\n",
    "test2gb_fill.columns =['fillrank_min','fillrank_max']\n",
    "test2gb_fill.loc[(test2gb_fill['fillrank_min'] != test2gb_fill['fillrank_max']) & (test2gb_fill['fillrank_min'] > 0)].count()"
   ]
  },
  {
   "cell_type": "code",
   "execution_count": 153,
   "metadata": {},
   "outputs": [
    {
     "data": {
      "text/plain": [
       "cancelrank_min    0\n",
       "cancelrank_max    0\n",
       "dtype: int64"
      ]
     },
     "execution_count": 153,
     "metadata": {},
     "output_type": "execute_result"
    }
   ],
   "source": [
    "test2gb_cancel = pd.concat([test2gb['cancel_rank_int'].min(),test2gb['cancel_rank_int'].max()], axis=1)\n",
    "test2gb_cancel.columns =['cancelrank_min','cancelrank_max']\n",
    "test2gb_cancel.loc[(test2gb_cancel['cancelrank_min'] != test2gb_cancel['cancelrank_max']) & (test2gb_cancel['cancelrank_min'] > 0)].count()"
   ]
  },
  {
   "cell_type": "markdown",
   "metadata": {},
   "source": [
    "#### (5) MERGE place, fill, and cancel ranks by order_id"
   ]
  },
  {
   "cell_type": "code",
   "execution_count": 154,
   "metadata": {},
   "outputs": [
    {
     "data": {
      "text/plain": [
       "place_rank_int     851955\n",
       "fillrank_min        17081\n",
       "fillrank_max        17081\n",
       "cancel_rank_int    831209\n",
       "dtype: int64"
      ]
     },
     "execution_count": 154,
     "metadata": {},
     "output_type": "execute_result"
    }
   ],
   "source": [
    "combo = pd.concat([test2gb['place_rank_int'].mean(),test2gb_fill, test2gb['cancel_rank_int'].mean()], axis=1)\n",
    "(~combo.isna()).sum()"
   ]
  },
  {
   "cell_type": "markdown",
   "metadata": {},
   "source": [
    "#### (6) COMPUTE rank change after fill/cancel"
   ]
  },
  {
   "cell_type": "code",
   "execution_count": 176,
   "metadata": {},
   "outputs": [],
   "source": [
    "combo['change_fill'] = combo['fillrank_min'] - combo['place_rank_int']\n",
    "combo['change_cancel'] = combo['cancel_rank_int'] - combo['place_rank_int']\n",
    "combogb = combo.reset_index().groupby('account_id')[['change_fill', 'change_cancel']]\n",
    "combo1 = pd.concat([round(combogb.mean().add_suffix('_mean'),1), combogb.count().add_suffix('_count')], axis=1).sort_values('change_cancel_count', ascending=False)"
   ]
  },
  {
   "cell_type": "markdown",
   "metadata": {},
   "source": [
    "#### (7) TRUNCATE zeros to see meaningful changes in rank"
   ]
  },
  {
   "cell_type": "code",
   "execution_count": 184,
   "metadata": {},
   "outputs": [],
   "source": [
    "combo2_fill = combo1.loc[combo1['change_fill_mean'] != 0,'change_fill_mean']\n",
    "combo2_cancel = combo1.loc[combo1['change_cancel_mean'] != 0,'change_cancel_mean']"
   ]
  },
  {
   "cell_type": "code",
   "execution_count": 185,
   "metadata": {},
   "outputs": [
    {
     "data": {
      "text/plain": [
       "<matplotlib.axes._subplots.AxesSubplot at 0x1ee28b550>"
      ]
     },
     "execution_count": 185,
     "metadata": {},
     "output_type": "execute_result"
    },
    {
     "data": {
      "image/png": "[encoded data removed]",
      "text/plain": [
       "<Figure size 432x288 with 1 Axes>"
      ]
     },
     "metadata": {
      "needs_background": "light"
     },
     "output_type": "display_data"
    }
   ],
   "source": [
    "combo2_fill.hist(bins=30)"
   ]
  },
  {
   "cell_type": "code",
   "execution_count": 186,
   "metadata": {},
   "outputs": [
    {
     "data": {
      "text/plain": [
       "<matplotlib.axes._subplots.AxesSubplot at 0x124fc67b8>"
      ]
     },
     "execution_count": 186,
     "metadata": {},
     "output_type": "execute_result"
    },
    {
     "data": {
      "image/png": "[encoded data removed]",
      "text/plain": [
       "<Figure size 432x288 with 1 Axes>"
      ]
     },
     "metadata": {
      "needs_background": "light"
     },
     "output_type": "display_data"
    }
   ],
   "source": [
    "combo2_cancel.hist(bins=30)"
   ]
  },
  {
   "cell_type": "markdown",
   "metadata": {},
   "source": [
    "#### (8) IDENTIFY accounts most likely to run from spread"
   ]
  },
  {
   "cell_type": "code",
   "execution_count": 193,
   "metadata": {},
   "outputs": [
    {
     "data": {
      "text/html": [
       "<div>\n",
       "<style scoped>\n",
       "    .dataframe tbody tr th:only-of-type {\n",
       "        vertical-align: middle;\n",
       "    }\n",
       "\n",
       "    .dataframe tbody tr th {\n",
       "        vertical-align: top;\n",
       "    }\n",
       "\n",
       "    .dataframe thead th {\n",
       "        text-align: right;\n",
       "    }\n",
       "</style>\n",
       "<table border=\"1\" class=\"dataframe\">\n",
       "  <thead>\n",
       "    <tr style=\"text-align: right;\">\n",
       "      <th></th>\n",
       "      <th>change_fill_mean</th>\n",
       "      <th>change_cancel_mean</th>\n",
       "      <th>change_fill_count</th>\n",
       "      <th>change_cancel_count</th>\n",
       "    </tr>\n",
       "    <tr>\n",
       "      <th>account_id</th>\n",
       "      <th></th>\n",
       "      <th></th>\n",
       "      <th></th>\n",
       "      <th></th>\n",
       "    </tr>\n",
       "  </thead>\n",
       "  <tbody>\n",
       "    <tr>\n",
       "      <th>67352</th>\n",
       "      <td>0.0</td>\n",
       "      <td>-10.0</td>\n",
       "      <td>1</td>\n",
       "      <td>1</td>\n",
       "    </tr>\n",
       "    <tr>\n",
       "      <th>556574</th>\n",
       "      <td>0.0</td>\n",
       "      <td>-10.0</td>\n",
       "      <td>4</td>\n",
       "      <td>1</td>\n",
       "    </tr>\n",
       "    <tr>\n",
       "      <th>996225</th>\n",
       "      <td>-9.0</td>\n",
       "      <td>-8.0</td>\n",
       "      <td>1</td>\n",
       "      <td>1</td>\n",
       "    </tr>\n",
       "    <tr>\n",
       "      <th>816693</th>\n",
       "      <td>-10.0</td>\n",
       "      <td>-7.0</td>\n",
       "      <td>3</td>\n",
       "      <td>1</td>\n",
       "    </tr>\n",
       "    <tr>\n",
       "      <th>207472</th>\n",
       "      <td>0.0</td>\n",
       "      <td>-7.0</td>\n",
       "      <td>1</td>\n",
       "      <td>1</td>\n",
       "    </tr>\n",
       "    <tr>\n",
       "      <th>521234</th>\n",
       "      <td>-10.0</td>\n",
       "      <td>-4.3</td>\n",
       "      <td>3</td>\n",
       "      <td>3</td>\n",
       "    </tr>\n",
       "    <tr>\n",
       "      <th>225613</th>\n",
       "      <td>-1.5</td>\n",
       "      <td>-4.0</td>\n",
       "      <td>21</td>\n",
       "      <td>1</td>\n",
       "    </tr>\n",
       "    <tr>\n",
       "      <th>350642</th>\n",
       "      <td>-2.0</td>\n",
       "      <td>-4.0</td>\n",
       "      <td>5</td>\n",
       "      <td>2</td>\n",
       "    </tr>\n",
       "    <tr>\n",
       "      <th>253956</th>\n",
       "      <td>NaN</td>\n",
       "      <td>-3.5</td>\n",
       "      <td>0</td>\n",
       "      <td>2</td>\n",
       "    </tr>\n",
       "    <tr>\n",
       "      <th>869472</th>\n",
       "      <td>-2.5</td>\n",
       "      <td>-3.5</td>\n",
       "      <td>4</td>\n",
       "      <td>2</td>\n",
       "    </tr>\n",
       "  </tbody>\n",
       "</table>\n",
       "</div>"
      ],
      "text/plain": [
       "            change_fill_mean  change_cancel_mean  change_fill_count  \\\n",
       "account_id                                                            \n",
       "67352                    0.0               -10.0                  1   \n",
       "556574                   0.0               -10.0                  4   \n",
       "996225                  -9.0                -8.0                  1   \n",
       "816693                 -10.0                -7.0                  3   \n",
       "207472                   0.0                -7.0                  1   \n",
       "521234                 -10.0                -4.3                  3   \n",
       "225613                  -1.5                -4.0                 21   \n",
       "350642                  -2.0                -4.0                  5   \n",
       "253956                   NaN                -3.5                  0   \n",
       "869472                  -2.5                -3.5                  4   \n",
       "\n",
       "            change_cancel_count  \n",
       "account_id                       \n",
       "67352                         1  \n",
       "556574                        1  \n",
       "996225                        1  \n",
       "816693                        1  \n",
       "207472                        1  \n",
       "521234                        3  \n",
       "225613                        1  \n",
       "350642                        2  \n",
       "253956                        2  \n",
       "869472                        2  "
      ]
     },
     "execution_count": 193,
     "metadata": {},
     "output_type": "execute_result"
    }
   ],
   "source": [
    "combo1.sort_values('change_cancel_mean').head(10)"
   ]
  },
  {
   "cell_type": "code",
   "execution_count": 194,
   "metadata": {},
   "outputs": [
    {
     "data": {
      "text/html": [
       "<div>\n",
       "<style scoped>\n",
       "    .dataframe tbody tr th:only-of-type {\n",
       "        vertical-align: middle;\n",
       "    }\n",
       "\n",
       "    .dataframe tbody tr th {\n",
       "        vertical-align: top;\n",
       "    }\n",
       "\n",
       "    .dataframe thead th {\n",
       "        text-align: right;\n",
       "    }\n",
       "</style>\n",
       "<table border=\"1\" class=\"dataframe\">\n",
       "  <thead>\n",
       "    <tr style=\"text-align: right;\">\n",
       "      <th></th>\n",
       "      <th>change_fill_mean</th>\n",
       "      <th>change_cancel_mean</th>\n",
       "      <th>change_fill_count</th>\n",
       "      <th>change_cancel_count</th>\n",
       "    </tr>\n",
       "    <tr>\n",
       "      <th>account_id</th>\n",
       "      <th></th>\n",
       "      <th></th>\n",
       "      <th></th>\n",
       "      <th></th>\n",
       "    </tr>\n",
       "  </thead>\n",
       "  <tbody>\n",
       "    <tr>\n",
       "      <th>444259</th>\n",
       "      <td>-3.6</td>\n",
       "      <td>-0.1</td>\n",
       "      <td>698</td>\n",
       "      <td>72661</td>\n",
       "    </tr>\n",
       "    <tr>\n",
       "      <th>202474</th>\n",
       "      <td>-8.9</td>\n",
       "      <td>-0.5</td>\n",
       "      <td>11</td>\n",
       "      <td>10238</td>\n",
       "    </tr>\n",
       "    <tr>\n",
       "      <th>224099</th>\n",
       "      <td>-10.0</td>\n",
       "      <td>-0.1</td>\n",
       "      <td>3</td>\n",
       "      <td>5693</td>\n",
       "    </tr>\n",
       "    <tr>\n",
       "      <th>898579</th>\n",
       "      <td>-1.9</td>\n",
       "      <td>-1.1</td>\n",
       "      <td>214</td>\n",
       "      <td>2383</td>\n",
       "    </tr>\n",
       "    <tr>\n",
       "      <th>399148</th>\n",
       "      <td>NaN</td>\n",
       "      <td>-0.1</td>\n",
       "      <td>0</td>\n",
       "      <td>290</td>\n",
       "    </tr>\n",
       "    <tr>\n",
       "      <th>31800</th>\n",
       "      <td>0.0</td>\n",
       "      <td>-0.1</td>\n",
       "      <td>2</td>\n",
       "      <td>220</td>\n",
       "    </tr>\n",
       "  </tbody>\n",
       "</table>\n",
       "</div>"
      ],
      "text/plain": [
       "            change_fill_mean  change_cancel_mean  change_fill_count  \\\n",
       "account_id                                                            \n",
       "444259                  -3.6                -0.1                698   \n",
       "202474                  -8.9                -0.5                 11   \n",
       "224099                 -10.0                -0.1                  3   \n",
       "898579                  -1.9                -1.1                214   \n",
       "399148                   NaN                -0.1                  0   \n",
       "31800                    0.0                -0.1                  2   \n",
       "\n",
       "            change_cancel_count  \n",
       "account_id                       \n",
       "444259                    72661  \n",
       "202474                    10238  \n",
       "224099                     5693  \n",
       "898579                     2383  \n",
       "399148                      290  \n",
       "31800                       220  "
      ]
     },
     "execution_count": 194,
     "metadata": {},
     "output_type": "execute_result"
    }
   ],
   "source": [
    "combo1.loc[(combo1['change_cancel_mean'] < 0) & (combo1['change_cancel_count'] > 100)]"
   ]
  }
 ],
 "metadata": {
  "kernelspec": {
   "display_name": "Python 3",
   "language": "python",
   "name": "python3"
  },
  "language_info": {
   "codemirror_mode": {
    "name": "ipython",
    "version": 3
   },
   "file_extension": ".py",
   "mimetype": "text/x-python",
   "name": "python",
   "nbconvert_exporter": "python",
   "pygments_lexer": "ipython3",
   "version": "3.7.0"
  }
 },
 "nbformat": 4,
 "nbformat_minor": 2
}
