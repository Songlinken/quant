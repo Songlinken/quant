{
 "cells": [
  {
   "cell_type": "code",
   "execution_count": 2,
   "metadata": {},
   "outputs": [
    {
     "name": "stderr",
     "output_type": "stream",
     "text": [
      "/Users/sqian/.pyenv/versions/3.7.0/envs/env_370/lib/python3.7/site-packages/psycopg2/__init__.py:144: UserWarning: The psycopg2 wheel package will be renamed from release 2.8; in order to keep installing from binary please use \"pip install psycopg2-binary\" instead. For details see: <http://initd.org/psycopg/docs/install.html#binary-install-from-pypi>.\n",
      "  \"\"\")\n"
     ]
    }
   ],
   "source": [
    "import os; \n",
    "import pandas as pd; pd.set_option('mode.chained_assignment',None)\n",
    "import numpy as np\n",
    "import datetime\n",
    "import matplotlib.pyplot as plt\n",
    "import matplotlib.mlab as mlab\n",
    "import math\n",
    "import re\n",
    "import xlrd\n",
    "import statistics as stat\n",
    "from xlsxwriter.utility import xl_rowcol_to_cell\n",
    "from random import sample\n",
    "from src.data_models.SmartsCsvDataModel import SmartsCsvDataModel\n",
    "from src.data_models.smartshelper import metrics, fixNum, unSMART, cparty, wtf, textfunc, identities\n",
    "from src.data_models.SmartsDataModel import SmartsDataModel\n",
    "from src.utility.DataModelUtility import execute_query_data_frame\n",
    "from src.data_models.SmartsDataModel import SmartsDataModel\n",
    "from src.data_models.UPMhelper import UPMalerts"
   ]
  },
  {
   "cell_type": "code",
   "execution_count": 16,
   "metadata": {},
   "outputs": [
    {
     "name": "stderr",
     "output_type": "stream",
     "text": [
      "INFO:paramiko.transport:Connected (version 2.0, client OpenSSH_7.4p1)\n",
      "INFO:paramiko.transport:Authentication (publickey) successful!\n"
     ]
    },
    {
     "name": "stdout",
     "output_type": "stream",
     "text": [
      "ssh_connect 0:00:00.579196\n"
     ]
    },
    {
     "name": "stderr",
     "output_type": "stream",
     "text": [
      "INFO:root:Loaded dataframe with 6 rows in 0:00:15.974582.\n"
     ]
    }
   ],
   "source": [
    "query = \"\"\"select \n",
    "trading_pair, account_id, sum(quantity) as quantity, sum(price*quantity)/sum(quantity) as avgprice\n",
    "from order_fill_event\n",
    "where created::date = '2019-08-14' and trading_pair = 'BCHETH' and side = 'sell'\n",
    "group by trading_pair, account_id\n",
    "order by sum(price*quantity)/sum(quantity) desc;\"\"\"\n",
    "\n",
    "pdescalation = execute_query_data_frame(query,'engine')"
   ]
  },
  {
   "cell_type": "code",
   "execution_count": 17,
   "metadata": {},
   "outputs": [
    {
     "data": {
      "text/html": [
       "<div>\n",
       "<style scoped>\n",
       "    .dataframe tbody tr th:only-of-type {\n",
       "        vertical-align: middle;\n",
       "    }\n",
       "\n",
       "    .dataframe tbody tr th {\n",
       "        vertical-align: top;\n",
       "    }\n",
       "\n",
       "    .dataframe thead th {\n",
       "        text-align: right;\n",
       "    }\n",
       "</style>\n",
       "<table border=\"1\" class=\"dataframe\">\n",
       "  <thead>\n",
       "    <tr style=\"text-align: right;\">\n",
       "      <th></th>\n",
       "      <th>trading_pair</th>\n",
       "      <th>account_id</th>\n",
       "      <th>quantity</th>\n",
       "      <th>avgprice</th>\n",
       "    </tr>\n",
       "  </thead>\n",
       "  <tbody>\n",
       "    <tr>\n",
       "      <th>0</th>\n",
       "      <td>BCHETH</td>\n",
       "      <td>379107</td>\n",
       "      <td>0.005830</td>\n",
       "      <td>1.726000</td>\n",
       "    </tr>\n",
       "    <tr>\n",
       "      <th>1</th>\n",
       "      <td>BCHETH</td>\n",
       "      <td>711292</td>\n",
       "      <td>36.345574</td>\n",
       "      <td>1.676000</td>\n",
       "    </tr>\n",
       "    <tr>\n",
       "      <th>2</th>\n",
       "      <td>BCHETH</td>\n",
       "      <td>44498</td>\n",
       "      <td>5.068173</td>\n",
       "      <td>1.675902</td>\n",
       "    </tr>\n",
       "    <tr>\n",
       "      <th>3</th>\n",
       "      <td>BCHETH</td>\n",
       "      <td>568127</td>\n",
       "      <td>7.424950</td>\n",
       "      <td>1.669272</td>\n",
       "    </tr>\n",
       "    <tr>\n",
       "      <th>4</th>\n",
       "      <td>BCHETH</td>\n",
       "      <td>202474</td>\n",
       "      <td>1.840000</td>\n",
       "      <td>1.669150</td>\n",
       "    </tr>\n",
       "    <tr>\n",
       "      <th>5</th>\n",
       "      <td>BCHETH</td>\n",
       "      <td>237320</td>\n",
       "      <td>818.654676</td>\n",
       "      <td>1.620053</td>\n",
       "    </tr>\n",
       "  </tbody>\n",
       "</table>\n",
       "</div>"
      ],
      "text/plain": [
       "  trading_pair  account_id    quantity  avgprice\n",
       "0       BCHETH      379107    0.005830  1.726000\n",
       "1       BCHETH      711292   36.345574  1.676000\n",
       "2       BCHETH       44498    5.068173  1.675902\n",
       "3       BCHETH      568127    7.424950  1.669272\n",
       "4       BCHETH      202474    1.840000  1.669150\n",
       "5       BCHETH      237320  818.654676  1.620053"
      ]
     },
     "execution_count": 17,
     "metadata": {},
     "output_type": "execute_result"
    }
   ],
   "source": [
    "pdescalation"
   ]
  },
  {
   "cell_type": "markdown",
   "metadata": {},
   "source": [
    "#### >>> 0) Alerting Period"
   ]
  },
  {
   "cell_type": "code",
   "execution_count": 2,
   "metadata": {},
   "outputs": [],
   "source": [
    "alerting_1 = datetime.date(2019,8,1)\n",
    "alerting_2 = datetime.date(2019,8,31)"
   ]
  },
  {
   "cell_type": "markdown",
   "metadata": {},
   "source": [
    "#### >>> 1) Import"
   ]
  },
  {
   "cell_type": "code",
   "execution_count": 3,
   "metadata": {},
   "outputs": [
    {
     "name": "stdout",
     "output_type": "stream",
     "text": [
      "-> type fixed, kept 179 rows, 12 columns\n"
     ]
    }
   ],
   "source": [
    "alerts00 = unSMART(pd.read_excel('~/Documents/vmfldr/smarts1_{}.xlsx'.format(alerting_1.strftime(\"%Y%b\"))))\n",
    "alerts0 = alerts00.loc[~alerts00['AlertCode'].isin([4041,4042])]\n",
    "\n",
    "washcases = pd.read_excel('/Users/sqian/Documents/{}_output/{}_Wash.xlsx'.format(alerting_1.strftime(\"%Y%m\"), alerting_1.strftime(\"%Y%b\")), sheet_name = 'f.F')['Unnamed: 0'][-1:].get_values()[0]"
   ]
  },
  {
   "cell_type": "markdown",
   "metadata": {},
   "source": [
    "#### >>> 2) Case Creation Step 1: Case Group Level Division"
   ]
  },
  {
   "cell_type": "code",
   "execution_count": 4,
   "metadata": {},
   "outputs": [],
   "source": [
    "alertgroupmap1 = {1001:'group1', 4009:'group1', 4012:'group1', 4045:'group2', 2011:'group3', 4022:'group4', 4023:'group4', 4032:'group4', 4042:'wash'}\n",
    "\n",
    "alerts0['Case'] = alerts0['AlertCode'].map(alertgroupmap1)\n",
    "grouplist = alerts0['Case'].value_counts().index.tolist(); grouplist.sort()"
   ]
  },
  {
   "cell_type": "markdown",
   "metadata": {},
   "source": [
    "#### >>> 3) Case Creation Step 2: Account Level Division"
   ]
  },
  {
   "cell_type": "code",
   "execution_count": 5,
   "metadata": {},
   "outputs": [
    {
     "name": "stderr",
     "output_type": "stream",
     "text": [
      "/Users/sqian/.pyenv/versions/3.7.0/envs/env_370/lib/python3.7/site-packages/pandas/core/indexing.py:1494: FutureWarning: \n",
      "Passing list-likes to .loc or [] with any missing label will raise\n",
      "KeyError in the future, you can use .reindex() as an alternative.\n",
      "\n",
      "See the documentation here:\n",
      "https://pandas.pydata.org/pandas-docs/stable/indexing.html#deprecate-loc-reindex-listlike\n",
      "  return self._getitem_tuple(key)\n",
      "/Users/sqian/.pyenv/versions/3.7.0/envs/env_370/lib/python3.7/site-packages/pandas/core/indexing.py:1494: FutureWarning: \n",
      "Passing list-likes to .loc or [] with any missing label will raise\n",
      "KeyError in the future, you can use .reindex() as an alternative.\n",
      "\n",
      "See the documentation here:\n",
      "https://pandas.pydata.org/pandas-docs/stable/indexing.html#deprecate-loc-reindex-listlike\n",
      "  return self._getitem_tuple(key)\n",
      "/Users/sqian/.pyenv/versions/3.7.0/envs/env_370/lib/python3.7/site-packages/pandas/core/indexing.py:1494: FutureWarning: \n",
      "Passing list-likes to .loc or [] with any missing label will raise\n",
      "KeyError in the future, you can use .reindex() as an alternative.\n",
      "\n",
      "See the documentation here:\n",
      "https://pandas.pydata.org/pandas-docs/stable/indexing.html#deprecate-loc-reindex-listlike\n",
      "  return self._getitem_tuple(key)\n"
     ]
    }
   ],
   "source": [
    "codeabb_map = {1001:'UPM', 2011:'UVM', 4012:'UPM', 4045:'Collusion', 4022:'Spoof', 4032:'Spoof', 4023:'Spoof', 4041:'wash', 4042:'wash', 4009:'UPM'}\n",
    "uniquecase_map = pd.DataFrame()\n",
    "\n",
    "for i in grouplist:\n",
    "    subset = alerts0.loc[alerts0['Case'] == i,['AlertCode','AccountIDName','AlertID']]\n",
    "    subset['group'] = subset['AlertCode'].map(codeabb_map)\n",
    "    \n",
    "    temp_groupby = subset.groupby(['group','AccountIDName'])\n",
    "    temp_count = pd.DataFrame(temp_groupby.count()).rename(columns={'AlertID':'instances'})['instances']\n",
    "    temp_min = pd.DataFrame(temp_groupby.min())['AlertCode'].rename(columns={'AlertCode':'min'})\n",
    "    temp_max = pd.DataFrame(temp_groupby.max())['AlertCode'].rename(columns={'AlertCode':'max'})\n",
    "    temp = pd.concat([temp_count, temp_min, temp_max],axis=1).reset_index(drop=False).rename(columns={0:'min',1:'max'})\n",
    "    temp['score'] = temp['min'].floordiv(1000) + temp['max'].floordiv(1000)\n",
    "    if i == 'group1':\n",
    "        temp2 = temp.sort_values(['instances','score','AccountIDName'],ascending=False)\n",
    "    else:\n",
    "        temp2 = temp.sort_values(['instances'],ascending=False)\n",
    "    uniquecase_map = uniquecase_map.append(temp2)\n",
    "\n",
    "uniquecase_map = uniquecase_map.reset_index(drop=False).rename(columns={'index':'instanceBYcode'}).reset_index(drop=False).rename(columns={'index':'Case'})\n",
    "uniquecase_map['Case'] = uniquecase_map['Case'] + washcases\n",
    "uniquecase_map['Case0'] = 'Case ' + (uniquecase_map['Case'] + 1).astype(str).apply(lambda x: '{0:0>2}'.format(x))\n",
    "uniquecase_map['CaseName'] = uniquecase_map['group'] + ' (' + alerting_1.strftime(\"%Y%b\") + alerting_1.strftime(\"%b\") + ') - ' + uniquecase_map['Case0'] + ' - ' + uniquecase_map['AccountIDName'].astype(str) \n",
    "uniquecase_map['CaseMap'] = uniquecase_map['group'].astype(str) + '|' + uniquecase_map['AccountIDName'].astype(str)"
   ]
  },
  {
   "cell_type": "markdown",
   "metadata": {},
   "source": [
    "#### >>> 4) Alert Table"
   ]
  },
  {
   "cell_type": "code",
   "execution_count": 6,
   "metadata": {},
   "outputs": [],
   "source": [
    "casemap = uniquecase_map[['CaseMap','CaseName']].set_index('CaseMap').to_dict('series')['CaseName']\n",
    "casemapNo = uniquecase_map[['CaseMap','Case0']].set_index('CaseMap').to_dict('series')['Case0']\n",
    "\n",
    "allalerts = alerts0[['AlertCode', 'Datetime', 'InstrumentCode', 'AccountIDName','LongText','ShortText','ShortText_mod']]\n",
    "allalerts['group'] = allalerts['AlertCode'].map(codeabb_map)\n",
    "\n",
    "allalerts['CaseMap'] = allalerts['group'] + '|' + allalerts['AccountIDName'].astype(str)\n",
    "allalerts['CaseName'] = allalerts['CaseMap'].map(casemap)\n",
    "allalerts['CaseNo'] = allalerts['CaseMap'].map(casemapNo)\n",
    "\n",
    "finaltable = allalerts.sort_values('CaseNo').reset_index(drop=True)"
   ]
  },
  {
   "cell_type": "markdown",
   "metadata": {},
   "source": [
    "#### >>> 5) Case Table"
   ]
  },
  {
   "cell_type": "code",
   "execution_count": 7,
   "metadata": {},
   "outputs": [],
   "source": [
    "cases = finaltable.reset_index().groupby(['CaseNo','CaseName'])\n",
    "\n",
    "df_Case = pd.DataFrame(cases['CaseNo'].count())\n",
    "df_AlertCode = pd.DataFrame(cases['AlertCode'].apply(pd.unique))\n",
    "df_Security = pd.DataFrame(cases['InstrumentCode'].apply(pd.unique))\n",
    "df_count = pd.DataFrame(cases['index'].apply(pd.unique).apply(len))\n",
    "df_count.columns = ['noAlerts']\n",
    "\n",
    "df0 = pd.concat([df_Case,df_AlertCode,df_Security,df_count],axis=1)\n",
    "df = df0.drop(columns='CaseNo').reset_index()"
   ]
  },
  {
   "cell_type": "markdown",
   "metadata": {},
   "source": [
    "#### >>> 6) FULL Case Table including Wash Cases"
   ]
  },
  {
   "cell_type": "code",
   "execution_count": 8,
   "metadata": {},
   "outputs": [],
   "source": [
    "eventm = pd.read_excel('/Users/sqian/Documents/{}_output/{}_Wash.xlsx'.format(alerting_1.strftime(\"%Y%m\"), alerting_1.strftime(\"%Y%b\")), sheet_name = 'EventMapping')\n",
    "eventm['AlertCode'] = eventm['AlertID'].str.extract('.*\\((.*)\\).*').astype(int)\n",
    "\n",
    "washgrouping = eventm.groupby(['CaseNo'])\n",
    "Security = washgrouping['Security'].apply(pd.unique)\n",
    "noAlerts = washgrouping['AlertID'].apply(pd.unique).apply(len)\n",
    "noCode = washgrouping['AlertCode'].apply(pd.unique)\n",
    "\n",
    "washcasesTables = pd.concat([Security,noAlerts,noCode],axis=1).reset_index().rename(columns={'Description':'CaseName','AlertID':'noAlerts'})\n",
    "CaseTable = washcasesTables.append(df.rename(columns={'InstrumentName':'Security'}),sort=False)[df.rename(columns={'InstrumentName':'Security'}).columns.tolist()].reset_index(drop=True)"
   ]
  },
  {
   "cell_type": "markdown",
   "metadata": {},
   "source": [
    "#### >>> 7) Unusual Price Movement Exhibits"
   ]
  },
  {
   "cell_type": "code",
   "execution_count": 9,
   "metadata": {},
   "outputs": [],
   "source": [
    "upmgroup = [1001,4009,4011,4012]\n",
    "fig_Aint = pd.DataFrame(finaltable.groupby([finaltable['Datetime'].dt.month,'AlertCode']).count()['CaseNo']).reset_index(drop=False).rename(columns={'Datetime':'month','CaseNo':'Alerts'})\n",
    "fig_A = pd.pivot_table(fig_Aint.loc[fig_Aint['AlertCode'].isin(upmgroup)], values='Alerts', index=['month'], columns=['AlertCode'], aggfunc=np.sum)\n",
    "fig_A['TOTAL'] = fig_A.sum(axis=1)"
   ]
  },
  {
   "cell_type": "code",
   "execution_count": 10,
   "metadata": {},
   "outputs": [
    {
     "name": "stderr",
     "output_type": "stream",
     "text": [
      "/Users/sqian/.pyenv/versions/3.7.0/envs/env_370/lib/python3.7/site-packages/pandas/plotting/_converter.py:129: FutureWarning: Using an implicitly registered datetime converter for a matplotlib plotting method. The converter was registered by pandas on import. Future versions of pandas will require you to explicitly register matplotlib converters.\n",
      "\n",
      "To register the converters:\n",
      "\t>>> from pandas.plotting import register_matplotlib_converters\n",
      "\t>>> register_matplotlib_converters()\n",
      "  warnings.warn(msg, FutureWarning)\n"
     ]
    }
   ],
   "source": [
    "date_list = [alerting_1 + datetime.timedelta(days=x) for x in range(0, 30)]\n",
    "datePD = pd.DataFrame(date_list).set_index(0)\n",
    "data = pd.DataFrame(finaltable['Datetime'].dt.date.value_counts())\n",
    "plotdata = pd.concat([datePD,data['Datetime']],axis=1,sort=True).fillna(0).astype(int)\n",
    "\n",
    "os.chdir('/Users/sqian/Documents/{}_output'.format(alerting_1.strftime(\"%Y%m\")))\n",
    "plt.rcParams['figure.figsize'] = (12,4)\n",
    "plt.plot_date(x=plotdata.index, y=plotdata['Datetime'], fmt=\"go-\",xdate=True)\n",
    "plt.ylabel(\"Number of Alerts\")\n",
    "plt.title(\"{} - {}: UPM Group Alert Events\".format(alerting_1.strftime(\"%Y/%m/%d\"),alerting_2.strftime(\"%Y/%m/%d\")))\n",
    "plt.grid(True)\n",
    "plt.savefig(\"{}_UPM_fig_B.png\".format(alerting_1.strftime(\"%Y%b\")))\n",
    "plt.close()"
   ]
  },
  {
   "cell_type": "code",
   "execution_count": 11,
   "metadata": {},
   "outputs": [],
   "source": [
    "UPMtable = finaltable.loc[finaltable['AlertCode'].isin([1001])][['CaseNo', 'AlertCode', 'Datetime', 'InstrumentCode', 'AccountIDName', 'LongText']]\n",
    "\n",
    "countpercase = UPMtable.groupby('CaseNo').count()['AlertCode']\n",
    "mindt = UPMtable.groupby('CaseNo')['Datetime'].min()\n",
    "maxdt = UPMtable.groupby('CaseNo')['Datetime'].max()\n",
    "sec = UPMtable.groupby('CaseNo')['InstrumentCode'].apply(pd.unique)\n",
    "ltext = UPMtable.groupby('CaseNo')['LongText'].apply(pd.unique)\n",
    "\n",
    "output0 = pd.concat([countpercase, mindt, maxdt, sec, ltext], axis=1)\n",
    "output0.columns = ['countpercase', 'mindt', 'maxdt', 'sec', 'ltext']\n",
    "output0['text'] = 'blank'\n",
    "output = output0.reset_index()"
   ]
  },
  {
   "cell_type": "code",
   "execution_count": 12,
   "metadata": {},
   "outputs": [],
   "source": [
    "casenamemap = df[['CaseNo','CaseName']].set_index('CaseNo').to_dict()['CaseName']"
   ]
  },
  {
   "cell_type": "code",
   "execution_count": 13,
   "metadata": {},
   "outputs": [],
   "source": [
    "casenamemap = df[['CaseNo','CaseName']].set_index('CaseNo').to_dict()['CaseName']\n",
    "text3 = '{} includes {} Unusual Price Movement (1001) Alert, triggered on {} on security {} which reads as follows:'\n",
    "\n",
    "for i in output['CaseNo']:\n",
    "    count = output.loc[output['CaseNo'] == i,'countpercase'].get_values()[0]\n",
    "    dt_min = pd.to_datetime(output.loc[output['CaseNo'] == i,'mindt'].get_values())[0].strftime(\"%B %d, %Y at %H:%M:%S.%f\")\n",
    "    sec = output.loc[output['CaseNo'] == i,'sec'].get_values()[0][0]\n",
    "    output.loc[output['CaseNo'] == i,'text'] = text3.format(i, count, dt_min, sec)\n",
    "    \n",
    "output['CaseName'] = output['CaseNo'].map(casenamemap)\n",
    "fig_X0 = output[['CaseNo','CaseName','sec','text','ltext']]"
   ]
  },
  {
   "cell_type": "markdown",
   "metadata": {},
   "source": [
    "#### >>> 8) Price Driver Exhibits"
   ]
  },
  {
   "cell_type": "markdown",
   "metadata": {},
   "source": [
    "##### >>>> Segregation"
   ]
  },
  {
   "cell_type": "code",
   "execution_count": 14,
   "metadata": {},
   "outputs": [],
   "source": [
    "PD_bool = df.loc[df['AlertCode'].astype(str).isin(['[1001 4012]','[4012]'])].reset_index(drop=True)\n",
    "PD_table = finaltable.loc[finaltable['CaseNo'].isin(pd.unique(PD_bool['CaseNo']).tolist())][['CaseNo', 'AlertCode', 'Datetime', 'InstrumentCode', 'AccountIDName', 'LongText']]\n",
    "\n",
    "alertacc = PD_table.groupby('CaseNo')['AccountIDName'].apply(pd.unique).astype(str).str.replace('[','').str.replace(']','').astype(int)\n",
    "countpercase = PD_table.groupby('CaseNo').count()['AlertCode']\n",
    "mindt = PD_table.groupby('CaseNo')['Datetime'].min().dt.date\n",
    "maxdt = PD_table.groupby('CaseNo')['Datetime'].max().dt.date\n",
    "sec = PD_table.groupby('CaseNo')['InstrumentCode'].apply(pd.unique)\n",
    "ltext = PD_table.groupby('CaseNo')['LongText'].apply(pd.unique)\n",
    "\n",
    "PD_output0 = pd.concat([alertacc, countpercase, mindt, maxdt, sec, ltext], axis=1)\n",
    "PD_output0.columns = ['account', '#alerts', 'mindt', 'maxdt', 'sec', 'ltext']\n",
    "PD_output00 = PD_output0.reset_index()"
   ]
  },
  {
   "cell_type": "markdown",
   "metadata": {},
   "source": [
    "##### >>>> Identities & Alerting Period Activity in USD"
   ]
  },
  {
   "cell_type": "code",
   "execution_count": 15,
   "metadata": {},
   "outputs": [
    {
     "name": "stderr",
     "output_type": "stream",
     "text": [
      "INFO:root:Constructing Singleton\n",
      "INFO:root:Using global configuration /Users/sqian/msv.yaml.\n",
      "INFO:root:Completed loading configuration.\n",
      "INFO:paramiko.transport:Connected (version 2.0, client OpenSSH_7.4p1)\n",
      "INFO:paramiko.transport:Authentication (publickey) successful!\n",
      "INFO:root:Loaded dataframe with 5 rows in 0:00:01.027794.\n"
     ]
    },
    {
     "name": "stdout",
     "output_type": "stream",
     "text": [
      "ssh_connect 0:00:00.808205\n"
     ]
    },
    {
     "name": "stderr",
     "output_type": "stream",
     "text": [
      "INFO:paramiko.transport:Connected (version 2.0, client OpenSSH_7.4p1)\n",
      "INFO:paramiko.transport:Authentication (publickey) successful!\n"
     ]
    },
    {
     "name": "stdout",
     "output_type": "stream",
     "text": [
      "ssh_connect 0:00:00.596886\n"
     ]
    },
    {
     "name": "stderr",
     "output_type": "stream",
     "text": [
      "INFO:root:Loaded dataframe with 9 rows in 0:00:27.328309.\n"
     ]
    }
   ],
   "source": [
    "acclist = sorted(pd.unique(pd.concat([PD_table['AccountIDName'],UPMtable['AccountIDName']], axis=0)).tolist())\n",
    "idee = identities(acclist,alerting_1,alerting_2)\n",
    "# for i in range(1,len(idee)): print(idee.iloc[i]['text'])"
   ]
  },
  {
   "cell_type": "code",
   "execution_count": 16,
   "metadata": {},
   "outputs": [],
   "source": [
    "PD_dict = {}\n",
    "\n",
    "for i in range(0,PD_output00.shape[0]):\n",
    "    PD_dict[PD_output00.loc[i,'CaseNo']] = finaltable.loc[finaltable['CaseNo'] == PD_output00.loc[i,'CaseNo']]"
   ]
  },
  {
   "cell_type": "code",
   "execution_count": 17,
   "metadata": {},
   "outputs": [],
   "source": [
    "def PD_output(caseno):\n",
    "    \n",
    "    dfofi = PD_dict[caseno]\n",
    "    \n",
    "    pd_Fig0_draft = pd.DataFrame(dfofi.groupby([dfofi['Datetime'].dt.month, 'AlertCode']).count()['LongText']).reset_index()\n",
    "    pd_Fig0_draft2 = pd.pivot(pd_Fig0_draft, index='Datetime', columns='AlertCode',values='LongText')\n",
    "    pd_Fig0_draft3 = pd.concat([pd_Fig0_draft2,pd.DataFrame(pd_Fig0_draft2.sum(axis=0)).rename(columns={0:'TOTAL'}).transpose()],axis=0)\n",
    "    pd_Fig0 = pd.concat([pd_Fig0_draft3,pd.DataFrame(pd_Fig0_draft3.sum(axis=1)).rename(columns={0:'TOTAL'})],axis=1)\n",
    "\n",
    "    pd_Fig1_draft = pd.DataFrame(dfofi.groupby(['InstrumentCode', 'AlertCode']).count()['LongText']).reset_index()\n",
    "    pd_Fig1_draft2 = pd.pivot(pd_Fig1_draft, index='InstrumentCode', columns='AlertCode',values='LongText')\n",
    "    pd_Fig1_draft3 = pd.concat([pd_Fig1_draft2,pd.DataFrame(pd_Fig1_draft2.sum(axis=0)).rename(columns={0:'TOTAL'}).transpose()],axis=0)\n",
    "    pd_Fig1 = pd.concat([pd_Fig1_draft3,pd.DataFrame(pd_Fig1_draft3.sum(axis=1)).rename(columns={0:'TOTAL'})],axis=1)\n",
    "\n",
    "    pd_Fig2_draft = dfofi[['Datetime', 'CaseNo','InstrumentCode','AccountIDName','LongText']]\n",
    "    pd_Fig2_draft2 = pd_Fig2_draft['LongText'].str.extract(r'.+(increase|decrease)d.*[A-Z]{6}\\s(\\d+)\\D+(\\d+)\\D+\\d+\\D+(\\d+)\\D+(\\d+).*x([\\d.,]+).*x([\\d.,]+).+',expand=True)\n",
    "    pd_Fig2_draft2.columns = ['direction','change1','change2','ticks1','ticks2','vol1','vol2']\n",
    "    pd_Fig2_draft3 = pd.concat([pd_Fig2_draft.drop(columns=['CaseNo','LongText']),pd_Fig2_draft2['direction'],pd_Fig2_draft2.drop(columns=['direction']).apply(pd.to_numeric)], axis=1)\n",
    "    pd_Fig2_draft3['change0'] = pd_Fig2_draft3['change1']/pd_Fig2_draft3['change2']\n",
    "    pd_Fig2_draft3['ticks0'] = pd_Fig2_draft3['ticks1']/pd_Fig2_draft3['ticks2']\n",
    "    pd_Fig2_draft3['vol0'] = pd_Fig2_draft3['vol1']/pd_Fig2_draft3['vol2']\n",
    "    pd_Fig2_draft3['change'] = pd_Fig2_draft3['change1'].astype(str) + ' / '+ pd_Fig2_draft3['change2'].astype(str) + ' = '+ round(pd_Fig2_draft3['change0']*100,0).fillna(0).astype(int).astype(str) + '%'\n",
    "    pd_Fig2_draft3['ticks'] = pd_Fig2_draft3['ticks1'].astype(str) + ' / '+ pd_Fig2_draft3['ticks2'].astype(str) + ' = '+ round(pd_Fig2_draft3['ticks0']*100,0).fillna(0).astype(int).astype(str) + '%'\n",
    "    pd_Fig2_draft3['vol'] = round(pd_Fig2_draft3['vol1'],1).astype(str) + ' / '+ round(pd_Fig2_draft3['vol2'],1).astype(str) + ' = '+ round(pd_Fig2_draft3['vol0']*100,0).fillna(0).astype(int).astype(str) + '%'\n",
    "    pd_Fig2_draft3['Date'] = pd_Fig2_draft3['Datetime'].dt.date\n",
    "    pd_Fig2_aggd = pd.concat([pd_Fig2_draft3[['change0', 'ticks0', 'vol0']].min(),pd_Fig2_draft3[['change0', 'ticks0', 'vol0']].max(),pd_Fig2_draft3[['change0', 'ticks0', 'vol0']].mean()], axis=1)\n",
    "    pd_Fig2_agg = pd_Fig2_aggd.rename(columns={0:'min',1:'max',2:'avg'}).transpose().reset_index().rename(columns={'index':'InstrumentCode'})\n",
    "    pd_Fig2 = round(pd.concat([pd_Fig2_draft3[['Date', 'InstrumentCode', 'direction', 'change0', 'ticks0', 'vol0']],pd_Fig2_agg],axis=0,sort=True).sort_values(['InstrumentCode','Date']).set_index(['InstrumentCode','Date','direction'])*100).fillna(0).astype(int).astype(str)+'%'\n",
    "\n",
    "    pd_fig3 = pd_Fig2_draft3[['Date', 'InstrumentCode', 'direction', 'change0', 'ticks0', 'vol0']]\n",
    "    pd_fig3['changeRatio'] = round(pd_fig3['change0']/pd_fig3['vol0'],2)\n",
    "    pd_fig3['ticksRatio'] = round(pd_fig3['ticks0']/pd_fig3['vol0'],2)\n",
    "    \n",
    "    func_dict = {}\n",
    "    func_dict['fig1'] = pd_Fig1\n",
    "    func_dict['fig2'] = pd_Fig2\n",
    "    func_dict['fig3'] = pd_fig3[['InstrumentCode', 'Date', 'direction', 'changeRatio', 'ticksRatio']]\n",
    "    \n",
    "    return(func_dict)"
   ]
  },
  {
   "cell_type": "code",
   "execution_count": 18,
   "metadata": {},
   "outputs": [],
   "source": [
    "UPMtable.to_pickle('~/Desktop/upmtable.pkl')"
   ]
  },
  {
   "cell_type": "markdown",
   "metadata": {},
   "source": [
    "##### >>>> Output"
   ]
  },
  {
   "cell_type": "code",
   "execution_count": 19,
   "metadata": {},
   "outputs": [
    {
     "name": "stderr",
     "output_type": "stream",
     "text": [
      "INFO:paramiko.transport:Connected (version 2.0, client OpenSSH_7.4p1)\n",
      "INFO:paramiko.transport:Authentication (publickey) successful!\n"
     ]
    },
    {
     "name": "stdout",
     "output_type": "stream",
     "text": [
      "ssh_connect 0:00:00.619869\n"
     ]
    },
    {
     "name": "stderr",
     "output_type": "stream",
     "text": [
      "INFO:root:Loaded dataframe with 6 rows in 0:00:10.964885.\n",
      "INFO:paramiko.transport:Connected (version 2.0, client OpenSSH_7.4p1)\n",
      "INFO:paramiko.transport:Authentication (publickey) successful!\n"
     ]
    },
    {
     "name": "stdout",
     "output_type": "stream",
     "text": [
      "ssh_connect 0:00:00.590976\n"
     ]
    },
    {
     "name": "stderr",
     "output_type": "stream",
     "text": [
      "INFO:root:Loaded dataframe with 2394 rows in 0:01:02.517660.\n",
      "WARNING:py.warnings:/Users/sqian/MKTSRV/src/data_models/UPMhelper.py:57: FutureWarning: Comparing Series of datetimes with 'datetime.date'.  Currently, the\n",
      "'datetime.date' is coerced to a datetime. In the future pandas will\n",
      "not coerce, and 'the values will not compare equal to the\n",
      "'datetime.date'. To retain the current behavior, convert the\n",
      "'datetime.date' to a datetime with 'pd.Timestamp'.\n",
      "  bool_exh1 = (test['event_date'] == eval_date) & (test['event_type'] == 'Fill')\n",
      "\n",
      "INFO:paramiko.transport:Connected (version 2.0, client OpenSSH_7.4p1)\n",
      "INFO:paramiko.transport:Authentication (publickey) successful!\n"
     ]
    },
    {
     "name": "stdout",
     "output_type": "stream",
     "text": [
      "ssh_connect 0:00:00.628033\n"
     ]
    },
    {
     "name": "stderr",
     "output_type": "stream",
     "text": [
      "INFO:root:Loaded dataframe with 2 rows in 0:00:00.900438.\n",
      "INFO:paramiko.transport:Connected (version 2.0, client OpenSSH_7.4p1)\n",
      "INFO:paramiko.transport:Authentication (publickey) successful!\n",
      "INFO:root:Loaded dataframe with 108 rows in 0:00:00.810175.\n"
     ]
    },
    {
     "name": "stdout",
     "output_type": "stream",
     "text": [
      "ssh_connect 0:00:00.605935\n"
     ]
    },
    {
     "name": "stderr",
     "output_type": "stream",
     "text": [
      "INFO:paramiko.transport:Connected (version 2.0, client OpenSSH_7.4p1)\n",
      "INFO:paramiko.transport:Authentication (publickey) successful!\n"
     ]
    },
    {
     "name": "stdout",
     "output_type": "stream",
     "text": [
      "ssh_connect 0:00:00.597221\n"
     ]
    },
    {
     "name": "stderr",
     "output_type": "stream",
     "text": [
      "INFO:root:Loaded dataframe with 2 rows in 0:00:00.857738.\n",
      "INFO:paramiko.transport:Connected (version 2.0, client OpenSSH_7.4p1)\n",
      "INFO:paramiko.transport:Authentication (publickey) successful!\n"
     ]
    },
    {
     "name": "stdout",
     "output_type": "stream",
     "text": [
      "ssh_connect 0:00:00.655725\n"
     ]
    },
    {
     "name": "stderr",
     "output_type": "stream",
     "text": [
      "INFO:root:Loaded dataframe with 2347 rows in 0:00:04.100295.\n",
      "INFO:paramiko.transport:Connected (version 2.0, client OpenSSH_7.4p1)\n",
      "INFO:paramiko.transport:Authentication (publickey) successful!\n"
     ]
    },
    {
     "name": "stdout",
     "output_type": "stream",
     "text": [
      "ssh_connect 0:00:00.616974\n"
     ]
    },
    {
     "name": "stderr",
     "output_type": "stream",
     "text": [
      "INFO:root:Loaded dataframe with 2 rows in 0:00:02.209163.\n",
      "INFO:paramiko.transport:Connected (version 2.0, client OpenSSH_7.4p1)\n",
      "INFO:paramiko.transport:Authentication (publickey) successful!\n"
     ]
    },
    {
     "name": "stdout",
     "output_type": "stream",
     "text": [
      "ssh_connect 0:00:00.587118\n"
     ]
    },
    {
     "name": "stderr",
     "output_type": "stream",
     "text": [
      "INFO:root:Loaded dataframe with 2347 rows in 0:00:03.891437.\n"
     ]
    },
    {
     "data": {
      "image/png": "[encoded data removed]",
      "text/plain": [
       "<Figure size 1008x288 with 1 Axes>"
      ]
     },
     "metadata": {
      "needs_background": "light"
     },
     "output_type": "display_data"
    },
    {
     "data": {
      "image/png": "[encoded data removed]",
      "text/plain": [
       "<Figure size 1008x288 with 1 Axes>"
      ]
     },
     "metadata": {
      "needs_background": "light"
     },
     "output_type": "display_data"
    }
   ],
   "source": [
    "os.chdir('/Users/sqian/Documents/{}_output'.format(alerting_1.strftime(\"%Y%m\")))\n",
    "writer = pd.ExcelWriter('{}_CaseGroups.xlsx'.format(alerting_1.strftime(\"%Y%b\")), engine='xlsxwriter')\n",
    "\n",
    "\n",
    "CaseTable.to_excel(writer, 'cases')\n",
    "finaltable.to_excel(writer, 'alerts')\n",
    "fig_X0.to_excel(writer, 'f0')\n",
    "fig_A.to_excel(writer, 'fA')\n",
    "idee.to_excel(writer, 'IDs')\n",
    "\n",
    "\n",
    "pd_temp = pd.DataFrame()\n",
    "for i in PD_dict.keys():\n",
    "    temp = PD_output(i)\n",
    "    temp['fig1'].to_excel(writer,'{}.4012{}'.format(i.replace('Case ','C'),'f1'))\n",
    "    temp['fig2'].to_excel(writer,'{}.4012{}'.format(i.replace('Case ','C'),'f2'))\n",
    "    temp['fig3'].to_excel(writer,'{}.4012{}'.format(i.replace('Case ','C'),'f3'))\n",
    "    temp['fig3']['Case'] = i\n",
    "    pd_temp = pd_temp.append(temp['fig3'])\n",
    "pd_escalation = pd_temp.loc[(pd_temp['changeRatio'] >= 2.5) & (pd_temp['ticksRatio'] >= 2.5)]\n",
    "pd_escalation['side'] = pd_escalation['direction'].str.replace('increase','sell').str.replace('decrease','buy')\n",
    "\n",
    "def round_figures(x, n): \n",
    "    if (int(x) | float(x)):\n",
    "        return round(x, int(n - math.ceil(math.log10(abs(x))))) \n",
    "    else:\n",
    "        return(x)\n",
    "\n",
    "PD_dict2 = {}\n",
    "for i in range(0,pd_escalation.shape[0]):\n",
    "    dir_side_map = {'decrease':'buy','increase':'sell'}\n",
    "    temp = pd_escalation.reset_index(drop=True).transpose()[i]\n",
    "    side = temp['side']\n",
    "    symbol = temp['InstrumentCode']\n",
    "    date = temp['Date']\n",
    "    case = temp['Case']\n",
    "    \n",
    "    query = \"\"\" \n",
    "        SELECT account_id, side, trading_pair, sum(price * quantity) as val, sum(quantity) as quant, sum(price * quantity)/sum(quantity) as avg\n",
    "        from order_fill_event \n",
    "        where created::date = '{}' and trading_pair = '{}' and side = '{}'\n",
    "        group by account_id, trading_pair, side\n",
    "        \"\"\".format(date,symbol,side)\n",
    "\n",
    "    df = execute_query_data_frame(query,'engine')\n",
    "    PD_dict2[i] = pd.pivot_table(df, index=['trading_pair','account_id'], columns='side', values=['avg','quant'])\n",
    "    PD_dict2[i].to_excel(writer,'{}.4012{}'.format(case.replace('Case ','C'),'f4'))\n",
    "PD_dict2.keys()\n",
    "\n",
    "\n",
    "for i in UPMtable['CaseNo']:\n",
    "    test = UPMalerts(UPMtable,i,os.getcwd().format(alerting_1.strftime(\"%Y%m\")),alerting_1,alerting_2)\n",
    "    test['fig_X1'].to_excel(writer, '{}.1001.f.1'.format(i.replace('Case ','C')))\n",
    "    test['fig_X2'].to_excel(writer, '{}.1001.f.2'.format(i.replace('Case ','C')))\n",
    "    test['fig_X3'].to_excel(writer, '{}.1001.f.3'.format(i.replace('Case ','C')))\n",
    "    test['fig_X4'].to_excel(writer, '{}.1001.f.4'.format(i.replace('Case ','C')))\n",
    "\n",
    "    \n",
    "writer.save()"
   ]
  },
  {
   "cell_type": "code",
   "execution_count": 1,
   "metadata": {},
   "outputs": [
    {
     "ename": "NameError",
     "evalue": "name 'execute_query_data_frame' is not defined",
     "output_type": "error",
     "traceback": [
      "\u001b[0;31m---------------------------------------------------------------------------\u001b[0m",
      "\u001b[0;31mNameError\u001b[0m                                 Traceback (most recent call last)",
      "\u001b[0;32m<ipython-input-1-6d1ea45e9c9c>\u001b[0m in \u001b[0;36m<module>\u001b[0;34m\u001b[0m\n\u001b[1;32m      5\u001b[0m group by account_id, side;\"\"\"\n\u001b[1;32m      6\u001b[0m \u001b[0;34m\u001b[0m\u001b[0m\n\u001b[0;32m----> 7\u001b[0;31m \u001b[0mexecute_query_data_frame\u001b[0m\u001b[0;34m(\u001b[0m\u001b[0mquery\u001b[0m\u001b[0;34m,\u001b[0m\u001b[0;34m'engine'\u001b[0m\u001b[0;34m)\u001b[0m\u001b[0;34m\u001b[0m\u001b[0m\n\u001b[0m",
      "\u001b[0;31mNameError\u001b[0m: name 'execute_query_data_frame' is not defined"
     ]
    }
   ],
   "source": []
  },
  {
   "cell_type": "code",
   "execution_count": null,
   "metadata": {},
   "outputs": [],
   "source": []
  }
 ],
 "metadata": {
  "kernelspec": {
   "display_name": "Python 3",
   "language": "python",
   "name": "python3"
  },
  "language_info": {
   "codemirror_mode": {
    "name": "ipython",
    "version": 3
   },
   "file_extension": ".py",
   "mimetype": "text/x-python",
   "name": "python",
   "nbconvert_exporter": "python",
   "pygments_lexer": "ipython3",
   "version": "3.7.0"
  }
 },
 "nbformat": 4,
 "nbformat_minor": 2
}
