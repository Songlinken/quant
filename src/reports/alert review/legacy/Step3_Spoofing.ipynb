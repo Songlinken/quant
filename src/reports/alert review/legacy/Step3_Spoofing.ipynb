{
 "cells": [
  {
   "cell_type": "markdown",
   "metadata": {},
   "source": [
    "### Spoofing Case Grouping & Analysis"
   ]
  },
  {
   "cell_type": "code",
   "execution_count": 32,
   "metadata": {},
   "outputs": [],
   "source": [
    "import os; os.chdir('/Users/sqian/MKTSRV')\n",
    "import pandas as pd; pd.set_option('mode.chained_assignment',None)\n",
    "import numpy as np\n",
    "import datetime\n",
    "import matplotlib.pyplot as plt\n",
    "import matplotlib.mlab as mlab\n",
    "import math\n",
    "import datetime\n",
    "import matplotlib as mpl\n",
    "from matplotlib import pyplot as plt\n",
    "import numpy\n",
    "import re\n",
    "import xlrd\n",
    "from datetime import date\n",
    "from xlsxwriter.utility import xl_rowcol_to_cell\n",
    "from random import sample\n",
    "from math import log10, floor\n",
    "from src.data_models.smartshelper import metrics, fixNum, unSMART, cparty, littleQA, totalUP\n",
    "from src.data_models.SmartsDataModel import SmartsDataModel\n",
    "from src.data_models.SmartsCsvDataModel import SmartsCsvDataModel\n",
    "from src.utility.DataModelUtility import execute_query_data_frame\n",
    "\n",
    "def perc(arg,df): print(str(int(arg*100)) + 'th Percentile: ' + str(int(round(df.quantile(arg)))))"
   ]
  },
  {
   "cell_type": "markdown",
   "metadata": {},
   "source": [
    "#### >>> Input Data"
   ]
  },
  {
   "cell_type": "code",
   "execution_count": 33,
   "metadata": {},
   "outputs": [
    {
     "name": "stdout",
     "output_type": "stream",
     "text": [
      "-> type fixed, kept 554 rows, 49 columns\n"
     ]
    }
   ],
   "source": [
    "alerts0 = fixNum(unSMART(pd.read_excel('~/Documents/datafldr/smarts1_2019May.xlsx')))\n",
    "# alerts0.groupby(['AlertCode','ShortText']).count()['Market']"
   ]
  },
  {
   "cell_type": "markdown",
   "metadata": {},
   "source": [
    "#### >>> Straightforward Alerts (4022, 4023, 4032-single event)"
   ]
  },
  {
   "cell_type": "code",
   "execution_count": 34,
   "metadata": {},
   "outputs": [],
   "source": [
    "alerts4032_noneod = alerts0.loc[alerts0['ShortText'] == 'MULTI ORDER SPOOFING'].reset_index(drop=True)\n",
    "alerts4022 = alerts0.loc[alerts0['AlertCode'] == 4022].drop(columns='AlertAttachment').reset_index(drop=True)\n",
    "alerts4023 = alerts0.loc[alerts0['AlertCode'] == 4023].drop(columns='AlertAttachment').reset_index(drop=True)"
   ]
  },
  {
   "cell_type": "code",
   "execution_count": 37,
   "metadata": {},
   "outputs": [
    {
     "data": {
      "text/html": [
       "<div>\n",
       "<style scoped>\n",
       "    .dataframe tbody tr th:only-of-type {\n",
       "        vertical-align: middle;\n",
       "    }\n",
       "\n",
       "    .dataframe tbody tr th {\n",
       "        vertical-align: top;\n",
       "    }\n",
       "\n",
       "    .dataframe thead th {\n",
       "        text-align: right;\n",
       "    }\n",
       "</style>\n",
       "<table border=\"1\" class=\"dataframe\">\n",
       "  <thead>\n",
       "    <tr style=\"text-align: right;\">\n",
       "      <th></th>\n",
       "      <th>Market</th>\n",
       "      <th>StartDate</th>\n",
       "      <th>AlertSet</th>\n",
       "      <th>AlertSetName</th>\n",
       "      <th>StartTime</th>\n",
       "      <th>Date</th>\n",
       "      <th>Time</th>\n",
       "      <th>DisplayTime</th>\n",
       "      <th>InstrumentCode</th>\n",
       "      <th>InstrumentName</th>\n",
       "      <th>...</th>\n",
       "      <th>Intensity</th>\n",
       "      <th>TraderID</th>\n",
       "      <th>AccountIDID</th>\n",
       "      <th>AccountIDName</th>\n",
       "      <th>AlertCode</th>\n",
       "      <th>ReissueCount</th>\n",
       "      <th>UserActionCount</th>\n",
       "      <th>Documents</th>\n",
       "      <th>month</th>\n",
       "      <th>year</th>\n",
       "    </tr>\n",
       "  </thead>\n",
       "  <tbody>\n",
       "    <tr>\n",
       "      <th>6</th>\n",
       "      <td>gemini</td>\n",
       "      <td>2019-05-10</td>\n",
       "      <td>Main</td>\n",
       "      <td>Main</td>\n",
       "      <td>14:19:08</td>\n",
       "      <td>2019-05-10</td>\n",
       "      <td>14:19:08</td>\n",
       "      <td>D+1|01:49:18</td>\n",
       "      <td>ETHUSD</td>\n",
       "      <td>ETHUSD</td>\n",
       "      <td>...</td>\n",
       "      <td>86</td>\n",
       "      <td>0</td>\n",
       "      <td>4962</td>\n",
       "      <td>411770</td>\n",
       "      <td>4032</td>\n",
       "      <td>0</td>\n",
       "      <td>0</td>\n",
       "      <td>0</td>\n",
       "      <td>5</td>\n",
       "      <td>2019</td>\n",
       "    </tr>\n",
       "  </tbody>\n",
       "</table>\n",
       "<p>1 rows × 49 columns</p>\n",
       "</div>"
      ],
      "text/plain": [
       "   Market  StartDate AlertSet AlertSetName StartTime       Date      Time  \\\n",
       "6  gemini 2019-05-10     Main         Main  14:19:08 2019-05-10  14:19:08   \n",
       "\n",
       "    DisplayTime InstrumentCode InstrumentName  ...  Intensity  TraderID  \\\n",
       "6  D+1|01:49:18         ETHUSD         ETHUSD  ...         86         0   \n",
       "\n",
       "  AccountIDID AccountIDName AlertCode  ReissueCount UserActionCount Documents  \\\n",
       "6        4962        411770      4032             0               0         0   \n",
       "\n",
       "  month  year  \n",
       "6     5  2019  \n",
       "\n",
       "[1 rows x 49 columns]"
      ]
     },
     "execution_count": 37,
     "metadata": {},
     "output_type": "execute_result"
    }
   ],
   "source": [
    "alerts4032_noneod.loc[alerts4032_noneod['AccountIDCode'] == 411770]"
   ]
  },
  {
   "cell_type": "markdown",
   "metadata": {},
   "source": [
    "#### >>> Text File Alerts (4032-eod)"
   ]
  },
  {
   "cell_type": "code",
   "execution_count": 4,
   "metadata": {},
   "outputs": [],
   "source": [
    "alerts4032_eod = alerts0.loc[alerts0['ShortText'] == 'MULTI ORDER SPOOFING EOD',['Date','InstrumentName','AccountIDName','AlertID']].reset_index(drop=True)\n",
    "alerts4032_eod2 = pd.DataFrame(alerts4032_eod.groupby(['Date','InstrumentName','AccountIDName']).count().reset_index(drop=False))\n",
    "alerts4032_eod2['Date2'] = '_' + alerts4032_eod2['Date'].astype(str).str.replace('-','') + '.csv'\n",
    "alerts4032_eod2['ImportSyntax'] = '~/Documents/vmfldr/spoof/4032_' + alerts4032_eod2['InstrumentName'] + '_Broker_' + alerts4032_eod2['AccountIDName'].astype(str) + alerts4032_eod2['Date2']"
   ]
  },
  {
   "cell_type": "markdown",
   "metadata": {},
   "source": [
    "#### >>> Rolled Up Text File Alerts (4032-eod)"
   ]
  },
  {
   "cell_type": "code",
   "execution_count": 5,
   "metadata": {},
   "outputs": [
    {
     "data": {
      "text/plain": [
       "(159241, 20)"
      ]
     },
     "execution_count": 5,
     "metadata": {},
     "output_type": "execute_result"
    }
   ],
   "source": [
    "events4032_eod = pd.DataFrame()\n",
    "\n",
    "for i in range(0,alerts4032_eod2.shape[0]): \n",
    "    temp = pd.read_csv(alerts4032_eod2.loc[i,'ImportSyntax'])\n",
    "    temp['Date'] = alerts4032_eod2.loc[i,'Date']\n",
    "    events4032_eod = events4032_eod.append(temp)\n",
    "    \n",
    "events4032_eod.columns = events4032_eod.columns.str.replace(' ','').str.replace('Spoofing','spoof').str.replace('GenuineSide','gen').str.replace('side','')\n",
    "events4032_eod['Tradeprice'] = events4032_eod['Tradeprice'].astype(str).str.replace(' ','').astype(float)\n",
    "events4032_eod['PricespoofSide'] = events4032_eod['PricespoofSide'].astype(str).str.replace(' ','').astype(float)\n",
    "events4032_eod['Bestpricebeforespoofing'] = events4032_eod['Bestpricebeforespoofing'].astype(str).str.replace(' ','').astype(float)\n",
    "events4032_eod['Volumegen'] = events4032_eod['Volumegen'].str.replace('x','').fillna(0).astype(float)\n",
    "events4032_eod['CALC_tradevalue'] = events4032_eod['Volumegen'] * events4032_eod['Tradeprice']\n",
    "events4032_eod['CALC_gain_decimal'] = events4032_eod['Volumegen'] * (events4032_eod['Tradeprice'] - events4032_eod['Bestpricebeforespoofing']) * (-2 * (events4032_eod['Direction'] == 'buy') + 1)\n",
    "events4032_eod['Totalgain'] = events4032_eod['Totalgain'].str.replace(' ','').astype(float)\n",
    "events4032_eod.shape"
   ]
  },
  {
   "cell_type": "code",
   "execution_count": 6,
   "metadata": {},
   "outputs": [
    {
     "data": {
      "text/plain": [
       "0"
      ]
     },
     "execution_count": 6,
     "metadata": {},
     "output_type": "execute_result"
    }
   ],
   "source": [
    "eventlvl = events4032_eod.groupby(['Date', 'Security', 'Broker', 'spoofEventNr'])\n",
    "\n",
    "## Sanity Check\n",
    "(eventlvl['CALC_tradevalue'].count()>1).sum() + (eventlvl['Gainthistrade'].count()>1).sum() + + (eventlvl['Genuine/spoofRatio'].count()>1).sum()"
   ]
  },
  {
   "cell_type": "code",
   "execution_count": 31,
   "metadata": {},
   "outputs": [
    {
     "data": {
      "text/html": [
       "<div>\n",
       "<style scoped>\n",
       "    .dataframe tbody tr th:only-of-type {\n",
       "        vertical-align: middle;\n",
       "    }\n",
       "\n",
       "    .dataframe tbody tr th {\n",
       "        vertical-align: top;\n",
       "    }\n",
       "\n",
       "    .dataframe thead th {\n",
       "        text-align: right;\n",
       "    }\n",
       "</style>\n",
       "<table border=\"1\" class=\"dataframe\">\n",
       "  <thead>\n",
       "    <tr style=\"text-align: right;\">\n",
       "      <th></th>\n",
       "      <th></th>\n",
       "      <th></th>\n",
       "      <th></th>\n",
       "      <th>spoofOrderCount</th>\n",
       "      <th>CALC_tradevalue</th>\n",
       "      <th>Totalgain</th>\n",
       "      <th>Genuine/spoofRatio</th>\n",
       "      <th>Volumegen</th>\n",
       "    </tr>\n",
       "    <tr>\n",
       "      <th>Date</th>\n",
       "      <th>Security</th>\n",
       "      <th>Broker</th>\n",
       "      <th>spoofEventNr</th>\n",
       "      <th></th>\n",
       "      <th></th>\n",
       "      <th></th>\n",
       "      <th></th>\n",
       "      <th></th>\n",
       "    </tr>\n",
       "  </thead>\n",
       "  <tbody>\n",
       "    <tr>\n",
       "      <th>2019-05-16</th>\n",
       "      <th>BTCUSD</th>\n",
       "      <th>811415</th>\n",
       "      <th>6</th>\n",
       "      <td>10</td>\n",
       "      <td>0.720086</td>\n",
       "      <td>0.0</td>\n",
       "      <td>30000.000000</td>\n",
       "      <td>0.0001</td>\n",
       "    </tr>\n",
       "    <tr>\n",
       "      <th rowspan=\"2\" valign=\"top\">2019-05-12</th>\n",
       "      <th rowspan=\"2\" valign=\"top\">BTCUSD</th>\n",
       "      <th rowspan=\"2\" valign=\"top\">811415</th>\n",
       "      <th>1</th>\n",
       "      <td>10</td>\n",
       "      <td>0.734558</td>\n",
       "      <td>0.0</td>\n",
       "      <td>20000.000000</td>\n",
       "      <td>0.0001</td>\n",
       "    </tr>\n",
       "    <tr>\n",
       "      <th>4</th>\n",
       "      <td>11</td>\n",
       "      <td>57.407376</td>\n",
       "      <td>0.0</td>\n",
       "      <td>256.410256</td>\n",
       "      <td>0.0078</td>\n",
       "    </tr>\n",
       "    <tr>\n",
       "      <th rowspan=\"2\" valign=\"top\">2019-05-16</th>\n",
       "      <th rowspan=\"2\" valign=\"top\">BTCUSD</th>\n",
       "      <th rowspan=\"2\" valign=\"top\">31800</th>\n",
       "      <th>4</th>\n",
       "      <td>12</td>\n",
       "      <td>73.182100</td>\n",
       "      <td>0.0</td>\n",
       "      <td>28.000000</td>\n",
       "      <td>0.0100</td>\n",
       "    </tr>\n",
       "    <tr>\n",
       "      <th>2</th>\n",
       "      <td>12</td>\n",
       "      <td>73.182100</td>\n",
       "      <td>0.0</td>\n",
       "      <td>28.000000</td>\n",
       "      <td>0.0100</td>\n",
       "    </tr>\n",
       "  </tbody>\n",
       "</table>\n",
       "</div>"
      ],
      "text/plain": [
       "                                         spoofOrderCount  CALC_tradevalue  \\\n",
       "Date       Security Broker spoofEventNr                                     \n",
       "2019-05-16 BTCUSD   811415 6                          10         0.720086   \n",
       "2019-05-12 BTCUSD   811415 1                          10         0.734558   \n",
       "                           4                          11        57.407376   \n",
       "2019-05-16 BTCUSD   31800  4                          12        73.182100   \n",
       "                           2                          12        73.182100   \n",
       "\n",
       "                                         Totalgain  Genuine/spoofRatio  \\\n",
       "Date       Security Broker spoofEventNr                                  \n",
       "2019-05-16 BTCUSD   811415 6                   0.0        30000.000000   \n",
       "2019-05-12 BTCUSD   811415 1                   0.0        20000.000000   \n",
       "                           4                   0.0          256.410256   \n",
       "2019-05-16 BTCUSD   31800  4                   0.0           28.000000   \n",
       "                           2                   0.0           28.000000   \n",
       "\n",
       "                                         Volumegen  \n",
       "Date       Security Broker spoofEventNr             \n",
       "2019-05-16 BTCUSD   811415 6                0.0001  \n",
       "2019-05-12 BTCUSD   811415 1                0.0001  \n",
       "                           4                0.0078  \n",
       "2019-05-16 BTCUSD   31800  4                0.0100  \n",
       "                           2                0.0100  "
      ]
     },
     "execution_count": 31,
     "metadata": {},
     "output_type": "execute_result"
    }
   ],
   "source": [
    "eventcount = eventlvl['spoofOrderCount'].count()\n",
    "gentradeval = eventlvl['CALC_tradevalue'].sum()\n",
    "gentradegain = eventlvl['Totalgain'].sum().abs()\n",
    "ratio = eventlvl['Genuine/spoofRatio'].sum().abs()\n",
    "Volumegen = eventlvl['Volumegen'].sum().abs()\n",
    "\n",
    "spoofevents = pd.concat([eventcount, gentradeval, gentradegain, ratio, Volumegen],axis=1)\n",
    "eventgrouping = spoofevents.sort_values('CALC_tradevalue', ascending=True)\n",
    "eventgrouping.head()"
   ]
  },
  {
   "cell_type": "code",
   "execution_count": 23,
   "metadata": {},
   "outputs": [
    {
     "data": {
      "image/png": "[encoded data removed]",
      "text/plain": [
       "<Figure size 432x288 with 1 Axes>"
      ]
     },
     "metadata": {
      "needs_background": "light"
     },
     "output_type": "display_data"
    },
    {
     "name": "stdout",
     "output_type": "stream",
     "text": [
      "90th Percentile: 2\n",
      "95th Percentile: 2\n",
      "99th Percentile: 4\n"
     ]
    },
    {
     "data": {
      "text/plain": [
       "0.0001"
      ]
     },
     "execution_count": 23,
     "metadata": {},
     "output_type": "execute_result"
    }
   ],
   "source": [
    "fieldoi = 'Volumegen'\n",
    "spoofevents[fieldoi].clip(0,spoofevents[fieldoi].quantile(0.99)).hist(bins=20); plt.show()\n",
    "perc(0.9,spoofevents[fieldoi])\n",
    "perc(0.95,spoofevents[fieldoi])\n",
    "perc(0.99,spoofevents[fieldoi])\n",
    "spoofevents[fieldoi].min()"
   ]
  },
  {
   "cell_type": "code",
   "execution_count": 26,
   "metadata": {},
   "outputs": [
    {
     "data": {
      "image/png": "[encoded data removed]",
      "text/plain": [
       "<Figure size 432x288 with 1 Axes>"
      ]
     },
     "metadata": {
      "needs_background": "light"
     },
     "output_type": "display_data"
    },
    {
     "name": "stdout",
     "output_type": "stream",
     "text": [
      "90th Percentile: 286\n",
      "95th Percentile: 515\n",
      "99th Percentile: 1923\n"
     ]
    },
    {
     "data": {
      "text/plain": [
       "10.002252"
      ]
     },
     "execution_count": 26,
     "metadata": {},
     "output_type": "execute_result"
    }
   ],
   "source": [
    "fieldoi = 'Genuine/spoofRatio'\n",
    "spoofevents[fieldoi].clip(0,spoofevents[fieldoi].quantile(0.99)).hist(bins=20); plt.show()\n",
    "perc(0.9,spoofevents[fieldoi])\n",
    "perc(0.95,spoofevents[fieldoi])\n",
    "perc(0.99,spoofevents[fieldoi])\n",
    "spoofevents[fieldoi].min()"
   ]
  },
  {
   "cell_type": "code",
   "execution_count": 24,
   "metadata": {},
   "outputs": [
    {
     "data": {
      "image/png": "[encoded data removed]",
      "text/plain": [
       "<Figure size 432x288 with 1 Axes>"
      ]
     },
     "metadata": {
      "needs_background": "light"
     },
     "output_type": "display_data"
    },
    {
     "name": "stdout",
     "output_type": "stream",
     "text": [
      "90th Percentile: 2290\n",
      "95th Percentile: 3038\n",
      "99th Percentile: 3674\n"
     ]
    },
    {
     "data": {
      "text/plain": [
       "0.0"
      ]
     },
     "execution_count": 24,
     "metadata": {},
     "output_type": "execute_result"
    }
   ],
   "source": [
    "fieldoi = 'Totalgain'\n",
    "spoofevents[fieldoi].clip(0,spoofevents[fieldoi].quantile(0.95)).hist(bins=20); plt.show()\n",
    "perc(0.9,spoofevents[fieldoi])\n",
    "perc(0.95,spoofevents[fieldoi])\n",
    "perc(0.99,spoofevents[fieldoi])\n",
    "spoofevents[fieldoi].min()"
   ]
  },
  {
   "cell_type": "code",
   "execution_count": 29,
   "metadata": {},
   "outputs": [
    {
     "data": {
      "image/png": "[encoded data removed]",
      "text/plain": [
       "<Figure size 432x288 with 1 Axes>"
      ]
     },
     "metadata": {
      "needs_background": "light"
     },
     "output_type": "display_data"
    },
    {
     "name": "stdout",
     "output_type": "stream",
     "text": [
      "50th Percentile: 27\n",
      "75th Percentile: 58\n",
      "90th Percentile: 132\n",
      "95th Percentile: 181\n",
      "99th Percentile: 281\n"
     ]
    },
    {
     "data": {
      "text/plain": [
       "10"
      ]
     },
     "execution_count": 29,
     "metadata": {},
     "output_type": "execute_result"
    }
   ],
   "source": [
    "fieldoi = 'spoofOrderCount'\n",
    "spoofevents[fieldoi].clip(0,spoofevents[fieldoi].quantile(0.99)).hist(bins=20); plt.show()\n",
    "perc(0.50,spoofevents[fieldoi])\n",
    "perc(0.75,spoofevents[fieldoi])\n",
    "perc(0.9,spoofevents[fieldoi])\n",
    "perc(0.95,spoofevents[fieldoi])\n",
    "perc(0.99,spoofevents[fieldoi])\n",
    "spoofevents[fieldoi].min()"
   ]
  },
  {
   "cell_type": "code",
   "execution_count": 12,
   "metadata": {},
   "outputs": [
    {
     "data": {
      "text/html": [
       "<div>\n",
       "<style scoped>\n",
       "    .dataframe tbody tr th:only-of-type {\n",
       "        vertical-align: middle;\n",
       "    }\n",
       "\n",
       "    .dataframe tbody tr th {\n",
       "        vertical-align: top;\n",
       "    }\n",
       "\n",
       "    .dataframe thead th {\n",
       "        text-align: right;\n",
       "    }\n",
       "</style>\n",
       "<table border=\"1\" class=\"dataframe\">\n",
       "  <thead>\n",
       "    <tr style=\"text-align: right;\">\n",
       "      <th></th>\n",
       "      <th></th>\n",
       "      <th></th>\n",
       "      <th>0</th>\n",
       "    </tr>\n",
       "    <tr>\n",
       "      <th>Date</th>\n",
       "      <th>Security</th>\n",
       "      <th>Broker</th>\n",
       "      <th></th>\n",
       "    </tr>\n",
       "  </thead>\n",
       "  <tbody>\n",
       "    <tr>\n",
       "      <th>2019-05-01</th>\n",
       "      <th>BTCUSD</th>\n",
       "      <th>22440</th>\n",
       "      <td>238</td>\n",
       "    </tr>\n",
       "    <tr>\n",
       "      <th>2019-05-02</th>\n",
       "      <th>ZECUSD</th>\n",
       "      <th>355845</th>\n",
       "      <td>11</td>\n",
       "    </tr>\n",
       "    <tr>\n",
       "      <th>2019-05-03</th>\n",
       "      <th>BTCUSD</th>\n",
       "      <th>31800</th>\n",
       "      <td>258</td>\n",
       "    </tr>\n",
       "    <tr>\n",
       "      <th>2019-05-04</th>\n",
       "      <th>BTCUSD</th>\n",
       "      <th>22440</th>\n",
       "      <td>5900</td>\n",
       "    </tr>\n",
       "    <tr>\n",
       "      <th>2019-05-05</th>\n",
       "      <th>BTCUSD</th>\n",
       "      <th>22440</th>\n",
       "      <td>1038</td>\n",
       "    </tr>\n",
       "    <tr>\n",
       "      <th>2019-05-07</th>\n",
       "      <th>BTCUSD</th>\n",
       "      <th>22440</th>\n",
       "      <td>1532</td>\n",
       "    </tr>\n",
       "    <tr>\n",
       "      <th>2019-05-08</th>\n",
       "      <th>BTCUSD</th>\n",
       "      <th>22440</th>\n",
       "      <td>5688</td>\n",
       "    </tr>\n",
       "    <tr>\n",
       "      <th>2019-05-09</th>\n",
       "      <th>BTCUSD</th>\n",
       "      <th>22440</th>\n",
       "      <td>93</td>\n",
       "    </tr>\n",
       "    <tr>\n",
       "      <th rowspan=\"2\" valign=\"top\">2019-05-10</th>\n",
       "      <th rowspan=\"2\" valign=\"top\">BTCUSD</th>\n",
       "      <th>22440</th>\n",
       "      <td>1393</td>\n",
       "    </tr>\n",
       "    <tr>\n",
       "      <th>31800</th>\n",
       "      <td>127</td>\n",
       "    </tr>\n",
       "  </tbody>\n",
       "</table>\n",
       "</div>"
      ],
      "text/plain": [
       "                               0\n",
       "Date       Security Broker      \n",
       "2019-05-01 BTCUSD   22440    238\n",
       "2019-05-02 ZECUSD   355845    11\n",
       "2019-05-03 BTCUSD   31800    258\n",
       "2019-05-04 BTCUSD   22440   5900\n",
       "2019-05-05 BTCUSD   22440   1038\n",
       "2019-05-07 BTCUSD   22440   1532\n",
       "2019-05-08 BTCUSD   22440   5688\n",
       "2019-05-09 BTCUSD   22440     93\n",
       "2019-05-10 BTCUSD   22440   1393\n",
       "                    31800    127"
      ]
     },
     "execution_count": 12,
     "metadata": {},
     "output_type": "execute_result"
    }
   ],
   "source": [
    "events4032 = pd.DataFrame(events4032_eod.groupby(['Date','Security','Broker']).count().max(axis=1))\n",
    "events4032.head(10)"
   ]
  },
  {
   "cell_type": "markdown",
   "metadata": {},
   "source": [
    "#### >>> Testing"
   ]
  },
  {
   "cell_type": "code",
   "execution_count": 13,
   "metadata": {},
   "outputs": [
    {
     "ename": "SyntaxError",
     "evalue": "'break' outside loop (cell_name, line 4)",
     "output_type": "error",
     "traceback": [
      "\u001b[0;36m  File \u001b[0;32m\"cell_name\"\u001b[0;36m, line \u001b[0;32m4\u001b[0m\n\u001b[0;31mSyntaxError\u001b[0m\u001b[0;31m:\u001b[0m 'break' outside loop\n"
     ]
    }
   ],
   "source": [
    "break"
   ]
  },
  {
   "cell_type": "markdown",
   "metadata": {},
   "source": [
    "#### 4032.5 Account, Pair Aggregation"
   ]
  },
  {
   "cell_type": "code",
   "execution_count": null,
   "metadata": {},
   "outputs": [],
   "source": [
    "# bool1 = alerts4032.groupby(['Broker','Security']).sum()[['gain_decimal','tradevalue']].rename(columns={'gain_decimal':'gain'})\n",
    "# bool1['tradeval000'] = bool1['tradevalue']/1000\n",
    "# countt = alerts4032.groupby(['Broker','Security']).count()['gain_decimal']\n",
    "\n",
    "# round(pd.concat([countt,bool1.drop(columns='tradevalue')],axis=1).rename(columns={'gain_decimal':'count'}).reset_index())\n",
    "# alerts4032.groupby(['Broker','Security']).count()"
   ]
  },
  {
   "cell_type": "markdown",
   "metadata": {},
   "source": [
    "### Rollup Across All Scenarios (4022, 4023, 4032)"
   ]
  },
  {
   "cell_type": "code",
   "execution_count": null,
   "metadata": {},
   "outputs": [],
   "source": [
    "renamedict = {'InstrumentName':'Security', 'AccountIDName':'Broker'}\n",
    "fulltable = pd.concat([alerts4022,alerts4023],axis=0).rename(columns=renamedict).append(alerts4032,sort=True)\n",
    "boolean = ~fulltable.isna().apply(any,axis=0)\n",
    "boolean2 = boolean[boolean].index.tolist()\n",
    "fulltable2 =  fulltable[boolean2 + ['LongText']]"
   ]
  },
  {
   "cell_type": "code",
   "execution_count": null,
   "metadata": {},
   "outputs": [],
   "source": [
    "# for i in testdata['LongText']:\n",
    "#     print(i,'\\n')"
   ]
  },
  {
   "cell_type": "markdown",
   "metadata": {},
   "source": [
    "### Case Level Analysis L&R"
   ]
  },
  {
   "cell_type": "code",
   "execution_count": null,
   "metadata": {},
   "outputs": [],
   "source": [
    "alerting_1 = datetime.date(2019,3,1)\n",
    "alerting_2 = datetime.date(2019,4,30)\n",
    "acc = 22440"
   ]
  },
  {
   "cell_type": "code",
   "execution_count": null,
   "metadata": {},
   "outputs": [],
   "source": [
    "testdata = fulltable2.loc[fulltable2['Broker'] == 605611]\n",
    "testdata[['Account', 'numLayers', 'numStepsLast', 'bidShare', 'bidPrice', 'askShare', 'askPrice']] = testdata['LongText'].str.extract(r'\\D+(\\d+)\\D+(\\d+)\\D+(\\d+)\\D+([\\d.,]+)\\D+([\\d.,]+)\\D+([\\d.,]+)\\D+([\\d.,]+).+', expand=True).apply(pd.to_numeric)\n",
    "testdata['diff'] = testdata['askShare']/testdata['bidPrice']\n",
    "\n",
    "testdata['diff'] = round(testdata['askShare']/testdata['bidPrice'],4)\n",
    "testdata[['bidShare','askShare']] = round(testdata[['bidShare','askShare']],2)\n",
    "\n",
    "spoof_fig1 = testdata[['Date','Security','numLayers','numStepsLast','bidShare', 'bidPrice', 'askShare', 'askPrice','diff']]\n",
    "spoof_fig1.set_index(['Security','Date'])"
   ]
  },
  {
   "cell_type": "code",
   "execution_count": null,
   "metadata": {},
   "outputs": [],
   "source": [
    "spoof_fig1.shape"
   ]
  },
  {
   "cell_type": "code",
   "execution_count": null,
   "metadata": {},
   "outputs": [],
   "source": [
    "query3 = \"\"\" \n",
    "        SELECT created::date, trading_pair, account_id, firsttable.side, sum(firsttable.price * COALESCE(secondtable.open_price,1) * quantity) as val, sum(quantity) as units\n",
    "        \n",
    "        from  \n",
    "            (SELECT account_id, event_id, side, price, quantity, trading_pair, created, date_trunc('minute', created) start_time, substring(trading_pair::varchar,4,6) as trunc\n",
    "            from order_fill_event \n",
    "            where created::date between '{t1}' and '{t2}' and trading_pair in ({p})) as firsttable\n",
    "        left join \n",
    "            (SELECT substring(trading_pair::varchar,1,3) as truncmatch, start_time, open_price\n",
    "            from candles_1m \n",
    "            where start_time::date between '{t1}' and '{t2}' and substring(trading_pair::varchar,4,6) = 'USD') as secondtable\n",
    "        \n",
    "        on firsttable.trunc = secondtable.truncmatch and firsttable.start_time = secondtable.start_time\n",
    "        \n",
    "        group by firsttable.side, account_id, trading_pair, created::date;\n",
    "        \"\"\".format(t1 = alerting_1.strftime(\"%Y-%m-%d\"), t2 = alerting_2.strftime(\"%Y-%m-%d\"), p = str(pd.unique(spoof_fig1['Security']).tolist()).replace('[','').replace(']',''))\n",
    "\n",
    "test = execute_query_data_frame(query3,'engine')\n",
    "table = pd.pivot_table(test, index=['trading_pair','account_id','created'], columns='side',values=['val','units']).fillna(0)\n",
    "table2 = table['val'] / table['units']\n",
    "table2['diff'] = table2['sell'] / table2['buy'] - 1"
   ]
  },
  {
   "cell_type": "code",
   "execution_count": null,
   "metadata": {},
   "outputs": [],
   "source": [
    "for i in pd.unique(spoof_fig1['Security']).tolist():\n",
    "    df = table2.reset_index().loc[table2.reset_index()['trading_pair'] == i, 'diff'].dropna()\n",
    "    df.hist(bins=30)\n",
    "    print(i,'99th percentile: ', df.quantile(0.99))\n",
    "    plt.show()"
   ]
  },
  {
   "cell_type": "code",
   "execution_count": null,
   "metadata": {},
   "outputs": [],
   "source": [
    "query = \"\"\"\n",
    "        SELECT *\n",
    "        from account_derived_metadata\n",
    "        where exchange_account_id in ({})\n",
    "        \"\"\".format(acc)\n",
    "\n",
    "test = execute_query_data_frame(query,'engine')\n",
    "test.transpose()"
   ]
  },
  {
   "cell_type": "code",
   "execution_count": null,
   "metadata": {},
   "outputs": [],
   "source": [
    "query = \"\"\"\n",
    "        SELECT side, trading_pair, sum(quantity)        \n",
    "        from order_fill_event\n",
    "        where account_id = {} and created::date between '{}' and '{}'\n",
    "        group by side, trading_pair\n",
    "        \"\"\".format(acc,alerting_1.strftime(\"%Y%m%d\"),alerting_2.strftime(\"%Y%m%d\"))\n",
    "\n",
    "test_meta = execute_query_data_frame(query,'engine'); test_meta.head()\n",
    "test_meta2 = pd.pivot_table(test_meta, index=['trading_pair'], columns='side',values='sum', aggfunc=np.sum)\n",
    "round(pd.concat([test_meta2,pd.DataFrame(test_meta2.sum(axis=0)).rename(columns={0:'TOTAL'}).transpose()], axis=0),2)"
   ]
  },
  {
   "cell_type": "code",
   "execution_count": null,
   "metadata": {},
   "outputs": [],
   "source": [
    "query3 = \"\"\" \n",
    "        SELECT account_id, trading_pair, firsttable.side, sum(firsttable.price * COALESCE(secondtable.open_price,1) * quantity) as val, sum(quantity) as units\n",
    "        \n",
    "        from  \n",
    "            (SELECT account_id, event_id, side, price, quantity, trading_pair, date_trunc('minute', created) start_time, substring(trading_pair::varchar,4,6) as trunc\n",
    "            from order_fill_event \n",
    "            where created::date between '{t1}' and '{t2}' and account_id in ({x})) as firsttable\n",
    "        left join \n",
    "            (SELECT substring(trading_pair::varchar,1,3) as truncmatch, start_time, open_price\n",
    "            from candles_1m \n",
    "            where start_time::date between '{t1}' and '{t2}' and substring(trading_pair::varchar,4,6) = 'USD') as secondtable\n",
    "        \n",
    "        on firsttable.trunc = secondtable.truncmatch and firsttable.start_time = secondtable.start_time\n",
    "\n",
    "        group by firsttable.trading_pair, firsttable.side, account_id;\n",
    "        \"\"\".format(t1 = alerting_1.strftime(\"%Y%m%d\"), t2 = alerting_2.strftime(\"%Y%m%d\"), x=acc)\n",
    "\n",
    "output3_D = execute_query_data_frame(query3,'engine'); output3_D\n",
    "output3 = pd.pivot_table(output3_D, values=['val','units'], index=['trading_pair'], columns=['side'], aggfunc=np.sum); output3.astype(int)\n",
    "pd.concat([output3,pd.DataFrame(output3.sum(axis=0)).rename(columns={0:'TOTAL'}).transpose()], axis=0).astype(int)"
   ]
  },
  {
   "cell_type": "code",
   "execution_count": null,
   "metadata": {},
   "outputs": [],
   "source": []
  },
  {
   "cell_type": "markdown",
   "metadata": {},
   "source": [
    "#### >>> Slide Show- Figure 1"
   ]
  },
  {
   "cell_type": "code",
   "execution_count": null,
   "metadata": {},
   "outputs": [],
   "source": [
    "# alerts0_gb = alerts0.groupby(['AlertCode','ShortText'])\n",
    "# fig1 = pd.concat([alerts0_gb['AccountIDName'].unique(), alerts0_gb.count()['AlertID']],axis=1).reset_index().rename(columns={'AlertID':'numEvents'})\n",
    "\n",
    "# fig1['numAlerts'] = fig1['numEvents']\n",
    "# fig1.loc[fig1['ShortText'] == 'MULTI ORDER SPOOFING EOD','numEvents'] = alerts4032.shape[0]\n",
    "# fig1.loc[fig1['ShortText'] == 'MULTI ORDER SPOOFING','numEvents'] = 'NaN'\n",
    "# fig1"
   ]
  },
  {
   "cell_type": "code",
   "execution_count": null,
   "metadata": {},
   "outputs": [],
   "source": [
    "# summary = pd.pivot_table(alerts0.groupby(['AccountIDName','ShortText','AlertCode']).count(), values='Date', index=['AlertCode'], columns=['AccountIDName'], aggfunc=np.sum).fillna(value=0).astype(int)\n",
    "# totalUP(summary)"
   ]
  },
  {
   "cell_type": "markdown",
   "metadata": {},
   "source": [
    "#### >>> Slide Show- Figure 2"
   ]
  },
  {
   "cell_type": "code",
   "execution_count": null,
   "metadata": {},
   "outputs": [],
   "source": [
    "# fulltable2.head()"
   ]
  },
  {
   "cell_type": "code",
   "execution_count": null,
   "metadata": {},
   "outputs": [],
   "source": [
    "# events = pd.DataFrame(fulltable2.groupby([(fulltable2['Date'].dt.month),'AlertCode']).count()['Broker'])\n",
    "# eventtable = pd.pivot_table(events, values='Broker', index=['Broker'], columns=['Date'], aggfunc=np.sum).fillna(value=0).astype(int)\n",
    "# fig2 = totalUP(eventtable)\n",
    "# fig2"
   ]
  },
  {
   "cell_type": "markdown",
   "metadata": {},
   "source": [
    "#### >>> Slide Show- Figure 3"
   ]
  },
  {
   "cell_type": "code",
   "execution_count": null,
   "metadata": {},
   "outputs": [],
   "source": [
    "# # Dates\n",
    "# base = datetime.date(2019,3,1)\n",
    "# datePD = pd.DataFrame(base + datetime.timedelta(days=x) for x in range(0, 59-1)).set_index(0)\n",
    "\n",
    "# data = pd.DataFrame(fulltable2['Date'].value_counts()).rename(columns={'Date':'Events'})\n",
    "# datedata = pd.concat([datePD,data['Events']],axis=1,sort=True).reset_index(drop=False)\n",
    "# datedata['Date'] = pd.to_datetime(datedata['index'])\n",
    "# datedata2 = datedata.fillna(value=0).drop(columns='index').sort_values('Date').reset_index(drop=True)\n",
    "# datedata2.head()\n",
    "# datedata2['Date'] = datedata2['Date'].astype(str)"
   ]
  },
  {
   "cell_type": "code",
   "execution_count": null,
   "metadata": {},
   "outputs": [],
   "source": [
    "# # PLOT\n",
    "# data = []\n",
    "# for i in datedata2.values:\n",
    "#     d = datetime.datetime.strptime(i[1], '%Y-%m-%d')\n",
    "#     data.append([d,i[0]])\n",
    "    \n",
    "# data = numpy.array(data)\n",
    "\n",
    "# fig, ax = plt.subplots(figsize=(15,4))\n",
    "# locator = mpl.dates.WeekdayLocator()\n",
    "\n",
    "# ax.xaxis.set_major_locator(locator)\n",
    "# ax.xaxis.set_major_formatter(mpl.dates.DateFormatter('%Y-%m-%d'))\n",
    "# ax.grid(True)\n",
    "\n",
    "# _=ax.plot_date(data[:,0], data[:,1],linestyle='-')\n",
    "# for tick in ax.get_xticklabels():\n",
    "#     tick.set_rotation(30)"
   ]
  },
  {
   "cell_type": "markdown",
   "metadata": {},
   "source": [
    "#### >>> Slide Show- Figure 4"
   ]
  },
  {
   "cell_type": "code",
   "execution_count": null,
   "metadata": {},
   "outputs": [],
   "source": [
    "# metrics(fulltable2['Broker'])"
   ]
  },
  {
   "cell_type": "markdown",
   "metadata": {},
   "source": [
    "#### >>> Slide Show- Figure 5"
   ]
  },
  {
   "cell_type": "code",
   "execution_count": null,
   "metadata": {},
   "outputs": [],
   "source": [
    "# metrics(fulltable2['Security'])"
   ]
  },
  {
   "cell_type": "markdown",
   "metadata": {},
   "source": [
    "### Case Level Outputs"
   ]
  },
  {
   "cell_type": "code",
   "execution_count": null,
   "metadata": {},
   "outputs": [],
   "source": [
    "# pd.pivot_table(fulltable2.groupby(['Broker','AlertCode']).count(), values='Security', index=['AlertCode'], columns=['Broker'], aggfunc=np.sum).fillna(0).astype(int)"
   ]
  },
  {
   "cell_type": "code",
   "execution_count": null,
   "metadata": {},
   "outputs": [],
   "source": [
    "# pd.pivot_table(fulltable2.groupby(['Broker','AlertCode']).count(), values='Security', index=['AlertCode'], columns=['Broker'], aggfunc=np.sum).fillna(0).astype(int)"
   ]
  },
  {
   "cell_type": "code",
   "execution_count": null,
   "metadata": {},
   "outputs": [],
   "source": [
    "# fulltable2.loc[fulltable2['Broker'] == 202474].groupby(['Security','Date']).count()"
   ]
  },
  {
   "cell_type": "code",
   "execution_count": null,
   "metadata": {},
   "outputs": [],
   "source": [
    "# gpDate = fulltable2.groupby('Broker')\n",
    "\n",
    "# gpDate2 = pd.concat([gpDate['Date'].count(),gpDate['AlertCode'].apply(pd.unique).apply(sorted),gpDate['Date'].min(),gpDate['Date'].max()],axis=1)\n",
    "# gpDate2.columns = ['Count','Scenarios','Date_min', 'Date_max']\n",
    "# gpDate2['diff'] = gpDate2['Date_max'] - gpDate2['Date_min']"
   ]
  },
  {
   "cell_type": "code",
   "execution_count": null,
   "metadata": {},
   "outputs": [],
   "source": [
    "# casedict = {}\n",
    "# for i in fulltable2['Broker'].value_counts().index.tolist(): casedict[i] = fulltable2.loc[fulltable2['Broker'] == i]\n",
    "\n",
    "# casedict.keys()\n",
    "\n",
    "# writerSPOOF = pd.ExcelWriter('SPOOFfigures.xlsx', engine='xlsxwriter')\n",
    "\n",
    "# for i in casedict.keys():\n",
    "#     casedict[i].to_excel(writerSPOOF, str(i))\n",
    "\n",
    "# writerSPOOF.save()"
   ]
  },
  {
   "cell_type": "code",
   "execution_count": null,
   "metadata": {},
   "outputs": [],
   "source": [
    "# case44_0 = pd.DataFrame(casedict[22440].groupby(['Security','AlertCode']).count()['Broker'])\n",
    "# pd.pivot_table(case44_0, values='Broker', index=['AlertCode'], columns=['Security'], aggfunc=np.sum).fillna(0).astype(int)\n",
    "\n",
    "# case45_0 = pd.DataFrame(casedict[202474].groupby(['Security','AlertCode']).count()['Broker'])\n",
    "# pd.pivot_table(case45_0, values='Broker', index=['AlertCode'], columns=['Security'], aggfunc=np.sum).fillna(0).astype(int)\n",
    "\n",
    "# case46_0 = pd.DataFrame(casedict[355845].groupby(['Security','AlertCode']).count()['Broker'])\n",
    "# pd.pivot_table(case46_0, values='Broker', index=['AlertCode'], columns=['Security'], aggfunc=np.sum).fillna(0).astype(int)"
   ]
  },
  {
   "cell_type": "markdown",
   "metadata": {},
   "source": [
    "### High Level Analytics"
   ]
  },
  {
   "cell_type": "markdown",
   "metadata": {},
   "source": [
    "### Queries"
   ]
  },
  {
   "cell_type": "code",
   "execution_count": null,
   "metadata": {},
   "outputs": [],
   "source": [
    "# query = \"\"\"\n",
    "#         SELECT *\n",
    "#         from daily_conversion_rates \n",
    "#         where created between '2019-03-09' and '2019-03-12' and trading_pair = 'LTCUSD';\n",
    "#         \"\"\"\n",
    "\n",
    "# test = execute_query_data_frame(query,'engine')\n",
    "# test"
   ]
  },
  {
   "cell_type": "markdown",
   "metadata": {},
   "source": [
    "#### Initialize Excel Writer"
   ]
  },
  {
   "cell_type": "code",
   "execution_count": null,
   "metadata": {},
   "outputs": [],
   "source": [
    "# writer = pd.ExcelWriter('WashAlertReview_Figures.xlsx', engine='xlsxwriter')\n",
    "# fig_0.to_excel(writer, 'fig_0')\n",
    "# writer.save()"
   ]
  },
  {
   "cell_type": "code",
   "execution_count": null,
   "metadata": {},
   "outputs": [],
   "source": [
    "thisacc = 22440"
   ]
  },
  {
   "cell_type": "code",
   "execution_count": null,
   "metadata": {},
   "outputs": [],
   "source": [
    "newdf2 = newdf.loc[newdf['Broker'] == thisacc].fillna(0)\n",
    "newdf2['VolumespoofSide'] = newdf2['VolumespoofSide'].str.replace(' ','').str.replace('x','').astype(float)\n",
    "newdf2['PricespoofSide'] = newdf2['PricespoofSide'].str.replace(' ','').astype(float)"
   ]
  },
  {
   "cell_type": "code",
   "execution_count": null,
   "metadata": {},
   "outputs": [],
   "source": [
    "spoofgb = newdf2.groupby(['Date','spoofEventNr'])\n",
    "\n",
    "count = spoofgb['spoofOrderCount'].max().astype(int)\n",
    "tradingpair = spoofgb['Security'].apply(pd.unique).apply(lambda col: col[0])\n",
    "direction = spoofgb['Direction'].apply(lambda col: col.value_counts().index[1])\n",
    "avgspoofvol = spoofgb['VolumespoofSide'].mean()\n",
    "avgspoofp = spoofgb['PricespoofSide'].mean()\n",
    "priceAfter = spoofgb['price'].sum()\n",
    "priceBefore = spoofgb['pricebefore'].sum()\n",
    "tradevol = spoofgb['vol'].max()"
   ]
  },
  {
   "cell_type": "code",
   "execution_count": null,
   "metadata": {},
   "outputs": [],
   "source": [
    "spooftable = pd.concat([count, tradingpair, direction, avgspoofvol, round(avgspoofp,2), priceBefore, priceAfter, tradevol],axis=1)\n",
    "spooftable.columns = ['count', 'tradingpair', 'direction', 'avgspoofvol', 'avgspoofp', 'priceBefore', 'priceAfter', 'tradevol']\n",
    "spooftable.head()"
   ]
  },
  {
   "cell_type": "code",
   "execution_count": null,
   "metadata": {},
   "outputs": [],
   "source": [
    "spoof_byside = spooftable.reset_index()\n",
    "spoof_byside['neg'] = 2 * (spoof_byside['direction'] == 'buy')-1\n",
    "spoof_byside['adv'] = spoof_byside['priceAfter']/spoof_byside['priceBefore']-1\n",
    "spoof_byside[['count', 'avgspoofvol', 'avgspoofp', 'priceBefore', 'priceAfter']] = spoof_byside[['count', 'avgspoofvol', 'avgspoofp', 'priceBefore', 'priceAfter']].mul(spoof_byside['neg'],axis=0)\n",
    "spoof_byside['ratio'] = spoof_byside['avgspoofvol'] / spoof_byside['tradevol']\n",
    "\n",
    "spoof_byside.head()"
   ]
  },
  {
   "cell_type": "code",
   "execution_count": null,
   "metadata": {},
   "outputs": [],
   "source": [
    "spoof_byside.sort_values('ratio',ascending =False)"
   ]
  },
  {
   "cell_type": "code",
   "execution_count": null,
   "metadata": {},
   "outputs": [],
   "source": [
    "break"
   ]
  },
  {
   "cell_type": "code",
   "execution_count": null,
   "metadata": {},
   "outputs": [],
   "source": [
    "spoof_byside.max()['Date'] - spoof_byside.min()['Date']"
   ]
  },
  {
   "cell_type": "code",
   "execution_count": null,
   "metadata": {},
   "outputs": [],
   "source": [
    "spoof_byside['ratio'].hist(bins=100)\n",
    "print('Ratio of Average Spoof Volume to Actual Traded Volume')"
   ]
  },
  {
   "cell_type": "code",
   "execution_count": null,
   "metadata": {},
   "outputs": [],
   "source": [
    "spoof_byside['avgspoofvol'].hist(bins=100)"
   ]
  },
  {
   "cell_type": "code",
   "execution_count": null,
   "metadata": {},
   "outputs": [],
   "source": [
    "spoofsperday = spoof_byside.groupby('Date').max()['spoofEventNr']\n",
    "print('percentile 95: ',int(spoofsperday.quantile(0.95)))\n",
    "print('percentile 99: ',int(spoofsperday.quantile(0.99)))\n",
    "\n",
    "spoofsperday.hist(bins=100)\n",
    "print('Number of Spoofing Alert Events per Day')"
   ]
  },
  {
   "cell_type": "code",
   "execution_count": null,
   "metadata": {},
   "outputs": [],
   "source": [
    "eventsperspoof = spoof_byside['count']\n",
    "eventsperspoof.hist(bins=100)\n",
    "print('Number of Spoofs per Alert Event')"
   ]
  },
  {
   "cell_type": "code",
   "execution_count": null,
   "metadata": {},
   "outputs": [],
   "source": [
    "spoof_byside['adv'].hist(bins=50)\n",
    "print('Price Advantage Gained from Spoofing (Percentage)')"
   ]
  },
  {
   "cell_type": "code",
   "execution_count": null,
   "metadata": {},
   "outputs": [],
   "source": [
    "alerting_1 = datetime.date(2019,3,1)\n",
    "alerting_2 = datetime.date(2019,4,30)\n",
    "\n",
    "query = \"\"\" \n",
    "        SELECT account_id, trading_pair, firsttable.side, sum(firsttable.price * COALESCE(secondtable.open_price,1) * quantity) as val, sum(quantity) as units\n",
    "        \n",
    "        from  \n",
    "            (SELECT account_id, event_id, side, price, quantity, trading_pair, date_trunc('minute', created) start_time, substring(trading_pair::varchar,4,6) as trunc\n",
    "            from order_fill_event \n",
    "            where created::date between '{t1}' and '{t2}' and account_id in ({x})) as firsttable\n",
    "        left join \n",
    "            (SELECT substring(trading_pair::varchar,1,3) as truncmatch, start_time, open_price\n",
    "            from candles_1m \n",
    "            where start_time::date between '{t1}' and '{t2}' and substring(trading_pair::varchar,4,6) = 'USD') as secondtable\n",
    "        \n",
    "        on firsttable.trunc = secondtable.truncmatch and firsttable.start_time = secondtable.start_time\n",
    "\n",
    "        group by firsttable.trading_pair, firsttable.side, account_id;\n",
    "        \"\"\".format(t1 = alerting_1.strftime(\"%Y%m%d\"), t2 = alerting_2.strftime(\"%Y%m%d\"), x=thisacc)\n",
    "\n",
    "data = execute_query_data_frame(query,'engine')\n",
    "data1 = pd.pivot_table(data, values=['val','units'], index=['trading_pair'], columns=['side'], aggfunc=np.sum);\n",
    "round(pd.concat([data1,data1['val']/data1['units']],axis=1).transpose()).astype(int)"
   ]
  },
  {
   "cell_type": "code",
   "execution_count": null,
   "metadata": {},
   "outputs": [],
   "source": [
    "alerting_1 = datetime.date(2019,3,1)\n",
    "alerting_2 = datetime.date(2019,4,30)\n",
    "\n",
    "query = \"\"\" \n",
    "        SELECT account_id, trading_pair, firsttable.side, sum(firsttable.price * COALESCE(secondtable.open_price,1) * quantity) as val, sum(quantity) as units\n",
    "        \n",
    "        from  \n",
    "            (SELECT account_id, event_id, side, price, quantity, trading_pair, date_trunc('minute', created) start_time, substring(trading_pair::varchar,4,6) as trunc\n",
    "            from order_fill_event \n",
    "            where created::date between '{t1}' and '{t2}' and account_id in ({x}) and trading_pair = 'BTCUSD') as firsttable\n",
    "        left join \n",
    "            (SELECT substring(trading_pair::varchar,1,3) as truncmatch, start_time, open_price\n",
    "            from candles_1m \n",
    "            where start_time::date between '{t1}' and '{t2}' and substring(trading_pair::varchar,4,6) = 'USD') as secondtable\n",
    "        \n",
    "        on firsttable.trunc = secondtable.truncmatch and firsttable.start_time = secondtable.start_time\n",
    "\n",
    "        group by firsttable.trading_pair, firsttable.side, account_id;\n",
    "        \"\"\".format(t1 = alerting_1.strftime(\"%Y%m%d\"), t2 = alerting_2.strftime(\"%Y%m%d\"), x=thisacc)\n",
    "\n",
    "data = execute_query_data_frame(query,'engine')\n",
    "data1 = pd.pivot_table(data, values=['val','units'], index=['trading_pair'], columns=['side'], aggfunc=np.sum); output3.astype(int)\n",
    "round(pd.concat([data1,data1['val']/data1['units']],axis=1).transpose()).astype(int)"
   ]
  },
  {
   "cell_type": "code",
   "execution_count": null,
   "metadata": {},
   "outputs": [],
   "source": [
    "query = \"\"\" \n",
    "        SELECT account_id, firsttable.side, sum(firsttable.price * COALESCE(secondtable.open_price,1) * quantity)/1000000 as valmil\n",
    "        \n",
    "        from  \n",
    "            (SELECT account_id, event_id, side, price, quantity, trading_pair, date_trunc('minute', created) start_time, substring(trading_pair::varchar,4,6) as trunc\n",
    "            from order_fill_event \n",
    "            where created::date between '{t1}' and '{t2}' and account_id in ({x}) and trading_pair = 'BTCUSD') as firsttable\n",
    "        left join \n",
    "            (SELECT substring(trading_pair::varchar,1,3) as truncmatch, start_time, open_price\n",
    "            from candles_1m \n",
    "            where start_time::date between '{t1}' and '{t2}' and substring(trading_pair::varchar,4,6) = 'USD') as secondtable\n",
    "        \n",
    "        on firsttable.trunc = secondtable.truncmatch and firsttable.start_time = secondtable.start_time\n",
    "\n",
    "        group by account_id, firsttable.side;\n",
    "        \"\"\".format(t1 = alerting_1.strftime(\"%Y%m%d\"), t2 = alerting_2.strftime(\"%Y%m%d\"), x=thisacc)\n",
    "\n",
    "data = execute_query_data_frame(query,'engine'); data\n",
    "# data1 = pd.pivot_table(data, values=['val','units'], index=['trading_pair'], columns=['side'], aggfunc=np.sum); output3.astype(int)\n",
    "# round(pd.concat([data1,data1['val']/data1['units']],axis=1).transpose(),2)"
   ]
  },
  {
   "cell_type": "code",
   "execution_count": null,
   "metadata": {},
   "outputs": [],
   "source": [
    "query = \"\"\" \n",
    "        SELECT firsttable.side, sum(firsttable.price * COALESCE(secondtable.open_price,1) * quantity)/1000000 as valmil\n",
    "        \n",
    "        from  \n",
    "            (SELECT account_id, event_id, side, price, quantity, trading_pair, date_trunc('minute', created) start_time, substring(trading_pair::varchar,4,6) as trunc\n",
    "            from order_fill_event \n",
    "            where created::date between '{t1}' and '{t2}' and trading_pair = 'BTCUSD') as firsttable\n",
    "        left join \n",
    "            (SELECT substring(trading_pair::varchar,1,3) as truncmatch, start_time, open_price\n",
    "            from candles_1m \n",
    "            where start_time::date between '{t1}' and '{t2}' and substring(trading_pair::varchar,4,6) = 'USD') as secondtable\n",
    "        \n",
    "        on firsttable.trunc = secondtable.truncmatch and firsttable.start_time = secondtable.start_time\n",
    "\n",
    "        group by firsttable.side;\n",
    "        \"\"\".format(t1 = alerting_1.strftime(\"%Y%m%d\"), t2 = alerting_2.strftime(\"%Y%m%d\"), x=thisacc)\n",
    "\n",
    "data = execute_query_data_frame(query,'engine'); data\n",
    "# data1 = pd.pivot_table(data, values=['val','units'], index=['trading_pair'], columns=['side'], aggfunc=np.sum); output3.astype(int)\n",
    "# round(pd.concat([data1,data1['val']/data1['units']],axis=1).transpose(),2)"
   ]
  },
  {
   "cell_type": "code",
   "execution_count": null,
   "metadata": {},
   "outputs": [],
   "source": [
    "alerting_1 = datetime.date(2019,3,1)\n",
    "alerting_2 = datetime.date(2019,4,30)\n",
    "\n",
    "test = SmartsCsvDataModel(download_data=True).evaluate(instrument='BTCUSD', evaluation_date=alerting_2, begin_date=alerting_1, use_db=False)"
   ]
  },
  {
   "cell_type": "code",
   "execution_count": null,
   "metadata": {},
   "outputs": [],
   "source": [
    "data = data0.loc[(data0['account_id'] == thisacc) & (data0['event_type'] != 'Initial')]\n",
    "# data1 = pd.DataFrame(data.groupby(['order_id','event_date','event_type']).count()['event_id'])\n",
    "# data2 = pd.pivot_table(data1, index=['order_id','event_date'], columns = 'event_type', values='event_id')\n",
    "# data3 = data2.loc[~data2['Place'].isna()]"
   ]
  },
  {
   "cell_type": "code",
   "execution_count": null,
   "metadata": {},
   "outputs": [],
   "source": [
    "# data4 = data3.groupby('event_date').sum(); data4\n",
    "\n",
    "# data3['fillrate'] = 1 - data3['Cancel']/data3['Place']"
   ]
  },
  {
   "cell_type": "code",
   "execution_count": null,
   "metadata": {},
   "outputs": [],
   "source": [
    "test3 = data0.loc[(data0['event_type'] != 'Initial') & (data0['account_id'] == thisacc)]\n",
    "\n",
    "gb = test3.groupby('order_id')\n",
    "test4 = pd.concat([gb['original_quantity'].min(),gb['remaining_quantity'].min(),gb['total_exec_quantity'].max()],axis=1)\n",
    "test4['testquant'] = test4[['remaining_quantity','total_exec_quantity']].sum(axis=1)\n",
    "test4.loc[test4['original_quantity'] != test4['testquant']]\n",
    "test4['date'] = test4.index.map(test3.groupby(['order_id',test3['date_time'].dt.date]).count()['account_id'].reset_index().set_index('order_id')['date_time'].to_dict())\n",
    "test5 = test4.groupby('date').sum()\n",
    "\n",
    "test5['fillrate'] = test5['total_exec_quantity']/test5['original_quantity']\n",
    "test5"
   ]
  },
  {
   "cell_type": "code",
   "execution_count": null,
   "metadata": {},
   "outputs": [],
   "source": [
    "plt.rcParams['figure.figsize'] = (15,5)\n",
    "plt.plot_date(x=test5.index, y=test5['fillrate'], fmt=\"go-\",xdate=True)\n",
    "\n",
    "plt.ylabel(\"Fill Rate\")\n",
    "plt.title(\"{} - {}: Daily Fill Rate (by Volume) - Account {}\".format(alerting_1.strftime(\"%Y/%m/%d\"),alerting_2.strftime(\"%Y/%m/%d\"), thisacc))\n",
    "plt.grid(True)\n",
    "plt.legend()\n",
    "plt.xticks(rotation=20)\n",
    "plt.savefig(\"{}{}_PD_dailyfillRate.png\".format(alerting_1.strftime(\"%Y%b\"),alerting_2.strftime(\"%b\")))\n",
    "plt.show()"
   ]
  },
  {
   "cell_type": "code",
   "execution_count": null,
   "metadata": {},
   "outputs": [],
   "source": [
    "plt.rcParams['figure.figsize'] = (15,5)\n",
    "plt.plot_date(x=test5.index, y=test5['total_exec_quantity'], fmt=\"go-\",xdate=True)\n",
    "\n",
    "plt.ylabel(\"Fill Rate\")\n",
    "plt.title(\"{} - {}: Total Executed Volume - Account {}\".format(alerting_1.strftime(\"%Y/%m/%d\"),alerting_2.strftime(\"%Y/%m/%d\"), thisacc))\n",
    "plt.grid(True)\n",
    "plt.legend()\n",
    "plt.xticks(rotation=20)\n",
    "plt.savefig(\"{}{}_PD_dailyfillRate.png\".format(alerting_1.strftime(\"%Y%b\"),alerting_2.strftime(\"%b\")))\n",
    "plt.show()"
   ]
  },
  {
   "cell_type": "code",
   "execution_count": null,
   "metadata": {},
   "outputs": [],
   "source": [
    "output4 = pd.concat([data1,pd.DataFrame(data1.sum(axis=0)).rename(columns={0:'TOTAL'}).transpose()], axis=0).astype(int)"
   ]
  },
  {
   "cell_type": "code",
   "execution_count": null,
   "metadata": {},
   "outputs": [],
   "source": [
    "query = \"\"\"\n",
    "        SELECT *\n",
    "        from account_derived_metadata\n",
    "        where exchange_account_id in ({})\n",
    "        \"\"\".format(thisacc)\n",
    "\n",
    "test = execute_query_data_frame(query,'engine')\n",
    "test.transpose()"
   ]
  },
  {
   "cell_type": "code",
   "execution_count": null,
   "metadata": {},
   "outputs": [],
   "source": []
  }
 ],
 "metadata": {
  "kernelspec": {
   "display_name": "Python 3",
   "language": "python",
   "name": "python3"
  },
  "language_info": {
   "codemirror_mode": {
    "name": "ipython",
    "version": 3
   },
   "file_extension": ".py",
   "mimetype": "text/x-python",
   "name": "python",
   "nbconvert_exporter": "python",
   "pygments_lexer": "ipython3",
   "version": "3.7.0"
  }
 },
 "nbformat": 4,
 "nbformat_minor": 2
}
