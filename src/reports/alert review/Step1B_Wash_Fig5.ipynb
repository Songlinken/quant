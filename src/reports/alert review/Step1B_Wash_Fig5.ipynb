{
 "cells": [
  {
   "cell_type": "markdown",
   "metadata": {},
   "source": [
    "### Engine DB Queries for Wash Case Reports"
   ]
  },
  {
   "cell_type": "code",
   "execution_count": 1,
   "metadata": {},
   "outputs": [
    {
     "name": "stderr",
     "output_type": "stream",
     "text": [
      "/Users/sqian/.pyenv/versions/3.7.0/envs/env_370/lib/python3.7/site-packages/psycopg2/__init__.py:144: UserWarning: The psycopg2 wheel package will be renamed from release 2.8; in order to keep installing from binary please use \"pip install psycopg2-binary\" instead. For details see: <http://initd.org/psycopg/docs/install.html#binary-install-from-pypi>.\n",
      "  \"\"\")\n"
     ]
    }
   ],
   "source": [
    "import os; \n",
    "import pandas as pd; pd.set_option('mode.chained_assignment',None) \n",
    "import numpy as np\n",
    "import datetime\n",
    "import matplotlib.pyplot as plt\n",
    "import matplotlib.mlab as mlab\n",
    "import math\n",
    "import re\n",
    "import xlrd\n",
    "from xlsxwriter.utility import xl_rowcol_to_cell\n",
    "from random import sample\n",
    "import time\n",
    "\n",
    "from src.data_models.smartshelper import metrics, fixNum, unSMART, cparty, totalUP, wtf\n",
    "from src.data_models.SmartsDataModel import SmartsDataModel\n",
    "from src.utility.DataModelUtility import execute_query_data_frame"
   ]
  },
  {
   "cell_type": "markdown",
   "metadata": {},
   "source": [
    "#### 1) dates & accounts of interest"
   ]
  },
  {
   "cell_type": "code",
   "execution_count": 2,
   "metadata": {},
   "outputs": [],
   "source": [
    "alerting_1 = datetime.date(2019,8,1)\n",
    "alerting_2 = datetime.date(2019,8,31)\n",
    "\n",
    "worst = [22440, 811415]\n",
    "remainingcpty = [1507866, 772544, 444259, 711292, 355845, 952523, 453659, 3032, 2647, 395052, 1595, 898579, 450782, 135552, 195483, 568127, 885724, 1403, 1169466]\n",
    "\n",
    "pairlist = []\n",
    "\n",
    "for i in worst: \n",
    "    for j in worst: \n",
    "        if i < j: pairlist.append([i,j])"
   ]
  },
  {
   "cell_type": "markdown",
   "metadata": {},
   "source": [
    "#### 1A)  traded value($M) by Account (approximation- DO NOT USE)"
   ]
  },
  {
   "cell_type": "code",
   "execution_count": 3,
   "metadata": {},
   "outputs": [
    {
     "name": "stderr",
     "output_type": "stream",
     "text": [
      "INFO:root:Constructing Singleton\n",
      "INFO:root:Using global configuration /Users/sqian/msv.yaml.\n",
      "INFO:root:Completed loading configuration.\n",
      "INFO:paramiko.transport:Connected (version 2.0, client OpenSSH_7.4p1)\n",
      "INFO:paramiko.transport:Authentication (publickey) successful!\n"
     ]
    },
    {
     "name": "stdout",
     "output_type": "stream",
     "text": [
      "ssh_connect 0:00:00.858088\n"
     ]
    },
    {
     "name": "stderr",
     "output_type": "stream",
     "text": [
      "INFO:root:Loaded dataframe with 60 rows in 0:00:01.559712.\n"
     ]
    },
    {
     "data": {
      "text/html": [
       "<div>\n",
       "<style scoped>\n",
       "    .dataframe tbody tr th:only-of-type {\n",
       "        vertical-align: middle;\n",
       "    }\n",
       "\n",
       "    .dataframe tbody tr th {\n",
       "        vertical-align: top;\n",
       "    }\n",
       "\n",
       "    .dataframe thead th {\n",
       "        text-align: right;\n",
       "    }\n",
       "</style>\n",
       "<table border=\"1\" class=\"dataframe\">\n",
       "  <thead>\n",
       "    <tr style=\"text-align: right;\">\n",
       "      <th></th>\n",
       "      <th></th>\n",
       "      <th>tvmil</th>\n",
       "      <th>count</th>\n",
       "    </tr>\n",
       "    <tr>\n",
       "      <th>created</th>\n",
       "      <th>pair</th>\n",
       "      <th></th>\n",
       "      <th></th>\n",
       "    </tr>\n",
       "  </thead>\n",
       "  <tbody>\n",
       "    <tr>\n",
       "      <th rowspan=\"2\" valign=\"top\">8</th>\n",
       "      <th>22440</th>\n",
       "      <td>330</td>\n",
       "      <td>52414</td>\n",
       "    </tr>\n",
       "    <tr>\n",
       "      <th>811415</th>\n",
       "      <td>161</td>\n",
       "      <td>61616</td>\n",
       "    </tr>\n",
       "  </tbody>\n",
       "</table>\n",
       "</div>"
      ],
      "text/plain": [
       "                tvmil  count\n",
       "created pair                \n",
       "8       22440     330  52414\n",
       "        811415    161  61616"
      ]
     },
     "execution_count": 3,
     "metadata": {},
     "output_type": "execute_result"
    }
   ],
   "source": [
    "query = \"\"\" \n",
    "        SELECT  created::date, account_id as pair, sum(price*quantity)/1000000 as TVmil, count(distinct event_id) as count\n",
    "        from order_fill_event \n",
    "        where created between '{}' and '{}' and account_id in {}\n",
    "        group by account_id, created::date\n",
    "        order by created::date, account_id;\n",
    "        \"\"\".format(alerting_1.strftime(\"%Y-%m-%d\"),alerting_2.strftime(\"%Y-%m-%d\"),str(tuple(worst)))\n",
    "\n",
    "df = execute_query_data_frame(query,'engine')\n",
    "output1a = df.groupby([df['created'].dt.month, 'pair']).sum().astype(int); output1a"
   ]
  },
  {
   "cell_type": "markdown",
   "metadata": {},
   "source": [
    "#### 2) traded value($M) TOTAL EXCHANGE"
   ]
  },
  {
   "cell_type": "code",
   "execution_count": 4,
   "metadata": {},
   "outputs": [
    {
     "name": "stderr",
     "output_type": "stream",
     "text": [
      "INFO:paramiko.transport:Connected (version 2.0, client OpenSSH_7.4p1)\n",
      "INFO:paramiko.transport:Authentication (publickey) successful!\n"
     ]
    },
    {
     "name": "stdout",
     "output_type": "stream",
     "text": [
      "ssh_connect 0:00:00.563448\n"
     ]
    },
    {
     "name": "stderr",
     "output_type": "stream",
     "text": [
      "INFO:root:Loaded dataframe with 1 rows in 0:06:55.699061.\n"
     ]
    },
    {
     "data": {
      "text/html": [
       "<div>\n",
       "<style scoped>\n",
       "    .dataframe tbody tr th:only-of-type {\n",
       "        vertical-align: middle;\n",
       "    }\n",
       "\n",
       "    .dataframe tbody tr th {\n",
       "        vertical-align: top;\n",
       "    }\n",
       "\n",
       "    .dataframe thead th {\n",
       "        text-align: right;\n",
       "    }\n",
       "</style>\n",
       "<table border=\"1\" class=\"dataframe\">\n",
       "  <thead>\n",
       "    <tr style=\"text-align: right;\">\n",
       "      <th></th>\n",
       "      <th>valm</th>\n",
       "    </tr>\n",
       "  </thead>\n",
       "  <tbody>\n",
       "    <tr>\n",
       "      <th>0</th>\n",
       "      <td>836.109636</td>\n",
       "    </tr>\n",
       "  </tbody>\n",
       "</table>\n",
       "</div>"
      ],
      "text/plain": [
       "         valm\n",
       "0  836.109636"
      ]
     },
     "execution_count": 4,
     "metadata": {},
     "output_type": "execute_result"
    }
   ],
   "source": [
    "query2 = \"\"\" \n",
    "        SELECT sum(firsttable.price * COALESCE(secondtable.open_price,1) * quantity/1000000) as valM\n",
    "        \n",
    "        from  \n",
    "            (SELECT account_id, event_id, side, price, quantity, trading_pair, date_trunc('hour', created) start_time, substring(trading_pair::varchar,4,6) as trunc\n",
    "            from order_fill_event \n",
    "            where created::date between '{t1}' and '{t2}' and side = 'buy') as firsttable \n",
    "        left join \n",
    "            (SELECT substring(trading_pair::varchar,1,3) as truncmatch, start_time, open_price\n",
    "            from candles_1hr \n",
    "            where start_time::date between '{t1}' and '{t2}' and substring(trading_pair::varchar,4,6) = 'USD') as secondtable\n",
    "        \n",
    "        on firsttable.trunc = secondtable.truncmatch and firsttable.start_time = secondtable.start_time \n",
    "        \n",
    "        \n",
    "        \"\"\".format(t1 = alerting_1.strftime(\"%Y%m%d\"), t2 = alerting_2.strftime(\"%Y%m%d\"))\n",
    "\n",
    "output2 = execute_query_data_frame(query2,'engine'); output2"
   ]
  },
  {
   "cell_type": "code",
   "execution_count": 5,
   "metadata": {},
   "outputs": [
    {
     "name": "stderr",
     "output_type": "stream",
     "text": [
      "INFO:paramiko.transport:Connected (version 2.0, client OpenSSH_7.4p1)\n",
      "INFO:paramiko.transport:Authentication (publickey) successful!\n"
     ]
    },
    {
     "name": "stdout",
     "output_type": "stream",
     "text": [
      "ssh_connect 0:00:00.694764\n"
     ]
    },
    {
     "name": "stderr",
     "output_type": "stream",
     "text": [
      "INFO:root:Loaded dataframe with 38 rows in 0:04:09.674978.\n"
     ]
    }
   ],
   "source": [
    "query2 = \"\"\" \n",
    "        SELECT account_id, side, sum(firsttable.price * COALESCE(secondtable.open_price,1) * quantity/1000000) as valM\n",
    "        \n",
    "        from  \n",
    "            (SELECT account_id, event_id, side, price, quantity, trading_pair, date_trunc('hour', created) start_time, substring(trading_pair::varchar,4,6) as trunc\n",
    "            from order_fill_event \n",
    "            where created::date between '{t1}' and '{t2}' and account_id in {x}) as firsttable \n",
    "        left join \n",
    "            (SELECT substring(trading_pair::varchar,1,3) as truncmatch, start_time, open_price\n",
    "            from candles_1hr \n",
    "            where start_time::date between '{t1}' and '{t2}' and substring(trading_pair::varchar,4,6) = 'USD') as secondtable\n",
    "        \n",
    "        on firsttable.trunc = secondtable.truncmatch and firsttable.start_time = secondtable.start_time \n",
    "        where account_id in {x}\n",
    "        group by account_id, side\n",
    "        \"\"\".format(t1 = alerting_1.strftime(\"%Y%m%d\"), t2 = alerting_2.strftime(\"%Y%m%d\"),x = str(tuple(remainingcpty)))\n",
    "\n",
    "output2 = execute_query_data_frame(query2,'engine')\n",
    "output2b = round(pd.pivot_table(output2,columns='side',index='account_id',values='valm'),2)"
   ]
  },
  {
   "cell_type": "code",
   "execution_count": 6,
   "metadata": {},
   "outputs": [
    {
     "data": {
      "text/html": [
       "<div>\n",
       "<style scoped>\n",
       "    .dataframe tbody tr th:only-of-type {\n",
       "        vertical-align: middle;\n",
       "    }\n",
       "\n",
       "    .dataframe tbody tr th {\n",
       "        vertical-align: top;\n",
       "    }\n",
       "\n",
       "    .dataframe thead th {\n",
       "        text-align: right;\n",
       "    }\n",
       "</style>\n",
       "<table border=\"1\" class=\"dataframe\">\n",
       "  <thead>\n",
       "    <tr style=\"text-align: right;\">\n",
       "      <th>side</th>\n",
       "      <th>buy</th>\n",
       "      <th>sell</th>\n",
       "      <th>TOTAL</th>\n",
       "      <th>pct</th>\n",
       "    </tr>\n",
       "    <tr>\n",
       "      <th>account_id</th>\n",
       "      <th></th>\n",
       "      <th></th>\n",
       "      <th></th>\n",
       "      <th></th>\n",
       "    </tr>\n",
       "  </thead>\n",
       "  <tbody>\n",
       "    <tr>\n",
       "      <th>711292</th>\n",
       "      <td>66.9</td>\n",
       "      <td>72.4</td>\n",
       "      <td>139.3</td>\n",
       "      <td>6%</td>\n",
       "    </tr>\n",
       "    <tr>\n",
       "      <th>1507866</th>\n",
       "      <td>49.0</td>\n",
       "      <td>50.1</td>\n",
       "      <td>99.1</td>\n",
       "      <td>4%</td>\n",
       "    </tr>\n",
       "    <tr>\n",
       "      <th>772544</th>\n",
       "      <td>46.3</td>\n",
       "      <td>46.1</td>\n",
       "      <td>92.4</td>\n",
       "      <td>4%</td>\n",
       "    </tr>\n",
       "    <tr>\n",
       "      <th>1595</th>\n",
       "      <td>40.2</td>\n",
       "      <td>39.5</td>\n",
       "      <td>79.7</td>\n",
       "      <td>3%</td>\n",
       "    </tr>\n",
       "    <tr>\n",
       "      <th>355845</th>\n",
       "      <td>31.7</td>\n",
       "      <td>35.0</td>\n",
       "      <td>66.7</td>\n",
       "      <td>3%</td>\n",
       "    </tr>\n",
       "    <tr>\n",
       "      <th>444259</th>\n",
       "      <td>21.9</td>\n",
       "      <td>25.1</td>\n",
       "      <td>47.0</td>\n",
       "      <td>2%</td>\n",
       "    </tr>\n",
       "    <tr>\n",
       "      <th>952523</th>\n",
       "      <td>11.8</td>\n",
       "      <td>11.8</td>\n",
       "      <td>23.6</td>\n",
       "      <td>1%</td>\n",
       "    </tr>\n",
       "    <tr>\n",
       "      <th>898579</th>\n",
       "      <td>6.4</td>\n",
       "      <td>3.8</td>\n",
       "      <td>10.2</td>\n",
       "      <td>0%</td>\n",
       "    </tr>\n",
       "    <tr>\n",
       "      <th>3032</th>\n",
       "      <td>5.4</td>\n",
       "      <td>3.2</td>\n",
       "      <td>8.6</td>\n",
       "      <td>0%</td>\n",
       "    </tr>\n",
       "    <tr>\n",
       "      <th>453659</th>\n",
       "      <td>3.7</td>\n",
       "      <td>3.0</td>\n",
       "      <td>6.7</td>\n",
       "      <td>0%</td>\n",
       "    </tr>\n",
       "    <tr>\n",
       "      <th>1403</th>\n",
       "      <td>3.5</td>\n",
       "      <td>2.8</td>\n",
       "      <td>6.3</td>\n",
       "      <td>0%</td>\n",
       "    </tr>\n",
       "    <tr>\n",
       "      <th>568127</th>\n",
       "      <td>2.9</td>\n",
       "      <td>2.6</td>\n",
       "      <td>5.5</td>\n",
       "      <td>0%</td>\n",
       "    </tr>\n",
       "    <tr>\n",
       "      <th>395052</th>\n",
       "      <td>1.6</td>\n",
       "      <td>1.5</td>\n",
       "      <td>3.1</td>\n",
       "      <td>0%</td>\n",
       "    </tr>\n",
       "    <tr>\n",
       "      <th>1169466</th>\n",
       "      <td>1.3</td>\n",
       "      <td>1.2</td>\n",
       "      <td>2.5</td>\n",
       "      <td>0%</td>\n",
       "    </tr>\n",
       "    <tr>\n",
       "      <th>885724</th>\n",
       "      <td>1.0</td>\n",
       "      <td>1.3</td>\n",
       "      <td>2.3</td>\n",
       "      <td>0%</td>\n",
       "    </tr>\n",
       "    <tr>\n",
       "      <th>135552</th>\n",
       "      <td>1.0</td>\n",
       "      <td>1.0</td>\n",
       "      <td>2.0</td>\n",
       "      <td>0%</td>\n",
       "    </tr>\n",
       "    <tr>\n",
       "      <th>450782</th>\n",
       "      <td>1.0</td>\n",
       "      <td>1.0</td>\n",
       "      <td>2.0</td>\n",
       "      <td>0%</td>\n",
       "    </tr>\n",
       "    <tr>\n",
       "      <th>195483</th>\n",
       "      <td>0.4</td>\n",
       "      <td>0.4</td>\n",
       "      <td>0.8</td>\n",
       "      <td>0%</td>\n",
       "    </tr>\n",
       "    <tr>\n",
       "      <th>2647</th>\n",
       "      <td>0.2</td>\n",
       "      <td>0.2</td>\n",
       "      <td>0.4</td>\n",
       "      <td>0%</td>\n",
       "    </tr>\n",
       "  </tbody>\n",
       "</table>\n",
       "</div>"
      ],
      "text/plain": [
       "side         buy  sell  TOTAL pct\n",
       "account_id                       \n",
       "711292      66.9  72.4  139.3  6%\n",
       "1507866     49.0  50.1   99.1  4%\n",
       "772544      46.3  46.1   92.4  4%\n",
       "1595        40.2  39.5   79.7  3%\n",
       "355845      31.7  35.0   66.7  3%\n",
       "444259      21.9  25.1   47.0  2%\n",
       "952523      11.8  11.8   23.6  1%\n",
       "898579       6.4   3.8   10.2  0%\n",
       "3032         5.4   3.2    8.6  0%\n",
       "453659       3.7   3.0    6.7  0%\n",
       "1403         3.5   2.8    6.3  0%\n",
       "568127       2.9   2.6    5.5  0%\n",
       "395052       1.6   1.5    3.1  0%\n",
       "1169466      1.3   1.2    2.5  0%\n",
       "885724       1.0   1.3    2.3  0%\n",
       "135552       1.0   1.0    2.0  0%\n",
       "450782       1.0   1.0    2.0  0%\n",
       "195483       0.4   0.4    0.8  0%\n",
       "2647         0.2   0.2    0.4  0%"
      ]
     },
     "execution_count": 6,
     "metadata": {},
     "output_type": "execute_result"
    }
   ],
   "source": [
    "output2b = round(pd.pivot_table(output2,columns='side',index='account_id',values='valm'),1)\n",
    "output2b['TOTAL'] = output2b.sum(axis=1)\n",
    "output2b['pct'] = round(output2b['TOTAL']/2325*100,0).astype(int).astype(str)+'%'\n",
    "output2b.sort_values('TOTAL',ascending=False)"
   ]
  },
  {
   "cell_type": "code",
   "execution_count": 7,
   "metadata": {},
   "outputs": [],
   "source": [
    "outputnew = output2b.sort_values('TOTAL',ascending=False)\n",
    "nonzero = outputnew.loc[outputnew['pct'] != '0%']\n",
    "zero = pd.DataFrame(outputnew.loc[outputnew['pct'] == '0%',['buy','sell','TOTAL']].sum(axis=0)).transpose()"
   ]
  },
  {
   "cell_type": "code",
   "execution_count": 8,
   "metadata": {},
   "outputs": [],
   "source": [
    "outputnew2 = pd.concat([nonzero,zero],axis=0,sort=False).reset_index()\n",
    "outputnew2.loc[outputnew2['index'] == 0,'pct'] = \"<0%\""
   ]
  },
  {
   "cell_type": "code",
   "execution_count": 9,
   "metadata": {},
   "outputs": [],
   "source": [
    "outputnew2.to_csv('~/Desktop/no.csv')"
   ]
  },
  {
   "cell_type": "markdown",
   "metadata": {},
   "source": [
    "#### 3) traded value($M) by Account & Side"
   ]
  },
  {
   "cell_type": "code",
   "execution_count": 10,
   "metadata": {},
   "outputs": [
    {
     "name": "stderr",
     "output_type": "stream",
     "text": [
      "INFO:paramiko.transport:Connected (version 2.0, client OpenSSH_7.4p1)\n",
      "INFO:paramiko.transport:Authentication (publickey) successful!\n"
     ]
    },
    {
     "name": "stdout",
     "output_type": "stream",
     "text": [
      "ssh_connect 0:00:00.580005\n"
     ]
    },
    {
     "name": "stderr",
     "output_type": "stream",
     "text": [
      "INFO:root:Loaded dataframe with 26 rows in 0:02:31.966052.\n"
     ]
    }
   ],
   "source": [
    "query3 = \"\"\" \n",
    "        SELECT account_id, trading_pair, firsttable.side, sum(firsttable.price * COALESCE(secondtable.open_price,1) * quantity/1000000) as valM\n",
    "        \n",
    "        from  \n",
    "            (SELECT account_id, event_id, side, price, quantity, trading_pair, date_trunc('hour', created) start_time, substring(trading_pair::varchar,4,6) as trunc\n",
    "            from order_fill_event \n",
    "            where created::date between '{t1}' and '{t2}' and account_id in {x}) as firsttable\n",
    "        left join \n",
    "            (SELECT substring(trading_pair::varchar,1,3) as truncmatch, start_time, open_price\n",
    "            from candles_1hr \n",
    "            where start_time::date between '{t1}' and '{t2}' and substring(trading_pair::varchar,4,6) = 'USD') as secondtable\n",
    "        \n",
    "        on firsttable.trunc = secondtable.truncmatch and firsttable.start_time = secondtable.start_time\n",
    "\n",
    "        group by firsttable.side, account_id, trading_pair;\n",
    "        \"\"\".format(t1 = alerting_1.strftime(\"%Y%m%d\"), t2 = alerting_2.strftime(\"%Y%m%d\"), x=str(tuple(worst)))\n",
    "\n",
    "output3_D = execute_query_data_frame(query3,'engine')"
   ]
  },
  {
   "cell_type": "code",
   "execution_count": 11,
   "metadata": {},
   "outputs": [
    {
     "data": {
      "text/html": [
       "<div>\n",
       "<style scoped>\n",
       "    .dataframe tbody tr th:only-of-type {\n",
       "        vertical-align: middle;\n",
       "    }\n",
       "\n",
       "    .dataframe tbody tr th {\n",
       "        vertical-align: top;\n",
       "    }\n",
       "\n",
       "    .dataframe thead th {\n",
       "        text-align: right;\n",
       "    }\n",
       "</style>\n",
       "<table border=\"1\" class=\"dataframe\">\n",
       "  <thead>\n",
       "    <tr style=\"text-align: right;\">\n",
       "      <th></th>\n",
       "      <th>side</th>\n",
       "      <th>buy</th>\n",
       "      <th>sell</th>\n",
       "      <th>TOTAL</th>\n",
       "    </tr>\n",
       "    <tr>\n",
       "      <th>account_id</th>\n",
       "      <th>trading_pair</th>\n",
       "      <th></th>\n",
       "      <th></th>\n",
       "      <th></th>\n",
       "    </tr>\n",
       "  </thead>\n",
       "  <tbody>\n",
       "    <tr>\n",
       "      <th rowspan=\"7\" valign=\"top\">22440</th>\n",
       "      <th>BCHBTC</th>\n",
       "      <td>0.3</td>\n",
       "      <td>0.2</td>\n",
       "      <td>0.5</td>\n",
       "    </tr>\n",
       "    <tr>\n",
       "      <th>BCHUSD</th>\n",
       "      <td>0.9</td>\n",
       "      <td>1.1</td>\n",
       "      <td>2.0</td>\n",
       "    </tr>\n",
       "    <tr>\n",
       "      <th>BTCUSD</th>\n",
       "      <td>131.5</td>\n",
       "      <td>166.9</td>\n",
       "      <td>298.4</td>\n",
       "    </tr>\n",
       "    <tr>\n",
       "      <th>ETHBTC</th>\n",
       "      <td>1.1</td>\n",
       "      <td>0.8</td>\n",
       "      <td>1.9</td>\n",
       "    </tr>\n",
       "    <tr>\n",
       "      <th>ETHUSD</th>\n",
       "      <td>14.1</td>\n",
       "      <td>13.4</td>\n",
       "      <td>27.5</td>\n",
       "    </tr>\n",
       "    <tr>\n",
       "      <th>LTCUSD</th>\n",
       "      <td>2.2</td>\n",
       "      <td>1.2</td>\n",
       "      <td>3.4</td>\n",
       "    </tr>\n",
       "    <tr>\n",
       "      <th>ZECUSD</th>\n",
       "      <td>0.1</td>\n",
       "      <td>0.1</td>\n",
       "      <td>0.2</td>\n",
       "    </tr>\n",
       "    <tr>\n",
       "      <th rowspan=\"6\" valign=\"top\">811415</th>\n",
       "      <th>BCHUSD</th>\n",
       "      <td>1.2</td>\n",
       "      <td>1.2</td>\n",
       "      <td>2.5</td>\n",
       "    </tr>\n",
       "    <tr>\n",
       "      <th>BTCUSD</th>\n",
       "      <td>67.5</td>\n",
       "      <td>67.8</td>\n",
       "      <td>135.2</td>\n",
       "    </tr>\n",
       "    <tr>\n",
       "      <th>ETHBTC</th>\n",
       "      <td>1.6</td>\n",
       "      <td>1.5</td>\n",
       "      <td>3.1</td>\n",
       "    </tr>\n",
       "    <tr>\n",
       "      <th>ETHUSD</th>\n",
       "      <td>6.9</td>\n",
       "      <td>6.9</td>\n",
       "      <td>13.8</td>\n",
       "    </tr>\n",
       "    <tr>\n",
       "      <th>LTCUSD</th>\n",
       "      <td>5.5</td>\n",
       "      <td>5.4</td>\n",
       "      <td>10.9</td>\n",
       "    </tr>\n",
       "    <tr>\n",
       "      <th>ZECUSD</th>\n",
       "      <td>0.2</td>\n",
       "      <td>0.2</td>\n",
       "      <td>0.4</td>\n",
       "    </tr>\n",
       "  </tbody>\n",
       "</table>\n",
       "</div>"
      ],
      "text/plain": [
       "side                       buy   sell  TOTAL\n",
       "account_id trading_pair                     \n",
       "22440      BCHBTC          0.3    0.2    0.5\n",
       "           BCHUSD          0.9    1.1    2.0\n",
       "           BTCUSD        131.5  166.9  298.4\n",
       "           ETHBTC          1.1    0.8    1.9\n",
       "           ETHUSD         14.1   13.4   27.5\n",
       "           LTCUSD          2.2    1.2    3.4\n",
       "           ZECUSD          0.1    0.1    0.2\n",
       "811415     BCHUSD          1.2    1.2    2.5\n",
       "           BTCUSD         67.5   67.8  135.2\n",
       "           ETHBTC          1.6    1.5    3.1\n",
       "           ETHUSD          6.9    6.9   13.8\n",
       "           LTCUSD          5.5    5.4   10.9\n",
       "           ZECUSD          0.2    0.2    0.4"
      ]
     },
     "execution_count": 11,
     "metadata": {},
     "output_type": "execute_result"
    }
   ],
   "source": [
    "output3 = pd.pivot_table(output3_D, values='valm', index=['account_id','trading_pair'], columns=['side'], aggfunc=np.sum)\n",
    "output3['TOTAL'] = output3.sum(axis=1)\n",
    "round(output3,1)"
   ]
  },
  {
   "cell_type": "code",
   "execution_count": 12,
   "metadata": {},
   "outputs": [
    {
     "data": {
      "text/html": [
       "<div>\n",
       "<style scoped>\n",
       "    .dataframe tbody tr th:only-of-type {\n",
       "        vertical-align: middle;\n",
       "    }\n",
       "\n",
       "    .dataframe tbody tr th {\n",
       "        vertical-align: top;\n",
       "    }\n",
       "\n",
       "    .dataframe thead th {\n",
       "        text-align: right;\n",
       "    }\n",
       "</style>\n",
       "<table border=\"1\" class=\"dataframe\">\n",
       "  <thead>\n",
       "    <tr style=\"text-align: right;\">\n",
       "      <th>side</th>\n",
       "      <th>buy</th>\n",
       "      <th>sell</th>\n",
       "      <th>TOTAL</th>\n",
       "    </tr>\n",
       "    <tr>\n",
       "      <th>account_id</th>\n",
       "      <th></th>\n",
       "      <th></th>\n",
       "      <th></th>\n",
       "    </tr>\n",
       "  </thead>\n",
       "  <tbody>\n",
       "    <tr>\n",
       "      <th>22440</th>\n",
       "      <td>150.09148</td>\n",
       "      <td>183.793566</td>\n",
       "      <td>333.885045</td>\n",
       "    </tr>\n",
       "    <tr>\n",
       "      <th>811415</th>\n",
       "      <td>82.83039</td>\n",
       "      <td>83.120548</td>\n",
       "      <td>165.950938</td>\n",
       "    </tr>\n",
       "  </tbody>\n",
       "</table>\n",
       "</div>"
      ],
      "text/plain": [
       "side              buy        sell       TOTAL\n",
       "account_id                                   \n",
       "22440       150.09148  183.793566  333.885045\n",
       "811415       82.83039   83.120548  165.950938"
      ]
     },
     "execution_count": 12,
     "metadata": {},
     "output_type": "execute_result"
    }
   ],
   "source": [
    "output3.reset_index().groupby('account_id').sum()"
   ]
  },
  {
   "cell_type": "markdown",
   "metadata": {},
   "source": [
    "#### 4) traded value($M) by Account & Side"
   ]
  },
  {
   "cell_type": "code",
   "execution_count": 13,
   "metadata": {},
   "outputs": [
    {
     "name": "stderr",
     "output_type": "stream",
     "text": [
      "INFO:paramiko.transport:Connected (version 2.0, client OpenSSH_7.4p1)\n",
      "INFO:paramiko.transport:Authentication (publickey) successful!\n"
     ]
    },
    {
     "name": "stdout",
     "output_type": "stream",
     "text": [
      "ssh_connect 0:00:00.691275\n"
     ]
    },
    {
     "name": "stderr",
     "output_type": "stream",
     "text": [
      "INFO:root:Loaded dataframe with 1 rows in 0:00:01.626471.\n"
     ]
    },
    {
     "data": {
      "text/html": [
       "<div>\n",
       "<style scoped>\n",
       "    .dataframe tbody tr th:only-of-type {\n",
       "        vertical-align: middle;\n",
       "    }\n",
       "\n",
       "    .dataframe tbody tr th {\n",
       "        vertical-align: top;\n",
       "    }\n",
       "\n",
       "    .dataframe thead th {\n",
       "        text-align: right;\n",
       "    }\n",
       "</style>\n",
       "<table border=\"1\" class=\"dataframe\">\n",
       "  <thead>\n",
       "    <tr style=\"text-align: right;\">\n",
       "      <th></th>\n",
       "      <th>account_id</th>\n",
       "      <th>pair</th>\n",
       "      <th>valm</th>\n",
       "    </tr>\n",
       "  </thead>\n",
       "  <tbody>\n",
       "    <tr>\n",
       "      <th>0</th>\n",
       "      <td>22440</td>\n",
       "      <td>[22440, 811415]</td>\n",
       "      <td>47.974115</td>\n",
       "    </tr>\n",
       "  </tbody>\n",
       "</table>\n",
       "</div>"
      ],
      "text/plain": [
       "   account_id             pair       valm\n",
       "0       22440  [22440, 811415]  47.974115"
      ]
     },
     "execution_count": 13,
     "metadata": {},
     "output_type": "execute_result"
    }
   ],
   "source": [
    "query4 = \"\"\" \n",
    "        SELECT account_id, sum(firsttable.price * COALESCE(secondtable.open_price,1) * quantity/1000000) as valM\n",
    "        \n",
    "        from  \n",
    "            (SELECT account_id, event_id, side, price, quantity, trading_pair, date_trunc('hour', created) start_time, substring(trading_pair::varchar,4,6) as trunc\n",
    "            from order_fill_event \n",
    "            where created::date between '{t1}' and '{t2}' and account_id in {x}) as firsttable\n",
    "        left join \n",
    "            (SELECT substring(trading_pair::varchar,1,3) as truncmatch, start_time, open_price\n",
    "            from candles_1hr \n",
    "            where start_time::date between '{t1}' and '{t2}' and substring(trading_pair::varchar,4,6) = 'USD') as secondtable\n",
    "        \n",
    "        on firsttable.trunc = secondtable.truncmatch and firsttable.start_time = secondtable.start_time\n",
    "        \n",
    "        where account_id = {y} and event_id in \n",
    "            (SELECT distinct event_id from order_fill_event\n",
    "            where created between '{t1}' and '{t2}' and account_id = {z}\n",
    "            group by event_id) \n",
    "        \n",
    "        group by account_id;\n",
    "        \"\"\"\n",
    "\n",
    "output4 = pd.DataFrame()\n",
    "\n",
    "for i in pairlist:\n",
    "    temp = execute_query_data_frame(query4.format(t1 = alerting_1.strftime(\"%Y%m%d\"), t2 = alerting_2.strftime(\"%Y%m%d\"), x=str(tuple(worst)), y = i[0], z = i[1]),'engine')\n",
    "    temp['pair'] = str(i)\n",
    "    output4 = output4.append(temp, sort=True)\n",
    "    \n",
    "output4"
   ]
  },
  {
   "cell_type": "code",
   "execution_count": null,
   "metadata": {},
   "outputs": [],
   "source": []
  },
  {
   "cell_type": "code",
   "execution_count": null,
   "metadata": {},
   "outputs": [],
   "source": []
  }
 ],
 "metadata": {
  "kernelspec": {
   "display_name": "Python 3",
   "language": "python",
   "name": "python3"
  },
  "language_info": {
   "codemirror_mode": {
    "name": "ipython",
    "version": 3
   },
   "file_extension": ".py",
   "mimetype": "text/x-python",
   "name": "python",
   "nbconvert_exporter": "python",
   "pygments_lexer": "ipython3",
   "version": "3.7.0"
  }
 },
 "nbformat": 4,
 "nbformat_minor": 2
}
