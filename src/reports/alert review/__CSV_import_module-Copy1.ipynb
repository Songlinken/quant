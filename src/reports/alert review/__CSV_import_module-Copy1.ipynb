{
 "cells": [
  {
   "cell_type": "code",
   "execution_count": 1,
   "metadata": {},
   "outputs": [
    {
     "name": "stderr",
     "output_type": "stream",
     "text": [
      "/Users/sqian/.pyenv/versions/3.7.0/envs/env_370/lib/python3.7/site-packages/psycopg2/__init__.py:144: UserWarning: The psycopg2 wheel package will be renamed from release 2.8; in order to keep installing from binary please use \"pip install psycopg2-binary\" instead. For details see: <http://initd.org/psycopg/docs/install.html#binary-install-from-pypi>.\n",
      "  \"\"\")\n"
     ]
    }
   ],
   "source": [
    "import os; \n",
    "import pandas as pd; pd.set_option('mode.chained_assignment',None)\n",
    "import numpy as np\n",
    "import datetime\n",
    "import matplotlib.pyplot as plt\n",
    "import matplotlib.mlab as mlab\n",
    "import math\n",
    "import re\n",
    "import xlrd\n",
    "import statistics as stat\n",
    "from xlsxwriter.utility import xl_rowcol_to_cell\n",
    "from random import sample\n",
    "from pandas.plotting import register_matplotlib_converters\n",
    "from src.data_models.SmartsCsvDataModel import SmartsCsvDataModel\n",
    "from src.data_models.smartshelper import metrics, fixNum, unSMART, cparty, wtf\n",
    "from src.data_models.SmartsDataModel import SmartsDataModel\n",
    "from src.utility.DataModelUtility import execute_query_data_frame\n",
    "from src.data_models.SmartsDataModel import SmartsDataModel\n",
    "from src.data_models.UPMhelper import UPMalerts"
   ]
  },
  {
   "cell_type": "code",
   "execution_count": null,
   "metadata": {},
   "outputs": [],
   "source": []
  },
  {
   "cell_type": "code",
   "execution_count": 2,
   "metadata": {},
   "outputs": [],
   "source": [
    "eval_date = datetime.date(2019, 6, 30)\n",
    "begin_date = datetime.date(2019, 6, 1)\n",
    "\n",
    "trading_pairsoi = ['BTCUSD', 'LTCUSD', 'ETHUSD', 'BCHUSD', 'ZECUSD']\n",
    "worst = [22440, 811415]\n",
    "worsttier2 = [22440, 811415, 772544, 10078, 898579]"
   ]
  },
  {
   "cell_type": "code",
   "execution_count": 4,
   "metadata": {},
   "outputs": [
    {
     "name": "stderr",
     "output_type": "stream",
     "text": [
      "INFO:root:Constructing Singleton\n",
      "INFO:root:Using global configuration /Users/sqian/msv.yaml.\n",
      "INFO:root:Completed loading configuration.\n"
     ]
    },
    {
     "name": "stdout",
     "output_type": "stream",
     "text": [
      "download_smarts_data 0:01:50.403391\n",
      "read_csv_to_dk_dataframe 0:00:03.861241\n",
      "pre_cleaning 0:08:40.346030\n",
      "pre_cleaning 0:45:16.724129\n",
      "pre_cleaning 0:04:50.325328\n",
      "pre_cleaning 0:03:47.627392\n",
      "pre_cleaning 0:02:38.438811\n"
     ]
    }
   ],
   "source": [
    "data_model = SmartsCsvDataModel(download_data=True).evaluate(instrument=trading_pairsoi, evaluation_date=eval_date, begin_date=begin_date, use_db=False)"
   ]
  },
  {
   "cell_type": "code",
   "execution_count": 39,
   "metadata": {},
   "outputs": [
    {
     "data": {
      "text/plain": [
       "dict_keys(['BTCUSD', 'LTCUSD', 'ETHUSD', 'BCHUSD', 'ZECUSD'])"
      ]
     },
     "execution_count": 39,
     "metadata": {},
     "output_type": "execute_result"
    }
   ],
   "source": [
    "data_model.keys()"
   ]
  },
  {
   "cell_type": "code",
   "execution_count": 50,
   "metadata": {},
   "outputs": [],
   "source": [
    "os.chdir('/Users/sqian/Documents/{}_output'.format(begin_date.strftime(\"%Y%m\")))\n",
    "\n",
    "writer = pd.ExcelWriter('{}_Wash_OrderBook.xlsx'.format(begin_date.strftime(\"%Y%b\")))\n",
    "\n",
    "for j in worsttier2: \n",
    "    empty = pd.DataFrame()\n",
    "\n",
    "    for i in trading_pairsoi:\n",
    "        datatemp = data_model[i]\n",
    "\n",
    "        event_typeBOOL = datatemp['event_type'] == 'Place'\n",
    "        account_idBOOL = datatemp['account_id'] == j\n",
    "\n",
    "        datatemp2 = datatemp.loc[event_typeBOOL & account_idBOOL].groupby(['symbol','side','execution_options','order_type']).count()['event_time']\n",
    "        empty = pd.concat([empty,datatemp2.reset_index()],axis=0,sort=False)\n",
    "        \n",
    "    finaltable = pd.pivot_table(empty,index=['symbol','order_type','execution_options'], columns='side',values='event_time').fillna(0).astype(int)\n",
    "    finaltable2 = pd.concat([finaltable,finaltable.sum(axis=1)], axis=1).sort_values(0, ascending=False).rename(columns={0:'total'})\n",
    "    \n",
    "    finaltable2.to_excel(writer, 'fig_X.8_' + str(j))\n",
    "\n",
    "writer.save()"
   ]
  },
  {
   "cell_type": "code",
   "execution_count": null,
   "metadata": {},
   "outputs": [],
   "source": []
  },
  {
   "cell_type": "code",
   "execution_count": null,
   "metadata": {},
   "outputs": [],
   "source": []
  },
  {
   "cell_type": "code",
   "execution_count": null,
   "metadata": {},
   "outputs": [],
   "source": []
  }
 ],
 "metadata": {
  "kernelspec": {
   "display_name": "Python 3",
   "language": "python",
   "name": "python3"
  },
  "language_info": {
   "codemirror_mode": {
    "name": "ipython",
    "version": 3
   },
   "file_extension": ".py",
   "mimetype": "text/x-python",
   "name": "python",
   "nbconvert_exporter": "python",
   "pygments_lexer": "ipython3",
   "version": "3.7.0"
  }
 },
 "nbformat": 4,
 "nbformat_minor": 2
}
