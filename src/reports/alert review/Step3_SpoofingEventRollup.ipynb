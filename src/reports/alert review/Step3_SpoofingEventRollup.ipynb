{
 "cells": [
  {
   "cell_type": "markdown",
   "metadata": {},
   "source": [
    "### Multi Order Spoofing Alert Event Analysis"
   ]
  },
  {
   "cell_type": "code",
   "execution_count": 1,
   "metadata": {},
   "outputs": [
    {
     "name": "stderr",
     "output_type": "stream",
     "text": [
      "/Users/sqian/.pyenv/versions/3.7.0/envs/env_370/lib/python3.7/site-packages/psycopg2/__init__.py:144: UserWarning: The psycopg2 wheel package will be renamed from release 2.8; in order to keep installing from binary please use \"pip install psycopg2-binary\" instead. For details see: <http://initd.org/psycopg/docs/install.html#binary-install-from-pypi>.\n",
      "  \"\"\")\n"
     ]
    }
   ],
   "source": [
    "import os; os.chdir('/Users/sqian/MKTSRV')\n",
    "import pandas as pd; pd.set_option('mode.chained_assignment',None)\n",
    "import numpy as np\n",
    "import datetime\n",
    "import matplotlib.pyplot as plt\n",
    "import matplotlib.mlab as mlab\n",
    "import math\n",
    "import matplotlib as mpl\n",
    "import re\n",
    "import xlrd\n",
    "from xlsxwriter.utility import xl_rowcol_to_cell\n",
    "\n",
    "from src.data_models.smartshelper import metrics, fixNum, unSMART, cparty, littleQA, totalUP\n",
    "from src.data_models.SmartsDataModel import SmartsDataModel\n",
    "from src.data_models.SmartsCsvDataModel import SmartsCsvDataModel\n",
    "from src.utility.DataModelUtility import execute_query_data_frame"
   ]
  },
  {
   "cell_type": "markdown",
   "metadata": {},
   "source": [
    "#### 1) Read in SMARTS Alerts"
   ]
  },
  {
   "cell_type": "code",
   "execution_count": 6,
   "metadata": {},
   "outputs": [
    {
     "name": "stdout",
     "output_type": "stream",
     "text": [
      "-> type fixed, kept 179 rows, 12 columns\n"
     ]
    }
   ],
   "source": [
    "alerts0 = fixNum(unSMART(pd.read_excel('~/Documents/vmfldr/smarts1_2019Aug.xlsx')))"
   ]
  },
  {
   "cell_type": "code",
   "execution_count": 8,
   "metadata": {},
   "outputs": [
    {
     "data": {
      "text/plain": [
       "Date              datetime64[ns]\n",
       "Time                      object\n",
       "InstrumentCode            object\n",
       "ShortText                 object\n",
       "LongText                  object\n",
       "Datetime          datetime64[ns]\n",
       "ShortText_mod             object\n",
       "AlertCode                  int64\n",
       "AccountIDName              int64\n",
       "ReissueCount               int64\n",
       "month                      int64\n",
       "year                       int64\n",
       "dtype: object"
      ]
     },
     "execution_count": 8,
     "metadata": {},
     "output_type": "execute_result"
    }
   ],
   "source": [
    "alerts0.dtypes"
   ]
  },
  {
   "cell_type": "markdown",
   "metadata": {},
   "source": [
    "#### 2) Rolled Up Text File Alerts (4032-eod)"
   ]
  },
  {
   "cell_type": "code",
   "execution_count": 20,
   "metadata": {},
   "outputs": [],
   "source": [
    "alerts4032_eod = alerts0.loc[alerts0['ShortText'] == 'MULTI ORDER SPOOFING EOD',['Date','InstrumentCode','AccountIDName','ShortText']].reset_index(drop=True)\n",
    "alerts4032_eod2 = pd.DataFrame(alerts4032_eod.groupby(['Date','InstrumentCode','AccountIDName']).count().reset_index(drop=False))\n",
    "alerts4032_eod2['Date2'] = '_' + alerts4032_eod2['Date'].astype(str).str.replace('-','') + '.csv'\n",
    "alerts4032_eod2['ImportSyntax'] = '~/Documents/vmfldr/spoof/4032_' + alerts4032_eod2['InstrumentCode'] + '_Broker_' + alerts4032_eod2['AccountIDName'].astype(str) + alerts4032_eod2['Date2']\n",
    "\n",
    "events4032_eod = pd.DataFrame()\n",
    "for i in range(0,alerts4032_eod2.shape[0]): \n",
    "    temp = pd.read_csv(alerts4032_eod2.loc[i,'ImportSyntax'])\n",
    "    temp['Date'] = alerts4032_eod2.loc[i,'Date']\n",
    "    events4032_eod = events4032_eod.append(temp)\n",
    "    \n",
    "events4032_eod.columns = events4032_eod.columns.str.replace(' ','').str.replace('Spoofing','spoof').str.replace('GenuineSide','gen').str.replace('side','')"
   ]
  },
  {
   "cell_type": "markdown",
   "metadata": {},
   "source": [
    "#### 3) Spoof side cleaning (end with 51,685 records)"
   ]
  },
  {
   "cell_type": "code",
   "execution_count": 21,
   "metadata": {},
   "outputs": [],
   "source": [
    "data0 = pd.DataFrame(events4032_eod)\n",
    "data0['spoof_entry'] = pd.to_datetime(data0['Date'].astype(str) + '' + data0['Entrytimespoof'].fillna(' 23:59:59.999'))\n",
    "data0['spoof_exit'] = pd.to_datetime(data0['Date'].astype(str) + '' + data0['Amend/deletetimespoofSide'].fillna(' 00:00:00.000'))\n",
    "data0['spoof_vol'] = data0['VolumespoofSide'].astype(str).str.replace('x','').astype(float)\n",
    "data0['spoof_price'] = data0['PricespoofSide'].astype(str).str.replace(' ','').astype(float)\n",
    "data0['spoofOrderCount'] = data0['spoofOrderCount'].fillna(0)"
   ]
  },
  {
   "cell_type": "code",
   "execution_count": 22,
   "metadata": {},
   "outputs": [],
   "source": [
    "data1 = data0.rename(columns={'Security':'symbol','Broker':'acc'}).reset_index(drop=True)\n",
    "data1['gen_place'] = pd.to_datetime(data1['Date'].astype(str) + '' + data1['Entry/amendtimegen'].fillna(' 00:00:00.000'))\n",
    "data1['gen_fill'] = pd.to_datetime(data1['Date'].astype(str) + '' + data1['Tradetimegen'].fillna(' 00:00:00.000'))\n",
    "data1['gen_vol'] = data1['Volumegen'].astype(str).str.replace('x','').astype(float)\n",
    "data1['gen_price0'] = data1['Bestpricebeforespoofing'].astype(str).str.replace(' ','').astype(float)\n",
    "data1['gen_price1'] = data1['Tradeprice'].astype(str).str.replace(' ','').astype(float)"
   ]
  },
  {
   "cell_type": "code",
   "execution_count": 24,
   "metadata": {},
   "outputs": [],
   "source": [
    "columns2keep = ['Entrytimespoof', 'Amend/deletetimespoofSide', 'VolumespoofSide', 'PricespoofSide', \n",
    "                'Entry/amendtimegen', 'Tradetimegen', 'Volumegen', 'Bestpricebeforespoofing', 'Tradeprice',\n",
    "                'Genuine/spoofRatio', 'Gainthistrade', 'Totalgain']\n",
    "data2 = data1.drop(columns=columns2keep).reset_index(drop=True).reset_index(drop=False)\n",
    "data2['spoof_seconds'] = (data2['spoof_price'] / data2['spoof_price']) * (data2['spoof_exit'] - data2['spoof_entry']).dt.total_seconds()\n",
    "\n",
    "data2.to_csv('~/Desktop/2019June_SpoofingRollup.csv')"
   ]
  },
  {
   "cell_type": "markdown",
   "metadata": {},
   "source": [
    "#### 5) Group by"
   ]
  },
  {
   "cell_type": "code",
   "execution_count": 25,
   "metadata": {},
   "outputs": [
    {
     "data": {
      "text/html": [
       "<div>\n",
       "<style scoped>\n",
       "    .dataframe tbody tr th:only-of-type {\n",
       "        vertical-align: middle;\n",
       "    }\n",
       "\n",
       "    .dataframe tbody tr th {\n",
       "        vertical-align: top;\n",
       "    }\n",
       "\n",
       "    .dataframe thead th {\n",
       "        text-align: right;\n",
       "    }\n",
       "</style>\n",
       "<table border=\"1\" class=\"dataframe\">\n",
       "  <thead>\n",
       "    <tr style=\"text-align: right;\">\n",
       "      <th></th>\n",
       "      <th>symbol</th>\n",
       "      <th>acc</th>\n",
       "      <th>Date</th>\n",
       "      <th>spoofEventNr</th>\n",
       "      <th>dt_min</th>\n",
       "      <th>dt_max</th>\n",
       "    </tr>\n",
       "  </thead>\n",
       "  <tbody>\n",
       "    <tr>\n",
       "      <th>0</th>\n",
       "      <td>BTCUSD</td>\n",
       "      <td>22440</td>\n",
       "      <td>2019-08-01</td>\n",
       "      <td>1</td>\n",
       "      <td>2019-08-01 02:54:17.793</td>\n",
       "      <td>2019-08-01 02:54:22.596</td>\n",
       "    </tr>\n",
       "    <tr>\n",
       "      <th>1</th>\n",
       "      <td>BTCUSD</td>\n",
       "      <td>22440</td>\n",
       "      <td>2019-08-01</td>\n",
       "      <td>2</td>\n",
       "      <td>2019-08-01 02:54:17.793</td>\n",
       "      <td>2019-08-01 02:54:22.674</td>\n",
       "    </tr>\n",
       "    <tr>\n",
       "      <th>2</th>\n",
       "      <td>BTCUSD</td>\n",
       "      <td>22440</td>\n",
       "      <td>2019-08-01</td>\n",
       "      <td>3</td>\n",
       "      <td>2019-08-01 02:54:17.793</td>\n",
       "      <td>2019-08-01 02:54:22.674</td>\n",
       "    </tr>\n",
       "    <tr>\n",
       "      <th>3</th>\n",
       "      <td>BTCUSD</td>\n",
       "      <td>22440</td>\n",
       "      <td>2019-08-01</td>\n",
       "      <td>4</td>\n",
       "      <td>2019-08-01 02:54:17.793</td>\n",
       "      <td>2019-08-01 02:54:22.674</td>\n",
       "    </tr>\n",
       "    <tr>\n",
       "      <th>4</th>\n",
       "      <td>BTCUSD</td>\n",
       "      <td>22440</td>\n",
       "      <td>2019-08-01</td>\n",
       "      <td>5</td>\n",
       "      <td>2019-08-01 02:54:17.793</td>\n",
       "      <td>2019-08-01 02:54:22.767</td>\n",
       "    </tr>\n",
       "  </tbody>\n",
       "</table>\n",
       "</div>"
      ],
      "text/plain": [
       "   symbol    acc       Date  spoofEventNr                  dt_min  \\\n",
       "0  BTCUSD  22440 2019-08-01             1 2019-08-01 02:54:17.793   \n",
       "1  BTCUSD  22440 2019-08-01             2 2019-08-01 02:54:17.793   \n",
       "2  BTCUSD  22440 2019-08-01             3 2019-08-01 02:54:17.793   \n",
       "3  BTCUSD  22440 2019-08-01             4 2019-08-01 02:54:17.793   \n",
       "4  BTCUSD  22440 2019-08-01             5 2019-08-01 02:54:17.793   \n",
       "\n",
       "                   dt_max  \n",
       "0 2019-08-01 02:54:22.596  \n",
       "1 2019-08-01 02:54:22.674  \n",
       "2 2019-08-01 02:54:22.674  \n",
       "3 2019-08-01 02:54:22.674  \n",
       "4 2019-08-01 02:54:22.767  "
      ]
     },
     "execution_count": 25,
     "metadata": {},
     "output_type": "execute_result"
    }
   ],
   "source": [
    "data2gbm2 = data2.groupby(['symbol', 'acc','Date', 'spoofEventNr'])\n",
    "\n",
    "method2_a = data2gbm2[['spoof_entry']].min().add_suffix('_min')\n",
    "method2_b = data2gbm2[['gen_place', 'spoof_exit', 'gen_fill', 'gen_price0', 'gen_price1']].max().add_suffix('_max')\n",
    "method2_part1 = pd.concat([method2_a, method2_b], axis=1)#.reset_index()\n",
    "\n",
    "method2_part2 = method2_part1[['spoof_entry_min', 'gen_place_max', 'spoof_exit_max', 'gen_fill_max']]\n",
    "method2 = pd.concat([method2_part2.min(axis=1), method2_part2.max(axis=1)], axis=1).rename(columns={0:'dt_min',1:'dt_max'}).reset_index().sort_values(['symbol','acc','Date','spoofEventNr'])\n",
    "method2.head()\n",
    "\n",
    "# method2remaining = method2.loc[~method2.index.isin(method1dispose.index.tolist())]\n",
    "# method2remaining"
   ]
  },
  {
   "cell_type": "markdown",
   "metadata": {},
   "source": [
    "#### > By Date/Symbol time ranges"
   ]
  },
  {
   "cell_type": "code",
   "execution_count": 26,
   "metadata": {},
   "outputs": [
    {
     "data": {
      "text/html": [
       "<div>\n",
       "<style scoped>\n",
       "    .dataframe tbody tr th:only-of-type {\n",
       "        vertical-align: middle;\n",
       "    }\n",
       "\n",
       "    .dataframe tbody tr th {\n",
       "        vertical-align: top;\n",
       "    }\n",
       "\n",
       "    .dataframe thead th {\n",
       "        text-align: right;\n",
       "    }\n",
       "</style>\n",
       "<table border=\"1\" class=\"dataframe\">\n",
       "  <thead>\n",
       "    <tr style=\"text-align: right;\">\n",
       "      <th></th>\n",
       "      <th>symbol</th>\n",
       "      <th>Date</th>\n",
       "      <th>dtmin</th>\n",
       "      <th>dtmax</th>\n",
       "    </tr>\n",
       "  </thead>\n",
       "  <tbody>\n",
       "    <tr>\n",
       "      <th>0</th>\n",
       "      <td>BTCUSD</td>\n",
       "      <td>2019-08-01</td>\n",
       "      <td>2019-08-01 02:54:17.793</td>\n",
       "      <td>2019-08-01 16:14:57.847</td>\n",
       "    </tr>\n",
       "    <tr>\n",
       "      <th>1</th>\n",
       "      <td>BTCUSD</td>\n",
       "      <td>2019-08-02</td>\n",
       "      <td>2019-08-02 12:19:03.984</td>\n",
       "      <td>2019-08-02 22:37:46.998</td>\n",
       "    </tr>\n",
       "    <tr>\n",
       "      <th>2</th>\n",
       "      <td>BTCUSD</td>\n",
       "      <td>2019-08-04</td>\n",
       "      <td>2019-08-04 18:36:20.491</td>\n",
       "      <td>2019-08-04 18:36:25.406</td>\n",
       "    </tr>\n",
       "    <tr>\n",
       "      <th>3</th>\n",
       "      <td>BTCUSD</td>\n",
       "      <td>2019-08-05</td>\n",
       "      <td>2019-08-05 18:24:31.210</td>\n",
       "      <td>2019-08-05 21:33:50.185</td>\n",
       "    </tr>\n",
       "    <tr>\n",
       "      <th>4</th>\n",
       "      <td>BTCUSD</td>\n",
       "      <td>2019-08-06</td>\n",
       "      <td>2019-08-06 03:05:16.275</td>\n",
       "      <td>2019-08-06 20:37:15.363</td>\n",
       "    </tr>\n",
       "  </tbody>\n",
       "</table>\n",
       "</div>"
      ],
      "text/plain": [
       "   symbol       Date                   dtmin                   dtmax\n",
       "0  BTCUSD 2019-08-01 2019-08-01 02:54:17.793 2019-08-01 16:14:57.847\n",
       "1  BTCUSD 2019-08-02 2019-08-02 12:19:03.984 2019-08-02 22:37:46.998\n",
       "2  BTCUSD 2019-08-04 2019-08-04 18:36:20.491 2019-08-04 18:36:25.406\n",
       "3  BTCUSD 2019-08-05 2019-08-05 18:24:31.210 2019-08-05 21:33:50.185\n",
       "4  BTCUSD 2019-08-06 2019-08-06 03:05:16.275 2019-08-06 20:37:15.363"
      ]
     },
     "execution_count": 26,
     "metadata": {},
     "output_type": "execute_result"
    }
   ],
   "source": [
    "data2gbm3 = data2.groupby(['symbol','Date'])\n",
    "\n",
    "method2_datesymbol = pd.concat([data2gbm3['spoof_entry'].min(),data2gbm3[['spoof_exit','gen_fill']].max().max(axis=1)],axis=1).rename(columns={'spoof_entry':'dtmin',0:'dtmax'}).reset_index()\n",
    "method2_datesymbol.head()"
   ]
  },
  {
   "cell_type": "code",
   "execution_count": 27,
   "metadata": {},
   "outputs": [
    {
     "data": {
      "text/plain": [
       "(34, 6)"
      ]
     },
     "execution_count": 27,
     "metadata": {},
     "output_type": "execute_result"
    }
   ],
   "source": [
    "method2_datesymbol['dt_min'] = method2_datesymbol['dtmin'].astype(str)\n",
    "method2_datesymbol['dt_max'] = method2_datesymbol['dtmax'].astype(str)\n",
    "method2_datesymbol.shape"
   ]
  },
  {
   "cell_type": "code",
   "execution_count": 28,
   "metadata": {},
   "outputs": [],
   "source": [
    "record = method2_datesymbol.iloc[0]"
   ]
  },
  {
   "cell_type": "code",
   "execution_count": null,
   "metadata": {},
   "outputs": [],
   "source": [
    "queryTEMPLATE = \"\"\"\n",
    "    SELECT * from ms_dev.daily_best_prices_split_by_account \n",
    "    WHERE event_date::date='{date}' and symbol='{symbol}' and date_time BETWEEN '{t1}' AND '{t2}' \n",
    "    \"\"\".format(date = record['Date'].date(), symbol = record['symbol'], t1 = record['dt_min'], t2 = record['dt_max'])\n",
    "\n",
    "dbp = execute_query_data_frame(queryTEMPLATE, 'gemrdsdb', ssh = 'interim'); test"
   ]
  },
  {
   "cell_type": "code",
   "execution_count": 19,
   "metadata": {},
   "outputs": [],
   "source": [
    "dbp.to_pickle('~/Desktop/dpb20190701.pkl')"
   ]
  },
  {
   "cell_type": "code",
   "execution_count": 21,
   "metadata": {},
   "outputs": [
    {
     "name": "stderr",
     "output_type": "stream",
     "text": [
      "INFO:paramiko.transport:Connected (version 2.0, client OpenSSH_7.4p1)\n",
      "INFO:paramiko.transport:Authentication (publickey) successful!\n"
     ]
    },
    {
     "name": "stdout",
     "output_type": "stream",
     "text": [
      "ssh_connect 0:00:00.511870\n"
     ]
    },
    {
     "name": "stderr",
     "output_type": "stream",
     "text": [
      "INFO:root:Loaded dataframe with 994110 rows in 0:05:51.173570.\n"
     ]
    }
   ],
   "source": [
    "queryTEMPLATE = \"\"\"\n",
    "    SELECT *\n",
    "    FROM ms_prod.smarts_raw_data\n",
    "    WHERE data_from_date = '{date}' and symbol = '{symbol}' and (event_date + event_time::time + event_millis::time) BETWEEN '{t1}' AND '{t2}' AND event_type in ('Place','Fill', 'Cancel') \n",
    "    \"\"\".format(date = record['Date'].date(), symbol = record['symbol'], t1 = record['dt_min'], t2 = record['dt_max'])\n",
    "\n",
    "srd = execute_query_data_frame(queryTEMPLATE, 'gemrdsdb', ssh = 'interim')     "
   ]
  },
  {
   "cell_type": "code",
   "execution_count": 22,
   "metadata": {},
   "outputs": [],
   "source": [
    "srd.to_pickle('~/Desktop/srd20190701.pkl')"
   ]
  },
  {
   "cell_type": "markdown",
   "metadata": {},
   "source": [
    "#### > Gathering filled records from DB that contains all relevant events"
   ]
  },
  {
   "cell_type": "code",
   "execution_count": null,
   "metadata": {},
   "outputs": [],
   "source": [
    "queryTEMPLATE = \"\"\"\n",
    "    SELECT *\n",
    "    FROM ms_prod.smarts_raw_data\n",
    "    WHERE data_from_date = '{date}' and symbol = '{symbol}' and (event_date + event_time::time + event_millis::time) BETWEEN '{t1}' AND '{t2}' AND event_type in ('Place','Fill') \n",
    "    \"\"\"\n",
    "                     \n",
    "method2_filldf = pd.DataFrame()\n",
    "for i in range(0,method2_datesymbol.shape[0]):\n",
    "    record = method2_datesymbol.iloc[i]\n",
    "    test = execute_query_data_frame(queryTEMPLATE.format(date = record['Date'].date(), symbol = record['symbol'], t1 = record['dt_min'], t2 = record['dt_max']), 'gemrdsdb', ssh = 'interim')     \n",
    "    print(i, test.shape)\n",
    "    method2_filldf = method2_filldf.append(test)\n",
    "\n",
    "method2_filldf.to_pickle('~/Documents/fillevents.pkl')    \n",
    "method2_filldf.head()"
   ]
  },
  {
   "cell_type": "code",
   "execution_count": null,
   "metadata": {},
   "outputs": [],
   "source": []
  },
  {
   "cell_type": "code",
   "execution_count": null,
   "metadata": {},
   "outputs": [],
   "source": [
    "# queryTEMPLATE = \"\"\"\n",
    "#     SELECT *\n",
    "#     FROM ms_prod.smarts_raw_data\n",
    "#     WHERE data_from_date = '{date}' and symbol = '{symbol}' and (event_date + event_time::time + event_millis::time) BETWEEN '{t1}' AND '{t2}' AND event_type in ('Place','Fill') \n",
    "#     \"\"\"\n",
    "                     \n",
    "# method2_filldf = pd.DataFrame()\n",
    "# for i in range(0,method2_datesymbol.shape[0]):\n",
    "#     record = method2_datesymbol.iloc[i]\n",
    "#     test = execute_query_data_frame(queryTEMPLATE.format(date = record['Date'].date(), symbol = record['symbol'], t1 = record['dt_min'], t2 = record['dt_max']), 'gemrdsdb', ssh = 'interim')     \n",
    "#     print(i, test.shape)\n",
    "#     method2_filldf = method2_filldf.append(test)\n",
    "\n",
    "# method2_filldf.to_pickle('~/Documents/fillevents.pkl')    \n",
    "# method2_filldf.head()"
   ]
  },
  {
   "cell_type": "code",
   "execution_count": 29,
   "metadata": {},
   "outputs": [
    {
     "ename": "TypeError",
     "evalue": "execute_query_data_frame() missing 1 required positional argument: 'database'",
     "output_type": "error",
     "traceback": [
      "\u001b[0;31m---------------------------------------------------------------------------\u001b[0m",
      "\u001b[0;31mTypeError\u001b[0m                                 Traceback (most recent call last)",
      "\u001b[0;32m<ipython-input-29-fdbc21b527cb>\u001b[0m in \u001b[0;36m<module>\u001b[0;34m\u001b[0m\n\u001b[1;32m      5\u001b[0m     \u001b[0mLIMIT\u001b[0m \u001b[0;36m4\u001b[0m\u001b[0;34m\u001b[0m\u001b[0m\n\u001b[1;32m      6\u001b[0m     \"\"\"\n\u001b[0;32m----> 7\u001b[0;31m \u001b[0mexecute_query_data_frame\u001b[0m\u001b[0;34m(\u001b[0m\u001b[0mqueryTEMPLATE\u001b[0m\u001b[0;34m.\u001b[0m\u001b[0mformat\u001b[0m\u001b[0;34m(\u001b[0m\u001b[0mdate\u001b[0m \u001b[0;34m=\u001b[0m \u001b[0mrecord\u001b[0m\u001b[0;34m[\u001b[0m\u001b[0;34m'Date'\u001b[0m\u001b[0;34m]\u001b[0m\u001b[0;34m.\u001b[0m\u001b[0mdate\u001b[0m\u001b[0;34m(\u001b[0m\u001b[0;34m)\u001b[0m\u001b[0;34m,\u001b[0m \u001b[0msymbol\u001b[0m \u001b[0;34m=\u001b[0m \u001b[0mrecord\u001b[0m\u001b[0;34m[\u001b[0m\u001b[0;34m'symbol'\u001b[0m\u001b[0;34m]\u001b[0m\u001b[0;34m)\u001b[0m\u001b[0;34m)\u001b[0m\u001b[0;34m\u001b[0m\u001b[0m\n\u001b[0m\u001b[1;32m      8\u001b[0m \u001b[0;34m\u001b[0m\u001b[0m\n\u001b[1;32m      9\u001b[0m \u001b[0;34m\u001b[0m\u001b[0m\n",
      "\u001b[0;31mTypeError\u001b[0m: execute_query_data_frame() missing 1 required positional argument: 'database'"
     ]
    }
   ],
   "source": []
  },
  {
   "cell_type": "code",
   "execution_count": null,
   "metadata": {},
   "outputs": [],
   "source": [
    "# ms_dev.daily_best_prices_split_by_account"
   ]
  },
  {
   "cell_type": "code",
   "execution_count": null,
   "metadata": {},
   "outputs": [],
   "source": [
    "# queryTEMPLATE = \"\"\"\n",
    "#     SELECT dbp.*, srd.*\n",
    "#     FROM ms_dev.daily_best_prices_split_by_account as dbp\n",
    "#     LEFT JOIN ms_prod.smarts_raw_data as srd\n",
    "#     ON dbp.event_id = srd.event_id\n",
    "#     LIMIT 10;\n",
    "#     \"\"\""
   ]
  },
  {
   "cell_type": "code",
   "execution_count": null,
   "metadata": {},
   "outputs": [],
   "source": []
  },
  {
   "cell_type": "code",
   "execution_count": 27,
   "metadata": {},
   "outputs": [],
   "source": [
    "# queryTEMPLATE = \"\"\"\n",
    "#     SELECT * from ms_prod.smarts_raw_data \n",
    "#     WHERE event_id = 7943527211\n",
    "#     LIMIT 2;\"\"\"#.format(x = '2019-07-01')\n",
    "# test = execute_query_data_frame(queryTEMPLATE, 'gemrdsdb', ssh = 'interim');test"
   ]
  },
  {
   "cell_type": "code",
   "execution_count": null,
   "metadata": {},
   "outputs": [],
   "source": [
    "# queryTEMPLATE = \"\"\"\n",
    "#     SELECT tbd.*, dbp.*\n",
    "#     FROM (SELECT * from ms_prod.smarts_raw_data WHERE data_from_date::date = '{x}' LIMIT 4) as tbd\n",
    "#     LEFT JOIN \n",
    "#     (SELECT * from ms_dev.daily_best_prices_split_by_account where event_date::date = '{x}' LIMIT 3) as dbp\n",
    "#     USING(event_id);\n",
    "#     \"\"\".format(x = '2019-07-01')\n",
    "# test = execute_query_data_frame(queryTEMPLATE, 'gemrdsdb', ssh = 'interim');test"
   ]
  },
  {
   "cell_type": "code",
   "execution_count": null,
   "metadata": {},
   "outputs": [],
   "source": [
    "# SELECT tbd.*, dbp.*\n",
    "#     FROM (SELECT * from ms_prod.smarts_raw_data WHERE data_from_date::date = '2019-07-01' LIMIT 4) as tbd\n",
    "#     LEFT JOIN \n",
    "#     (SELECT * from ms_dev.daily_best_prices_split_by_account where event_date::date = '2019-07-01') as dbp\n",
    "#     USING(event_id)"
   ]
  },
  {
   "cell_type": "code",
   "execution_count": null,
   "metadata": {},
   "outputs": [],
   "source": []
  }
 ],
 "metadata": {
  "kernelspec": {
   "display_name": "Python 3",
   "language": "python",
   "name": "python3"
  },
  "language_info": {
   "codemirror_mode": {
    "name": "ipython",
    "version": 3
   },
   "file_extension": ".py",
   "mimetype": "text/x-python",
   "name": "python",
   "nbconvert_exporter": "python",
   "pygments_lexer": "ipython3",
   "version": "3.7.0"
  }
 },
 "nbformat": 4,
 "nbformat_minor": 2
}
