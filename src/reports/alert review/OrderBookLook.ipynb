{
 "cells": [
  {
   "cell_type": "code",
   "execution_count": 1,
   "metadata": {},
   "outputs": [
    {
     "name": "stderr",
     "output_type": "stream",
     "text": [
      "/Users/sqian/.pyenv/versions/3.7.0/envs/env_370/lib/python3.7/site-packages/psycopg2/__init__.py:144: UserWarning: The psycopg2 wheel package will be renamed from release 2.8; in order to keep installing from binary please use \"pip install psycopg2-binary\" instead. For details see: <http://initd.org/psycopg/docs/install.html#binary-install-from-pypi>.\n",
      "  \"\"\")\n"
     ]
    }
   ],
   "source": [
    "import os; \n",
    "import pandas as pd; pd.set_option('mode.chained_assignment',None)\n",
    "from pandas.plotting import register_matplotlib_converters; register_matplotlib_converters()\n",
    "import numpy as np\n",
    "import datetime\n",
    "import matplotlib.pyplot as plt\n",
    "import matplotlib.mlab as mlab\n",
    "import math\n",
    "import re\n",
    "import xlrd\n",
    "import statistics as stat\n",
    "from xlsxwriter.utility import xl_rowcol_to_cell\n",
    "from random import sample\n",
    "from pandas.plotting import register_matplotlib_converters\n",
    "\n",
    "from src.data_models.SmartsCsvDataModel import SmartsCsvDataModel\n",
    "from src.data_models.smartshelper import metrics, fixNum, unSMART, cparty, wtf\n",
    "from src.data_models.SmartsDataModel import SmartsDataModel\n",
    "from src.utility.DataModelUtility import execute_query_data_frame\n",
    "from src.data_models.SmartsDataModel import SmartsDataModel\n",
    "from src.data_models.UPMhelper import UPMalerts"
   ]
  },
  {
   "cell_type": "markdown",
   "metadata": {},
   "source": [
    "### DEFINE parameters"
   ]
  },
  {
   "cell_type": "code",
   "execution_count": 5,
   "metadata": {},
   "outputs": [],
   "source": [
    "date = datetime.date(2019,6,26) \n",
    "acc = 22440"
   ]
  },
  {
   "cell_type": "code",
   "execution_count": 8,
   "metadata": {},
   "outputs": [
    {
     "name": "stderr",
     "output_type": "stream",
     "text": [
      "INFO:paramiko.transport:Connected (version 2.0, client OpenSSH_7.4p1)\n",
      "INFO:paramiko.transport:Authentication (publickey) successful!\n"
     ]
    },
    {
     "name": "stdout",
     "output_type": "stream",
     "text": [
      "ssh_connect 0:00:00.622261\n"
     ]
    },
    {
     "name": "stderr",
     "output_type": "stream",
     "text": [
      "INFO:root:Loaded dataframe with 11593 rows in 0:00:06.363366.\n"
     ]
    },
    {
     "name": "stdout",
     "output_type": "stream",
     "text": [
      "download_smarts_data 0:00:00.000149\n",
      "read_csv_to_dk_dataframe 0:00:00.034448\n",
      "pre_cleaning 0:00:30.950239\n"
     ]
    },
    {
     "data": {
      "text/plain": [
       "dict_keys([1, 2, 3])"
      ]
     },
     "execution_count": 8,
     "metadata": {},
     "output_type": "execute_result"
    }
   ],
   "source": [
    "diction = wtf(date,'BTCUSD',acc)\n",
    "diction.keys()"
   ]
  },
  {
   "cell_type": "code",
   "execution_count": 12,
   "metadata": {},
   "outputs": [
    {
     "data": {
      "text/html": [
       "<div>\n",
       "<style scoped>\n",
       "    .dataframe tbody tr th:only-of-type {\n",
       "        vertical-align: middle;\n",
       "    }\n",
       "\n",
       "    .dataframe tbody tr th {\n",
       "        vertical-align: top;\n",
       "    }\n",
       "\n",
       "    .dataframe thead th {\n",
       "        text-align: right;\n",
       "    }\n",
       "</style>\n",
       "<table border=\"1\" class=\"dataframe\">\n",
       "  <thead>\n",
       "    <tr style=\"text-align: right;\">\n",
       "      <th></th>\n",
       "      <th></th>\n",
       "      <th></th>\n",
       "      <th>PLACE_date_time</th>\n",
       "      <th>PLACE_original_quantity</th>\n",
       "      <th>FILL_fill_quantity</th>\n",
       "      <th>avg_price</th>\n",
       "    </tr>\n",
       "    <tr>\n",
       "      <th>side</th>\n",
       "      <th>execution_options</th>\n",
       "      <th>order_type</th>\n",
       "      <th></th>\n",
       "      <th></th>\n",
       "      <th></th>\n",
       "      <th></th>\n",
       "    </tr>\n",
       "  </thead>\n",
       "  <tbody>\n",
       "    <tr>\n",
       "      <th>buy</th>\n",
       "      <th>maker-or-cancel</th>\n",
       "      <th>limit</th>\n",
       "      <td>73252.0</td>\n",
       "      <td>99405.859897</td>\n",
       "      <td>650.207027</td>\n",
       "      <td>12724.762677</td>\n",
       "    </tr>\n",
       "    <tr>\n",
       "      <th>sell</th>\n",
       "      <th>maker-or-cancel</th>\n",
       "      <th>limit</th>\n",
       "      <td>66757.0</td>\n",
       "      <td>92548.663054</td>\n",
       "      <td>454.985028</td>\n",
       "      <td>12683.143456</td>\n",
       "    </tr>\n",
       "  </tbody>\n",
       "</table>\n",
       "</div>"
      ],
      "text/plain": [
       "                                   PLACE_date_time  PLACE_original_quantity  \\\n",
       "side execution_options order_type                                             \n",
       "buy  maker-or-cancel   limit               73252.0             99405.859897   \n",
       "sell maker-or-cancel   limit               66757.0             92548.663054   \n",
       "\n",
       "                                   FILL_fill_quantity     avg_price  \n",
       "side execution_options order_type                                    \n",
       "buy  maker-or-cancel   limit               650.207027  12724.762677  \n",
       "sell maker-or-cancel   limit               454.985028  12683.143456  "
      ]
     },
     "execution_count": 12,
     "metadata": {},
     "output_type": "execute_result"
    }
   ],
   "source": [
    "diction[3]"
   ]
  },
  {
   "cell_type": "markdown",
   "metadata": {},
   "source": [
    "#### Parameters"
   ]
  },
  {
   "cell_type": "code",
   "execution_count": 10,
   "metadata": {},
   "outputs": [],
   "source": [
    "# alerting_2 = datetime.date.today()\n",
    "# alerting_1 = alerting_2 - \n",
    "\n",
    "# aclist = [22440,355845,3032,411770,202474]\n",
    "# symbol = 'BTCUSD'"
   ]
  },
  {
   "cell_type": "markdown",
   "metadata": {},
   "source": [
    "#### Collect Data"
   ]
  },
  {
   "cell_type": "code",
   "execution_count": 11,
   "metadata": {},
   "outputs": [],
   "source": [
    "# queryA = \"\"\"\n",
    "#         SELECT event_id, created::date, account_id, side, quantity\n",
    "#         from order_fill_event\n",
    "#         where created::date between '{t1}' and '{t2}' and account_id in {x} and trading_pair = '{y}'\n",
    "#         order by event_id\n",
    "#         \"\"\".format(t1 = alerting_1.strftime(\"%Y%m%d\"), \n",
    "#                    t2 = alerting_2.strftime(\"%Y%m%d\"), \n",
    "#                    x=aclist,\n",
    "#                    y = symbol)\n",
    "\n",
    "# queryB = \"\"\"\n",
    "#         SELECT created::date, account_id, trading_pair, side, sum(quantity)\n",
    "#         from order_fill_event\n",
    "#         where created::date between '{t1}' and '{t2}' and account_id in {x} and trading_pair = '{y}'\n",
    "#         group by created::date, account_id, trading_pair, side\n",
    "#         \"\"\".format(t1 = alerting_1.strftime(\"%Y%m%d\"), \n",
    "#                    t2 = alerting_2.strftime(\"%Y%m%d\"), \n",
    "#                    x=aclist,\n",
    "#                    y = symbol)\n",
    "\n",
    "# queryC = \"\"\"\n",
    "#         SELECT exchange_account_id as account_id, user_or_account_name, is_institutional\n",
    "#         from account_derived_metadata\n",
    "#         where exchange_account_id in {x}\n",
    "#         \"\"\".format(x=aclist)\n",
    "\n",
    "# queryD = \"\"\"\n",
    "#         SELECT side, created::date, trading_pair, sum(quantity)\n",
    "#         from order_fill_event\n",
    "#         where created::date between '{t1}' and '{t2}' and trading_pair = '{y}'\n",
    "#         group by trading_pair, side, created::date\n",
    "#         \"\"\".format(t1 = alerting_1.strftime(\"%Y%m%d\"), \n",
    "#                    t2 = alerting_2.strftime(\"%Y%m%d\"), \n",
    "#                    y = symbol)\n",
    "\n",
    "# dataA0 = execute_query_data_frame(queryA, 'engine')\n",
    "# dataB0 = execute_query_data_frame(queryB, 'engine')\n",
    "# dataC0 = execute_query_data_frame(queryC, 'engine')\n",
    "# dataD0 = execute_query_data_frame(queryD, 'engine')"
   ]
  },
  {
   "cell_type": "code",
   "execution_count": 12,
   "metadata": {},
   "outputs": [],
   "source": [
    "# queryC = \"\"\"\n",
    "#         SELECT *\n",
    "#         from account_derived_metadata\n",
    "#         where user_or_account_name LIKE 'Subi Qian'\n",
    "#         \"\"\"\n",
    "\n",
    "# execute_query_data_frame(queryC, 'engine')#.fillna('MISSING').groupby(['country_code','state_code']).count()['name_source']"
   ]
  },
  {
   "cell_type": "code",
   "execution_count": 13,
   "metadata": {},
   "outputs": [],
   "source": [
    "# queryC = \"\"\"\n",
    "#         SELECT *\n",
    "#         from order_fill_event\n",
    "#         where account_id = 911550\n",
    "#         \"\"\"\n",
    "\n",
    "# execute_query_data_frame(queryC, 'engine')#.fillna('MISSING').groupby(['country_code','state_code']).count()['name_source']"
   ]
  },
  {
   "cell_type": "code",
   "execution_count": 14,
   "metadata": {},
   "outputs": [],
   "source": [
    "# queryC = \"\"\"\n",
    "#         SELECT *\n",
    "#         from daily_conversion_rates\n",
    "#         where created::date between '20190620' and '20190625' and trading_pair = 'BTCUSD'\n",
    "#         \"\"\"\n",
    "\n",
    "# execute_query_data_frame(queryC, 'engine')#.fillna('MISSING').groupby(['country_code','state_code']).count()['name_source']"
   ]
  }
 ],
 "metadata": {
  "kernelspec": {
   "display_name": "Python 3",
   "language": "python",
   "name": "python3"
  },
  "language_info": {
   "codemirror_mode": {
    "name": "ipython",
    "version": 3
   },
   "file_extension": ".py",
   "mimetype": "text/x-python",
   "name": "python",
   "nbconvert_exporter": "python",
   "pygments_lexer": "ipython3",
   "version": "3.7.0"
  }
 },
 "nbformat": 4,
 "nbformat_minor": 2
}
