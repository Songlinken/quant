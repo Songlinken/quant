{
 "cells": [
  {
   "cell_type": "code",
   "execution_count": 1,
   "metadata": {},
   "outputs": [
    {
     "name": "stderr",
     "output_type": "stream",
     "text": [
      "/Users/sqian/.pyenv/versions/3.7.0/envs/env_370/lib/python3.7/site-packages/psycopg2/__init__.py:144: UserWarning: The psycopg2 wheel package will be renamed from release 2.8; in order to keep installing from binary please use \"pip install psycopg2-binary\" instead. For details see: <http://initd.org/psycopg/docs/install.html#binary-install-from-pypi>.\n",
      "  \"\"\")\n"
     ]
    }
   ],
   "source": [
    "import os; \n",
    "import pandas as pd; pd.set_option('mode.chained_assignment',None)\n",
    "import numpy as np\n",
    "import datetime\n",
    "import matplotlib.pyplot as plt\n",
    "import matplotlib.mlab as mlab\n",
    "import math\n",
    "import re\n",
    "import xlrd\n",
    "import statistics as stat\n",
    "from xlsxwriter.utility import xl_rowcol_to_cell\n",
    "from random import sample\n",
    "from src.data_models.SmartsCsvDataModel import SmartsCsvDataModel\n",
    "from src.data_models.smartshelper import metrics, fixNum, unSMART, cparty\n",
    "from src.data_models.SmartsDataModel import SmartsDataModel\n",
    "from src.utility.DataModelUtility import execute_query_data_frame\n",
    "from src.data_models.SmartsDataModel import SmartsDataModel\n",
    "from src.data_models.UPMhelper import UPMalerts"
   ]
  },
  {
   "cell_type": "code",
   "execution_count": 20,
   "metadata": {},
   "outputs": [
    {
     "name": "stdout",
     "output_type": "stream",
     "text": [
      "-> type fixed, kept 681 rows, 49 columns\n"
     ]
    }
   ],
   "source": [
    "lookback_1 = unSMART(pd.read_excel('~/Documents/vmfldr/alerts-LB1.xlsx'))\n",
    "# lookback_1 = unSMART(pd.read_excel('~/Documents/vmfldr/smarts1JanApr.xlsx'))\n",
    "\n",
    "# data = lookback_1[lookback_1['month'] == 12]\n",
    "data0 = lookback_1.loc[lookback_1['Datetime'].dt.year == 2019]\n",
    "data0b = data0.groupby(['month','AlertCode','ShortText']).count()"
   ]
  },
  {
   "cell_type": "code",
   "execution_count": 21,
   "metadata": {},
   "outputs": [
    {
     "data": {
      "text/html": [
       "<div>\n",
       "<style scoped>\n",
       "    .dataframe tbody tr th:only-of-type {\n",
       "        vertical-align: middle;\n",
       "    }\n",
       "\n",
       "    .dataframe tbody tr th {\n",
       "        vertical-align: top;\n",
       "    }\n",
       "\n",
       "    .dataframe thead th {\n",
       "        text-align: right;\n",
       "    }\n",
       "</style>\n",
       "<table border=\"1\" class=\"dataframe\">\n",
       "  <thead>\n",
       "    <tr style=\"text-align: right;\">\n",
       "      <th></th>\n",
       "      <th>month</th>\n",
       "      <th>1</th>\n",
       "      <th>2</th>\n",
       "      <th>3</th>\n",
       "      <th>4</th>\n",
       "    </tr>\n",
       "    <tr>\n",
       "      <th>AlertCode</th>\n",
       "      <th>ShortText</th>\n",
       "      <th></th>\n",
       "      <th></th>\n",
       "      <th></th>\n",
       "      <th></th>\n",
       "    </tr>\n",
       "  </thead>\n",
       "  <tbody>\n",
       "    <tr>\n",
       "      <th rowspan=\"2\" valign=\"top\">1001</th>\n",
       "      <th>(MC) UNUSUAL PRICE MOVEMENT INTRA-DAY</th>\n",
       "      <td>0</td>\n",
       "      <td>1</td>\n",
       "      <td>0</td>\n",
       "      <td>0</td>\n",
       "    </tr>\n",
       "    <tr>\n",
       "      <th>UNUSUAL PRICE MOVEMENT INTRA-DAY</th>\n",
       "      <td>20</td>\n",
       "      <td>20</td>\n",
       "      <td>4</td>\n",
       "      <td>8</td>\n",
       "    </tr>\n",
       "    <tr>\n",
       "      <th>2011</th>\n",
       "      <th>UNUSUAL VOLUME INTRA-DAY</th>\n",
       "      <td>9</td>\n",
       "      <td>18</td>\n",
       "      <td>20</td>\n",
       "      <td>34</td>\n",
       "    </tr>\n",
       "    <tr>\n",
       "      <th>4009</th>\n",
       "      <th>PAINTING THE TAPE</th>\n",
       "      <td>0</td>\n",
       "      <td>1</td>\n",
       "      <td>0</td>\n",
       "      <td>0</td>\n",
       "    </tr>\n",
       "    <tr>\n",
       "      <th>4012</th>\n",
       "      <th>PRICE DRIVER</th>\n",
       "      <td>0</td>\n",
       "      <td>1</td>\n",
       "      <td>3</td>\n",
       "      <td>5</td>\n",
       "    </tr>\n",
       "    <tr>\n",
       "      <th>4022</th>\n",
       "      <th>BAIT AND SWITCH</th>\n",
       "      <td>16</td>\n",
       "      <td>115</td>\n",
       "      <td>39</td>\n",
       "      <td>145</td>\n",
       "    </tr>\n",
       "    <tr>\n",
       "      <th>4023</th>\n",
       "      <th>LAYERING REPEAT</th>\n",
       "      <td>0</td>\n",
       "      <td>0</td>\n",
       "      <td>2</td>\n",
       "      <td>1</td>\n",
       "    </tr>\n",
       "    <tr>\n",
       "      <th>4032</th>\n",
       "      <th>MULTI ORDER SPOOFING EOD</th>\n",
       "      <td>30</td>\n",
       "      <td>27</td>\n",
       "      <td>29</td>\n",
       "      <td>42</td>\n",
       "    </tr>\n",
       "    <tr>\n",
       "      <th>4042</th>\n",
       "      <th>WASH SALE A-B-A (MONEY PASS)</th>\n",
       "      <td>19</td>\n",
       "      <td>20</td>\n",
       "      <td>16</td>\n",
       "      <td>24</td>\n",
       "    </tr>\n",
       "    <tr>\n",
       "      <th>4045</th>\n",
       "      <th>COLLUSION(MONEY PASS)</th>\n",
       "      <td>2</td>\n",
       "      <td>2</td>\n",
       "      <td>1</td>\n",
       "      <td>0</td>\n",
       "    </tr>\n",
       "  </tbody>\n",
       "</table>\n",
       "</div>"
      ],
      "text/plain": [
       "month                                             1    2   3    4\n",
       "AlertCode ShortText                                              \n",
       "1001      (MC) UNUSUAL PRICE MOVEMENT INTRA-DAY   0    1   0    0\n",
       "          UNUSUAL PRICE MOVEMENT INTRA-DAY       20   20   4    8\n",
       "2011      UNUSUAL VOLUME INTRA-DAY                9   18  20   34\n",
       "4009      PAINTING THE TAPE                       0    1   0    0\n",
       "4012      PRICE DRIVER                            0    1   3    5\n",
       "4022      BAIT AND SWITCH                        16  115  39  145\n",
       "4023      LAYERING REPEAT                         0    0   2    1\n",
       "4032      MULTI ORDER SPOOFING EOD               30   27  29   42\n",
       "4042      WASH SALE A-B-A (MONEY PASS)           19   20  16   24\n",
       "4045      COLLUSION(MONEY PASS)                   2    2   1    0"
      ]
     },
     "execution_count": 21,
     "metadata": {},
     "output_type": "execute_result"
    }
   ],
   "source": [
    "pd.pivot_table(data0b,columns='month',index=['AlertCode','ShortText'],values='AlertID').fillna(0).astype(int)"
   ]
  },
  {
   "cell_type": "code",
   "execution_count": 22,
   "metadata": {},
   "outputs": [
    {
     "data": {
      "text/plain": [
       "AlertCode\n",
       "1001     53\n",
       "2011     81\n",
       "4009      1\n",
       "4012      9\n",
       "4022    315\n",
       "4023      3\n",
       "4032    128\n",
       "4042     79\n",
       "4045      5\n",
       "Name: AlertID, dtype: int64"
      ]
     },
     "execution_count": 22,
     "metadata": {},
     "output_type": "execute_result"
    }
   ],
   "source": [
    "data0.groupby(['AlertCode']).count()['AlertID']"
   ]
  },
  {
   "cell_type": "code",
   "execution_count": 4,
   "metadata": {},
   "outputs": [
    {
     "name": "stdout",
     "output_type": "stream",
     "text": [
      "Price Change in the last 5 minutes is +Ξ0.44940 (44.9%) from Ξ1.00010 to Ξ1.44950 and benchmark is Ξ0.31837 (25%)   Price Change in the last 10 minutes is +Ξ0.44940 (44.9%) from Ξ1.00010 to Ξ1.44950 and benchmark is Ξ0.31837 (25%) \n",
      "\n",
      "Price Change in the last 5 minutes is -Ξ0.49990 (50%) from Ξ1.00000 to Ξ0.50010 and benchmark is Ξ0.31837 (25%)   Price Change in the last 10 minutes is -Ξ0.49990 (50%) from Ξ1.00000 to Ξ0.50010 and benchmark is Ξ0.31837 (25%) \n",
      "\n",
      "Price Change in the last 5 minutes is +₿0.03868 (93%) from ₿0.04157 to ₿0.08025 and benchmark is ₿0.01045 (25%)   Price Change in the last 10 minutes is +₿0.03868 (93%) from ₿0.04157 to ₿0.08025 and benchmark is ₿0.01045 (25%)   Price Change in the last 1 hour is +₿0.03868 (93%) from ₿0.04157 to ₿0.08025 and benchmark is ₿0.02090 (50%) \n",
      "\n",
      "Price Change in the last 5 minutes is -0.76470 (76.5%) from 0.99990 to 0.23520 and benchmark is 0.05017 (25%)   Price Change in the last 10 minutes is -0.76470 (76.5%) from 0.99990 to 0.23520 and benchmark is 0.05017 (25%) \n",
      "\n",
      "Price Change in the last 5 minutes is -Ξ0.55660 (52.6%) from Ξ1.05740 to Ξ0.50080 and benchmark is Ξ0.31837 (25%)   Price Change in the last 10 minutes is -Ξ0.55660 (52.6%) from Ξ1.05740 to Ξ0.50080 and benchmark is Ξ0.31837 (25%) \n",
      "\n"
     ]
    }
   ],
   "source": [
    "data0_1001 = data0[data0['AlertCode'] == 1001]\n",
    "data0_1001['LT2'] = data0_1001['LongText'].str.extract(r'\\D+:\\s+(Price Change.+)\\s+Bid.+')\n",
    "\n",
    "for i in data0_1001['LT2'].head(): print(i,'\\n')"
   ]
  },
  {
   "cell_type": "code",
   "execution_count": 5,
   "metadata": {},
   "outputs": [],
   "source": [
    "data1_1001 = data0_1001['LT2'].str.extractall(r'Price\\D+(\\d+\\sminutes|hour)\\D+([\\d+.,]+)\\D+([\\d+.,]+)\\D+([\\d+.,]+)\\D+([\\d+.,]+)\\D+([\\d+.,]+)\\D+([\\d+.,]+)\\D+').reset_index(drop=True)"
   ]
  },
  {
   "cell_type": "code",
   "execution_count": 6,
   "metadata": {},
   "outputs": [
    {
     "data": {
      "text/html": [
       "<div>\n",
       "<style scoped>\n",
       "    .dataframe tbody tr th:only-of-type {\n",
       "        vertical-align: middle;\n",
       "    }\n",
       "\n",
       "    .dataframe tbody tr th {\n",
       "        vertical-align: top;\n",
       "    }\n",
       "\n",
       "    .dataframe thead th {\n",
       "        text-align: right;\n",
       "    }\n",
       "</style>\n",
       "<table border=\"1\" class=\"dataframe\">\n",
       "  <thead>\n",
       "    <tr style=\"text-align: right;\">\n",
       "      <th></th>\n",
       "      <th>minutes</th>\n",
       "      <th>change_abs</th>\n",
       "      <th>change_pct</th>\n",
       "      <th>price0</th>\n",
       "      <th>price1</th>\n",
       "      <th>bm_abs</th>\n",
       "      <th>bm_pct</th>\n",
       "    </tr>\n",
       "  </thead>\n",
       "  <tbody>\n",
       "    <tr>\n",
       "      <th>0</th>\n",
       "      <td>5 minutes</td>\n",
       "      <td>0.44940</td>\n",
       "      <td>44.9</td>\n",
       "      <td>1.00010</td>\n",
       "      <td>1.44950</td>\n",
       "      <td>0.31837</td>\n",
       "      <td>25</td>\n",
       "    </tr>\n",
       "    <tr>\n",
       "      <th>1</th>\n",
       "      <td>5 minutes</td>\n",
       "      <td>0.49990</td>\n",
       "      <td>50</td>\n",
       "      <td>1.00000</td>\n",
       "      <td>0.50010</td>\n",
       "      <td>0.31837</td>\n",
       "      <td>25</td>\n",
       "    </tr>\n",
       "    <tr>\n",
       "      <th>2</th>\n",
       "      <td>5 minutes</td>\n",
       "      <td>0.03868</td>\n",
       "      <td>93</td>\n",
       "      <td>0.04157</td>\n",
       "      <td>0.08025</td>\n",
       "      <td>0.01045</td>\n",
       "      <td>25</td>\n",
       "    </tr>\n",
       "    <tr>\n",
       "      <th>3</th>\n",
       "      <td>5 minutes</td>\n",
       "      <td>0.76470</td>\n",
       "      <td>76.5</td>\n",
       "      <td>0.99990</td>\n",
       "      <td>0.23520</td>\n",
       "      <td>0.05017</td>\n",
       "      <td>25</td>\n",
       "    </tr>\n",
       "    <tr>\n",
       "      <th>4</th>\n",
       "      <td>5 minutes</td>\n",
       "      <td>0.55660</td>\n",
       "      <td>52.6</td>\n",
       "      <td>1.05740</td>\n",
       "      <td>0.50080</td>\n",
       "      <td>0.31837</td>\n",
       "      <td>25</td>\n",
       "    </tr>\n",
       "  </tbody>\n",
       "</table>\n",
       "</div>"
      ],
      "text/plain": [
       "     minutes change_abs change_pct   price0   price1   bm_abs bm_pct\n",
       "0  5 minutes    0.44940       44.9  1.00010  1.44950  0.31837     25\n",
       "1  5 minutes    0.49990         50  1.00000  0.50010  0.31837     25\n",
       "2  5 minutes    0.03868         93  0.04157  0.08025  0.01045     25\n",
       "3  5 minutes    0.76470       76.5  0.99990  0.23520  0.05017     25\n",
       "4  5 minutes    0.55660       52.6  1.05740  0.50080  0.31837     25"
      ]
     },
     "execution_count": 6,
     "metadata": {},
     "output_type": "execute_result"
    }
   ],
   "source": [
    "data1_1001.columns = ['minutes','change_abs','change_pct','price0','price1','bm_abs','bm_pct']\n",
    "data1_1001.head()"
   ]
  },
  {
   "cell_type": "code",
   "execution_count": 7,
   "metadata": {},
   "outputs": [
    {
     "data": {
      "text/plain": [
       "<matplotlib.axes._subplots.AxesSubplot at 0x124fa3b38>"
      ]
     },
     "execution_count": 7,
     "metadata": {},
     "output_type": "execute_result"
    },
    {
     "data": {
      "image/png": "[encoded data removed]",
      "text/plain": [
       "<Figure size 432x288 with 1 Axes>"
      ]
     },
     "metadata": {
      "needs_background": "light"
     },
     "output_type": "display_data"
    }
   ],
   "source": [
    "data1_1001['severity_abs'] = data1_1001['change_abs'].astype(float) - data1_1001['bm_abs'].astype(float)\n",
    "data1_1001['severity_abs'].hist(bins=30)"
   ]
  },
  {
   "cell_type": "code",
   "execution_count": 8,
   "metadata": {},
   "outputs": [
    {
     "data": {
      "text/plain": [
       "<matplotlib.axes._subplots.AxesSubplot at 0x1270bf9b0>"
      ]
     },
     "execution_count": 8,
     "metadata": {},
     "output_type": "execute_result"
    },
    {
     "data": {
      "image/png": "[encoded data removed]",
      "text/plain": [
       "<Figure size 432x288 with 1 Axes>"
      ]
     },
     "metadata": {
      "needs_background": "light"
     },
     "output_type": "display_data"
    }
   ],
   "source": [
    "data1_1001['severity_bm'] = data1_1001['change_pct'].astype(float) - data1_1001['bm_pct'].astype(float)\n",
    "data1_1001['severity_bm'].hist(bins=30)"
   ]
  },
  {
   "cell_type": "code",
   "execution_count": null,
   "metadata": {},
   "outputs": [],
   "source": []
  }
 ],
 "metadata": {
  "kernelspec": {
   "display_name": "Python 3",
   "language": "python",
   "name": "python3"
  },
  "language_info": {
   "codemirror_mode": {
    "name": "ipython",
    "version": 3
   },
   "file_extension": ".py",
   "mimetype": "text/x-python",
   "name": "python",
   "nbconvert_exporter": "python",
   "pygments_lexer": "ipython3",
   "version": "3.7.0"
  }
 },
 "nbformat": 4,
 "nbformat_minor": 2
}
