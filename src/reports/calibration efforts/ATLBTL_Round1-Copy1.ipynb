{
 "cells": [
  {
   "cell_type": "markdown",
   "metadata": {},
   "source": [
    "### Default to Iteration 1: Above-the-Line / Below-the-Line (ATL/BTL) Testing"
   ]
  },
  {
   "cell_type": "code",
   "execution_count": 1,
   "metadata": {},
   "outputs": [
    {
     "name": "stderr",
     "output_type": "stream",
     "text": [
      "/Users/sqian/.pyenv/versions/3.7.0/envs/env_370/lib/python3.7/site-packages/psycopg2/__init__.py:144: UserWarning: The psycopg2 wheel package will be renamed from release 2.8; in order to keep installing from binary please use \"pip install psycopg2-binary\" instead. For details see: <http://initd.org/psycopg/docs/install.html#binary-install-from-pypi>.\n",
      "  \"\"\")\n"
     ]
    }
   ],
   "source": [
    "import os; \n",
    "import pandas as pd; pd.set_option('mode.chained_assignment',None)\n",
    "import numpy as np\n",
    "import datetime\n",
    "import matplotlib.pyplot as plt\n",
    "import matplotlib.mlab as mlab\n",
    "import math\n",
    "import re\n",
    "import xlrd\n",
    "import statistics as stat\n",
    "from xlsxwriter.utility import xl_rowcol_to_cell\n",
    "from random import sample\n",
    "from src.data_models.SmartsCsvDataModel import SmartsCsvDataModel\n",
    "from src.data_models.smartshelper import metrics, fixNum, unSMART, cparty\n",
    "from src.data_models.SmartsDataModel import SmartsDataModel\n",
    "from src.utility.DataModelUtility import execute_query_data_frame\n",
    "from src.data_models.SmartsDataModel import SmartsDataModel\n",
    "from src.data_models.UPMhelper import UPMalerts"
   ]
  },
  {
   "cell_type": "markdown",
   "metadata": {},
   "source": [
    "#### Step 0) Lookback Days {20,30,40}"
   ]
  },
  {
   "cell_type": "code",
   "execution_count": 2,
   "metadata": {},
   "outputs": [
    {
     "name": "stdout",
     "output_type": "stream",
     "text": [
      "-> type fixed, kept 36884 rows, 13 columns\n",
      "-> type fixed, kept 28349 rows, 13 columns\n",
      "-> type fixed, kept 2863 rows, 13 columns\n",
      "-> type fixed, kept 1908 rows, 13 columns\n",
      "-> type fixed, kept 1801 rows, 13 columns\n"
     ]
    }
   ],
   "source": [
    "step0 = unSMART(pd.read_excel('~/Documents/vmfldr/Alerts-AllRows_gemini_TEST1.xlsx'))\n",
    "step1 = unSMART(pd.read_excel('~/Documents/vmfldr/Alerts-AllRows_gemini-step1.xlsx'))\n",
    "step2 = unSMART(pd.read_excel('~/Documents/vmfldr/Alerts-AllRows_gemini-step2.xlsx'))\n",
    "step3 = unSMART(pd.read_excel('~/Documents/vmfldr/Alerts-AllRows_gemini-step3.xlsx'))\n",
    "step4 = unSMART(pd.read_excel('~/Documents/vmfldr/Alerts-AllRows_gemini-step4.xlsx'))"
   ]
  },
  {
   "cell_type": "code",
   "execution_count": 3,
   "metadata": {},
   "outputs": [],
   "source": [
    "step0['ShortText3'] = step0['ShortText'].str.replace('\\(MC\\) ','').str.replace('\\(RP\\) ','')\n",
    "step1['ShortText3'] = step1['ShortText'].str.replace('\\(MC\\) ','').str.replace('\\(RP\\) ','')\n",
    "step2['ShortText3'] = step2['ShortText'].str.replace('\\(MC\\) ','').str.replace('\\(RP\\) ','')\n",
    "step3['ShortText3'] = step3['ShortText'].str.replace('\\(MC\\) ','').str.replace('\\(RP\\) ','')\n",
    "step4['ShortText3'] = step4['ShortText'].str.replace('\\(MC\\) ','').str.replace('\\(RP\\) ','')"
   ]
  },
  {
   "cell_type": "code",
   "execution_count": 4,
   "metadata": {},
   "outputs": [
    {
     "name": "stdout",
     "output_type": "stream",
     "text": [
      "(36884, 14)\n",
      "(28349, 14)\n",
      "(2863, 14)\n",
      "(1908, 14)\n",
      "(1801, 14)\n"
     ]
    }
   ],
   "source": [
    "step0_1 = step0.loc[step0['Datetime'].dt.month == 12]\n",
    "step1_1 = step1.loc[step1['Datetime'].dt.month == 12]\n",
    "step2_1 = step2.loc[step2['Datetime'].dt.month == 12]\n",
    "step3_1 = step3.loc[step3['Datetime'].dt.month == 12]\n",
    "step4_1 = step4.loc[step4['Datetime'].dt.month == 12]\n",
    "\n",
    "print(step0.shape)\n",
    "print(step1.shape)\n",
    "print(step2.shape)\n",
    "print(step3.shape)\n",
    "print(step4.shape)"
   ]
  },
  {
   "cell_type": "code",
   "execution_count": 29,
   "metadata": {},
   "outputs": [
    {
     "data": {
      "text/plain": [
       "Time              28\n",
       "InstrumentName    28\n",
       "ShortText         28\n",
       "AccountIDName     28\n",
       "ReissueCount      28\n",
       "Reissued          28\n",
       "LongText          28\n",
       "Datetime          28\n",
       "month             28\n",
       "year              28\n",
       "ShortText_mod     28\n",
       "ShortText3        28\n",
       "dtype: int64"
      ]
     },
     "execution_count": 29,
     "metadata": {},
     "output_type": "execute_result"
    }
   ],
   "source": [
    "step4_1.loc[step4_1['AlertCode'].isin([4041,4042])].groupby(['AlertCode','Date']).count().count()"
   ]
  },
  {
   "cell_type": "code",
   "execution_count": 5,
   "metadata": {},
   "outputs": [],
   "source": [
    "step0_2 = pd.DataFrame(step0_1.groupby(['AlertCode', 'ShortText3']).count()['Reissued']).rename(columns={'Reissued':'step0'})\n",
    "step1_2 = pd.DataFrame(step1_1.groupby(['AlertCode', 'ShortText3']).count()['Reissued']).rename(columns={'Reissued':'step1'})\n",
    "step2_2 = pd.DataFrame(step2_1.groupby(['AlertCode', 'ShortText3']).count()['Reissued']).rename(columns={'Reissued':'step2'})\n",
    "step3_2 = pd.DataFrame(step3_1.groupby(['AlertCode', 'ShortText3']).count()['Reissued']).rename(columns={'Reissued':'step3'})\n",
    "step4_2 = pd.DataFrame(step4_1.groupby(['AlertCode', 'ShortText3']).count()['Reissued']).rename(columns={'Reissued':'step4'})"
   ]
  },
  {
   "cell_type": "code",
   "execution_count": 6,
   "metadata": {},
   "outputs": [],
   "source": [
    "lookback_impact = pd.concat([step0_2,step1_2,step2_2,step3_2,step4_2], axis=1)"
   ]
  },
  {
   "cell_type": "code",
   "execution_count": 20,
   "metadata": {},
   "outputs": [
    {
     "data": {
      "text/html": [
       "<div>\n",
       "<style scoped>\n",
       "    .dataframe tbody tr th:only-of-type {\n",
       "        vertical-align: middle;\n",
       "    }\n",
       "\n",
       "    .dataframe tbody tr th {\n",
       "        vertical-align: top;\n",
       "    }\n",
       "\n",
       "    .dataframe thead th {\n",
       "        text-align: right;\n",
       "    }\n",
       "</style>\n",
       "<table border=\"1\" class=\"dataframe\">\n",
       "  <thead>\n",
       "    <tr style=\"text-align: right;\">\n",
       "      <th></th>\n",
       "      <th></th>\n",
       "      <th>step0</th>\n",
       "      <th>step1</th>\n",
       "      <th>step2</th>\n",
       "      <th>step3</th>\n",
       "      <th>step4</th>\n",
       "      <th>steps0_1%</th>\n",
       "      <th>steps1_2%</th>\n",
       "      <th>steps2_3%</th>\n",
       "      <th>steps3_4%</th>\n",
       "    </tr>\n",
       "    <tr>\n",
       "      <th>AlertCode</th>\n",
       "      <th>ShortText3</th>\n",
       "      <th></th>\n",
       "      <th></th>\n",
       "      <th></th>\n",
       "      <th></th>\n",
       "      <th></th>\n",
       "      <th></th>\n",
       "      <th></th>\n",
       "      <th></th>\n",
       "      <th></th>\n",
       "    </tr>\n",
       "  </thead>\n",
       "  <tbody>\n",
       "    <tr>\n",
       "      <th>1001</th>\n",
       "      <th>UNUSUAL PRICE MOVEMENT INTRA-DAY</th>\n",
       "      <td>98</td>\n",
       "      <td>124</td>\n",
       "      <td>124</td>\n",
       "      <td>124</td>\n",
       "      <td>124</td>\n",
       "      <td>27</td>\n",
       "      <td>0</td>\n",
       "      <td>0</td>\n",
       "      <td>0</td>\n",
       "    </tr>\n",
       "    <tr>\n",
       "      <th>4009</th>\n",
       "      <th>PAINTING THE TAPE</th>\n",
       "      <td>39</td>\n",
       "      <td>57</td>\n",
       "      <td>57</td>\n",
       "      <td>57</td>\n",
       "      <td>57</td>\n",
       "      <td>46</td>\n",
       "      <td>0</td>\n",
       "      <td>0</td>\n",
       "      <td>0</td>\n",
       "    </tr>\n",
       "    <tr>\n",
       "      <th>4012</th>\n",
       "      <th>PRICE DRIVER</th>\n",
       "      <td>32</td>\n",
       "      <td>4</td>\n",
       "      <td>13</td>\n",
       "      <td>13</td>\n",
       "      <td>13</td>\n",
       "      <td>-88</td>\n",
       "      <td>225</td>\n",
       "      <td>0</td>\n",
       "      <td>0</td>\n",
       "    </tr>\n",
       "    <tr>\n",
       "      <th>4022</th>\n",
       "      <th>BAIT AND SWITCH</th>\n",
       "      <td>14816</td>\n",
       "      <td>10427</td>\n",
       "      <td>62</td>\n",
       "      <td>38</td>\n",
       "      <td>36</td>\n",
       "      <td>-30</td>\n",
       "      <td>-99</td>\n",
       "      <td>-39</td>\n",
       "      <td>-5</td>\n",
       "    </tr>\n",
       "    <tr>\n",
       "      <th rowspan=\"2\" valign=\"top\">4032</th>\n",
       "      <th>MULTI ORDER SPOOFING</th>\n",
       "      <td>433</td>\n",
       "      <td>468</td>\n",
       "      <td>293</td>\n",
       "      <td>41</td>\n",
       "      <td>12</td>\n",
       "      <td>8</td>\n",
       "      <td>-37</td>\n",
       "      <td>-86</td>\n",
       "      <td>-71</td>\n",
       "    </tr>\n",
       "    <tr>\n",
       "      <th>MULTI ORDER SPOOFING EOD</th>\n",
       "      <td>415</td>\n",
       "      <td>443</td>\n",
       "      <td>284</td>\n",
       "      <td>41</td>\n",
       "      <td>29</td>\n",
       "      <td>7</td>\n",
       "      <td>-36</td>\n",
       "      <td>-86</td>\n",
       "      <td>-28</td>\n",
       "    </tr>\n",
       "    <tr>\n",
       "      <th>4041</th>\n",
       "      <th>WASH SALE A-B-A</th>\n",
       "      <td>28</td>\n",
       "      <td>30</td>\n",
       "      <td>4</td>\n",
       "      <td>4</td>\n",
       "      <td>4</td>\n",
       "      <td>7</td>\n",
       "      <td>-87</td>\n",
       "      <td>0</td>\n",
       "      <td>0</td>\n",
       "    </tr>\n",
       "    <tr>\n",
       "      <th>4042</th>\n",
       "      <th>WASH SALE A-B-A (MONEY PASS)</th>\n",
       "      <td>2702</td>\n",
       "      <td>2145</td>\n",
       "      <td>296</td>\n",
       "      <td>296</td>\n",
       "      <td>296</td>\n",
       "      <td>-21</td>\n",
       "      <td>-86</td>\n",
       "      <td>0</td>\n",
       "      <td>0</td>\n",
       "    </tr>\n",
       "    <tr>\n",
       "      <th>4045</th>\n",
       "      <th>COLLUSION(MONEY PASS)</th>\n",
       "      <td>3</td>\n",
       "      <td>5</td>\n",
       "      <td>3</td>\n",
       "      <td>3</td>\n",
       "      <td>3</td>\n",
       "      <td>67</td>\n",
       "      <td>-40</td>\n",
       "      <td>0</td>\n",
       "      <td>0</td>\n",
       "    </tr>\n",
       "  </tbody>\n",
       "</table>\n",
       "</div>"
      ],
      "text/plain": [
       "                                            step0  step1  step2  step3  step4  \\\n",
       "AlertCode ShortText3                                                            \n",
       "1001      UNUSUAL PRICE MOVEMENT INTRA-DAY     98    124    124    124    124   \n",
       "4009      PAINTING THE TAPE                    39     57     57     57     57   \n",
       "4012      PRICE DRIVER                         32      4     13     13     13   \n",
       "4022      BAIT AND SWITCH                   14816  10427     62     38     36   \n",
       "4032      MULTI ORDER SPOOFING                433    468    293     41     12   \n",
       "          MULTI ORDER SPOOFING EOD            415    443    284     41     29   \n",
       "4041      WASH SALE A-B-A                      28     30      4      4      4   \n",
       "4042      WASH SALE A-B-A (MONEY PASS)       2702   2145    296    296    296   \n",
       "4045      COLLUSION(MONEY PASS)                 3      5      3      3      3   \n",
       "\n",
       "                                            steps0_1%  steps1_2%  steps2_3%  \\\n",
       "AlertCode ShortText3                                                          \n",
       "1001      UNUSUAL PRICE MOVEMENT INTRA-DAY         27          0          0   \n",
       "4009      PAINTING THE TAPE                        46          0          0   \n",
       "4012      PRICE DRIVER                            -88        225          0   \n",
       "4022      BAIT AND SWITCH                         -30        -99        -39   \n",
       "4032      MULTI ORDER SPOOFING                      8        -37        -86   \n",
       "          MULTI ORDER SPOOFING EOD                  7        -36        -86   \n",
       "4041      WASH SALE A-B-A                           7        -87          0   \n",
       "4042      WASH SALE A-B-A (MONEY PASS)            -21        -86          0   \n",
       "4045      COLLUSION(MONEY PASS)                    67        -40          0   \n",
       "\n",
       "                                            steps3_4%  \n",
       "AlertCode ShortText3                                   \n",
       "1001      UNUSUAL PRICE MOVEMENT INTRA-DAY          0  \n",
       "4009      PAINTING THE TAPE                         0  \n",
       "4012      PRICE DRIVER                              0  \n",
       "4022      BAIT AND SWITCH                          -5  \n",
       "4032      MULTI ORDER SPOOFING                    -71  \n",
       "          MULTI ORDER SPOOFING EOD                -28  \n",
       "4041      WASH SALE A-B-A                           0  \n",
       "4042      WASH SALE A-B-A (MONEY PASS)              0  \n",
       "4045      COLLUSION(MONEY PASS)                     0  "
      ]
     },
     "execution_count": 20,
     "metadata": {},
     "output_type": "execute_result"
    }
   ],
   "source": [
    "lookback_impact['steps0_1%'] = round(lookback_impact['step1']/lookback_impact['step0'] - 1,2) * 100\n",
    "lookback_impact['steps1_2%'] = round(lookback_impact['step2']/lookback_impact['step1'] - 1,2) * 100\n",
    "lookback_impact['steps2_3%'] = round(lookback_impact['step3']/lookback_impact['step2'] - 1,2) * 100\n",
    "lookback_impact['steps3_4%'] = round(lookback_impact['step4']/lookback_impact['step3'] - 1,2) * 100\n",
    "lookback_impact.astype(int)#.to_csv('~/Desktop/outputtemp1.csv')"
   ]
  },
  {
   "cell_type": "markdown",
   "metadata": {},
   "source": [
    "### Values -1001"
   ]
  },
  {
   "cell_type": "code",
   "execution_count": 8,
   "metadata": {},
   "outputs": [],
   "source": [
    "# regextext1 = '\\D+(Price Change.+)Bid.+'\n",
    "# regextext2 = 'Price Change\\s(?:in the last )?(\\d+\\D+|trade to trade)\\sis\\D+([\\d.]+)\\D+([\\d.]+)\\D+[\\d.]+\\D+[\\d.]+\\D+([\\d.]+)\\D+([\\d.]+)%\\)\\s+'\n",
    "\n",
    "# alerts1001 = lookback_30m.loc[lookback_30m['AlertCode'] == 1001,['AlertCode','LongText','InstrumentName']]\n",
    "# alerts1001['LongText2'] = alerts1001['LongText'].str.extract(regextext1,expand=True)\n",
    "# alerts1001_rematch = alerts1001['LongText2'].str.extractall(regextext2).reset_index()\n",
    "# alerts1001_rematch.columns = ['index','index2','range','valdiff','valperc','bmdiff','bmperc']\n",
    "# alerts1001_rematch['symbol'] = alerts1001_rematch.reset_index()['index'].map(alerts1001['InstrumentName'].to_dict())\n",
    "# alerts1001_rematch.groupby('range')['valperc'].count()"
   ]
  },
  {
   "cell_type": "code",
   "execution_count": 9,
   "metadata": {},
   "outputs": [],
   "source": [
    "# regextext1 = '\\D+(Price Change.+)Bid.+'\n",
    "# regextext2 = 'Price Change\\s(?:in the last )?(\\d+\\D+|trade to trade)\\sis\\D+([\\d.]+)\\D+([\\d.]+)\\D+[\\d.]+\\D+[\\d.]+\\D+([\\d.]+)\\D+([\\d.]+)%\\)\\s+'\n",
    "\n",
    "# alerts1001 = lookback_prod.loc[lookback_prod['AlertCode'] == 1001,['AlertCode','LongText','InstrumentName']]\n",
    "# alerts1001['LongText2'] = alerts1001['LongText'].str.extract(regextext1,expand=True)\n",
    "# alerts1001_rematch = alerts1001['LongText2'].str.extractall(regextext2).reset_index()\n",
    "# alerts1001_rematch.columns = ['index','index2','range','valdiff','valperc','bmdiff','bmperc']\n",
    "# alerts1001_rematch['symbol'] = alerts1001_rematch.reset_index()['index'].map(alerts1001['InstrumentName'].to_dict())\n",
    "# alerts1001_rematch.groupby('range')['valperc'].count()"
   ]
  },
  {
   "cell_type": "markdown",
   "metadata": {},
   "source": [
    "### Values -2011"
   ]
  },
  {
   "cell_type": "code",
   "execution_count": 10,
   "metadata": {},
   "outputs": [],
   "source": [
    "# alerts2011 = lookback_prodm.loc[lookback_prodm['AlertCode'] == 2011,['AlertCode','LongText','InstrumentName']]\n",
    "# regextext3 = '[^:]*\\:*\\s*([A-Z]{6})\\D+([\\d,.]+)\\D+(\\d+\\D+)\\.\\D+([\\d,.]+)\\s*'\n",
    "# alerts2011_rematch = alerts2011['LongText'].str.extractall(regextext3).reset_index()\n",
    "# alerts2011_rematch.columns = ['index','index2','symbol','value','range','bm']\n",
    "# alerts2011_rematch.groupby('range')['value'].count()"
   ]
  },
  {
   "cell_type": "markdown",
   "metadata": {},
   "source": [
    "### Values -4012"
   ]
  },
  {
   "cell_type": "code",
   "execution_count": 11,
   "metadata": {},
   "outputs": [],
   "source": [
    "lookback = step0_1\n",
    "alerts4012 = lookback.loc[lookback['AlertCode'] == 4012,['AlertCode','LongText','InstrumentName']]\n",
    "regextext3 = '\\D+(\\d+)\\D+([A-Z]{6})\\D+(\\d+)\\D+(\\d+)[^\\(]+\\(([\\d.,]+)%[^\\(]+\\(([\\d.,]+)%.+'\n",
    "alerts4012_rematch = alerts4012['LongText'].str.extract(regextext3); alerts4012_rematch\n",
    "alerts4012_rematch.columns = ['acc','symbol','num','denom','tick','vol']\n",
    "alerts4012_rematch[['tick','vol']] = alerts4012_rematch[['tick','vol']].astype(float)\n",
    "alerts4012_rematch['dir'] = alerts4012_rematch['num'].astype(float)/alerts4012_rematch['denom'].astype(float)\n",
    "step0output = alerts4012_rematch[['dir','tick','vol']]#.to_csv('~/Desktop/tuned_pdinvestigation.csv')"
   ]
  },
  {
   "cell_type": "code",
   "execution_count": 12,
   "metadata": {},
   "outputs": [],
   "source": [
    "lookback = step1_1\n",
    "alerts4012 = lookback.loc[lookback['AlertCode'] == 4012,['AlertCode','LongText','InstrumentName']]\n",
    "regextext3 = '\\D+(\\d+)\\D+([A-Z]{6})\\D+(\\d+)\\D+(\\d+)[^\\(]+\\(([\\d.,]+)%[^\\(]+\\(([\\d.,]+)%.+'\n",
    "alerts4012_rematch = alerts4012['LongText'].str.extract(regextext3); alerts4012_rematch\n",
    "alerts4012_rematch.columns = ['acc','symbol','num','denom','tick','vol']\n",
    "alerts4012_rematch[['tick','vol']] = alerts4012_rematch[['tick','vol']].astype(float)\n",
    "alerts4012_rematch['dir'] = alerts4012_rematch['num'].astype(float)/alerts4012_rematch['denom'].astype(float)\n",
    "step1output = alerts4012_rematch[['dir','tick','vol']]#.to_csv('~/Desktop/tuned_pdinvestigation.csv')"
   ]
  },
  {
   "cell_type": "code",
   "execution_count": 13,
   "metadata": {},
   "outputs": [],
   "source": [
    "lookback = step2_1\n",
    "alerts4012 = lookback.loc[lookback['AlertCode'] == 4012,['AlertCode','LongText','InstrumentName']]\n",
    "regextext3 = '\\D+(\\d+)\\D+([A-Z]{6})\\D+(\\d+)\\D+(\\d+)[^\\(]+\\(([\\d.,]+)%[^\\(]+\\(([\\d.,]+)%.+'\n",
    "alerts4012_rematch = alerts4012['LongText'].str.extract(regextext3); alerts4012_rematch\n",
    "alerts4012_rematch.columns = ['acc','symbol','num','denom','tick','vol']\n",
    "alerts4012_rematch[['tick','vol']] = alerts4012_rematch[['tick','vol']].astype(float)\n",
    "alerts4012_rematch['dir'] = alerts4012_rematch['num'].astype(float)/alerts4012_rematch['denom'].astype(float)\n",
    "step2output = alerts4012_rematch[['dir','tick','vol']]#.to_csv('~/Desktop/tuned_pdinvestigation.csv')"
   ]
  },
  {
   "cell_type": "code",
   "execution_count": 14,
   "metadata": {},
   "outputs": [],
   "source": [
    "lookback = step3_1\n",
    "alerts4012 = lookback.loc[lookback['AlertCode'] == 4012,['AlertCode','LongText','InstrumentName']]\n",
    "regextext3 = '\\D+(\\d+)\\D+([A-Z]{6})\\D+(\\d+)\\D+(\\d+)[^\\(]+\\(([\\d.,]+)%[^\\(]+\\(([\\d.,]+)%.+'\n",
    "alerts4012_rematch = alerts4012['LongText'].str.extract(regextext3)\n",
    "alerts4012_rematch.columns = ['acc','symbol','num','denom','tick','vol']\n",
    "alerts4012_rematch[['tick','vol']] = alerts4012_rematch[['tick','vol']].astype(float)\n",
    "alerts4012_rematch['dir'] = alerts4012_rematch['num'].astype(float)/alerts4012_rematch['denom'].astype(float)\n",
    "step3output = alerts4012_rematch[['dir','tick','vol']]#.to_csv('~/Desktop/tuned_pdinvestigation.csv')"
   ]
  },
  {
   "cell_type": "code",
   "execution_count": 15,
   "metadata": {},
   "outputs": [],
   "source": [
    "lookback = step4_1\n",
    "alerts4012 = lookback.loc[lookback['AlertCode'] == 4012,['AlertCode','LongText','InstrumentName']]\n",
    "regextext3 = '\\D+(\\d+)\\D+([A-Z]{6})\\D+(\\d+)\\D+(\\d+)[^\\(]+\\(([\\d.,]+)%[^\\(]+\\(([\\d.,]+)%.+'\n",
    "alerts4012_rematch = alerts4012['LongText'].str.extract(regextext3); alerts4012_rematch\n",
    "alerts4012_rematch.columns = ['acc','symbol','num','denom','tick','vol']\n",
    "alerts4012_rematch[['tick','vol']] = alerts4012_rematch[['tick','vol']].astype(float)\n",
    "alerts4012_rematch['dir'] = alerts4012_rematch['num'].astype(float)/alerts4012_rematch['denom'].astype(float)\n",
    "step4output = alerts4012_rematch[['dir','tick','vol']]#.to_csv('~/Desktop/tuned_pdinvestigation.csv')"
   ]
  },
  {
   "cell_type": "code",
   "execution_count": 18,
   "metadata": {},
   "outputs": [],
   "source": [
    "os.chdir('/Users/sqian/Documents')\n",
    "\n",
    "writer = pd.ExcelWriter('PDoutput.xlsx', engine='xlsxwriter')\n",
    "\n",
    "step0output.to_excel(writer, 'step0output')\n",
    "step1output.to_excel(writer, 'step1output')\n",
    "step2output.to_excel(writer, 'step2output')\n",
    "step3output.to_excel(writer, 'step3output')\n",
    "step4output.to_excel(writer, 'step4output')\n",
    "\n",
    "writer.save()"
   ]
  },
  {
   "cell_type": "code",
   "execution_count": null,
   "metadata": {},
   "outputs": [],
   "source": []
  }
 ],
 "metadata": {
  "kernelspec": {
   "display_name": "Python 3",
   "language": "python",
   "name": "python3"
  },
  "language_info": {
   "codemirror_mode": {
    "name": "ipython",
    "version": 3
   },
   "file_extension": ".py",
   "mimetype": "text/x-python",
   "name": "python",
   "nbconvert_exporter": "python",
   "pygments_lexer": "ipython3",
   "version": "3.7.0"
  }
 },
 "nbformat": 4,
 "nbformat_minor": 2
}
