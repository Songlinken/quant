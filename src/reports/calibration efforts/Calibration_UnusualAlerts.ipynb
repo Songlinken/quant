{
 "cells": [
  {
   "cell_type": "code",
   "execution_count": 10,
   "metadata": {},
   "outputs": [],
   "source": [
    "import os; os.chdir('/Users/sqian/MKTSRV')\n",
    "from math import log10, floor\n",
    "from matplotlib import pyplot as plt\n",
    "from random import sample\n",
    "from src.calculation.LegacyUnusualPriceVolumeMovement import UnusualPriceVolumeMovement\n",
    "from src.data_models.SmartsCsvDataModel import SmartsCsvDataModel\n",
    "from src.data_models.SmartsDataModel import SmartsDataModel\n",
    "from src.data_models.smartshelper import metrics, fixNum, unSMART, cparty, littleQA, totalUP\n",
    "from src.utility.DataModelUtility import execute_query_data_frame\n",
    "from xlsxwriter.utility import xl_rowcol_to_cell\n",
    "import datetime\n",
    "import math\n",
    "import matplotlib as mpl\n",
    "import matplotlib.mlab as mlab\n",
    "import matplotlib.pyplot as plt\n",
    "import numpy as np\n",
    "import pandas as pd\n",
    "pd.set_option('mode.chained_assignment',None)\n",
    "import re\n",
    "import xlrd\n",
    "\n",
    "def perc(arg,df): print(str(int(arg*100)) + 'th Percentile: ' + str(int(round(df.quantile(arg)))))"
   ]
  },
  {
   "cell_type": "markdown",
   "metadata": {},
   "source": [
    "#### Step 0: Symbols and their cooresponding ingestion month-years"
   ]
  },
  {
   "cell_type": "code",
   "execution_count": 2,
   "metadata": {},
   "outputs": [],
   "source": [
    "symbol_list = ['BTCUSD', 'ETHBTC', 'ETHUSD', 'ZECBTC', 'ZECETH', 'ZECUSD', 'LTCBTC', 'LTCETH', 'LTCUSD', 'ZECLTC']\n",
    "symbol_listBCH = ['BCHBTC', 'BCHETH', 'BCHUSD', 'LTCBCH', 'ZECBCH']"
   ]
  },
  {
   "cell_type": "markdown",
   "metadata": {},
   "source": [
    "#### Step 1: Read smarts csv data from datalab"
   ]
  },
  {
   "cell_type": "code",
   "execution_count": 3,
   "metadata": {},
   "outputs": [],
   "source": [
    "eval_date = datetime.date(2019, 1, 31)\n",
    "begin_date = datetime.date(2018, 11, 1)\n",
    "begin_date2 = datetime.date(2018, 12, 11)\n",
    "\n",
    "instruments = symbol_list\n",
    "instruments2 = symbol_listBCH"
   ]
  },
  {
   "cell_type": "code",
   "execution_count": 4,
   "metadata": {},
   "outputs": [
    {
     "name": "stderr",
     "output_type": "stream",
     "text": [
      "INFO:root:Constructing Singleton\n",
      "INFO:root:Using global configuration /Users/sqian/msv.yaml.\n",
      "INFO:root:Completed loading configuration.\n"
     ]
    },
    {
     "name": "stdout",
     "output_type": "stream",
     "text": [
      "download_smarts_data 0:00:00.059160\n",
      "read_csv_to_dk_dataframe 0:00:16.000003\n",
      "pre_cleaning 0:14:01.481539\n",
      "pre_cleaning 0:04:08.252830\n",
      "pre_cleaning 0:11:06.683208\n",
      "pre_cleaning 0:02:30.326327\n",
      "pre_cleaning 0:04:09.336107\n",
      "pre_cleaning 0:04:50.431938\n",
      "pre_cleaning 0:01:25.461313\n",
      "pre_cleaning 0:01:53.815316\n",
      "pre_cleaning 0:02:20.672876\n",
      "pre_cleaning 0:00:14.903644\n"
     ]
    },
    {
     "data": {
      "text/plain": [
       "dict_keys(['BTCUSD', 'ETHBTC', 'ETHUSD', 'ZECBTC', 'ZECETH', 'ZECUSD', 'LTCBTC', 'LTCETH', 'LTCUSD', 'ZECLTC'])"
      ]
     },
     "execution_count": 4,
     "metadata": {},
     "output_type": "execute_result"
    }
   ],
   "source": [
    "data_model = SmartsCsvDataModel(download_data=True).evaluate(instrument=instruments, evaluation_date=eval_date, begin_date=begin_date, use_db=False)\n",
    "data_model.keys()"
   ]
  },
  {
   "cell_type": "code",
   "execution_count": 5,
   "metadata": {},
   "outputs": [
    {
     "name": "stdout",
     "output_type": "stream",
     "text": [
      "download_smarts_data 0:00:00.011409\n",
      "read_csv_to_dk_dataframe 0:00:02.772959\n",
      "pre_cleaning 0:00:28.962752\n",
      "pre_cleaning 0:00:11.476145\n",
      "pre_cleaning 0:01:01.269863\n",
      "pre_cleaning 0:00:00.692816\n",
      "pre_cleaning 0:00:00.790636\n"
     ]
    },
    {
     "data": {
      "text/plain": [
       "dict_keys(['BCHBTC', 'BCHETH', 'BCHUSD', 'LTCBCH', 'ZECBCH'])"
      ]
     },
     "execution_count": 5,
     "metadata": {},
     "output_type": "execute_result"
    }
   ],
   "source": [
    "data_model_BCH = SmartsCsvDataModel(download_data=True).evaluate(instrument=instruments2, evaluation_date=eval_date, begin_date=begin_date2, use_db=False)\n",
    "data_model_BCH.keys()"
   ]
  },
  {
   "cell_type": "markdown",
   "metadata": {},
   "source": [
    "#### Step 2: Rollup"
   ]
  },
  {
   "cell_type": "code",
   "execution_count": 22,
   "metadata": {},
   "outputs": [],
   "source": [
    "datafull = pd.DataFrame()\n",
    "\n",
    "for i in data_model.keys():\n",
    "    datatemp = data_model[i][['symbol','fill_price']].set_index('symbol').dropna().pct_change()\n",
    "    datafull = pd.concat([datafull,datatemp], axis=0)\n",
    "    \n",
    "for i in data_model_BCH.keys():\n",
    "    datatemp = data_model_BCH[i][['symbol','fill_price']].set_index('symbol').dropna().pct_change()\n",
    "    datafull = pd.concat([datafull,datatemp], axis=0)"
   ]
  },
  {
   "cell_type": "code",
   "execution_count": 26,
   "metadata": {},
   "outputs": [
    {
     "data": {
      "text/html": [
       "<div>\n",
       "<style scoped>\n",
       "    .dataframe tbody tr th:only-of-type {\n",
       "        vertical-align: middle;\n",
       "    }\n",
       "\n",
       "    .dataframe tbody tr th {\n",
       "        vertical-align: top;\n",
       "    }\n",
       "\n",
       "    .dataframe thead th {\n",
       "        text-align: right;\n",
       "    }\n",
       "</style>\n",
       "<table border=\"1\" class=\"dataframe\">\n",
       "  <thead>\n",
       "    <tr style=\"text-align: right;\">\n",
       "      <th></th>\n",
       "      <th>count</th>\n",
       "      <th>count_0truc</th>\n",
       "    </tr>\n",
       "    <tr>\n",
       "      <th>symbol</th>\n",
       "      <th></th>\n",
       "      <th></th>\n",
       "    </tr>\n",
       "  </thead>\n",
       "  <tbody>\n",
       "    <tr>\n",
       "      <th>BCHBTC</th>\n",
       "      <td>1639</td>\n",
       "      <td>441</td>\n",
       "    </tr>\n",
       "    <tr>\n",
       "      <th>BCHETH</th>\n",
       "      <td>627</td>\n",
       "      <td>133</td>\n",
       "    </tr>\n",
       "    <tr>\n",
       "      <th>BCHUSD</th>\n",
       "      <td>27462</td>\n",
       "      <td>7100</td>\n",
       "    </tr>\n",
       "    <tr>\n",
       "      <th>BTCUSD</th>\n",
       "      <td>1194393</td>\n",
       "      <td>344899</td>\n",
       "    </tr>\n",
       "    <tr>\n",
       "      <th>ETHBTC</th>\n",
       "      <td>84517</td>\n",
       "      <td>13050</td>\n",
       "    </tr>\n",
       "    <tr>\n",
       "      <th>ETHUSD</th>\n",
       "      <td>654911</td>\n",
       "      <td>168213</td>\n",
       "    </tr>\n",
       "    <tr>\n",
       "      <th>LTCBCH</th>\n",
       "      <td>141</td>\n",
       "      <td>40</td>\n",
       "    </tr>\n",
       "    <tr>\n",
       "      <th>LTCBTC</th>\n",
       "      <td>10365</td>\n",
       "      <td>1987</td>\n",
       "    </tr>\n",
       "    <tr>\n",
       "      <th>LTCETH</th>\n",
       "      <td>34325</td>\n",
       "      <td>8525</td>\n",
       "    </tr>\n",
       "    <tr>\n",
       "      <th>LTCUSD</th>\n",
       "      <td>61878</td>\n",
       "      <td>15866</td>\n",
       "    </tr>\n",
       "    <tr>\n",
       "      <th>ZECBCH</th>\n",
       "      <td>177</td>\n",
       "      <td>49</td>\n",
       "    </tr>\n",
       "    <tr>\n",
       "      <th>ZECBTC</th>\n",
       "      <td>8929</td>\n",
       "      <td>2083</td>\n",
       "    </tr>\n",
       "    <tr>\n",
       "      <th>ZECETH</th>\n",
       "      <td>4569</td>\n",
       "      <td>634</td>\n",
       "    </tr>\n",
       "    <tr>\n",
       "      <th>ZECLTC</th>\n",
       "      <td>303</td>\n",
       "      <td>99</td>\n",
       "    </tr>\n",
       "    <tr>\n",
       "      <th>ZECUSD</th>\n",
       "      <td>78875</td>\n",
       "      <td>21804</td>\n",
       "    </tr>\n",
       "  </tbody>\n",
       "</table>\n",
       "</div>"
      ],
      "text/plain": [
       "          count  count_0truc\n",
       "symbol                      \n",
       "BCHBTC     1639          441\n",
       "BCHETH      627          133\n",
       "BCHUSD    27462         7100\n",
       "BTCUSD  1194393       344899\n",
       "ETHBTC    84517        13050\n",
       "ETHUSD   654911       168213\n",
       "LTCBCH      141           40\n",
       "LTCBTC    10365         1987\n",
       "LTCETH    34325         8525\n",
       "LTCUSD    61878        15866\n",
       "ZECBCH      177           49\n",
       "ZECBTC     8929         2083\n",
       "ZECETH     4569          634\n",
       "ZECLTC      303           99\n",
       "ZECUSD    78875        21804"
      ]
     },
     "execution_count": 26,
     "metadata": {},
     "output_type": "execute_result"
    }
   ],
   "source": [
    "datafull0trunc = datafull.loc[datafull['fill_price'] != 0] \n",
    "data = pd.concat([datafull.groupby('symbol').count(),datafull0trunc.groupby('symbol').count()], axis=1)\n",
    "data.columns=['count','count_0truc']\n",
    "data"
   ]
  },
  {
   "cell_type": "code",
   "execution_count": 47,
   "metadata": {},
   "outputs": [],
   "source": [
    "datafull_gb = datafull.groupby('symbol')['fill_price']\n",
    "dataquantiles = pd.concat([datafull_gb.count(),datafull_gb.quantile(0.99),datafull_gb.quantile(0.995),datafull_gb.quantile(0.999)], axis=1)\n",
    "dataquantiles.columns = ['count','99th_%ile','99.5th_%ile','99.9th_%ile']\n",
    "quant = dataquantiles.sort_values('count', ascending=False)"
   ]
  },
  {
   "cell_type": "code",
   "execution_count": 53,
   "metadata": {},
   "outputs": [],
   "source": [
    "datafull_gb_T = datafull['fill_price']\n",
    "dataquantiles_T = pd.DataFrame([datafull_gb_T.count(),datafull_gb_T.quantile(0.99),datafull_gb_T.quantile(0.995),datafull_gb_T.quantile(0.999)]).transpose()\n",
    "dataquantiles_T.columns = ['count','99th_%ile','99.5th_%ile','99.9th_%ile']\n",
    "quant_T = dataquantiles_T.sort_values('count', ascending=False)"
   ]
  },
  {
   "cell_type": "code",
   "execution_count": 54,
   "metadata": {},
   "outputs": [
    {
     "data": {
      "text/html": [
       "<div>\n",
       "<style scoped>\n",
       "    .dataframe tbody tr th:only-of-type {\n",
       "        vertical-align: middle;\n",
       "    }\n",
       "\n",
       "    .dataframe tbody tr th {\n",
       "        vertical-align: top;\n",
       "    }\n",
       "\n",
       "    .dataframe thead th {\n",
       "        text-align: right;\n",
       "    }\n",
       "</style>\n",
       "<table border=\"1\" class=\"dataframe\">\n",
       "  <thead>\n",
       "    <tr style=\"text-align: right;\">\n",
       "      <th></th>\n",
       "      <th>count</th>\n",
       "      <th>99th_%ile</th>\n",
       "      <th>99.5th_%ile</th>\n",
       "      <th>99.9th_%ile</th>\n",
       "    </tr>\n",
       "  </thead>\n",
       "  <tbody>\n",
       "    <tr>\n",
       "      <th>BTCUSD</th>\n",
       "      <td>1194393.0</td>\n",
       "      <td>0.001377</td>\n",
       "      <td>0.001843</td>\n",
       "      <td>0.003202</td>\n",
       "    </tr>\n",
       "    <tr>\n",
       "      <th>ETHUSD</th>\n",
       "      <td>654911.0</td>\n",
       "      <td>0.002168</td>\n",
       "      <td>0.002983</td>\n",
       "      <td>0.005743</td>\n",
       "    </tr>\n",
       "    <tr>\n",
       "      <th>ETHBTC</th>\n",
       "      <td>84517.0</td>\n",
       "      <td>0.003070</td>\n",
       "      <td>0.004805</td>\n",
       "      <td>0.011152</td>\n",
       "    </tr>\n",
       "    <tr>\n",
       "      <th>ZECUSD</th>\n",
       "      <td>78875.0</td>\n",
       "      <td>0.008831</td>\n",
       "      <td>0.012494</td>\n",
       "      <td>0.022499</td>\n",
       "    </tr>\n",
       "    <tr>\n",
       "      <th>LTCUSD</th>\n",
       "      <td>61878.0</td>\n",
       "      <td>0.009154</td>\n",
       "      <td>0.012748</td>\n",
       "      <td>0.022826</td>\n",
       "    </tr>\n",
       "    <tr>\n",
       "      <th>LTCETH</th>\n",
       "      <td>34325.0</td>\n",
       "      <td>0.003520</td>\n",
       "      <td>0.005327</td>\n",
       "      <td>0.014773</td>\n",
       "    </tr>\n",
       "    <tr>\n",
       "      <th>BCHUSD</th>\n",
       "      <td>27462.0</td>\n",
       "      <td>0.015131</td>\n",
       "      <td>0.022341</td>\n",
       "      <td>0.041512</td>\n",
       "    </tr>\n",
       "    <tr>\n",
       "      <th>LTCBTC</th>\n",
       "      <td>10365.0</td>\n",
       "      <td>0.012501</td>\n",
       "      <td>0.018912</td>\n",
       "      <td>0.034723</td>\n",
       "    </tr>\n",
       "    <tr>\n",
       "      <th>ZECBTC</th>\n",
       "      <td>8929.0</td>\n",
       "      <td>0.013748</td>\n",
       "      <td>0.018681</td>\n",
       "      <td>0.035340</td>\n",
       "    </tr>\n",
       "    <tr>\n",
       "      <th>ZECETH</th>\n",
       "      <td>4569.0</td>\n",
       "      <td>0.025962</td>\n",
       "      <td>0.035030</td>\n",
       "      <td>0.070476</td>\n",
       "    </tr>\n",
       "    <tr>\n",
       "      <th>BCHBTC</th>\n",
       "      <td>1639.0</td>\n",
       "      <td>0.080105</td>\n",
       "      <td>0.165557</td>\n",
       "      <td>2.895668</td>\n",
       "    </tr>\n",
       "    <tr>\n",
       "      <th>BCHETH</th>\n",
       "      <td>627.0</td>\n",
       "      <td>4.672404</td>\n",
       "      <td>11.639236</td>\n",
       "      <td>23.997150</td>\n",
       "    </tr>\n",
       "    <tr>\n",
       "      <th>ZECLTC</th>\n",
       "      <td>303.0</td>\n",
       "      <td>9.059383</td>\n",
       "      <td>10.119249</td>\n",
       "      <td>75.190235</td>\n",
       "    </tr>\n",
       "    <tr>\n",
       "      <th>ZECBCH</th>\n",
       "      <td>177.0</td>\n",
       "      <td>0.975422</td>\n",
       "      <td>1.596531</td>\n",
       "      <td>1.710112</td>\n",
       "    </tr>\n",
       "    <tr>\n",
       "      <th>LTCBCH</th>\n",
       "      <td>141.0</td>\n",
       "      <td>1.373682</td>\n",
       "      <td>2.095730</td>\n",
       "      <td>2.854083</td>\n",
       "    </tr>\n",
       "    <tr>\n",
       "      <th>0</th>\n",
       "      <td>2163111.0</td>\n",
       "      <td>0.002323</td>\n",
       "      <td>0.003856</td>\n",
       "      <td>0.011624</td>\n",
       "    </tr>\n",
       "  </tbody>\n",
       "</table>\n",
       "</div>"
      ],
      "text/plain": [
       "            count  99th_%ile  99.5th_%ile  99.9th_%ile\n",
       "BTCUSD  1194393.0   0.001377     0.001843     0.003202\n",
       "ETHUSD   654911.0   0.002168     0.002983     0.005743\n",
       "ETHBTC    84517.0   0.003070     0.004805     0.011152\n",
       "ZECUSD    78875.0   0.008831     0.012494     0.022499\n",
       "LTCUSD    61878.0   0.009154     0.012748     0.022826\n",
       "LTCETH    34325.0   0.003520     0.005327     0.014773\n",
       "BCHUSD    27462.0   0.015131     0.022341     0.041512\n",
       "LTCBTC    10365.0   0.012501     0.018912     0.034723\n",
       "ZECBTC     8929.0   0.013748     0.018681     0.035340\n",
       "ZECETH     4569.0   0.025962     0.035030     0.070476\n",
       "BCHBTC     1639.0   0.080105     0.165557     2.895668\n",
       "BCHETH      627.0   4.672404    11.639236    23.997150\n",
       "ZECLTC      303.0   9.059383    10.119249    75.190235\n",
       "ZECBCH      177.0   0.975422     1.596531     1.710112\n",
       "LTCBCH      141.0   1.373682     2.095730     2.854083\n",
       "0       2163111.0   0.002323     0.003856     0.011624"
      ]
     },
     "execution_count": 54,
     "metadata": {},
     "output_type": "execute_result"
    }
   ],
   "source": [
    "pd.concat([quant,quant_T], axis=0)"
   ]
  },
  {
   "cell_type": "markdown",
   "metadata": {},
   "source": [
    "#### Step 3: Quantiles"
   ]
  },
  {
   "cell_type": "code",
   "execution_count": 56,
   "metadata": {},
   "outputs": [
    {
     "name": "stdout",
     "output_type": "stream",
     "text": [
      "outliers: (309, 1)\n",
      "99th: 12.0\n",
      "99.5th: 23.997184281571844\n",
      "99.9th: 78.79065467913361\n"
     ]
    },
    {
     "data": {
      "image/png": "[encoded data removed]",
      "text/plain": [
       "<Figure size 432x288 with 1 Axes>"
      ]
     },
     "metadata": {
      "needs_background": "light"
     },
     "output_type": "display_data"
    }
   ],
   "source": [
    "print('outliers:', datafull.shape)\n",
    "print('99th:', round(datafull.quantile(0.99)[0]))\n",
    "print('99.5th:', datazerotrunc_outlier.quantile(0.995)[0])\n",
    "print('99.9th:', datafull.quantile(0.999)[0])\n",
    "print('99.975th:', datazerotrunc_outlier.quantile(0.99975)[0])\n",
    "\n",
    "datazerotrunc_clipped.hist(bins=30)\n",
    "plt.show()"
   ]
  },
  {
   "cell_type": "code",
   "execution_count": null,
   "metadata": {},
   "outputs": [],
   "source": [
    "break"
   ]
  },
  {
   "cell_type": "markdown",
   "metadata": {},
   "source": [
    "#### Step 4: Calculations"
   ]
  },
  {
   "cell_type": "code",
   "execution_count": null,
   "metadata": {},
   "outputs": [],
   "source": [
    "percentile = 0.99975\n",
    "estimatepermo = round(totaldict.shape[0]*(1-percentile)/(eval_date-begin_date).days*30)\n",
    "\n",
    "print(totaldict.shape[0],' total',sep='')\n",
    "print('percentile =',percentile)\n",
    "print('E[trans/mo] =',estimatepermo)\n",
    "\n",
    "print('\\n',metrics(totaldict['symbol']))"
   ]
  },
  {
   "cell_type": "code",
   "execution_count": null,
   "metadata": {},
   "outputs": [],
   "source": [
    "totaldict.dtypes"
   ]
  },
  {
   "cell_type": "code",
   "execution_count": null,
   "metadata": {},
   "outputs": [],
   "source": [
    "temp = totaldict['abs_price_pct_change_over_5m']\n",
    "print('5 min price change distribution 2017-2019')\n",
    "print('99th percentile:',round(temp.quantile(0.99),2))\n",
    "print('99.9th percentile:',round(temp.quantile(0.999),2))\n",
    "print('99.975th percentile:',round(temp.quantile(0.99975),2))\n",
    "temp.clip(0,temp.quantile(0.99)).hist(bins=30); plt.show()\n",
    "\n",
    "# temp = totaldict['abs_price_pct_change_over_10m']\n",
    "# print('10 min price change distribution 2017-2019')\n",
    "# print('99th percentile:',round(temp.quantile(0.99),2))\n",
    "# print('99.9th percentile:',round(temp.quantile(0.999),2))\n",
    "# print('99.975th percentile:',round(temp.quantile(0.99975),2))\n",
    "# temp.clip(0,temp.quantile(0.99)).hist(bins=30); plt.show()\n",
    "\n",
    "# temp = totaldict['abs_price_pct_change_over_60m']\n",
    "# print('60 min price change distribution 2017-2019')\n",
    "# print('99th percentile:',round(temp.quantile(0.99),2))\n",
    "# print('99.9th percentile:',round(temp.quantile(0.999),2))\n",
    "# print('99.975th percentile:',round(temp.quantile(0.99975),2))\n",
    "# temp.clip(0,temp.quantile(0.99)).hist(bins=30); plt.show()"
   ]
  },
  {
   "cell_type": "markdown",
   "metadata": {},
   "source": [
    "#### Step 5: UPM_1001 Settings"
   ]
  },
  {
   "cell_type": "code",
   "execution_count": null,
   "metadata": {},
   "outputs": [],
   "source": [
    "metricsPrice = ['abs_price_pct_change_over_5m', 'abs_price_pct_change_over_10m', 'abs_price_pct_change_over_60m']\n",
    "\n",
    "alice_1001 = pd.DataFrame(totaldict.quantile(percentile)[metricsPrice]*100).rename(columns={percentile:'percentile9995'})\n",
    "alice_1001['AliceCode'] = '(' + round(alice_1001['percentile9995'],0).astype(str) + '%,$9999999),(0.1%,)'\n",
    "\n",
    "print(alice_1001['AliceCode'])"
   ]
  },
  {
   "cell_type": "markdown",
   "metadata": {},
   "source": [
    "#### Step 6: UVM_2011 Setting"
   ]
  },
  {
   "cell_type": "code",
   "execution_count": null,
   "metadata": {},
   "outputs": [],
   "source": [
    "metricsQuantity = ['quantity_sum_past_5m', 'quantity_sum_past_10m', 'quantity_sum_past_60m']\n",
    "changedict = {'quantity_sum_past_5m':'quant5m', 'quantity_sum_past_10m':'quant10m', 'quantity_sum_past_60m':'quant60m'}\n",
    "\n",
    "alice_2011 = round(totaldict.groupby('symbol').quantile(percentile)[metricsQuantity]).astype(int).rename(columns=changedict).reset_index(drop=False)\n",
    "alice_2011['AliceCode_5m'] = '{' + alice_2011['symbol'] + ',(x' + round(alice_2011['quant5m'],3).astype(str) + ',)};'\n",
    "alice_2011['AliceCode_10m'] = '{' + alice_2011['symbol'] + ',(x' + round(alice_2011['quant10m'],3).astype(str) + ',)};'\n",
    "alice_2011['AliceCode_60m'] = '{' + alice_2011['symbol'] + ',(x' + round(alice_2011['quant60m'],3).astype(str) + ',)};'\n",
    "\n",
    "print('(x999999,);',''.join(alice_2011['AliceCode_5m'].tolist()),sep='')\n",
    "print('(x999999,);',''.join(alice_2011['AliceCode_10m'].tolist()),sep='')\n",
    "print('(x999999,);',''.join(alice_2011['AliceCode_60m'].tolist()),sep='')"
   ]
  },
  {
   "cell_type": "code",
   "execution_count": null,
   "metadata": {},
   "outputs": [],
   "source": [
    "symbol_list = ['BTCUSD', 'ETHBTC', 'ETHUSD', 'ZECBTC', 'ZECETH', 'ZECUSD']\n",
    "symbol_listLTC = ['LTCBTC', 'LTCETH', 'LTCUSD', 'ZECLTC']\n",
    "symbol_listBCH = ['BCHBTC', 'BCHETH', 'BCHUSD', 'LTCBCH', 'ZECBCH']"
   ]
  },
  {
   "cell_type": "code",
   "execution_count": null,
   "metadata": {},
   "outputs": [],
   "source": [
    "inst = symbol_list + symbol_listLTC + symbol_listBCH"
   ]
  },
  {
   "cell_type": "code",
   "execution_count": null,
   "metadata": {},
   "outputs": [],
   "source": [
    "for i in inst:  \n",
    "    print(i)\n",
    "#     print(alice_2011.loc[alice_2011['symbol'] == i,'quant5m'])\n",
    "#     alice_2011['quant10m'].hist(bins=30); plt.show()\n",
    "#     alice_2011['quant60m'].hist(bins=30); plt.show()\n"
   ]
  },
  {
   "cell_type": "code",
   "execution_count": null,
   "metadata": {},
   "outputs": [],
   "source": [
    "alice_2011"
   ]
  },
  {
   "cell_type": "code",
   "execution_count": null,
   "metadata": {},
   "outputs": [],
   "source": []
  }
 ],
 "metadata": {
  "kernelspec": {
   "display_name": "Python 3",
   "language": "python",
   "name": "python3"
  },
  "language_info": {
   "codemirror_mode": {
    "name": "ipython",
    "version": 3
   },
   "file_extension": ".py",
   "mimetype": "text/x-python",
   "name": "python",
   "nbconvert_exporter": "python",
   "pygments_lexer": "ipython3",
   "version": "3.7.0"
  }
 },
 "nbformat": 4,
 "nbformat_minor": 2
}
