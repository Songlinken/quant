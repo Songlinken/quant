{
 "cells": [
  {
   "cell_type": "markdown",
   "metadata": {},
   "source": [
    "### Default to Iteration 1: Above-the-Line / Below-the-Line (ATL/BTL) Testing"
   ]
  },
  {
   "cell_type": "code",
   "execution_count": 8,
   "metadata": {},
   "outputs": [],
   "source": [
    "import os; \n",
    "import pandas as pd; pd.set_option('mode.chained_assignment',None)\n",
    "import numpy as np\n",
    "import datetime\n",
    "import matplotlib.pyplot as plt\n",
    "import matplotlib.mlab as mlab\n",
    "import math\n",
    "import re\n",
    "import xlrd\n",
    "import statistics as stat\n",
    "from xlsxwriter.utility import xl_rowcol_to_cell\n",
    "from random import sample\n",
    "from src.data_models.SmartsCsvDataModel import SmartsCsvDataModel\n",
    "from src.data_models.smartshelper import metrics, fixNum, unSMART, cparty\n",
    "from src.data_models.SmartsDataModel import SmartsDataModel\n",
    "from src.utility.DataModelUtility import execute_query_data_frame\n",
    "from src.data_models.SmartsDataModel import SmartsDataModel\n",
    "from src.data_models.UPMhelper import UPMalerts"
   ]
  },
  {
   "cell_type": "markdown",
   "metadata": {},
   "source": [
    "#### Step 0) Lookback Days {20,30,40}"
   ]
  },
  {
   "cell_type": "code",
   "execution_count": 9,
   "metadata": {},
   "outputs": [
    {
     "name": "stdout",
     "output_type": "stream",
     "text": [
      "-> type fixed, kept 36263 rows, 49 columns\n",
      "-> type fixed, kept 36884 rows, 49 columns\n",
      "-> type fixed, kept 38127 rows, 49 columns\n"
     ]
    }
   ],
   "source": [
    "lookback_20 = unSMART(pd.read_excel('~/Documents/vmfldr/Alerts-AllRows_gemini_TEST0.xlsx'))\n",
    "lookback_30 = unSMART(pd.read_excel('~/Documents/vmfldr/Alerts-AllRows_gemini_TEST1.xlsx'))\n",
    "lookback_40 = unSMART(pd.read_excel('~/Documents/vmfldr/Alerts-AllRows_gemini_TEST2.xlsx'))"
   ]
  },
  {
   "cell_type": "code",
   "execution_count": 16,
   "metadata": {},
   "outputs": [],
   "source": [
    "lookback_20_Nov = lookback_20.loc[lookback_20['Datetime'].dt.month == 12]\n",
    "lookback_30_Nov = lookback_30.loc[lookback_30['Datetime'].dt.month == 12]\n",
    "lookback_40_Nov = lookback_40.loc[lookback_40['Datetime'].dt.month == 12]\n",
    "\n",
    "print(lookback_20_Nov.shape)\n",
    "print(lookback_30_Nov.shape)\n",
    "print(lookback_40_Nov.shape)"
   ]
  },
  {
   "cell_type": "code",
   "execution_count": 31,
   "metadata": {},
   "outputs": [],
   "source": [
    "byCode_20_Nov = pd.DataFrame(lookback_20_Nov.groupby(['AlertCode', 'ShortText']).count()['AlertID']).rename(columns={'AlertID':'LB_20'})\n",
    "byCode_30_Nov = pd.DataFrame(lookback_30_Nov.groupby(['AlertCode', 'ShortText']).count()['AlertID']).rename(columns={'AlertID':'LB_30'})\n",
    "byCode_40_Nov = pd.DataFrame(lookback_40_Nov.groupby(['AlertCode', 'ShortText']).count()['AlertID']).rename(columns={'AlertID':'LB_40'})"
   ]
  },
  {
   "cell_type": "code",
   "execution_count": 68,
   "metadata": {},
   "outputs": [
    {
     "data": {
      "text/html": [
       "<div>\n",
       "<style scoped>\n",
       "    .dataframe tbody tr th:only-of-type {\n",
       "        vertical-align: middle;\n",
       "    }\n",
       "\n",
       "    .dataframe tbody tr th {\n",
       "        vertical-align: top;\n",
       "    }\n",
       "\n",
       "    .dataframe thead th {\n",
       "        text-align: right;\n",
       "    }\n",
       "</style>\n",
       "<table border=\"1\" class=\"dataframe\">\n",
       "  <thead>\n",
       "    <tr style=\"text-align: right;\">\n",
       "      <th></th>\n",
       "      <th></th>\n",
       "      <th>LB_20</th>\n",
       "      <th>LB_30</th>\n",
       "      <th>LB_40</th>\n",
       "      <th>LB_20to30</th>\n",
       "      <th>LB_30to40</th>\n",
       "    </tr>\n",
       "    <tr>\n",
       "      <th>AlertCode</th>\n",
       "      <th>ShortText</th>\n",
       "      <th></th>\n",
       "      <th></th>\n",
       "      <th></th>\n",
       "      <th></th>\n",
       "      <th></th>\n",
       "    </tr>\n",
       "  </thead>\n",
       "  <tbody>\n",
       "    <tr>\n",
       "      <th rowspan=\"3\" valign=\"top\">1001</th>\n",
       "      <th>(MC) UNUSUAL PRICE MOVEMENT INTRA-DAY</th>\n",
       "      <td>35</td>\n",
       "      <td>34</td>\n",
       "      <td>36</td>\n",
       "      <td>-2.9</td>\n",
       "      <td>5.9</td>\n",
       "    </tr>\n",
       "    <tr>\n",
       "      <th>(RP) UNUSUAL PRICE MOVEMENT INTRA-DAY</th>\n",
       "      <td>9</td>\n",
       "      <td>12</td>\n",
       "      <td>9</td>\n",
       "      <td>33.3</td>\n",
       "      <td>-25.0</td>\n",
       "    </tr>\n",
       "    <tr>\n",
       "      <th>UNUSUAL PRICE MOVEMENT INTRA-DAY</th>\n",
       "      <td>48</td>\n",
       "      <td>52</td>\n",
       "      <td>49</td>\n",
       "      <td>8.3</td>\n",
       "      <td>-5.8</td>\n",
       "    </tr>\n",
       "    <tr>\n",
       "      <th>4009</th>\n",
       "      <th>PAINTING THE TAPE</th>\n",
       "      <td>34</td>\n",
       "      <td>39</td>\n",
       "      <td>34</td>\n",
       "      <td>14.7</td>\n",
       "      <td>-12.8</td>\n",
       "    </tr>\n",
       "    <tr>\n",
       "      <th>4012</th>\n",
       "      <th>PRICE DRIVER</th>\n",
       "      <td>32</td>\n",
       "      <td>32</td>\n",
       "      <td>32</td>\n",
       "      <td>0.0</td>\n",
       "      <td>0.0</td>\n",
       "    </tr>\n",
       "    <tr>\n",
       "      <th>4022</th>\n",
       "      <th>BAIT AND SWITCH</th>\n",
       "      <td>14668</td>\n",
       "      <td>14816</td>\n",
       "      <td>14865</td>\n",
       "      <td>1.0</td>\n",
       "      <td>0.3</td>\n",
       "    </tr>\n",
       "    <tr>\n",
       "      <th rowspan=\"2\" valign=\"top\">4032</th>\n",
       "      <th>MULTI ORDER SPOOFING</th>\n",
       "      <td>433</td>\n",
       "      <td>433</td>\n",
       "      <td>433</td>\n",
       "      <td>0.0</td>\n",
       "      <td>0.0</td>\n",
       "    </tr>\n",
       "    <tr>\n",
       "      <th>MULTI ORDER SPOOFING EOD</th>\n",
       "      <td>415</td>\n",
       "      <td>415</td>\n",
       "      <td>415</td>\n",
       "      <td>0.0</td>\n",
       "      <td>0.0</td>\n",
       "    </tr>\n",
       "    <tr>\n",
       "      <th>4041</th>\n",
       "      <th>WASH SALE A-B-A</th>\n",
       "      <td>28</td>\n",
       "      <td>28</td>\n",
       "      <td>28</td>\n",
       "      <td>0.0</td>\n",
       "      <td>0.0</td>\n",
       "    </tr>\n",
       "    <tr>\n",
       "      <th>4042</th>\n",
       "      <th>WASH SALE A-B-A (MONEY PASS)</th>\n",
       "      <td>2702</td>\n",
       "      <td>2702</td>\n",
       "      <td>2702</td>\n",
       "      <td>0.0</td>\n",
       "      <td>0.0</td>\n",
       "    </tr>\n",
       "    <tr>\n",
       "      <th>4045</th>\n",
       "      <th>COLLUSION(MONEY PASS)</th>\n",
       "      <td>3</td>\n",
       "      <td>3</td>\n",
       "      <td>3</td>\n",
       "      <td>0.0</td>\n",
       "      <td>0.0</td>\n",
       "    </tr>\n",
       "  </tbody>\n",
       "</table>\n",
       "</div>"
      ],
      "text/plain": [
       "                                                 LB_20  LB_30  LB_40  \\\n",
       "AlertCode ShortText                                                    \n",
       "1001      (MC) UNUSUAL PRICE MOVEMENT INTRA-DAY     35     34     36   \n",
       "          (RP) UNUSUAL PRICE MOVEMENT INTRA-DAY      9     12      9   \n",
       "          UNUSUAL PRICE MOVEMENT INTRA-DAY          48     52     49   \n",
       "4009      PAINTING THE TAPE                         34     39     34   \n",
       "4012      PRICE DRIVER                              32     32     32   \n",
       "4022      BAIT AND SWITCH                        14668  14816  14865   \n",
       "4032      MULTI ORDER SPOOFING                     433    433    433   \n",
       "          MULTI ORDER SPOOFING EOD                 415    415    415   \n",
       "4041      WASH SALE A-B-A                           28     28     28   \n",
       "4042      WASH SALE A-B-A (MONEY PASS)            2702   2702   2702   \n",
       "4045      COLLUSION(MONEY PASS)                      3      3      3   \n",
       "\n",
       "                                                 LB_20to30  LB_30to40  \n",
       "AlertCode ShortText                                                    \n",
       "1001      (MC) UNUSUAL PRICE MOVEMENT INTRA-DAY       -2.9        5.9  \n",
       "          (RP) UNUSUAL PRICE MOVEMENT INTRA-DAY       33.3      -25.0  \n",
       "          UNUSUAL PRICE MOVEMENT INTRA-DAY             8.3       -5.8  \n",
       "4009      PAINTING THE TAPE                           14.7      -12.8  \n",
       "4012      PRICE DRIVER                                 0.0        0.0  \n",
       "4022      BAIT AND SWITCH                              1.0        0.3  \n",
       "4032      MULTI ORDER SPOOFING                         0.0        0.0  \n",
       "          MULTI ORDER SPOOFING EOD                     0.0        0.0  \n",
       "4041      WASH SALE A-B-A                              0.0        0.0  \n",
       "4042      WASH SALE A-B-A (MONEY PASS)                 0.0        0.0  \n",
       "4045      COLLUSION(MONEY PASS)                        0.0        0.0  "
      ]
     },
     "execution_count": 68,
     "metadata": {},
     "output_type": "execute_result"
    }
   ],
   "source": [
    "lookback_impact = pd.concat([byCode_20_Nov,byCode_30_Nov,byCode_40_Nov], axis=1)\n",
    "lookback_impact['LB_20to30'] = round(lookback_impact['LB_30']/lookback_impact['LB_20'] - 1,3) * 100\n",
    "lookback_impact['LB_30to40'] = round(lookback_impact['LB_40']/lookback_impact['LB_30'] - 1,3) * 100\n",
    "lookback_impact"
   ]
  },
  {
   "cell_type": "code",
   "execution_count": null,
   "metadata": {},
   "outputs": [],
   "source": [
    "lookback_impact.apply()"
   ]
  },
  {
   "cell_type": "code",
   "execution_count": null,
   "metadata": {},
   "outputs": [],
   "source": []
  }
 ],
 "metadata": {
  "kernelspec": {
   "display_name": "Python 3",
   "language": "python",
   "name": "python3"
  },
  "language_info": {
   "codemirror_mode": {
    "name": "ipython",
    "version": 3
   },
   "file_extension": ".py",
   "mimetype": "text/x-python",
   "name": "python",
   "nbconvert_exporter": "python",
   "pygments_lexer": "ipython3",
   "version": "3.7.0"
  }
 },
 "nbformat": 4,
 "nbformat_minor": 2
}
