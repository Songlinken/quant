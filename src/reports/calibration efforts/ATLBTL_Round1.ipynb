{
 "cells": [
  {
   "cell_type": "markdown",
   "metadata": {},
   "source": [
    "### Default to Iteration 1: Above-the-Line / Below-the-Line (ATL/BTL) Testing"
   ]
  },
  {
   "cell_type": "code",
   "execution_count": 1,
   "metadata": {},
   "outputs": [
    {
     "name": "stderr",
     "output_type": "stream",
     "text": [
      "/Users/sqian/.pyenv/versions/3.7.0/envs/env_370/lib/python3.7/site-packages/psycopg2/__init__.py:144: UserWarning: The psycopg2 wheel package will be renamed from release 2.8; in order to keep installing from binary please use \"pip install psycopg2-binary\" instead. For details see: <http://initd.org/psycopg/docs/install.html#binary-install-from-pypi>.\n",
      "  \"\"\")\n"
     ]
    }
   ],
   "source": [
    "import os; \n",
    "import pandas as pd; pd.set_option('mode.chained_assignment',None)\n",
    "import numpy as np\n",
    "import datetime\n",
    "import matplotlib.pyplot as plt\n",
    "import matplotlib.mlab as mlab\n",
    "import math\n",
    "import re\n",
    "import xlrd\n",
    "import statistics as stat\n",
    "from xlsxwriter.utility import xl_rowcol_to_cell\n",
    "from random import sample\n",
    "from src.data_models.SmartsCsvDataModel import SmartsCsvDataModel\n",
    "from src.data_models.smartshelper import metrics, fixNum, unSMART, cparty\n",
    "from src.data_models.SmartsDataModel import SmartsDataModel\n",
    "from src.utility.DataModelUtility import execute_query_data_frame\n",
    "from src.data_models.SmartsDataModel import SmartsDataModel\n",
    "from src.data_models.UPMhelper import UPMalerts"
   ]
  },
  {
   "cell_type": "markdown",
   "metadata": {},
   "source": [
    "#### Step 0) Lookback Days {20,30,40}"
   ]
  },
  {
   "cell_type": "code",
   "execution_count": 2,
   "metadata": {},
   "outputs": [
    {
     "name": "stdout",
     "output_type": "stream",
     "text": [
      "-> type fixed, kept 354 rows, 13 columns\n",
      "-> type fixed, kept 19630 rows, 13 columns\n",
      "-> type fixed, kept 36263 rows, 13 columns\n",
      "-> type fixed, kept 36884 rows, 13 columns\n",
      "-> type fixed, kept 38127 rows, 13 columns\n"
     ]
    }
   ],
   "source": [
    "lookback_prod = unSMART(pd.read_excel('~/Documents/vmfldr/official_test.xlsx'))\n",
    "lookback_01 = unSMART(pd.read_excel('~/Documents/vmfldr/TEST_LB01_18DEC.xlsx'))\n",
    "lookback_20 = unSMART(pd.read_excel('~/Documents/vmfldr/Alerts-AllRows_gemini_TEST0.xlsx'))\n",
    "lookback_30 = unSMART(pd.read_excel('~/Documents/vmfldr/Alerts-AllRows_gemini_TEST1.xlsx'))\n",
    "lookback_40 = unSMART(pd.read_excel('~/Documents/vmfldr/Alerts-AllRows_gemini_TEST2.xlsx'))"
   ]
  },
  {
   "cell_type": "code",
   "execution_count": 3,
   "metadata": {},
   "outputs": [],
   "source": [
    "lookback_prod['ShortText3'] = lookback_prod['ShortText'].str.replace('\\(MC\\) ','').str.replace('\\(RP\\) ','')\n",
    "lookback_01['ShortText3'] = lookback_01['ShortText'].str.replace('\\(MC\\) ','').str.replace('\\(RP\\) ','')\n",
    "lookback_20['ShortText3'] = lookback_20['ShortText'].str.replace('\\(MC\\) ','').str.replace('\\(RP\\) ','')\n",
    "lookback_30['ShortText3'] = lookback_30['ShortText'].str.replace('\\(MC\\) ','').str.replace('\\(RP\\) ','')\n",
    "lookback_40['ShortText3'] = lookback_40['ShortText'].str.replace('\\(MC\\) ','').str.replace('\\(RP\\) ','')"
   ]
  },
  {
   "cell_type": "code",
   "execution_count": 4,
   "metadata": {},
   "outputs": [
    {
     "name": "stdout",
     "output_type": "stream",
     "text": [
      "(18974, 14)\n",
      "(18407, 14)\n",
      "(18566, 14)\n",
      "(18606, 14)\n"
     ]
    }
   ],
   "source": [
    "lookback_prodm = lookback_prod.loc[lookback_prod['Datetime'].dt.month == 12]\n",
    "lookback_01m = lookback_01.loc[lookback_01['Datetime'].dt.month == 12]\n",
    "lookback_20m = lookback_20.loc[lookback_20['Datetime'].dt.month == 12]\n",
    "lookback_30m = lookback_30.loc[lookback_30['Datetime'].dt.month == 12]\n",
    "lookback_40m = lookback_40.loc[lookback_40['Datetime'].dt.month == 12]\n",
    "\n",
    "print(lookback_01m.shape)\n",
    "print(lookback_20m.shape)\n",
    "print(lookback_30m.shape)\n",
    "print(lookback_40m.shape)"
   ]
  },
  {
   "cell_type": "code",
   "execution_count": 5,
   "metadata": {},
   "outputs": [],
   "source": [
    "byCode_01 = pd.DataFrame(lookback_01m.groupby(['AlertCode', 'ShortText3']).count()['Reissued']).rename(columns={'Reissued':'LB_01'})\n",
    "byCode_20 = pd.DataFrame(lookback_20m.groupby(['AlertCode', 'ShortText3']).count()['Reissued']).rename(columns={'Reissued':'LB_20'})\n",
    "byCode_30 = pd.DataFrame(lookback_30m.groupby(['AlertCode', 'ShortText3']).count()['Reissued']).rename(columns={'Reissued':'LB_30'})\n",
    "byCode_40 = pd.DataFrame(lookback_40m.groupby(['AlertCode', 'ShortText3']).count()['Reissued']).rename(columns={'Reissued':'LB_40'})"
   ]
  },
  {
   "cell_type": "code",
   "execution_count": 6,
   "metadata": {},
   "outputs": [
    {
     "data": {
      "text/html": [
       "<div>\n",
       "<style scoped>\n",
       "    .dataframe tbody tr th:only-of-type {\n",
       "        vertical-align: middle;\n",
       "    }\n",
       "\n",
       "    .dataframe tbody tr th {\n",
       "        vertical-align: top;\n",
       "    }\n",
       "\n",
       "    .dataframe thead th {\n",
       "        text-align: right;\n",
       "    }\n",
       "</style>\n",
       "<table border=\"1\" class=\"dataframe\">\n",
       "  <thead>\n",
       "    <tr style=\"text-align: right;\">\n",
       "      <th></th>\n",
       "      <th></th>\n",
       "      <th>LB_01</th>\n",
       "      <th>LB_20</th>\n",
       "      <th>LB_30</th>\n",
       "      <th>LB_40</th>\n",
       "      <th>LB_01to20</th>\n",
       "      <th>LB_20to30</th>\n",
       "      <th>LB_30to40</th>\n",
       "    </tr>\n",
       "    <tr>\n",
       "      <th>AlertCode</th>\n",
       "      <th>ShortText3</th>\n",
       "      <th></th>\n",
       "      <th></th>\n",
       "      <th></th>\n",
       "      <th></th>\n",
       "      <th></th>\n",
       "      <th></th>\n",
       "      <th></th>\n",
       "    </tr>\n",
       "  </thead>\n",
       "  <tbody>\n",
       "    <tr>\n",
       "      <th>1001</th>\n",
       "      <th>UNUSUAL PRICE MOVEMENT INTRA-DAY</th>\n",
       "      <td>107</td>\n",
       "      <td>92</td>\n",
       "      <td>98</td>\n",
       "      <td>94</td>\n",
       "      <td>-14.0</td>\n",
       "      <td>7.0</td>\n",
       "      <td>-4.0</td>\n",
       "    </tr>\n",
       "    <tr>\n",
       "      <th>4009</th>\n",
       "      <th>PAINTING THE TAPE</th>\n",
       "      <td>36</td>\n",
       "      <td>34</td>\n",
       "      <td>39</td>\n",
       "      <td>34</td>\n",
       "      <td>-6.0</td>\n",
       "      <td>15.0</td>\n",
       "      <td>-13.0</td>\n",
       "    </tr>\n",
       "    <tr>\n",
       "      <th>4012</th>\n",
       "      <th>PRICE DRIVER</th>\n",
       "      <td>32</td>\n",
       "      <td>32</td>\n",
       "      <td>32</td>\n",
       "      <td>32</td>\n",
       "      <td>0.0</td>\n",
       "      <td>0.0</td>\n",
       "      <td>0.0</td>\n",
       "    </tr>\n",
       "    <tr>\n",
       "      <th>4022</th>\n",
       "      <th>BAIT AND SWITCH</th>\n",
       "      <td>15218</td>\n",
       "      <td>14668</td>\n",
       "      <td>14816</td>\n",
       "      <td>14865</td>\n",
       "      <td>-4.0</td>\n",
       "      <td>1.0</td>\n",
       "      <td>0.0</td>\n",
       "    </tr>\n",
       "    <tr>\n",
       "      <th rowspan=\"2\" valign=\"top\">4032</th>\n",
       "      <th>MULTI ORDER SPOOFING</th>\n",
       "      <td>433</td>\n",
       "      <td>433</td>\n",
       "      <td>433</td>\n",
       "      <td>433</td>\n",
       "      <td>0.0</td>\n",
       "      <td>0.0</td>\n",
       "      <td>0.0</td>\n",
       "    </tr>\n",
       "    <tr>\n",
       "      <th>MULTI ORDER SPOOFING EOD</th>\n",
       "      <td>415</td>\n",
       "      <td>415</td>\n",
       "      <td>415</td>\n",
       "      <td>415</td>\n",
       "      <td>0.0</td>\n",
       "      <td>0.0</td>\n",
       "      <td>0.0</td>\n",
       "    </tr>\n",
       "    <tr>\n",
       "      <th>4041</th>\n",
       "      <th>WASH SALE A-B-A</th>\n",
       "      <td>28</td>\n",
       "      <td>28</td>\n",
       "      <td>28</td>\n",
       "      <td>28</td>\n",
       "      <td>0.0</td>\n",
       "      <td>0.0</td>\n",
       "      <td>0.0</td>\n",
       "    </tr>\n",
       "    <tr>\n",
       "      <th>4042</th>\n",
       "      <th>WASH SALE A-B-A (MONEY PASS)</th>\n",
       "      <td>2702</td>\n",
       "      <td>2702</td>\n",
       "      <td>2702</td>\n",
       "      <td>2702</td>\n",
       "      <td>0.0</td>\n",
       "      <td>0.0</td>\n",
       "      <td>0.0</td>\n",
       "    </tr>\n",
       "    <tr>\n",
       "      <th>4045</th>\n",
       "      <th>COLLUSION(MONEY PASS)</th>\n",
       "      <td>3</td>\n",
       "      <td>3</td>\n",
       "      <td>3</td>\n",
       "      <td>3</td>\n",
       "      <td>0.0</td>\n",
       "      <td>0.0</td>\n",
       "      <td>0.0</td>\n",
       "    </tr>\n",
       "  </tbody>\n",
       "</table>\n",
       "</div>"
      ],
      "text/plain": [
       "                                            LB_01  LB_20  LB_30  LB_40  \\\n",
       "AlertCode ShortText3                                                     \n",
       "1001      UNUSUAL PRICE MOVEMENT INTRA-DAY    107     92     98     94   \n",
       "4009      PAINTING THE TAPE                    36     34     39     34   \n",
       "4012      PRICE DRIVER                         32     32     32     32   \n",
       "4022      BAIT AND SWITCH                   15218  14668  14816  14865   \n",
       "4032      MULTI ORDER SPOOFING                433    433    433    433   \n",
       "          MULTI ORDER SPOOFING EOD            415    415    415    415   \n",
       "4041      WASH SALE A-B-A                      28     28     28     28   \n",
       "4042      WASH SALE A-B-A (MONEY PASS)       2702   2702   2702   2702   \n",
       "4045      COLLUSION(MONEY PASS)                 3      3      3      3   \n",
       "\n",
       "                                            LB_01to20  LB_20to30  LB_30to40  \n",
       "AlertCode ShortText3                                                         \n",
       "1001      UNUSUAL PRICE MOVEMENT INTRA-DAY      -14.0        7.0       -4.0  \n",
       "4009      PAINTING THE TAPE                      -6.0       15.0      -13.0  \n",
       "4012      PRICE DRIVER                            0.0        0.0        0.0  \n",
       "4022      BAIT AND SWITCH                        -4.0        1.0        0.0  \n",
       "4032      MULTI ORDER SPOOFING                    0.0        0.0        0.0  \n",
       "          MULTI ORDER SPOOFING EOD                0.0        0.0        0.0  \n",
       "4041      WASH SALE A-B-A                         0.0        0.0        0.0  \n",
       "4042      WASH SALE A-B-A (MONEY PASS)            0.0        0.0        0.0  \n",
       "4045      COLLUSION(MONEY PASS)                   0.0        0.0        0.0  "
      ]
     },
     "execution_count": 6,
     "metadata": {},
     "output_type": "execute_result"
    }
   ],
   "source": [
    "lookback_impact = pd.concat([byCode_01,byCode_20,byCode_30,byCode_40], axis=1)\n",
    "lookback_impact['LB_01to20'] = round(lookback_impact['LB_20']/lookback_impact['LB_01'] - 1,2) * 100\n",
    "lookback_impact['LB_20to30'] = round(lookback_impact['LB_30']/lookback_impact['LB_20'] - 1,2) * 100\n",
    "lookback_impact['LB_30to40'] = round(lookback_impact['LB_40']/lookback_impact['LB_30'] - 1,2) * 100\n",
    "lookback_impact"
   ]
  },
  {
   "cell_type": "markdown",
   "metadata": {},
   "source": [
    "### Values -1001"
   ]
  },
  {
   "cell_type": "code",
   "execution_count": 7,
   "metadata": {},
   "outputs": [
    {
     "data": {
      "text/plain": [
       "range\n",
       "1 hour            55\n",
       "10 minutes        74\n",
       "trade to trade    64\n",
       "Name: valperc, dtype: int64"
      ]
     },
     "execution_count": 7,
     "metadata": {},
     "output_type": "execute_result"
    }
   ],
   "source": [
    "regextext1 = '\\D+(Price Change.+)Bid.+'\n",
    "regextext2 = 'Price Change\\s(?:in the last )?(\\d+\\D+|trade to trade)\\sis\\D+([\\d.]+)\\D+([\\d.]+)\\D+[\\d.]+\\D+[\\d.]+\\D+([\\d.]+)\\D+([\\d.]+)%\\)\\s+'\n",
    "\n",
    "alerts1001 = lookback_30m.loc[lookback_30m['AlertCode'] == 1001,['AlertCode','LongText','InstrumentName']]\n",
    "alerts1001['LongText2'] = alerts1001['LongText'].str.extract(regextext1,expand=True)\n",
    "alerts1001_rematch = alerts1001['LongText2'].str.extractall(regextext2).reset_index()\n",
    "alerts1001_rematch.columns = ['index','index2','range','valdiff','valperc','bmdiff','bmperc']\n",
    "alerts1001_rematch['symbol'] = alerts1001_rematch.reset_index()['index'].map(alerts1001['InstrumentName'].to_dict())\n",
    "alerts1001_rematch.groupby('range')['valperc'].count()"
   ]
  },
  {
   "cell_type": "code",
   "execution_count": 8,
   "metadata": {},
   "outputs": [
    {
     "data": {
      "text/plain": [
       "(98, 4)"
      ]
     },
     "execution_count": 8,
     "metadata": {},
     "output_type": "execute_result"
    }
   ],
   "source": [
    "alerts1001.shape"
   ]
  },
  {
   "cell_type": "code",
   "execution_count": 9,
   "metadata": {},
   "outputs": [
    {
     "data": {
      "text/plain": [
       "range\n",
       "1 hour        16\n",
       "10 minutes    31\n",
       "5 minutes     32\n",
       "Name: valperc, dtype: int64"
      ]
     },
     "execution_count": 9,
     "metadata": {},
     "output_type": "execute_result"
    }
   ],
   "source": [
    "regextext1 = '\\D+(Price Change.+)Bid.+'\n",
    "regextext2 = 'Price Change\\s(?:in the last )?(\\d+\\D+|trade to trade)\\sis\\D+([\\d.]+)\\D+([\\d.]+)\\D+[\\d.]+\\D+[\\d.]+\\D+([\\d.]+)\\D+([\\d.]+)%\\)\\s+'\n",
    "\n",
    "alerts1001 = lookback_prod.loc[lookback_prod['AlertCode'] == 1001,['AlertCode','LongText','InstrumentName']]\n",
    "alerts1001['LongText2'] = alerts1001['LongText'].str.extract(regextext1,expand=True)\n",
    "alerts1001_rematch = alerts1001['LongText2'].str.extractall(regextext2).reset_index()\n",
    "alerts1001_rematch.columns = ['index','index2','range','valdiff','valperc','bmdiff','bmperc']\n",
    "alerts1001_rematch['symbol'] = alerts1001_rematch.reset_index()['index'].map(alerts1001['InstrumentName'].to_dict())\n",
    "alerts1001_rematch.groupby('range')['valperc'].count()"
   ]
  },
  {
   "cell_type": "code",
   "execution_count": 10,
   "metadata": {},
   "outputs": [
    {
     "data": {
      "text/plain": [
       "(32, 4)"
      ]
     },
     "execution_count": 10,
     "metadata": {},
     "output_type": "execute_result"
    }
   ],
   "source": [
    "alerts1001.shape"
   ]
  },
  {
   "cell_type": "markdown",
   "metadata": {},
   "source": [
    "### Values -2011"
   ]
  },
  {
   "cell_type": "code",
   "execution_count": 11,
   "metadata": {},
   "outputs": [
    {
     "data": {
      "text/plain": [
       "range\n",
       "1 hour        6\n",
       "10 minutes    6\n",
       "5 minutes     8\n",
       "Name: value, dtype: int64"
      ]
     },
     "execution_count": 11,
     "metadata": {},
     "output_type": "execute_result"
    }
   ],
   "source": [
    "alerts2011 = lookback_prodm.loc[lookback_prodm['AlertCode'] == 2011,['AlertCode','LongText','InstrumentName']]\n",
    "regextext3 = '[^:]*\\:*\\s*([A-Z]{6})\\D+([\\d,.]+)\\D+(\\d+\\D+)\\.\\D+([\\d,.]+)\\s*'\n",
    "alerts2011_rematch = alerts2011['LongText'].str.extractall(regextext3).reset_index()\n",
    "alerts2011_rematch.columns = ['index','index2','symbol','value','range','bm']\n",
    "alerts2011_rematch.groupby('range')['value'].count()"
   ]
  },
  {
   "cell_type": "code",
   "execution_count": 12,
   "metadata": {},
   "outputs": [
    {
     "data": {
      "text/html": [
       "<div>\n",
       "<style scoped>\n",
       "    .dataframe tbody tr th:only-of-type {\n",
       "        vertical-align: middle;\n",
       "    }\n",
       "\n",
       "    .dataframe tbody tr th {\n",
       "        vertical-align: top;\n",
       "    }\n",
       "\n",
       "    .dataframe thead th {\n",
       "        text-align: right;\n",
       "    }\n",
       "</style>\n",
       "<table border=\"1\" class=\"dataframe\">\n",
       "  <thead>\n",
       "    <tr style=\"text-align: right;\">\n",
       "      <th></th>\n",
       "      <th>index</th>\n",
       "      <th>index2</th>\n",
       "      <th>symbol</th>\n",
       "      <th>value</th>\n",
       "      <th>range</th>\n",
       "      <th>bm</th>\n",
       "    </tr>\n",
       "  </thead>\n",
       "  <tbody>\n",
       "    <tr>\n",
       "      <th>0</th>\n",
       "      <td>229</td>\n",
       "      <td>0</td>\n",
       "      <td>ZECUSD</td>\n",
       "      <td>3471.2887</td>\n",
       "      <td>10 minutes</td>\n",
       "      <td>3436</td>\n",
       "    </tr>\n",
       "    <tr>\n",
       "      <th>1</th>\n",
       "      <td>252</td>\n",
       "      <td>0</td>\n",
       "      <td>BCHUSD</td>\n",
       "      <td>622.424029</td>\n",
       "      <td>10 minutes</td>\n",
       "      <td>617</td>\n",
       "    </tr>\n",
       "    <tr>\n",
       "      <th>2</th>\n",
       "      <td>256</td>\n",
       "      <td>0</td>\n",
       "      <td>LTCBTC</td>\n",
       "      <td>7556.79547</td>\n",
       "      <td>5 minutes</td>\n",
       "      <td>7509</td>\n",
       "    </tr>\n",
       "    <tr>\n",
       "      <th>3</th>\n",
       "      <td>258</td>\n",
       "      <td>0</td>\n",
       "      <td>LTCUSD</td>\n",
       "      <td>10655.04075</td>\n",
       "      <td>5 minutes</td>\n",
       "      <td>10599</td>\n",
       "    </tr>\n",
       "    <tr>\n",
       "      <th>4</th>\n",
       "      <td>273</td>\n",
       "      <td>0</td>\n",
       "      <td>BTCUSD</td>\n",
       "      <td>2177.833357</td>\n",
       "      <td>1 hour</td>\n",
       "      <td>2177</td>\n",
       "    </tr>\n",
       "    <tr>\n",
       "      <th>5</th>\n",
       "      <td>275</td>\n",
       "      <td>0</td>\n",
       "      <td>ZECBCH</td>\n",
       "      <td>47.09</td>\n",
       "      <td>5 minutes</td>\n",
       "      <td>47</td>\n",
       "    </tr>\n",
       "    <tr>\n",
       "      <th>6</th>\n",
       "      <td>275</td>\n",
       "      <td>1</td>\n",
       "      <td>ZECBCH</td>\n",
       "      <td>47.09</td>\n",
       "      <td>10 minutes</td>\n",
       "      <td>47</td>\n",
       "    </tr>\n",
       "    <tr>\n",
       "      <th>7</th>\n",
       "      <td>276</td>\n",
       "      <td>0</td>\n",
       "      <td>BCHBTC</td>\n",
       "      <td>308.352646</td>\n",
       "      <td>1 hour</td>\n",
       "      <td>307</td>\n",
       "    </tr>\n",
       "    <tr>\n",
       "      <th>8</th>\n",
       "      <td>277</td>\n",
       "      <td>0</td>\n",
       "      <td>BCHUSD</td>\n",
       "      <td>1195.606105</td>\n",
       "      <td>1 hour</td>\n",
       "      <td>1190</td>\n",
       "    </tr>\n",
       "    <tr>\n",
       "      <th>9</th>\n",
       "      <td>292</td>\n",
       "      <td>0</td>\n",
       "      <td>BCHUSD</td>\n",
       "      <td>1190.405242</td>\n",
       "      <td>1 hour</td>\n",
       "      <td>1190</td>\n",
       "    </tr>\n",
       "    <tr>\n",
       "      <th>10</th>\n",
       "      <td>300</td>\n",
       "      <td>0</td>\n",
       "      <td>BCHBTC</td>\n",
       "      <td>253.336363</td>\n",
       "      <td>5 minutes</td>\n",
       "      <td>253</td>\n",
       "    </tr>\n",
       "    <tr>\n",
       "      <th>11</th>\n",
       "      <td>300</td>\n",
       "      <td>1</td>\n",
       "      <td>BCHBTC</td>\n",
       "      <td>253.336363</td>\n",
       "      <td>10 minutes</td>\n",
       "      <td>253</td>\n",
       "    </tr>\n",
       "    <tr>\n",
       "      <th>12</th>\n",
       "      <td>303</td>\n",
       "      <td>0</td>\n",
       "      <td>ZECETH</td>\n",
       "      <td>226.8</td>\n",
       "      <td>5 minutes</td>\n",
       "      <td>226</td>\n",
       "    </tr>\n",
       "    <tr>\n",
       "      <th>13</th>\n",
       "      <td>303</td>\n",
       "      <td>1</td>\n",
       "      <td>ZECETH</td>\n",
       "      <td>300.8</td>\n",
       "      <td>10 minutes</td>\n",
       "      <td>300</td>\n",
       "    </tr>\n",
       "    <tr>\n",
       "      <th>14</th>\n",
       "      <td>325</td>\n",
       "      <td>0</td>\n",
       "      <td>ETHBTC</td>\n",
       "      <td>3803.492833</td>\n",
       "      <td>5 minutes</td>\n",
       "      <td>3800</td>\n",
       "    </tr>\n",
       "    <tr>\n",
       "      <th>15</th>\n",
       "      <td>330</td>\n",
       "      <td>0</td>\n",
       "      <td>BTCUSD</td>\n",
       "      <td>784.003642</td>\n",
       "      <td>5 minutes</td>\n",
       "      <td>784</td>\n",
       "    </tr>\n",
       "    <tr>\n",
       "      <th>16</th>\n",
       "      <td>331</td>\n",
       "      <td>0</td>\n",
       "      <td>ZECBTC</td>\n",
       "      <td>1480.883158</td>\n",
       "      <td>1 hour</td>\n",
       "      <td>1479</td>\n",
       "    </tr>\n",
       "    <tr>\n",
       "      <th>17</th>\n",
       "      <td>336</td>\n",
       "      <td>0</td>\n",
       "      <td>ZECETH</td>\n",
       "      <td>449.548262</td>\n",
       "      <td>1 hour</td>\n",
       "      <td>449</td>\n",
       "    </tr>\n",
       "    <tr>\n",
       "      <th>18</th>\n",
       "      <td>345</td>\n",
       "      <td>0</td>\n",
       "      <td>BCHETH</td>\n",
       "      <td>121.739</td>\n",
       "      <td>5 minutes</td>\n",
       "      <td>121</td>\n",
       "    </tr>\n",
       "    <tr>\n",
       "      <th>19</th>\n",
       "      <td>345</td>\n",
       "      <td>1</td>\n",
       "      <td>BCHETH</td>\n",
       "      <td>121.739</td>\n",
       "      <td>10 minutes</td>\n",
       "      <td>121</td>\n",
       "    </tr>\n",
       "  </tbody>\n",
       "</table>\n",
       "</div>"
      ],
      "text/plain": [
       "    index  index2  symbol        value       range     bm\n",
       "0     229       0  ZECUSD    3471.2887  10 minutes   3436\n",
       "1     252       0  BCHUSD   622.424029  10 minutes    617\n",
       "2     256       0  LTCBTC   7556.79547   5 minutes   7509\n",
       "3     258       0  LTCUSD  10655.04075   5 minutes  10599\n",
       "4     273       0  BTCUSD  2177.833357      1 hour   2177\n",
       "5     275       0  ZECBCH        47.09   5 minutes     47\n",
       "6     275       1  ZECBCH        47.09  10 minutes     47\n",
       "7     276       0  BCHBTC   308.352646      1 hour    307\n",
       "8     277       0  BCHUSD  1195.606105      1 hour   1190\n",
       "9     292       0  BCHUSD  1190.405242      1 hour   1190\n",
       "10    300       0  BCHBTC   253.336363   5 minutes    253\n",
       "11    300       1  BCHBTC   253.336363  10 minutes    253\n",
       "12    303       0  ZECETH        226.8   5 minutes    226\n",
       "13    303       1  ZECETH        300.8  10 minutes    300\n",
       "14    325       0  ETHBTC  3803.492833   5 minutes   3800\n",
       "15    330       0  BTCUSD   784.003642   5 minutes    784\n",
       "16    331       0  ZECBTC  1480.883158      1 hour   1479\n",
       "17    336       0  ZECETH   449.548262      1 hour    449\n",
       "18    345       0  BCHETH      121.739   5 minutes    121\n",
       "19    345       1  BCHETH      121.739  10 minutes    121"
      ]
     },
     "execution_count": 12,
     "metadata": {},
     "output_type": "execute_result"
    }
   ],
   "source": [
    "alerts2011_rematch"
   ]
  },
  {
   "cell_type": "markdown",
   "metadata": {},
   "source": [
    "### Values -4012"
   ]
  },
  {
   "cell_type": "code",
   "execution_count": 13,
   "metadata": {},
   "outputs": [],
   "source": [
    "# alerts4012_rematch['dir'].hist(bins=30); plt.show()\n",
    "# alerts4012_rematch['vol'].hist(bins=30)"
   ]
  },
  {
   "cell_type": "code",
   "execution_count": 14,
   "metadata": {},
   "outputs": [],
   "source": [
    "# alerts4012_rematch['dir'].hist(bins=30); plt.show()\n",
    "# alerts4012_rematch['tick'].hist(bins=30)"
   ]
  },
  {
   "cell_type": "code",
   "execution_count": 37,
   "metadata": {},
   "outputs": [],
   "source": [
    "lookback = lookback_prodm\n",
    "alerts4012 = lookback.loc[lookback['AlertCode'] == 4012,['AlertCode','LongText','InstrumentName']]\n",
    "# for i in alerts4012['LongText']: print(i,'\\n')\n",
    "regextext3 = '\\D+(\\d+)\\D+([A-Z]{6})\\D+(\\d+)\\D+(\\d+)[^\\(]+\\(([\\d.,]+)%[^\\(]+\\(([\\d.,]+)%.+'\n",
    "alerts4012_rematch = alerts4012['LongText'].str.extract(regextext3); alerts4012_rematch\n",
    "alerts4012_rematch.columns = ['acc','symbol','num','denom','tick','vol']\n",
    "alerts4012_rematch[['tick','vol']] = alerts4012_rematch[['tick','vol']].astype(float)\n",
    "alerts4012_rematch['dir'] = alerts4012_rematch['num'].astype(float)/alerts4012_rematch['denom'].astype(float)\n",
    "alerts4012_rematch\n",
    "alerts4012_rematch[['dir','tick','vol']].to_csv('~/Desktop/tuned_pdinvestigation.csv')"
   ]
  },
  {
   "cell_type": "code",
   "execution_count": 36,
   "metadata": {},
   "outputs": [],
   "source": [
    "# lookback_prod.groupby('AlertCode').count()"
   ]
  },
  {
   "cell_type": "code",
   "execution_count": 31,
   "metadata": {},
   "outputs": [
    {
     "data": {
      "text/html": [
       "<div>\n",
       "<style scoped>\n",
       "    .dataframe tbody tr th:only-of-type {\n",
       "        vertical-align: middle;\n",
       "    }\n",
       "\n",
       "    .dataframe tbody tr th {\n",
       "        vertical-align: top;\n",
       "    }\n",
       "\n",
       "    .dataframe thead th {\n",
       "        text-align: right;\n",
       "    }\n",
       "</style>\n",
       "<table border=\"1\" class=\"dataframe\">\n",
       "  <thead>\n",
       "    <tr style=\"text-align: right;\">\n",
       "      <th></th>\n",
       "      <th>AlertCode</th>\n",
       "      <th>LongText</th>\n",
       "      <th>InstrumentName</th>\n",
       "    </tr>\n",
       "  </thead>\n",
       "  <tbody>\n",
       "    <tr>\n",
       "      <th>248</th>\n",
       "      <td>4012</td>\n",
       "      <td>PRICE DRIVER DOWN (BROKER): Broker 44498 has d...</td>\n",
       "      <td>BCHUSD</td>\n",
       "    </tr>\n",
       "    <tr>\n",
       "      <th>249</th>\n",
       "      <td>4012</td>\n",
       "      <td>PRICE DRIVER UP (BROKER): Broker 44498 has inc...</td>\n",
       "      <td>ZECBTC</td>\n",
       "    </tr>\n",
       "    <tr>\n",
       "      <th>257</th>\n",
       "      <td>4012</td>\n",
       "      <td>PRICE DRIVER DOWN (BROKER): Broker 772544 has ...</td>\n",
       "      <td>LTCBTC</td>\n",
       "    </tr>\n",
       "    <tr>\n",
       "      <th>267</th>\n",
       "      <td>4012</td>\n",
       "      <td>PRICE DRIVER DOWN (BROKER): Broker 303565 has ...</td>\n",
       "      <td>ZECETH</td>\n",
       "    </tr>\n",
       "    <tr>\n",
       "      <th>283</th>\n",
       "      <td>4012</td>\n",
       "      <td>PRICE DRIVER UP (BROKER): Broker 411770 has in...</td>\n",
       "      <td>ETHBTC</td>\n",
       "    </tr>\n",
       "    <tr>\n",
       "      <th>284</th>\n",
       "      <td>4012</td>\n",
       "      <td>PRICE DRIVER DOWN (BROKER): Broker 44498 has d...</td>\n",
       "      <td>ETHBTC</td>\n",
       "    </tr>\n",
       "    <tr>\n",
       "      <th>285</th>\n",
       "      <td>4012</td>\n",
       "      <td>PRICE DRIVER DOWN (BROKER): Broker 44498 has d...</td>\n",
       "      <td>BCHUSD</td>\n",
       "    </tr>\n",
       "    <tr>\n",
       "      <th>294</th>\n",
       "      <td>4012</td>\n",
       "      <td>PRICE DRIVER UP (BROKER): Broker 411770 has in...</td>\n",
       "      <td>ETHBTC</td>\n",
       "    </tr>\n",
       "    <tr>\n",
       "      <th>295</th>\n",
       "      <td>4012</td>\n",
       "      <td>PRICE DRIVER DOWN (BROKER): Broker 44498 has d...</td>\n",
       "      <td>BCHUSD</td>\n",
       "    </tr>\n",
       "    <tr>\n",
       "      <th>302</th>\n",
       "      <td>4012</td>\n",
       "      <td>PRICE DRIVER DOWN (BROKER): Broker 44498 has d...</td>\n",
       "      <td>BCHUSD</td>\n",
       "    </tr>\n",
       "    <tr>\n",
       "      <th>349</th>\n",
       "      <td>4012</td>\n",
       "      <td>PRICE DRIVER DOWN (BROKER): Broker 479310 has ...</td>\n",
       "      <td>LTCUSD</td>\n",
       "    </tr>\n",
       "    <tr>\n",
       "      <th>350</th>\n",
       "      <td>4012</td>\n",
       "      <td>PRICE DRIVER UP (BROKER): Broker 479310 has in...</td>\n",
       "      <td>LTCUSD</td>\n",
       "    </tr>\n",
       "    <tr>\n",
       "      <th>351</th>\n",
       "      <td>4012</td>\n",
       "      <td>PRICE DRIVER UP (BROKER): Broker 319803 has in...</td>\n",
       "      <td>ZECLTC</td>\n",
       "    </tr>\n",
       "  </tbody>\n",
       "</table>\n",
       "</div>"
      ],
      "text/plain": [
       "     AlertCode                                           LongText  \\\n",
       "248       4012  PRICE DRIVER DOWN (BROKER): Broker 44498 has d...   \n",
       "249       4012  PRICE DRIVER UP (BROKER): Broker 44498 has inc...   \n",
       "257       4012  PRICE DRIVER DOWN (BROKER): Broker 772544 has ...   \n",
       "267       4012  PRICE DRIVER DOWN (BROKER): Broker 303565 has ...   \n",
       "283       4012  PRICE DRIVER UP (BROKER): Broker 411770 has in...   \n",
       "284       4012  PRICE DRIVER DOWN (BROKER): Broker 44498 has d...   \n",
       "285       4012  PRICE DRIVER DOWN (BROKER): Broker 44498 has d...   \n",
       "294       4012  PRICE DRIVER UP (BROKER): Broker 411770 has in...   \n",
       "295       4012  PRICE DRIVER DOWN (BROKER): Broker 44498 has d...   \n",
       "302       4012  PRICE DRIVER DOWN (BROKER): Broker 44498 has d...   \n",
       "349       4012  PRICE DRIVER DOWN (BROKER): Broker 479310 has ...   \n",
       "350       4012  PRICE DRIVER UP (BROKER): Broker 479310 has in...   \n",
       "351       4012  PRICE DRIVER UP (BROKER): Broker 319803 has in...   \n",
       "\n",
       "    InstrumentName  \n",
       "248         BCHUSD  \n",
       "249         ZECBTC  \n",
       "257         LTCBTC  \n",
       "267         ZECETH  \n",
       "283         ETHBTC  \n",
       "284         ETHBTC  \n",
       "285         BCHUSD  \n",
       "294         ETHBTC  \n",
       "295         BCHUSD  \n",
       "302         BCHUSD  \n",
       "349         LTCUSD  \n",
       "350         LTCUSD  \n",
       "351         ZECLTC  "
      ]
     },
     "execution_count": 31,
     "metadata": {},
     "output_type": "execute_result"
    }
   ],
   "source": [
    "alerts4012"
   ]
  },
  {
   "cell_type": "code",
   "execution_count": 21,
   "metadata": {},
   "outputs": [],
   "source": [
    "lookback = lookback_01m\n",
    "alerts4012 = lookback.loc[lookback['AlertCode'] == 4012,['AlertCode','LongText','InstrumentName']]\n",
    "# for i in alerts4012['LongText']: print(i,'\\n')\n",
    "regextext3 = '\\D+(\\d+)\\D+([A-Z]{6})\\D+(\\d+)\\D+(\\d+)[^\\(]+\\(([\\d.,]+)%[^\\(]+\\(([\\d.,]+)%.+'\n",
    "alerts4012_rematch = alerts4012['LongText'].str.extract(regextext3); alerts4012_rematch\n",
    "alerts4012_rematch.columns = ['acc','symbol','num','denom','tick','vol']\n",
    "alerts4012_rematch[['tick','vol']] = alerts4012_rematch[['tick','vol']].astype(float)\n",
    "alerts4012_rematch['dir'] = alerts4012_rematch['num'].astype(float)/alerts4012_rematch['denom'].astype(float)\n",
    "alerts4012_rematch\n",
    "alerts4012_rematch[['dir','tick','vol']].to_csv('~/Desktop/tuned01.csv')"
   ]
  },
  {
   "cell_type": "code",
   "execution_count": 22,
   "metadata": {},
   "outputs": [],
   "source": [
    "lookback = lookback_20m\n",
    "alerts4012 = lookback.loc[lookback['AlertCode'] == 4012,['AlertCode','LongText','InstrumentName']]\n",
    "# for i in alerts4012['LongText']: print(i,'\\n')\n",
    "regextext3 = '\\D+(\\d+)\\D+([A-Z]{6})\\D+(\\d+)\\D+(\\d+)[^\\(]+\\(([\\d.,]+)%[^\\(]+\\(([\\d.,]+)%.+'\n",
    "alerts4012_rematch = alerts4012['LongText'].str.extract(regextext3); alerts4012_rematch\n",
    "alerts4012_rematch.columns = ['acc','symbol','num','denom','tick','vol']\n",
    "alerts4012_rematch[['tick','vol']] = alerts4012_rematch[['tick','vol']].astype(float)\n",
    "alerts4012_rematch['dir'] = alerts4012_rematch['num'].astype(float)/alerts4012_rematch['denom'].astype(float)\n",
    "alerts4012_rematch\n",
    "alerts4012_rematch[['dir','tick','vol']].to_csv('~/Desktop/tuned20.csv')"
   ]
  },
  {
   "cell_type": "code",
   "execution_count": 23,
   "metadata": {},
   "outputs": [],
   "source": [
    "lookback = lookback_30m\n",
    "alerts4012 = lookback.loc[lookback['AlertCode'] == 4012,['AlertCode','LongText','InstrumentName']]\n",
    "# for i in alerts4012['LongText']: print(i,'\\n')\n",
    "regextext3 = '\\D+(\\d+)\\D+([A-Z]{6})\\D+(\\d+)\\D+(\\d+)[^\\(]+\\(([\\d.,]+)%[^\\(]+\\(([\\d.,]+)%.+'\n",
    "alerts4012_rematch = alerts4012['LongText'].str.extract(regextext3)\n",
    "alerts4012_rematch.columns = ['acc','symbol','num','denom','tick','vol']\n",
    "alerts4012_rematch[['tick','vol']] = alerts4012_rematch[['tick','vol']].astype(float)\n",
    "alerts4012_rematch['dir'] = alerts4012_rematch['num'].astype(float)/alerts4012_rematch['denom'].astype(float)\n",
    "alerts4012_rematch.shape\n",
    "alerts4012_rematch[['dir','tick','vol']].to_csv('~/Desktop/tuned30.csv')"
   ]
  },
  {
   "cell_type": "code",
   "execution_count": 24,
   "metadata": {},
   "outputs": [],
   "source": [
    "lookback = lookback_40m\n",
    "alerts4012 = lookback.loc[lookback['AlertCode'] == 4012,['AlertCode','LongText','InstrumentName']]\n",
    "# for i in alerts4012['LongText']: print(i,'\\n')\n",
    "regextext3 = '\\D+(\\d+)\\D+([A-Z]{6})\\D+(\\d+)\\D+(\\d+)[^\\(]+\\(([\\d.,]+)%[^\\(]+\\(([\\d.,]+)%.+'\n",
    "alerts4012_rematch = alerts4012['LongText'].str.extract(regextext3); alerts4012_rematch\n",
    "alerts4012_rematch.columns = ['acc','symbol','num','denom','tick','vol']\n",
    "alerts4012_rematch[['tick','vol']] = alerts4012_rematch[['tick','vol']].astype(float)\n",
    "alerts4012_rematch['dir'] = alerts4012_rematch['num'].astype(float)/alerts4012_rematch['denom'].astype(float)\n",
    "alerts4012_rematch\n",
    "alerts4012_rematch[['dir','tick','vol']].to_csv('~/Desktop/tuned40.csv')"
   ]
  },
  {
   "cell_type": "code",
   "execution_count": null,
   "metadata": {},
   "outputs": [],
   "source": []
  },
  {
   "cell_type": "code",
   "execution_count": null,
   "metadata": {},
   "outputs": [],
   "source": []
  }
 ],
 "metadata": {
  "kernelspec": {
   "display_name": "Python 3",
   "language": "python",
   "name": "python3"
  },
  "language_info": {
   "codemirror_mode": {
    "name": "ipython",
    "version": 3
   },
   "file_extension": ".py",
   "mimetype": "text/x-python",
   "name": "python",
   "nbconvert_exporter": "python",
   "pygments_lexer": "ipython3",
   "version": "3.7.0"
  }
 },
 "nbformat": 4,
 "nbformat_minor": 2
}
