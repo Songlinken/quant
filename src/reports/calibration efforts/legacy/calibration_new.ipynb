{
 "cells": [
  {
   "cell_type": "code",
   "execution_count": 1,
   "metadata": {},
   "outputs": [
    {
     "name": "stderr",
     "output_type": "stream",
     "text": [
      "/Users/sqian/.pyenv/versions/3.7.0/envs/env_370/lib/python3.7/site-packages/psycopg2/__init__.py:144: UserWarning: The psycopg2 wheel package will be renamed from release 2.8; in order to keep installing from binary please use \"pip install psycopg2-binary\" instead. For details see: <http://initd.org/psycopg/docs/install.html#binary-install-from-pypi>.\n",
      "  \"\"\")\n"
     ]
    }
   ],
   "source": [
    "import os; os.chdir('/Users/sqian/MKTSRV')\n",
    "import pandas as pd; pd.set_option('mode.chained_assignment',None) \n",
    "import numpy as np\n",
    "import xlrd\n",
    "import re\n",
    "\n",
    "from datetime import date\n",
    "from matplotlib import pyplot as plt\n",
    "from math import log10, floor\n",
    "from xlsxwriter.utility import xl_rowcol_to_cell\n",
    "from scipy import stats\n",
    "\n",
    "from src.data_models.smartshelper import metrics, fixNum, unSMART, cparty, littleQA, totalUP\n",
    "from src.data_models.SmartsDataModel import SmartsDataModel\n",
    "from src.utility.DataModelUtility import execute_query_data_frame\n",
    "from src.calculation.UnusualPriceVolumeMovement import UnusualPriceVolumeMovement"
   ]
  },
  {
   "cell_type": "code",
   "execution_count": 2,
   "metadata": {},
   "outputs": [],
   "source": [
    "symbol_list = ['BTCUSD', 'ETHBTC', 'ETHUSD', 'ZECBTC', 'ZECETH', 'ZECUSD']\n",
    "symbol_listLTC = ['LTCBTC', 'LTCETH', 'LTCUSD', 'ZECLTC']\n",
    "symbol_listBCH = ['BCHBTC', 'BCHETH', 'BCHUSD', 'LTCBCH', 'ZECBCH']\n",
    "\n",
    "myFolders = ['072018', '082018', '092018', '102018', '112018', '122018']\n",
    "myFoldersLTC = ['102018', '112018', '122018']\n",
    "myFoldersBCH = ['122018']"
   ]
  },
  {
   "cell_type": "code",
   "execution_count": null,
   "metadata": {},
   "outputs": [],
   "source": []
  }
 ],
 "metadata": {
  "kernelspec": {
   "display_name": "Python 3",
   "language": "python",
   "name": "python3"
  },
  "language_info": {
   "codemirror_mode": {
    "name": "ipython",
    "version": 3
   },
   "file_extension": ".py",
   "mimetype": "text/x-python",
   "name": "python",
   "nbconvert_exporter": "python",
   "pygments_lexer": "ipython3",
   "version": "3.7.0"
  }
 },
 "nbformat": 4,
 "nbformat_minor": 2
}
