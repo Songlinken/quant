{
 "cells": [
  {
   "cell_type": "markdown",
   "metadata": {},
   "source": [
    "### Tuning Impact"
   ]
  },
  {
   "cell_type": "code",
   "execution_count": 1,
   "metadata": {},
   "outputs": [
    {
     "name": "stderr",
     "output_type": "stream",
     "text": [
      "/Users/sqian/.pyenv/versions/3.7.0/envs/env_370/lib/python3.7/site-packages/psycopg2/__init__.py:144: UserWarning: The psycopg2 wheel package will be renamed from release 2.8; in order to keep installing from binary please use \"pip install psycopg2-binary\" instead. For details see: <http://initd.org/psycopg/docs/install.html#binary-install-from-pypi>.\n",
      "  \"\"\")\n"
     ]
    }
   ],
   "source": [
    "import os; os.chdir('/Users/sqian/MKTSRV')\n",
    "import pandas as pd\n",
    "import numpy as np\n",
    "import datetime\n",
    "import matplotlib.pyplot as plt\n",
    "import matplotlib.mlab as mlab\n",
    "import re\n",
    "import string\n",
    "import xlrd\n",
    "from src.data_models.SmartsDataModel import SmartsDataModel\n",
    "from src.data_models.SmartsAlertsDataModel import SmartsAlertsDataModel\n",
    "\n",
    "from src.data_models.smartshelper import metrics, fixType, unSMART, unSMARTbe"
   ]
  },
  {
   "cell_type": "markdown",
   "metadata": {},
   "source": [
    "#### 1) Import Alerts generated from Calibration Q-1"
   ]
  },
  {
   "cell_type": "code",
   "execution_count": 2,
   "metadata": {},
   "outputs": [
    {
     "name": "stdout",
     "output_type": "stream",
     "text": [
      "-> type fixed, kept 37572 rows, 48 columns\n"
     ]
    }
   ],
   "source": [
    "alert_cleaned_prior = unSMART(pd.read_excel('~/Documents/datafldr/smarts0_2018NovDec.xlsx'))\n",
    "# alert_cleaned_prior.dtypes"
   ]
  },
  {
   "cell_type": "markdown",
   "metadata": {},
   "source": [
    "#### 2) Import Alerts generated from Calibration Q"
   ]
  },
  {
   "cell_type": "code",
   "execution_count": 3,
   "metadata": {},
   "outputs": [
    {
     "name": "stdout",
     "output_type": "stream",
     "text": [
      "-> type fixed, kept 152 rows, 13 columns\n"
     ]
    }
   ],
   "source": [
    "alerts_cleaned = unSMART(pd.read_excel('~/Documents/datafldr/smarts1_2018Dec.xlsx'))\n",
    "# alert_cleaned_prior['Datetime'] = pd.to_datetime(alert_cleaned_prior['Date'].astype(str) + ' ' + \n",
    "#                                                  alert_cleaned_prior['Time'].astype(str))\n",
    "# alert_cleaned_prior.dtypes"
   ]
  },
  {
   "cell_type": "markdown",
   "metadata": {},
   "source": [
    "#### 2) Create and Apply Filters"
   ]
  },
  {
   "cell_type": "code",
   "execution_count": 4,
   "metadata": {},
   "outputs": [],
   "source": [
    "month = 12\n",
    "year = 2018\n",
    "\n",
    "filter_month_prior = alert_cleaned_prior['Datetime'].dt.month == month\n",
    "filter_year_prior = alert_cleaned_prior['Datetime'].dt.year == year\n",
    "filter_date_prior = filter_month_prior & filter_year_prior\n",
    "\n",
    "filter_month = alerts_cleaned['Datetime'].dt.month == month\n",
    "filter_year = alerts_cleaned['Datetime'].dt.year == year\n",
    "filter_date = filter_month & filter_year"
   ]
  },
  {
   "cell_type": "code",
   "execution_count": 5,
   "metadata": {},
   "outputs": [
    {
     "name": "stdout",
     "output_type": "stream",
     "text": [
      "-> kept 19702 of 37572 records\n",
      "-> filtered on month, kept 152 records of 152 records\n"
     ]
    }
   ],
   "source": [
    "alerts_prior = alert_cleaned_prior.loc[filter_date_prior]\n",
    "print('-> kept', alerts_prior.shape[0], 'of', alert_cleaned_prior.shape[0], 'records')\n",
    "\n",
    "alerts = alerts_cleaned.loc[filter_date]\n",
    "print('-> filtered on month, kept', alerts.shape[0], 'records of', alerts_cleaned.shape[0], 'records')"
   ]
  },
  {
   "cell_type": "markdown",
   "metadata": {},
   "source": [
    "#### 3) Impact of Tuning"
   ]
  },
  {
   "cell_type": "code",
   "execution_count": 7,
   "metadata": {},
   "outputs": [
    {
     "data": {
      "text/html": [
       "<div>\n",
       "<style scoped>\n",
       "    .dataframe tbody tr th:only-of-type {\n",
       "        vertical-align: middle;\n",
       "    }\n",
       "\n",
       "    .dataframe tbody tr th {\n",
       "        vertical-align: top;\n",
       "    }\n",
       "\n",
       "    .dataframe thead th {\n",
       "        text-align: right;\n",
       "    }\n",
       "</style>\n",
       "<table border=\"1\" class=\"dataframe\">\n",
       "  <thead>\n",
       "    <tr style=\"text-align: right;\">\n",
       "      <th></th>\n",
       "      <th>AlertCode</th>\n",
       "      <th>Alert</th>\n",
       "      <th>BEFORE</th>\n",
       "      <th>AFTER</th>\n",
       "    </tr>\n",
       "  </thead>\n",
       "  <tbody>\n",
       "    <tr>\n",
       "      <th>0</th>\n",
       "      <td>1001</td>\n",
       "      <td>Unusual Price Movement Intra-Day</td>\n",
       "      <td>76</td>\n",
       "      <td>15</td>\n",
       "    </tr>\n",
       "    <tr>\n",
       "      <th>1</th>\n",
       "      <td>2011</td>\n",
       "      <td>Unusual Volume Intra-Day</td>\n",
       "      <td>1</td>\n",
       "      <td>15</td>\n",
       "    </tr>\n",
       "    <tr>\n",
       "      <th>2</th>\n",
       "      <td>4009</td>\n",
       "      <td>Painting The Tape</td>\n",
       "      <td>25</td>\n",
       "      <td>0</td>\n",
       "    </tr>\n",
       "    <tr>\n",
       "      <th>3</th>\n",
       "      <td>4012</td>\n",
       "      <td>Price Driver</td>\n",
       "      <td>30</td>\n",
       "      <td>13</td>\n",
       "    </tr>\n",
       "    <tr>\n",
       "      <th>4</th>\n",
       "      <td>4022</td>\n",
       "      <td>Bait And Switch</td>\n",
       "      <td>14893</td>\n",
       "      <td>36</td>\n",
       "    </tr>\n",
       "    <tr>\n",
       "      <th>5</th>\n",
       "      <td>4023</td>\n",
       "      <td>Layering Repeat</td>\n",
       "      <td>1</td>\n",
       "      <td>1</td>\n",
       "    </tr>\n",
       "    <tr>\n",
       "      <th>6</th>\n",
       "      <td>4032</td>\n",
       "      <td>Multi Order Spoofing</td>\n",
       "      <td>826</td>\n",
       "      <td>41</td>\n",
       "    </tr>\n",
       "    <tr>\n",
       "      <th>7</th>\n",
       "      <td>4041</td>\n",
       "      <td>Wash Sale A-B-A</td>\n",
       "      <td>29</td>\n",
       "      <td>2</td>\n",
       "    </tr>\n",
       "    <tr>\n",
       "      <th>8</th>\n",
       "      <td>4042</td>\n",
       "      <td>Wash Sale A-B-A (Money Pass)</td>\n",
       "      <td>3818</td>\n",
       "      <td>26</td>\n",
       "    </tr>\n",
       "    <tr>\n",
       "      <th>9</th>\n",
       "      <td>4045</td>\n",
       "      <td>Collusion(Money Pass)</td>\n",
       "      <td>3</td>\n",
       "      <td>3</td>\n",
       "    </tr>\n",
       "  </tbody>\n",
       "</table>\n",
       "</div>"
      ],
      "text/plain": [
       "   AlertCode                             Alert  BEFORE  AFTER\n",
       "0       1001  Unusual Price Movement Intra-Day      76     15\n",
       "1       2011          Unusual Volume Intra-Day       1     15\n",
       "2       4009                 Painting The Tape      25      0\n",
       "3       4012                      Price Driver      30     13\n",
       "4       4022                   Bait And Switch   14893     36\n",
       "5       4023                   Layering Repeat       1      1\n",
       "6       4032              Multi Order Spoofing     826     41\n",
       "7       4041                   Wash Sale A-B-A      29      2\n",
       "8       4042      Wash Sale A-B-A (Money Pass)    3818     26\n",
       "9       4045             Collusion(Money Pass)       3      3"
      ]
     },
     "execution_count": 7,
     "metadata": {},
     "output_type": "execute_result"
    }
   ],
   "source": [
    "before = alerts_prior.groupby(['AlertCode','ShortText_mod']).count()['AlertID'].rename(columns={'AlertID':'BEFORE'})\n",
    "after = alerts.groupby(['AlertCode','ShortText_mod']).count()['AlertID'].rename(columns={'AlertID':'AFTER'})\n",
    "\n",
    "beforeVSafter = pd.concat([before,after],join='outer',axis=1).fillna(0).astype(int).reset_index().rename(columns={'ShortText_mod':'Alert',0:'BEFORE',1:'AFTER'})\n",
    "beforeVSafter['Alert'] = beforeVSafter['Alert'].str.title()\n",
    "\n",
    "beforeVSafter"
   ]
  }
 ],
 "metadata": {
  "kernelspec": {
   "display_name": "Python 3",
   "language": "python",
   "name": "python3"
  },
  "language_info": {
   "codemirror_mode": {
    "name": "ipython",
    "version": 3
   },
   "file_extension": ".py",
   "mimetype": "text/x-python",
   "name": "python",
   "nbconvert_exporter": "python",
   "pygments_lexer": "ipython3",
   "version": "3.7.0"
  }
 },
 "nbformat": 4,
 "nbformat_minor": 2
}
