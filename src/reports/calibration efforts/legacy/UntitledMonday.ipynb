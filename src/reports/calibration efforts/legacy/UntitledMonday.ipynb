{
 "cells": [
  {
   "cell_type": "code",
   "execution_count": 1,
   "metadata": {},
   "outputs": [
    {
     "name": "stderr",
     "output_type": "stream",
     "text": [
      "/Users/sqian/.pyenv/versions/3.7.0/envs/env_370/lib/python3.7/site-packages/psycopg2/__init__.py:144: UserWarning: The psycopg2 wheel package will be renamed from release 2.8; in order to keep installing from binary please use \"pip install psycopg2-binary\" instead. For details see: <http://initd.org/psycopg/docs/install.html#binary-install-from-pypi>.\n",
      "  \"\"\")\n"
     ]
    }
   ],
   "source": [
    "import os; os.chdir('/Users/sqian/MKTSRV')\n",
    "import pandas as pd; pd.set_option('mode.chained_assignment',None) \n",
    "import xlrd\n",
    "import re\n",
    "import numpy as np\n",
    "from xlsxwriter.utility import xl_rowcol_to_cell\n",
    "from scipy import stats\n",
    "from matplotlib import pyplot as plt\n",
    "from math import log10, floor\n",
    "\n",
    "from datetime import date\n",
    "import datetime\n",
    "import matplotlib.cbook as cbook\n",
    "\n",
    "from src.data_models.smartshelper import metrics, fixNum, unSMART, cparty, littleQA, totalUP\n",
    "from src.data_models.SmartsDataModel import SmartsDataModel\n",
    "from src.data_models.SmartsCsvDataModel import SmartsCsvDataModel\n",
    "from src.utility.DataModelUtility import execute_query_data_frame\n",
    "\n",
    "symbol_list = ['BTCUSD', 'ETHBTC', 'ETHUSD', 'ZECBTC', 'ZECETH', 'ZECUSD', 'LTCBTC', 'LTCETH', 'LTCUSD', 'ZECLTC', 'BCHBTC', 'BCHETH', 'BCHUSD', 'LTCBCH', 'ZECBCH']"
   ]
  },
  {
   "cell_type": "markdown",
   "metadata": {},
   "source": [
    "#### Step 1: Read smarts csv data from datalab"
   ]
  },
  {
   "cell_type": "code",
   "execution_count": 2,
   "metadata": {},
   "outputs": [
    {
     "name": "stderr",
     "output_type": "stream",
     "text": [
      "INFO:root:Constructing Singleton\n",
      "INFO:root:Using global configuration /Users/sqian/msv.yaml.\n",
      "INFO:root:Completed loading configuration.\n"
     ]
    },
    {
     "name": "stdout",
     "output_type": "stream",
     "text": [
      "download_smarts_data 0:00:00.015139\n",
      "read_csv_to_dk_dataframe 0:00:00.939280\n",
      "pre_cleaning 0:03:36.876628\n"
     ]
    }
   ],
   "source": [
    "eval_date = datetime.date(2019, 2, 1)\n",
    "begin_date = datetime.date(2018, 12, 31)\n",
    "instruments = 'BTCUSD'\n",
    "\n",
    "data_model = SmartsCsvDataModel(download_data=True).evaluate(instrument=instruments, evaluation_date=eval_date, begin_date=begin_date, use_db=False)"
   ]
  },
  {
   "cell_type": "code",
   "execution_count": 3,
   "metadata": {},
   "outputs": [],
   "source": [
    "inputdata = data_model['BTCUSD'].loc[(data_model['BTCUSD']['date_time'].dt.year == 2019) & (data_model['BTCUSD']['order_type'] != 'market')]\n",
    "inputdata['Date'] = inputdata['date_time'].dt.date\n",
    "# inputdata"
   ]
  },
  {
   "cell_type": "code",
   "execution_count": 28,
   "metadata": {},
   "outputs": [],
   "source": [
    "def rollupMetrics(accountnum):\n",
    "    inputdata_acc = inputdata.loc[inputdata['account_id'] == accountnum]\n",
    "    \n",
    "    data0_place = inputdata_acc.loc[(inputdata_acc['event_type'] == 'Place'),['order_id','date_time','original_quantity']]\n",
    "    data0_cancel = inputdata_acc.loc[inputdata_acc['event_type'] == 'Cancel',['order_id','date_time']]\n",
    "    data0_fill = inputdata_acc.loc[inputdata_acc['event_type'] == 'Fill',['order_id','date_time']].groupby(['order_id']).min()\n",
    "    \n",
    "    data1 = pd.concat([data0_place.set_index(['order_id']),data0_cancel.set_index(['order_id']),data0_fill],axis=1)\n",
    "    data1.columns = ['place','quantity','cancel','fill']\n",
    "    data1['canceltime'] = (data1['cancel'] - data1['place']).dt.total_seconds()/60\n",
    "    data1['filltime'] = (data1['fill'] - data1['place']).dt.total_seconds()/60\n",
    "    \n",
    "    data2 = data1.loc[~data1['place'].isna()]\n",
    "#     print(data2.head(20))\n",
    "    \n",
    "    print('Account Number: ',accountnum)\n",
    "    print('Cancels within 1 second', str(round(stats.percentileofscore(data2['canceltime'], 1/60),1))+'%')\n",
    "    print('Cancels within 1 minute', str(round(stats.percentileofscore(data2['canceltime'], 1),1))+'%')\n",
    "    print('Cancels within 5 minute', str(round(stats.percentileofscore(data2['canceltime'], 5),1))+'%')\n",
    "    \n",
    "    print('Fills within 1 second', str(round(stats.percentileofscore(data2['filltime'].dropna(), 1/60),1))+'%')\n",
    "    print('Fills within 1 minute', str(round(stats.percentileofscore(data2['filltime'].dropna(), 1),1))+'%')\n",
    "    print('Fills within 5 minute', str(round(stats.percentileofscore(data2['filltime'].dropna(), 5),1))+'%')\n",
    "    print('Fills within 10 minute', str(round(stats.percentileofscore(data2['filltime'].dropna(), 10),1))+'%')  \n",
    "    print('maxtime:', data2['filltime'].max())\n",
    "    \n",
    "    print('Fill rate = ',round((1-data2['cancel'].count()/data2['place'].count())*100,1).astype(str) +'%',sep='')\n",
    "    print('The following histogram is clipped at {}, the 99.9th percentile'.format(data2['quantity'].quantile(0.999)))\n",
    "    data2['quantity'].clip(0,10).hist(bins=50); plt.show()"
   ]
  },
  {
   "cell_type": "code",
   "execution_count": 17,
   "metadata": {},
   "outputs": [],
   "source": [
    "# data2"
   ]
  },
  {
   "cell_type": "code",
   "execution_count": 29,
   "metadata": {},
   "outputs": [
    {
     "name": "stdout",
     "output_type": "stream",
     "text": [
      "Account Number:  22440\n",
      "Cancels within 1 second 57.3%\n",
      "Cancels within 1 minute 90.6%\n",
      "Cancels within 5 minute 97.8%\n",
      "Fills within 1 second 45.7%\n",
      "Fills within 1 minute 86.8%\n",
      "Fills within 5 minute 98.3%\n",
      "Fills within 10 minute 99.7%\n",
      "maxtime: 15.004016666666669\n",
      "Fill rate = 1.5%\n",
      "The following histogram is clipped at 12.88581558, the 99.9th percentile\n"
     ]
    },
    {
     "data": {
      "image/png": "[encoded data removed]",
      "text/plain": [
       "<Figure size 432x288 with 1 Axes>"
      ]
     },
     "metadata": {
      "needs_background": "light"
     },
     "output_type": "display_data"
    },
    {
     "name": "stdout",
     "output_type": "stream",
     "text": [
      "Account Number:  202474\n",
      "Cancels within 1 second 4.9%\n",
      "Cancels within 1 minute 35.8%\n",
      "Cancels within 5 minute 49.8%\n",
      "Fills within 1 second 29.7%\n",
      "Fills within 1 minute 77.2%\n",
      "Fills within 5 minute 86.7%\n",
      "Fills within 10 minute 90.8%\n",
      "maxtime: 87.09243333333333\n",
      "Fill rate = 1.5%\n",
      "The following histogram is clipped at 40.0, the 99.9th percentile\n"
     ]
    },
    {
     "data": {
      "image/png": "[encoded data removed]",
      "text/plain": [
       "<Figure size 432x288 with 1 Axes>"
      ]
     },
     "metadata": {
      "needs_background": "light"
     },
     "output_type": "display_data"
    },
    {
     "name": "stdout",
     "output_type": "stream",
     "text": [
      "Account Number:  772544\n",
      "Cancels within 1 second 2.5%\n",
      "Cancels within 1 minute 2.5%\n",
      "Cancels within 5 minute 2.5%\n",
      "Fills within 1 second 100.0%\n",
      "Fills within 1 minute 100.0%\n",
      "Fills within 5 minute 100.0%\n",
      "Fills within 10 minute 100.0%\n",
      "maxtime: 1.6666666666666667e-05\n",
      "Fill rate = 97.5%\n",
      "The following histogram is clipped at 19.51703290000004, the 99.9th percentile\n"
     ]
    },
    {
     "data": {
      "image/png": "[encoded data removed]",
      "text/plain": [
       "<Figure size 432x288 with 1 Axes>"
      ]
     },
     "metadata": {
      "needs_background": "light"
     },
     "output_type": "display_data"
    },
    {
     "name": "stdout",
     "output_type": "stream",
     "text": [
      "Account Number:  3032\n",
      "Cancels within 1 second 74.2%\n",
      "Cancels within 1 minute 94.4%\n",
      "Cancels within 5 minute 98.7%\n",
      "Fills within 1 second 30.3%\n",
      "Fills within 1 minute 78.1%\n",
      "Fills within 5 minute 89.1%\n",
      "Fills within 10 minute 99.8%\n",
      "maxtime: 82.89363333333334\n",
      "Fill rate = 0.4%\n",
      "The following histogram is clipped at 20.0, the 99.9th percentile\n"
     ]
    },
    {
     "data": {
      "image/png": "[encoded data removed]",
      "text/plain": [
       "<Figure size 432x288 with 1 Axes>"
      ]
     },
     "metadata": {
      "needs_background": "light"
     },
     "output_type": "display_data"
    },
    {
     "name": "stdout",
     "output_type": "stream",
     "text": [
      "Account Number:  355845\n",
      "Cancels within 1 second 50.4%\n",
      "Cancels within 1 minute 77.7%\n",
      "Cancels within 5 minute 91.8%\n",
      "Fills within 1 second 49.5%\n",
      "Fills within 1 minute 93.4%\n",
      "Fills within 5 minute 99.7%\n",
      "Fills within 10 minute 99.8%\n",
      "maxtime: 42.59413333333334\n",
      "Fill rate = 0.8%\n",
      "The following histogram is clipped at 27.303908000000057, the 99.9th percentile\n"
     ]
    },
    {
     "data": {
      "image/png": "[encoded data removed]",
      "text/plain": [
       "<Figure size 432x288 with 1 Axes>"
      ]
     },
     "metadata": {
      "needs_background": "light"
     },
     "output_type": "display_data"
    }
   ],
   "source": [
    "rollupMetrics(22440)\n",
    "rollupMetrics(202474)\n",
    "rollupMetrics(772544)\n",
    "rollupMetrics(3032)\n",
    "rollupMetrics(355845)"
   ]
  },
  {
   "cell_type": "code",
   "execution_count": 6,
   "metadata": {},
   "outputs": [],
   "source": [
    "# delta1 = np.diff(price_data.adj_close) / price_data.adj_close[:-1]\n",
    "# Marker size in units of points^2\n",
    "# volume = (15 * price_data.volume[:-2] / price_data.volume[0])**2\n",
    "# close = 0.003 * price_data.close[:-2] / 0.003 * price_data.open[:-2]\n",
    "\n",
    "# volume = noninitialtuple['quantity']\n",
    "\n",
    "# fig, ax = plt.subplots()\n",
    "# ax.scatter(noninitialtuple['place'].values, noninitialtuple['canceltime'].clip(0,3000).values, s=volume, alpha=0.5)\n",
    "\n",
    "# ax.set_xlabel(r'$\\Delta_i$', fontsize=15)\n",
    "# ax.set_ylabel(r'$\\Delta_{i+1}$', fontsize=15)\n",
    "# ax.set_title('Volume and percent change')\n",
    "\n",
    "# ax.grid(True)\n",
    "# fig.tight_layout()\n",
    "\n",
    "# plt.show()"
   ]
  },
  {
   "cell_type": "code",
   "execution_count": 7,
   "metadata": {},
   "outputs": [
    {
     "data": {
      "text/html": [
       "<div>\n",
       "<style scoped>\n",
       "    .dataframe tbody tr th:only-of-type {\n",
       "        vertical-align: middle;\n",
       "    }\n",
       "\n",
       "    .dataframe tbody tr th {\n",
       "        vertical-align: top;\n",
       "    }\n",
       "\n",
       "    .dataframe thead th {\n",
       "        text-align: right;\n",
       "    }\n",
       "</style>\n",
       "<table border=\"1\" class=\"dataframe\">\n",
       "  <thead>\n",
       "    <tr style=\"text-align: right;\">\n",
       "      <th></th>\n",
       "      <th>instrument</th>\n",
       "      <th>liquidity_indicator</th>\n",
       "      <th>side</th>\n",
       "      <th>place_cancel_time_diff</th>\n",
       "      <th>timediff_counts</th>\n",
       "    </tr>\n",
       "  </thead>\n",
       "  <tbody>\n",
       "    <tr>\n",
       "      <th>0</th>\n",
       "      <td>BCHBTC</td>\n",
       "      <td>maker</td>\n",
       "      <td>buy</td>\n",
       "      <td>26.623</td>\n",
       "      <td>27</td>\n",
       "    </tr>\n",
       "    <tr>\n",
       "      <th>1</th>\n",
       "      <td>BCHBTC</td>\n",
       "      <td>maker</td>\n",
       "      <td>buy</td>\n",
       "      <td>26.624</td>\n",
       "      <td>27</td>\n",
       "    </tr>\n",
       "    <tr>\n",
       "      <th>2</th>\n",
       "      <td>BCHBTC</td>\n",
       "      <td>maker</td>\n",
       "      <td>buy</td>\n",
       "      <td>26.625</td>\n",
       "      <td>18</td>\n",
       "    </tr>\n",
       "    <tr>\n",
       "      <th>3</th>\n",
       "      <td>BCHBTC</td>\n",
       "      <td>maker</td>\n",
       "      <td>buy</td>\n",
       "      <td>26.622</td>\n",
       "      <td>9</td>\n",
       "    </tr>\n",
       "    <tr>\n",
       "      <th>4</th>\n",
       "      <td>BCHBTC</td>\n",
       "      <td>maker</td>\n",
       "      <td>buy</td>\n",
       "      <td>7.853</td>\n",
       "      <td>4</td>\n",
       "    </tr>\n",
       "  </tbody>\n",
       "</table>\n",
       "</div>"
      ],
      "text/plain": [
       "  instrument liquidity_indicator side  place_cancel_time_diff  timediff_counts\n",
       "0     BCHBTC               maker  buy                  26.623               27\n",
       "1     BCHBTC               maker  buy                  26.624               27\n",
       "2     BCHBTC               maker  buy                  26.625               18\n",
       "3     BCHBTC               maker  buy                  26.622                9\n",
       "4     BCHBTC               maker  buy                   7.853                4"
      ]
     },
     "execution_count": 7,
     "metadata": {},
     "output_type": "execute_result"
    }
   ],
   "source": [
    "kens = pd.read_pickle('/Users/sqian/Downloads/202474_split_matrix.pkl')\n",
    "kens.head()"
   ]
  },
  {
   "cell_type": "code",
   "execution_count": null,
   "metadata": {},
   "outputs": [],
   "source": []
  }
 ],
 "metadata": {
  "kernelspec": {
   "display_name": "Python 3",
   "language": "python",
   "name": "python3"
  },
  "language_info": {
   "codemirror_mode": {
    "name": "ipython",
    "version": 3
   },
   "file_extension": ".py",
   "mimetype": "text/x-python",
   "name": "python",
   "nbconvert_exporter": "python",
   "pygments_lexer": "ipython3",
   "version": "3.7.0"
  }
 },
 "nbformat": 4,
 "nbformat_minor": 2
}
