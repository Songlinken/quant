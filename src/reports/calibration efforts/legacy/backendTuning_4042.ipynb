{
 "cells": [
  {
   "cell_type": "markdown",
   "metadata": {},
   "source": [
    "### 4042 Wash Sale A-B-A (Money Pass)"
   ]
  },
  {
   "cell_type": "code",
   "execution_count": 1,
   "metadata": {},
   "outputs": [
    {
     "name": "stderr",
     "output_type": "stream",
     "text": [
      "/Users/sqian/.pyenv/versions/3.7.0/envs/env_370/lib/python3.7/site-packages/psycopg2/__init__.py:144: UserWarning: The psycopg2 wheel package will be renamed from release 2.8; in order to keep installing from binary please use \"pip install psycopg2-binary\" instead. For details see: <http://initd.org/psycopg/docs/install.html#binary-install-from-pypi>.\n",
      "  \"\"\")\n"
     ]
    }
   ],
   "source": [
    "import os; os.chdir('/Users/sqian/MKTSRV')\n",
    "import pandas as pd; pd.set_option('mode.chained_assignment',None) \n",
    "import numpy as np\n",
    "import datetime\n",
    "import matplotlib.pyplot as plt\n",
    "import matplotlib.mlab as mlab\n",
    "import math\n",
    "import re\n",
    "import xlrd\n",
    "import matplotlib.cbook as cbook\n",
    "\n",
    "\n",
    "from src.data_models.smartshelper import metrics, fixType, unSMART, cparty\n",
    "from src.data_models.SmartsDataModel import SmartsDataModel\n",
    "from src.utility.DataModelUtility import execute_query_data_frame"
   ]
  },
  {
   "cell_type": "markdown",
   "metadata": {},
   "source": [
    "### 0) Fetch & Clean Data from sources:"
   ]
  },
  {
   "cell_type": "markdown",
   "metadata": {},
   "source": [
    "#### ---> 0A) Import data from: SMARTS BE"
   ]
  },
  {
   "cell_type": "code",
   "execution_count": 24,
   "metadata": {},
   "outputs": [
    {
     "data": {
      "text/html": [
       "<div>\n",
       "<style scoped>\n",
       "    .dataframe tbody tr th:only-of-type {\n",
       "        vertical-align: middle;\n",
       "    }\n",
       "\n",
       "    .dataframe tbody tr th {\n",
       "        vertical-align: top;\n",
       "    }\n",
       "\n",
       "    .dataframe thead th {\n",
       "        text-align: right;\n",
       "    }\n",
       "</style>\n",
       "<table border=\"1\" class=\"dataframe\">\n",
       "  <thead>\n",
       "    <tr style=\"text-align: right;\">\n",
       "      <th></th>\n",
       "      <th>transid</th>\n",
       "      <th>id</th>\n",
       "      <th>setname</th>\n",
       "      <th>market</th>\n",
       "      <th>startdate</th>\n",
       "      <th>starttime</th>\n",
       "      <th>starttimestamp</th>\n",
       "      <th>date</th>\n",
       "      <th>time</th>\n",
       "      <th>timestamp</th>\n",
       "      <th>...</th>\n",
       "      <th>extrafolder</th>\n",
       "      <th>viewer</th>\n",
       "      <th>commandline</th>\n",
       "      <th>shorttext</th>\n",
       "      <th>longtext</th>\n",
       "      <th>usercode</th>\n",
       "      <th>attachmentfilename</th>\n",
       "      <th>attachmentcontent</th>\n",
       "      <th>isreissue</th>\n",
       "      <th>Datetime</th>\n",
       "    </tr>\n",
       "  </thead>\n",
       "  <tbody>\n",
       "    <tr>\n",
       "      <th>0</th>\n",
       "      <td>1</td>\n",
       "      <td>1</td>\n",
       "      <td>NaN</td>\n",
       "      <td>gemini</td>\n",
       "      <td>2015-10-08</td>\n",
       "      <td>09:43:41.936</td>\n",
       "      <td>2015-10-08 09:43:41.936</td>\n",
       "      <td>2015-10-08</td>\n",
       "      <td>23:59:59.999</td>\n",
       "      <td>2015-10-08 23:59:59.999</td>\n",
       "      <td>...</td>\n",
       "      <td>..</td>\n",
       "      <td>spread</td>\n",
       "      <td>-d 08/10/2015 -t +trading</td>\n",
       "      <td>PRICE DRIVER</td>\n",
       "      <td>PRICE DRIVER DOWN (BROKER): Broker 737 has dec...</td>\n",
       "      <td>NaN</td>\n",
       "      <td>NaN</td>\n",
       "      <td>NaN</td>\n",
       "      <td>f</td>\n",
       "      <td>2015-10-08 23:59:59.999</td>\n",
       "    </tr>\n",
       "    <tr>\n",
       "      <th>1</th>\n",
       "      <td>1</td>\n",
       "      <td>1</td>\n",
       "      <td>NaN</td>\n",
       "      <td>gemini</td>\n",
       "      <td>2015-10-11</td>\n",
       "      <td>13:09:25.894</td>\n",
       "      <td>2015-10-11 13:09:25.894</td>\n",
       "      <td>2015-10-11</td>\n",
       "      <td>13:09:25.894</td>\n",
       "      <td>2015-10-11 13:09:25.894</td>\n",
       "      <td>...</td>\n",
       "      <td>..</td>\n",
       "      <td>replay</td>\n",
       "      <td>NaN</td>\n",
       "      <td>BAIT AND SWITCH</td>\n",
       "      <td>BAIT AND SWITCH: The security (BTCUSD) with Br...</td>\n",
       "      <td>NaN</td>\n",
       "      <td>NaN</td>\n",
       "      <td>NaN</td>\n",
       "      <td>f</td>\n",
       "      <td>2015-10-11 13:09:25.894</td>\n",
       "    </tr>\n",
       "  </tbody>\n",
       "</table>\n",
       "<p>2 rows × 30 columns</p>\n",
       "</div>"
      ],
      "text/plain": [
       "   transid  id  setname  market   startdate     starttime  \\\n",
       "0        1   1      NaN  gemini  2015-10-08  09:43:41.936   \n",
       "1        1   1      NaN  gemini  2015-10-11  13:09:25.894   \n",
       "\n",
       "            starttimestamp        date          time                timestamp  \\\n",
       "0  2015-10-08 09:43:41.936  2015-10-08  23:59:59.999  2015-10-08 23:59:59.999   \n",
       "1  2015-10-11 13:09:25.894  2015-10-11  13:09:25.894  2015-10-11 13:09:25.894   \n",
       "\n",
       "            ...            extrafolder  viewer                commandline  \\\n",
       "0           ...                     ..  spread  -d 08/10/2015 -t +trading   \n",
       "1           ...                     ..  replay                        NaN   \n",
       "\n",
       "         shorttext                                           longtext  \\\n",
       "0     PRICE DRIVER  PRICE DRIVER DOWN (BROKER): Broker 737 has dec...   \n",
       "1  BAIT AND SWITCH  BAIT AND SWITCH: The security (BTCUSD) with Br...   \n",
       "\n",
       "   usercode  attachmentfilename  attachmentcontent  isreissue  \\\n",
       "0       NaN                 NaN                NaN          f   \n",
       "1       NaN                 NaN                NaN          f   \n",
       "\n",
       "                 Datetime  \n",
       "0 2015-10-08 23:59:59.999  \n",
       "1 2015-10-11 13:09:25.894  \n",
       "\n",
       "[2 rows x 30 columns]"
      ]
     },
     "execution_count": 24,
     "metadata": {},
     "output_type": "execute_result"
    }
   ],
   "source": [
    "alerts_cleaned = pd.read_csv('~/Downloads/DEFAULT_ALERTS.csv')\n",
    "\n",
    "alerts_cleaned.columns = alerts_cleaned.columns.str.replace(' ','')\n",
    "alerts_cleaned['longtext'] = alerts_cleaned['longtext'].str.replace('\\n','')\n",
    "alerts_cleaned['Datetime'] = pd.to_datetime(alerts_cleaned['date'].astype(str) + \" \" + alerts_cleaned['time'].astype(str))\n",
    "\n",
    "alerts0 = alerts_cleaned.sort_values('Datetime')\n",
    "alerts0.head(2)"
   ]
  },
  {
   "cell_type": "markdown",
   "metadata": {},
   "source": [
    "#### ---> 0B) Filter on Date to get recent alerts"
   ]
  },
  {
   "cell_type": "code",
   "execution_count": 3,
   "metadata": {},
   "outputs": [
    {
     "name": "stdout",
     "output_type": "stream",
     "text": [
      "-> kept 19532 alerts of 525121\n",
      "\n"
     ]
    },
    {
     "data": {
      "text/html": [
       "<div>\n",
       "<style scoped>\n",
       "    .dataframe tbody tr th:only-of-type {\n",
       "        vertical-align: middle;\n",
       "    }\n",
       "\n",
       "    .dataframe tbody tr th {\n",
       "        vertical-align: top;\n",
       "    }\n",
       "\n",
       "    .dataframe thead th {\n",
       "        text-align: right;\n",
       "    }\n",
       "</style>\n",
       "<table border=\"1\" class=\"dataframe\">\n",
       "  <thead>\n",
       "    <tr style=\"text-align: right;\">\n",
       "      <th></th>\n",
       "      <th>count</th>\n",
       "      <th>%</th>\n",
       "    </tr>\n",
       "  </thead>\n",
       "  <tbody>\n",
       "    <tr>\n",
       "      <th>4032</th>\n",
       "      <td>8650</td>\n",
       "      <td>44%</td>\n",
       "    </tr>\n",
       "    <tr>\n",
       "      <th>4022</th>\n",
       "      <td>8631</td>\n",
       "      <td>44%</td>\n",
       "    </tr>\n",
       "    <tr>\n",
       "      <th>4042</th>\n",
       "      <td>2149</td>\n",
       "      <td>11%</td>\n",
       "    </tr>\n",
       "    <tr>\n",
       "      <th>1001</th>\n",
       "      <td>63</td>\n",
       "      <td>0%</td>\n",
       "    </tr>\n",
       "    <tr>\n",
       "      <th>4012</th>\n",
       "      <td>19</td>\n",
       "      <td>0%</td>\n",
       "    </tr>\n",
       "  </tbody>\n",
       "</table>\n",
       "</div>"
      ],
      "text/plain": [
       "      count    %\n",
       "4032   8650  44%\n",
       "4022   8631  44%\n",
       "4042   2149  11%\n",
       "1001     63   0%\n",
       "4012     19   0%"
      ]
     },
     "execution_count": 3,
     "metadata": {},
     "output_type": "execute_result"
    }
   ],
   "source": [
    "datefilter = (alerts_cleaned['Datetime'] >= datetime.datetime(2019,1,1))\n",
    "alerts0b = alerts_cleaned.loc[datefilter].reset_index()\n",
    "\n",
    "print('-> kept ',alerts0b.shape[0],' alerts of ',alerts_cleaned.shape[0],'\\n',sep='')\n",
    "metrics(alerts0b['code'])"
   ]
  },
  {
   "cell_type": "markdown",
   "metadata": {},
   "source": [
    "#### ---> 0C) Filter on Scenario to get recent alerts"
   ]
  },
  {
   "cell_type": "code",
   "execution_count": 4,
   "metadata": {},
   "outputs": [
    {
     "name": "stdout",
     "output_type": "stream",
     "text": [
      "-> kept 2149 alerts of 19532\n",
      "\n"
     ]
    },
    {
     "data": {
      "text/html": [
       "<div>\n",
       "<style scoped>\n",
       "    .dataframe tbody tr th:only-of-type {\n",
       "        vertical-align: middle;\n",
       "    }\n",
       "\n",
       "    .dataframe tbody tr th {\n",
       "        vertical-align: top;\n",
       "    }\n",
       "\n",
       "    .dataframe thead th {\n",
       "        text-align: right;\n",
       "    }\n",
       "</style>\n",
       "<table border=\"1\" class=\"dataframe\">\n",
       "  <thead>\n",
       "    <tr style=\"text-align: right;\">\n",
       "      <th></th>\n",
       "      <th>count</th>\n",
       "      <th>%</th>\n",
       "    </tr>\n",
       "  </thead>\n",
       "  <tbody>\n",
       "    <tr>\n",
       "      <th>4042</th>\n",
       "      <td>2149</td>\n",
       "      <td>100%</td>\n",
       "    </tr>\n",
       "  </tbody>\n",
       "</table>\n",
       "</div>"
      ],
      "text/plain": [
       "      count     %\n",
       "4042   2149  100%"
      ]
     },
     "execution_count": 4,
     "metadata": {},
     "output_type": "execute_result"
    }
   ],
   "source": [
    "scenario = 4042\n",
    "scenariofilter = (alerts0b['code'] == scenario)\n",
    "alerts0c = alerts0b.loc[scenariofilter].reset_index()\n",
    "\n",
    "print('-> kept ',alerts0c.shape[0],' alerts of ',alerts0b.shape[0],'\\n',sep='')\n",
    "metrics(alerts0c['code']).head()"
   ]
  },
  {
   "cell_type": "markdown",
   "metadata": {},
   "source": [
    "### 1) Secondary Clean & Filtering"
   ]
  },
  {
   "cell_type": "markdown",
   "metadata": {},
   "source": [
    "#### ---> 1A) Expansion of Long Text"
   ]
  },
  {
   "cell_type": "code",
   "execution_count": 5,
   "metadata": {},
   "outputs": [
    {
     "name": "stdout",
     "output_type": "stream",
     "text": [
      "WASH SALE A-B-A (MONEY PASS): Broker 69739 and Broker 22440 have executed an ABA wash sale with a time difference of 00:23:24.356:00:44:40.109: Traded x0.5 BTCUSD at $3,683.18000 with a value of $1,842, Broker 22440 (buyer) Broker 69739 (seller).01:08:04.465: Traded x0.5 BTCUSD at $3,692.65000 with a value of $1,846, Broker 69739 (buyer) Broker 22440 (seller).$5 was passed from Broker 69739 to Broker 22440. \n",
      "\n",
      "WASH SALE A-B-A (MONEY PASS): Broker 22440 and Broker 202474 have executed an ABA wash sale with a time difference of 00:00:29.612:09:00:45.707: Traded x2 BTCUSD at $3,700.01000 with a value of $7,400, Broker 202474 (buyer) Broker 22440 (seller).09:01:15.319: Traded x2 BTCUSD at $3,672.32000 with a value of $7,345, Broker 22440 (buyer) Broker 202474 (seller).$55 was passed from Broker 202474 to Broker 22440. \n",
      "\n"
     ]
    }
   ],
   "source": [
    "for i in range(0,2): print(alerts0c.loc[i,'longtext'],'\\n')\n",
    "alerts0c[['Datetime','shorttext','code','longtext']].to_csv('~/Desktop/1A_Longtext.csv')"
   ]
  },
  {
   "cell_type": "markdown",
   "metadata": {},
   "source": [
    "#### ---> 1B) Regex Parse"
   ]
  },
  {
   "cell_type": "code",
   "execution_count": 6,
   "metadata": {},
   "outputs": [],
   "source": [
    "regex4042 = '.+difference of (\\d\\d:\\d\\d:\\d\\d.\\d{3}):(\\d\\d:\\d\\d:\\d\\d.\\d{3}):\\sTraded\\sx([\\d.,]+)\\s([A-Z]{6})\\sat\\D+([\\d,.]+).+\\d\\d:\\d\\d:\\d\\d.\\d{3}:\\sTraded\\sx[\\d,.]+\\s[A-Z]{6}\\sat\\D+([\\d,.]+).+passed\\D+(\\d+)\\D+(\\d+).+'\n",
    "name4042 = {0:'diff', 1:'startTime', 2:'vol', 3:'symbol', 4:'price1', 5:'price2',6:'accFROM',7:'accTO'}\n",
    "alerts1b = pd.concat([alerts0c['longtext'].str.extract(regex4042, expand=True).rename(columns=name4042),alerts0c['Datetime']],axis=1)\n",
    "alerts1b.head(2)"
   ]
  },
  {
   "cell_type": "markdown",
   "metadata": {},
   "source": [
    "#### ---> 1C-D) Field Cleanup & Intermediate Calculations"
   ]
  },
  {
   "cell_type": "code",
   "execution_count": 7,
   "metadata": {},
   "outputs": [],
   "source": [
    "alerts1c = alerts1b.drop(columns=['price1','price2','accFROM','accTO'])\n",
    "alerts1c['price1'] = alerts1b['price1'].str.replace(',','').astype(float)\n",
    "alerts1c['price2'] = alerts1b['price2'].str.replace(',','').astype(float)\n",
    "alerts1c['accFROM'] = alerts1b['accFROM'].astype(int)\n",
    "alerts1c['accTO'] = alerts1b['accTO'].astype(int)\n",
    "alerts1c['vol'] = alerts1c['vol'].str.replace(',','').astype(float)\n",
    "alerts1c['diffMIN'] = pd.to_timedelta(alerts1c['diff']).dt.seconds/60\n",
    "alerts1c.head(2)"
   ]
  },
  {
   "cell_type": "code",
   "execution_count": 8,
   "metadata": {},
   "outputs": [],
   "source": [
    "alerts1c['valueBENCH'] = alerts1c[['price1','price2']].min(axis=1) * alerts1c['vol']\n",
    "alerts1c['pass'] = abs(alerts1c['price1'] - alerts1c['price2']) * alerts1c['vol']\n",
    "alerts1c['accPOV'] = alerts1c[['accFROM','accTO']].min(axis=1).astype(int)\n",
    "alerts1c['acc2'] = alerts1c[['accFROM','accTO']].max(axis=1).astype(int)\n",
    "alerts1c['bool'] = alerts1c['accFROM'] == alerts1c['accPOV']\n",
    "alerts1c['passPOV'] = (2 * alerts1c['bool'] - 1) * alerts1c['pass']\n",
    "alerts1c['pass2'] = -alerts1c['passPOV']\n",
    "alerts1c['tradesum'] = alerts1c[['price1','price2']].sum(axis=1) * alerts1c['vol']\n",
    "alerts1c['accPAIR'] = alerts1c['accPOV'].astype(str) +'/'+ alerts1c['acc2'].astype(str)\n",
    "alerts1c['mintradeval'] = alerts1c[['price1','price2']].min(axis=1) * alerts1c['vol']\n",
    "alerts1c.head()\n",
    "# alerts2.dtypes"
   ]
  },
  {
   "cell_type": "markdown",
   "metadata": {},
   "source": [
    "#### ---> 1E) Filter to Replicate Paramter change of: Trade Value >= 5000 and diff <= 15 minutes"
   ]
  },
  {
   "cell_type": "code",
   "execution_count": 9,
   "metadata": {},
   "outputs": [
    {
     "name": "stdout",
     "output_type": "stream",
     "text": [
      "-> kept 114 alerts of 2149 after applying Paramter updates. \n",
      "\n"
     ]
    }
   ],
   "source": [
    "tradevalPARAM = 5000\n",
    "timediffPARAM = 15\n",
    "\n",
    "tradevalBOOL = alerts1c['mintradeval'] >= tradevalPARAM\n",
    "timediffBOOL = alerts1c['diffMIN'] <= timediffPARAM\n",
    "\n",
    "alerts1e = alerts1c.loc[tradevalBOOL & timediffBOOL,]\n",
    "print('-> kept ',alerts1e.shape[0],' alerts of ',alerts1c.shape[0],' after applying Paramter updates. \\n',sep='')\n",
    "\n",
    "# alerts1e.head()\n",
    "alerts1c[['mintradeval','diffMIN']].to_csv('~/Desktop/1E_HeatmapData.csv')"
   ]
  },
  {
   "cell_type": "markdown",
   "metadata": {},
   "source": [
    "#### ---> 1F) Alert Security Distribution (before vs after Parameter change)"
   ]
  },
  {
   "cell_type": "code",
   "execution_count": 10,
   "metadata": {},
   "outputs": [
    {
     "data": {
      "text/html": [
       "<div>\n",
       "<style scoped>\n",
       "    .dataframe tbody tr th:only-of-type {\n",
       "        vertical-align: middle;\n",
       "    }\n",
       "\n",
       "    .dataframe tbody tr th {\n",
       "        vertical-align: top;\n",
       "    }\n",
       "\n",
       "    .dataframe thead th {\n",
       "        text-align: right;\n",
       "    }\n",
       "</style>\n",
       "<table border=\"1\" class=\"dataframe\">\n",
       "  <thead>\n",
       "    <tr style=\"text-align: right;\">\n",
       "      <th></th>\n",
       "      <th>count</th>\n",
       "      <th>%</th>\n",
       "      <th>count</th>\n",
       "      <th>%</th>\n",
       "    </tr>\n",
       "  </thead>\n",
       "  <tbody>\n",
       "    <tr>\n",
       "      <th>BTCUSD</th>\n",
       "      <td>1067</td>\n",
       "      <td>50%</td>\n",
       "      <td>76.0</td>\n",
       "      <td>67%</td>\n",
       "    </tr>\n",
       "    <tr>\n",
       "      <th>ETHUSD</th>\n",
       "      <td>890</td>\n",
       "      <td>41%</td>\n",
       "      <td>38.0</td>\n",
       "      <td>33%</td>\n",
       "    </tr>\n",
       "    <tr>\n",
       "      <th>ETHBTC</th>\n",
       "      <td>110</td>\n",
       "      <td>5%</td>\n",
       "      <td>NaN</td>\n",
       "      <td>NaN</td>\n",
       "    </tr>\n",
       "    <tr>\n",
       "      <th>ZECUSD</th>\n",
       "      <td>47</td>\n",
       "      <td>2%</td>\n",
       "      <td>NaN</td>\n",
       "      <td>NaN</td>\n",
       "    </tr>\n",
       "    <tr>\n",
       "      <th>LTCUSD</th>\n",
       "      <td>13</td>\n",
       "      <td>1%</td>\n",
       "      <td>NaN</td>\n",
       "      <td>NaN</td>\n",
       "    </tr>\n",
       "    <tr>\n",
       "      <th>LTCBTC</th>\n",
       "      <td>10</td>\n",
       "      <td>0%</td>\n",
       "      <td>NaN</td>\n",
       "      <td>NaN</td>\n",
       "    </tr>\n",
       "    <tr>\n",
       "      <th>ZECBTC</th>\n",
       "      <td>6</td>\n",
       "      <td>0%</td>\n",
       "      <td>NaN</td>\n",
       "      <td>NaN</td>\n",
       "    </tr>\n",
       "    <tr>\n",
       "      <th>ZECETH</th>\n",
       "      <td>5</td>\n",
       "      <td>0%</td>\n",
       "      <td>NaN</td>\n",
       "      <td>NaN</td>\n",
       "    </tr>\n",
       "    <tr>\n",
       "      <th>LTCBCH</th>\n",
       "      <td>1</td>\n",
       "      <td>0%</td>\n",
       "      <td>NaN</td>\n",
       "      <td>NaN</td>\n",
       "    </tr>\n",
       "  </tbody>\n",
       "</table>\n",
       "</div>"
      ],
      "text/plain": [
       "        count    %  count    %\n",
       "BTCUSD   1067  50%   76.0  67%\n",
       "ETHUSD    890  41%   38.0  33%\n",
       "ETHBTC    110   5%    NaN  NaN\n",
       "ZECUSD     47   2%    NaN  NaN\n",
       "LTCUSD     13   1%    NaN  NaN\n",
       "LTCBTC     10   0%    NaN  NaN\n",
       "ZECBTC      6   0%    NaN  NaN\n",
       "ZECETH      5   0%    NaN  NaN\n",
       "LTCBCH      1   0%    NaN  NaN"
      ]
     },
     "execution_count": 10,
     "metadata": {},
     "output_type": "execute_result"
    }
   ],
   "source": [
    "pd.concat([metrics(alerts1c['symbol']),metrics(alerts1e['symbol'])],axis=1,sort=False)"
   ]
  },
  {
   "cell_type": "markdown",
   "metadata": {},
   "source": [
    "### 2) Preliminary Visualization"
   ]
  },
  {
   "cell_type": "markdown",
   "metadata": {},
   "source": [
    "#### ---> 2A) First look at time difference"
   ]
  },
  {
   "cell_type": "code",
   "execution_count": 11,
   "metadata": {},
   "outputs": [
    {
     "name": "stdout",
     "output_type": "stream",
     "text": [
      "time difference distribution (minutes)\n"
     ]
    },
    {
     "data": {
      "text/plain": [
       "<matplotlib.axes._subplots.AxesSubplot at 0x1538ee358>"
      ]
     },
     "execution_count": 11,
     "metadata": {},
     "output_type": "execute_result"
    },
    {
     "data": {
      "image/png": "[encoded data removed]",
      "text/plain": [
       "<Figure size 864x288 with 1 Axes>"
      ]
     },
     "metadata": {
      "needs_background": "light"
     },
     "output_type": "display_data"
    }
   ],
   "source": [
    "plt.rcParams['figure.figsize'] = (12,4)\n",
    "print('time difference distribution (minutes)')\n",
    "alerts1e['diffMIN'].hist(bins=60)"
   ]
  },
  {
   "cell_type": "code",
   "execution_count": 12,
   "metadata": {},
   "outputs": [],
   "source": [
    "alerts1e['endTime'] = pd.to_timedelta(alerts1e['startTime']) + pd.to_timedelta(alerts1e['diff'])\n",
    "alerts1e['timedelta'] = (alerts1e['Datetime'] - datetime.datetime(2018,12,31)).dt.total_seconds()/3600/24\n",
    "alerts1e['startTime2'] = pd.to_timedelta(alerts1e['startTime']).dt.total_seconds()/3600\n",
    "\n",
    "# alerts1e.head()"
   ]
  },
  {
   "cell_type": "code",
   "execution_count": 13,
   "metadata": {},
   "outputs": [
    {
     "data": {
      "image/png": "[encoded data removed]",
      "text/plain": [
       "<Figure size 1296x360 with 1 Axes>"
      ]
     },
     "metadata": {
      "needs_background": "light"
     },
     "output_type": "display_data"
    }
   ],
   "source": [
    "plt.rcParams['figure.figsize'] = (18,5)\n",
    "\n",
    "fig, ax = plt.subplots()\n",
    "ax.scatter(alerts1e['timedelta'], alerts1e['diffMIN'], s=alerts1e['vol']*5, alpha=0.5)\n",
    "\n",
    "major_ticks = np.arange(0, alerts1e['timedelta'].max(),1)\n",
    "minor_ticks = np.arange(0, alerts1e['timedelta'].max(),.5)\n",
    "\n",
    "ax.set_xticks(major_ticks)\n",
    "ax.set_xticks(minor_ticks, minor=True)\n",
    "\n",
    "# ax.xlabel('Label')\n",
    "# ax1.set_title('ax1 title')\n",
    "# ax2.set_title('ax2 title')\n",
    "\n",
    "# Or if you want different settings for the grids:\n",
    "ax.grid(which='minor', alpha=0.2)\n",
    "ax.grid(which='major', alpha=0.5)\n",
    "\n",
    "plt.show()"
   ]
  },
  {
   "cell_type": "markdown",
   "metadata": {},
   "source": [
    "###  3) Deep Dive into Accounts Involved:"
   ]
  },
  {
   "cell_type": "markdown",
   "metadata": {},
   "source": [
    "#### ---> 3A) most frequently encountered accounts"
   ]
  },
  {
   "cell_type": "code",
   "execution_count": 14,
   "metadata": {},
   "outputs": [
    {
     "name": "stdout",
     "output_type": "stream",
     "text": [
      "228 total \n",
      "\n",
      "411770    33%\n",
      "22440     27%\n",
      "202474    12%\n",
      "811415     8%\n",
      "772544     7%\n",
      "Name: %, dtype: object\n"
     ]
    }
   ],
   "source": [
    "percentageAlerts = 10\n",
    "alerts3a = pd.Series(alerts1e['accPOV'].append(alerts1e['acc2']))\n",
    "metrics0 = alerts3a.value_counts()/alerts3a.value_counts().sum()\n",
    "worstacc = metrics0[metrics0 > percentageAlerts/100].astype(int).index.tolist()\n",
    "\n",
    "print(metrics(alerts3a).sum()['count'],'total \\n')\n",
    "print((metrics(alerts3a).head()['%']))\n",
    "\n",
    "accOI = worstacc[0]"
   ]
  },
  {
   "cell_type": "markdown",
   "metadata": {},
   "source": [
    "#### ---> 3B) most frequently encountered counterparties of most frequently encountered accounts"
   ]
  },
  {
   "cell_type": "code",
   "execution_count": 15,
   "metadata": {},
   "outputs": [
    {
     "name": "stdout",
     "output_type": "stream",
     "text": [
      "account 411770\n",
      "75 total counterparties\n",
      "        count    %\n",
      "22440      36  48%\n",
      "811415     15  20%\n",
      "772544      7   9%\n",
      "202474      6   8%\n",
      "355845      6   8%\n",
      "\n",
      "account 22440\n",
      "62 total counterparties\n",
      "        count    %\n",
      "411770     36  58%\n",
      "202474     11  18%\n",
      "355845      9  15%\n",
      "811415      3   5%\n",
      "1595        1   2%\n",
      "\n",
      "account 202474\n",
      "28 total counterparties\n",
      "        count    %\n",
      "22440      11  39%\n",
      "772544      7  25%\n",
      "411770      6  21%\n",
      "1403        1   4%\n",
      "1595        1   4%\n",
      "\n"
     ]
    }
   ],
   "source": [
    "account = worstacc[0]\n",
    "\n",
    "for i in range(0,len(worstacc)): \n",
    "    print('account ',worstacc[i],'\\n', \n",
    "          metrics(alerts3a).loc[worstacc[i],'count'],' total counterparties\\n',\n",
    "          metrics(cparty(alerts1e[['accPOV','acc2']],worstacc[i])).head(),'\\n',sep='')"
   ]
  },
  {
   "cell_type": "markdown",
   "metadata": {},
   "source": [
    "#### ---> 3C) round trip metrics for worst accounts"
   ]
  },
  {
   "cell_type": "code",
   "execution_count": 16,
   "metadata": {},
   "outputs": [
    {
     "data": {
      "text/html": [
       "<div>\n",
       "<style scoped>\n",
       "    .dataframe tbody tr th:only-of-type {\n",
       "        vertical-align: middle;\n",
       "    }\n",
       "\n",
       "    .dataframe tbody tr th {\n",
       "        vertical-align: top;\n",
       "    }\n",
       "\n",
       "    .dataframe thead th {\n",
       "        text-align: right;\n",
       "    }\n",
       "</style>\n",
       "<table border=\"1\" class=\"dataframe\">\n",
       "  <thead>\n",
       "    <tr style=\"text-align: right;\">\n",
       "      <th></th>\n",
       "      <th>count</th>\n",
       "      <th>%</th>\n",
       "      <th>pass_sum</th>\n",
       "      <th>tradesum_sum</th>\n",
       "      <th>Datetime_min</th>\n",
       "      <th>diffMIN_min</th>\n",
       "      <th>diffMIN_avg</th>\n",
       "      <th>pass_avg</th>\n",
       "      <th>tradesum_avg</th>\n",
       "    </tr>\n",
       "    <tr>\n",
       "      <th>acc</th>\n",
       "      <th></th>\n",
       "      <th></th>\n",
       "      <th></th>\n",
       "      <th></th>\n",
       "      <th></th>\n",
       "      <th></th>\n",
       "      <th></th>\n",
       "      <th></th>\n",
       "      <th></th>\n",
       "    </tr>\n",
       "  </thead>\n",
       "  <tbody>\n",
       "    <tr>\n",
       "      <th>411770</th>\n",
       "      <td>75</td>\n",
       "      <td>33%</td>\n",
       "      <td>-1158</td>\n",
       "      <td>1211269</td>\n",
       "      <td>2019-01-02</td>\n",
       "      <td>0.100</td>\n",
       "      <td>4</td>\n",
       "      <td>-15</td>\n",
       "      <td>16150</td>\n",
       "    </tr>\n",
       "    <tr>\n",
       "      <th>22440</th>\n",
       "      <td>62</td>\n",
       "      <td>27%</td>\n",
       "      <td>-178</td>\n",
       "      <td>1532889</td>\n",
       "      <td>2019-01-01</td>\n",
       "      <td>0.200</td>\n",
       "      <td>4</td>\n",
       "      <td>-3</td>\n",
       "      <td>24724</td>\n",
       "    </tr>\n",
       "    <tr>\n",
       "      <th>202474</th>\n",
       "      <td>28</td>\n",
       "      <td>12%</td>\n",
       "      <td>999</td>\n",
       "      <td>740575</td>\n",
       "      <td>2019-01-01</td>\n",
       "      <td>0.367</td>\n",
       "      <td>3</td>\n",
       "      <td>36</td>\n",
       "      <td>26449</td>\n",
       "    </tr>\n",
       "    <tr>\n",
       "      <th>811415</th>\n",
       "      <td>19</td>\n",
       "      <td>8%</td>\n",
       "      <td>132</td>\n",
       "      <td>300189</td>\n",
       "      <td>2019-01-07</td>\n",
       "      <td>0.100</td>\n",
       "      <td>4</td>\n",
       "      <td>7</td>\n",
       "      <td>15799</td>\n",
       "    </tr>\n",
       "    <tr>\n",
       "      <th>772544</th>\n",
       "      <td>16</td>\n",
       "      <td>7%</td>\n",
       "      <td>-1358</td>\n",
       "      <td>239107</td>\n",
       "      <td>2019-01-01</td>\n",
       "      <td>0.383</td>\n",
       "      <td>3</td>\n",
       "      <td>-85</td>\n",
       "      <td>14944</td>\n",
       "    </tr>\n",
       "    <tr>\n",
       "      <th>355845</th>\n",
       "      <td>15</td>\n",
       "      <td>7%</td>\n",
       "      <td>188</td>\n",
       "      <td>278281</td>\n",
       "      <td>2019-01-06</td>\n",
       "      <td>0.133</td>\n",
       "      <td>3</td>\n",
       "      <td>13</td>\n",
       "      <td>18552</td>\n",
       "    </tr>\n",
       "    <tr>\n",
       "      <th>1595</th>\n",
       "      <td>4</td>\n",
       "      <td>2%</td>\n",
       "      <td>19</td>\n",
       "      <td>87706</td>\n",
       "      <td>2019-01-03</td>\n",
       "      <td>0.267</td>\n",
       "      <td>5</td>\n",
       "      <td>5</td>\n",
       "      <td>21927</td>\n",
       "    </tr>\n",
       "    <tr>\n",
       "      <th>1403</th>\n",
       "      <td>3</td>\n",
       "      <td>1%</td>\n",
       "      <td>247</td>\n",
       "      <td>66575</td>\n",
       "      <td>2019-01-02</td>\n",
       "      <td>2.100</td>\n",
       "      <td>2</td>\n",
       "      <td>82</td>\n",
       "      <td>22192</td>\n",
       "    </tr>\n",
       "    <tr>\n",
       "      <th>444259</th>\n",
       "      <td>3</td>\n",
       "      <td>1%</td>\n",
       "      <td>2</td>\n",
       "      <td>98842</td>\n",
       "      <td>2019-01-07</td>\n",
       "      <td>0.417</td>\n",
       "      <td>0</td>\n",
       "      <td>1</td>\n",
       "      <td>32947</td>\n",
       "    </tr>\n",
       "    <tr>\n",
       "      <th>3032</th>\n",
       "      <td>2</td>\n",
       "      <td>1%</td>\n",
       "      <td>271</td>\n",
       "      <td>25448</td>\n",
       "      <td>2019-01-14</td>\n",
       "      <td>8.667</td>\n",
       "      <td>9</td>\n",
       "      <td>135</td>\n",
       "      <td>12724</td>\n",
       "    </tr>\n",
       "    <tr>\n",
       "      <th>9069</th>\n",
       "      <td>1</td>\n",
       "      <td>0%</td>\n",
       "      <td>835</td>\n",
       "      <td>144435</td>\n",
       "      <td>2019-02-18</td>\n",
       "      <td>8.000</td>\n",
       "      <td>8</td>\n",
       "      <td>835</td>\n",
       "      <td>144435</td>\n",
       "    </tr>\n",
       "  </tbody>\n",
       "</table>\n",
       "</div>"
      ],
      "text/plain": [
       "        count    %  pass_sum  tradesum_sum Datetime_min  diffMIN_min  \\\n",
       "acc                                                                    \n",
       "411770     75  33%     -1158       1211269   2019-01-02        0.100   \n",
       "22440      62  27%      -178       1532889   2019-01-01        0.200   \n",
       "202474     28  12%       999        740575   2019-01-01        0.367   \n",
       "811415     19   8%       132        300189   2019-01-07        0.100   \n",
       "772544     16   7%     -1358        239107   2019-01-01        0.383   \n",
       "355845     15   7%       188        278281   2019-01-06        0.133   \n",
       "1595        4   2%        19         87706   2019-01-03        0.267   \n",
       "1403        3   1%       247         66575   2019-01-02        2.100   \n",
       "444259      3   1%         2         98842   2019-01-07        0.417   \n",
       "3032        2   1%       271         25448   2019-01-14        8.667   \n",
       "9069        1   0%       835        144435   2019-02-18        8.000   \n",
       "\n",
       "        diffMIN_avg  pass_avg  tradesum_avg  \n",
       "acc                                          \n",
       "411770            4       -15         16150  \n",
       "22440             4        -3         24724  \n",
       "202474            3        36         26449  \n",
       "811415            4         7         15799  \n",
       "772544            3       -85         14944  \n",
       "355845            3        13         18552  \n",
       "1595              5         5         21927  \n",
       "1403              2        82         22192  \n",
       "444259            0         1         32947  \n",
       "3032              9       135         12724  \n",
       "9069              8       835        144435  "
      ]
     },
     "execution_count": 16,
     "metadata": {},
     "output_type": "execute_result"
    }
   ],
   "source": [
    "alerts3cPOV = alerts1e[['acc2','pass2','Datetime','diffMIN','tradesum']].rename(columns={'acc2':'acc','pass2':'pass'})\n",
    "alerts3c2 = alerts1e[['accPOV','passPOV','Datetime','diffMIN','tradesum']].rename(columns={'accPOV':'acc','passPOV':'pass'})\n",
    "alerts3c_sub = alerts3cPOV.append(alerts3c2)\n",
    "\n",
    "countmetrics = alerts3c_sub.groupby('acc').count().sort_values('diffMIN',ascending=False)['diffMIN']\n",
    "countmetrics = metrics(alerts3c_sub['acc'])\n",
    "\n",
    "summetrics = round(alerts3c_sub.groupby('acc').sum()[['pass','tradesum']],0).astype(int)\n",
    "summetrics.columns = summetrics.columns + '_sum'\n",
    "\n",
    "minmetrics = round(alerts3c_sub.groupby('acc').min()[['Datetime','diffMIN']],3)\n",
    "minmetrics.columns = minmetrics.columns + '_min'\n",
    "minmetrics['Datetime_min'] = minmetrics['Datetime_min'].dt.date\n",
    "\n",
    "avgmetrics = round(alerts3c_sub.groupby('acc').mean()[['diffMIN','pass','tradesum']],0).astype(int)\n",
    "avgmetrics.columns = avgmetrics.columns + '_avg'\n",
    "\n",
    "alerts3c = pd.concat([countmetrics,summetrics,minmetrics,avgmetrics],axis=1,sort=True).sort_values('count',ascending=False)\n",
    "alerts3c"
   ]
  },
  {
   "cell_type": "markdown",
   "metadata": {},
   "source": [
    "#### ---> 3D) round trip metrics for worst accounts PAIRS"
   ]
  },
  {
   "cell_type": "code",
   "execution_count": 17,
   "metadata": {},
   "outputs": [
    {
     "data": {
      "text/html": [
       "<div>\n",
       "<style scoped>\n",
       "    .dataframe tbody tr th:only-of-type {\n",
       "        vertical-align: middle;\n",
       "    }\n",
       "\n",
       "    .dataframe tbody tr th {\n",
       "        vertical-align: top;\n",
       "    }\n",
       "\n",
       "    .dataframe thead th {\n",
       "        text-align: right;\n",
       "    }\n",
       "</style>\n",
       "<table border=\"1\" class=\"dataframe\">\n",
       "  <thead>\n",
       "    <tr style=\"text-align: right;\">\n",
       "      <th></th>\n",
       "      <th>count</th>\n",
       "      <th>%</th>\n",
       "      <th>passPOV_sum</th>\n",
       "      <th>tradesum_sum</th>\n",
       "      <th>Datetime_min</th>\n",
       "      <th>diffMIN_min</th>\n",
       "      <th>diffMIN_avg</th>\n",
       "      <th>passPOV_avg</th>\n",
       "      <th>tradesum_avg</th>\n",
       "    </tr>\n",
       "  </thead>\n",
       "  <tbody>\n",
       "    <tr>\n",
       "      <th>22440/411770</th>\n",
       "      <td>36</td>\n",
       "      <td>32%</td>\n",
       "      <td>368</td>\n",
       "      <td>603265</td>\n",
       "      <td>2019-01-02</td>\n",
       "      <td>0.200</td>\n",
       "      <td>5</td>\n",
       "      <td>10</td>\n",
       "      <td>16757</td>\n",
       "    </tr>\n",
       "    <tr>\n",
       "      <th>411770/811415</th>\n",
       "      <td>15</td>\n",
       "      <td>13%</td>\n",
       "      <td>-289</td>\n",
       "      <td>195872</td>\n",
       "      <td>2019-01-07</td>\n",
       "      <td>0.100</td>\n",
       "      <td>4</td>\n",
       "      <td>-19</td>\n",
       "      <td>13058</td>\n",
       "    </tr>\n",
       "    <tr>\n",
       "      <th>22440/202474</th>\n",
       "      <td>11</td>\n",
       "      <td>10%</td>\n",
       "      <td>139</td>\n",
       "      <td>445342</td>\n",
       "      <td>2019-01-01</td>\n",
       "      <td>0.367</td>\n",
       "      <td>2</td>\n",
       "      <td>13</td>\n",
       "      <td>40486</td>\n",
       "    </tr>\n",
       "    <tr>\n",
       "      <th>22440/355845</th>\n",
       "      <td>9</td>\n",
       "      <td>8%</td>\n",
       "      <td>-163</td>\n",
       "      <td>175668</td>\n",
       "      <td>2019-01-06</td>\n",
       "      <td>0.683</td>\n",
       "      <td>4</td>\n",
       "      <td>-18</td>\n",
       "      <td>19519</td>\n",
       "    </tr>\n",
       "    <tr>\n",
       "      <th>411770/772544</th>\n",
       "      <td>7</td>\n",
       "      <td>6%</td>\n",
       "      <td>-88</td>\n",
       "      <td>91670</td>\n",
       "      <td>2019-01-07</td>\n",
       "      <td>0.383</td>\n",
       "      <td>1</td>\n",
       "      <td>-13</td>\n",
       "      <td>13096</td>\n",
       "    </tr>\n",
       "    <tr>\n",
       "      <th>202474/772544</th>\n",
       "      <td>7</td>\n",
       "      <td>6%</td>\n",
       "      <td>1175</td>\n",
       "      <td>121989</td>\n",
       "      <td>2019-01-01</td>\n",
       "      <td>0.417</td>\n",
       "      <td>2</td>\n",
       "      <td>168</td>\n",
       "      <td>17427</td>\n",
       "    </tr>\n",
       "    <tr>\n",
       "      <th>202474/411770</th>\n",
       "      <td>6</td>\n",
       "      <td>5%</td>\n",
       "      <td>148</td>\n",
       "      <td>98916</td>\n",
       "      <td>2019-01-08</td>\n",
       "      <td>1.533</td>\n",
       "      <td>4</td>\n",
       "      <td>25</td>\n",
       "      <td>16486</td>\n",
       "    </tr>\n",
       "    <tr>\n",
       "      <th>355845/411770</th>\n",
       "      <td>6</td>\n",
       "      <td>5%</td>\n",
       "      <td>25</td>\n",
       "      <td>102612</td>\n",
       "      <td>2019-01-10</td>\n",
       "      <td>0.133</td>\n",
       "      <td>2</td>\n",
       "      <td>4</td>\n",
       "      <td>17102</td>\n",
       "    </tr>\n",
       "    <tr>\n",
       "      <th>22440/811415</th>\n",
       "      <td>3</td>\n",
       "      <td>3%</td>\n",
       "      <td>230</td>\n",
       "      <td>82933</td>\n",
       "      <td>2019-01-07</td>\n",
       "      <td>1.233</td>\n",
       "      <td>2</td>\n",
       "      <td>77</td>\n",
       "      <td>27644</td>\n",
       "    </tr>\n",
       "    <tr>\n",
       "      <th>1595/411770</th>\n",
       "      <td>2</td>\n",
       "      <td>2%</td>\n",
       "      <td>31</td>\n",
       "      <td>59741</td>\n",
       "      <td>2019-01-03</td>\n",
       "      <td>4.183</td>\n",
       "      <td>5</td>\n",
       "      <td>15</td>\n",
       "      <td>29870</td>\n",
       "    </tr>\n",
       "  </tbody>\n",
       "</table>\n",
       "</div>"
      ],
      "text/plain": [
       "               count    %  passPOV_sum  tradesum_sum Datetime_min  \\\n",
       "22440/411770      36  32%          368        603265   2019-01-02   \n",
       "411770/811415     15  13%         -289        195872   2019-01-07   \n",
       "22440/202474      11  10%          139        445342   2019-01-01   \n",
       "22440/355845       9   8%         -163        175668   2019-01-06   \n",
       "411770/772544      7   6%          -88         91670   2019-01-07   \n",
       "202474/772544      7   6%         1175        121989   2019-01-01   \n",
       "202474/411770      6   5%          148         98916   2019-01-08   \n",
       "355845/411770      6   5%           25        102612   2019-01-10   \n",
       "22440/811415       3   3%          230         82933   2019-01-07   \n",
       "1595/411770        2   2%           31         59741   2019-01-03   \n",
       "\n",
       "               diffMIN_min  diffMIN_avg  passPOV_avg  tradesum_avg  \n",
       "22440/411770         0.200            5           10         16757  \n",
       "411770/811415        0.100            4          -19         13058  \n",
       "22440/202474         0.367            2           13         40486  \n",
       "22440/355845         0.683            4          -18         19519  \n",
       "411770/772544        0.383            1          -13         13096  \n",
       "202474/772544        0.417            2          168         17427  \n",
       "202474/411770        1.533            4           25         16486  \n",
       "355845/411770        0.133            2            4         17102  \n",
       "22440/811415         1.233            2           77         27644  \n",
       "1595/411770          4.183            5           15         29870  "
      ]
     },
     "execution_count": 17,
     "metadata": {},
     "output_type": "execute_result"
    }
   ],
   "source": [
    "countmetrics = alerts1e.groupby('accPAIR').count().sort_values('diff',ascending=False)['diff']\n",
    "countmetrics = metrics(alerts1e['accPAIR'])\n",
    "\n",
    "summetrics = round(alerts1e.groupby('accPAIR').sum()[['passPOV','tradesum']],0).astype(int)\n",
    "summetrics.columns = summetrics.columns + '_sum'\n",
    "\n",
    "minmetrics = round(alerts1e.groupby('accPAIR').min()[['Datetime','diffMIN']],3)\n",
    "minmetrics.columns = minmetrics.columns + '_min'\n",
    "minmetrics['Datetime_min'] = minmetrics['Datetime_min'].dt.date\n",
    "\n",
    "avgmetrics = round(alerts1e.groupby('accPAIR').mean()[['diffMIN','passPOV','tradesum']],0).astype(int)\n",
    "avgmetrics.columns = avgmetrics.columns + '_avg'\n",
    "\n",
    "alerts3C = pd.concat([countmetrics,summetrics,minmetrics,avgmetrics],axis=1,sort=True).sort_values('count',ascending=False)\n",
    "alerts3C.head(10)"
   ]
  },
  {
   "cell_type": "markdown",
   "metadata": {},
   "source": [
    "### 4) Engine DB Query"
   ]
  },
  {
   "cell_type": "code",
   "execution_count": 18,
   "metadata": {},
   "outputs": [],
   "source": [
    "# query = \"select * from order_fill_event limit 10\""
   ]
  },
  {
   "cell_type": "code",
   "execution_count": 19,
   "metadata": {},
   "outputs": [],
   "source": [
    "# query = \"select count(distinct event_id) from order_fill_event where created >= '2019-1-1' limit 10\"\n",
    "# query2 = \"select count(event_id) from order_fill_event where created >= '2019-1-1' limit 10\"\n",
    "# query2 = \"select order_fill_event_key, count(*) from order_fill_event where created >= '2019-1-1' group by order_fill_event_key having count(*) > 2\"\n",
    "# query3 = \"select * from order_fill_event where event_id = 5278955904\""
   ]
  },
  {
   "cell_type": "code",
   "execution_count": 20,
   "metadata": {},
   "outputs": [],
   "source": [
    "# # testdata = execute_query_data_frame(query,'engine')\n",
    "# testdata2 = execute_query_data_frame(query2,'engine')\n",
    "# testdata3 = execute_query_data_frame(query3,'engine')"
   ]
  },
  {
   "cell_type": "code",
   "execution_count": 21,
   "metadata": {},
   "outputs": [],
   "source": [
    "# # testdata2['evenid_int'] = testdata2['event_id'].astype(int)\n",
    "# testdata2"
   ]
  },
  {
   "cell_type": "code",
   "execution_count": 22,
   "metadata": {},
   "outputs": [],
   "source": [
    "# aggravation: excessive fees"
   ]
  },
  {
   "cell_type": "code",
   "execution_count": 23,
   "metadata": {},
   "outputs": [],
   "source": [
    "### total traded value for BAD ACCOUNTS and ALL ACCOUNTS AGGREGATELY\n",
    "### total transactions\n",
    "### total volume\n",
    "\n",
    "### average trade value\n",
    "### average number of trades per day\n",
    "### average number of order requests per day\n",
    "\n",
    "### percentage of BAD ACCOUNTS in context of all accounts\n",
    "### percentage in BAD ACCOUNTS context of all *BIG* accounts"
   ]
  }
 ],
 "metadata": {
  "kernelspec": {
   "display_name": "Python 3",
   "language": "python",
   "name": "python3"
  },
  "language_info": {
   "codemirror_mode": {
    "name": "ipython",
    "version": 3
   },
   "file_extension": ".py",
   "mimetype": "text/x-python",
   "name": "python",
   "nbconvert_exporter": "python",
   "pygments_lexer": "ipython3",
   "version": "3.7.0"
  }
 },
 "nbformat": 4,
 "nbformat_minor": 2
}
