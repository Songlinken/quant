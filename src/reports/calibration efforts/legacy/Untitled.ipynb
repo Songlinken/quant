{
 "cells": [
  {
   "cell_type": "code",
   "execution_count": 1,
   "metadata": {},
   "outputs": [
    {
     "name": "stderr",
     "output_type": "stream",
     "text": [
      "/Users/sqian/.pyenv/versions/3.7.0/envs/env_370/lib/python3.7/site-packages/psycopg2/__init__.py:144: UserWarning: The psycopg2 wheel package will be renamed from release 2.8; in order to keep installing from binary please use \"pip install psycopg2-binary\" instead. For details see: <http://initd.org/psycopg/docs/install.html#binary-install-from-pypi>.\n",
      "  \"\"\")\n"
     ]
    }
   ],
   "source": [
    "import os; \n",
    "import pandas as pd; pd.set_option('mode.chained_assignment',None) \n",
    "import numpy as np\n",
    "import datetime\n",
    "import matplotlib.pyplot as plt\n",
    "import matplotlib.mlab as mlab\n",
    "import math\n",
    "import re\n",
    "import xlrd\n",
    "from xlsxwriter.utility import xl_rowcol_to_cell\n",
    "from random import sample \n",
    "\n",
    "from src.data_models.smartshelper import metrics, fixNum, unSMART, cparty, totalUP\n",
    "from src.data_models.SmartsDataModel import SmartsDataModel\n",
    "from src.utility.DataModelUtility import execute_query_data_frame"
   ]
  },
  {
   "cell_type": "code",
   "execution_count": 2,
   "metadata": {},
   "outputs": [],
   "source": [
    "alerting_1 = datetime.date(2019,3,1)\n",
    "alerting_2 = datetime.date(2019,4,30)"
   ]
  },
  {
   "cell_type": "code",
   "execution_count": 3,
   "metadata": {},
   "outputs": [],
   "source": [
    "symbol_list = ['BTCUSD', 'ETHBTC', 'ETHUSD', 'ZECBTC', 'ZECETH', 'ZECUSD']\n",
    "symbol_listLTC = ['LTCBTC', 'LTCETH', 'LTCUSD', 'ZECLTC']\n",
    "symbol_listBCH = ['BCHBTC', 'BCHETH', 'BCHUSD', 'LTCBCH', 'ZECBCH']\n",
    "\n",
    "myFolders = ['072018', '082018', '092018', '102018', '112018', '122018']\n",
    "myFoldersLTC = ['102018', '112018', '122018']\n",
    "myFoldersBCH = ['122018']"
   ]
  },
  {
   "cell_type": "code",
   "execution_count": 5,
   "metadata": {},
   "outputs": [
    {
     "ename": "TypeError",
     "evalue": "__init__() got an unexpected keyword argument 'download_data'",
     "output_type": "error",
     "traceback": [
      "\u001b[0;31m---------------------------------------------------------------------------\u001b[0m",
      "\u001b[0;31mTypeError\u001b[0m                                 Traceback (most recent call last)",
      "\u001b[0;32m<ipython-input-5-afdb9f368f44>\u001b[0m in \u001b[0;36m<module>\u001b[0;34m\u001b[0m\n\u001b[1;32m      1\u001b[0m \u001b[0minstruments\u001b[0m \u001b[0;34m=\u001b[0m \u001b[0;34m'BTCUSD'\u001b[0m\u001b[0;34m\u001b[0m\u001b[0m\n\u001b[1;32m      2\u001b[0m \u001b[0;34m\u001b[0m\u001b[0m\n\u001b[0;32m----> 3\u001b[0;31m \u001b[0mdata0\u001b[0m \u001b[0;34m=\u001b[0m \u001b[0mSmartsDataModel\u001b[0m\u001b[0;34m(\u001b[0m\u001b[0mdownload_data\u001b[0m\u001b[0;34m=\u001b[0m\u001b[0;32mTrue\u001b[0m\u001b[0;34m)\u001b[0m\u001b[0;34m.\u001b[0m\u001b[0mevaluate\u001b[0m\u001b[0;34m(\u001b[0m\u001b[0minstrument\u001b[0m\u001b[0;34m=\u001b[0m\u001b[0minstruments\u001b[0m\u001b[0;34m,\u001b[0m \u001b[0mevaluation_date\u001b[0m\u001b[0;34m=\u001b[0m\u001b[0malerting_2\u001b[0m\u001b[0;34m,\u001b[0m \u001b[0mbegin_date\u001b[0m\u001b[0;34m=\u001b[0m\u001b[0malerting_1\u001b[0m\u001b[0;34m,\u001b[0m \u001b[0muse_db\u001b[0m\u001b[0;34m=\u001b[0m\u001b[0;32mFalse\u001b[0m\u001b[0;34m)\u001b[0m\u001b[0;34m\u001b[0m\u001b[0m\n\u001b[0m\u001b[1;32m      4\u001b[0m \u001b[0mdata0\u001b[0m\u001b[0;34m\u001b[0m\u001b[0m\n",
      "\u001b[0;31mTypeError\u001b[0m: __init__() got an unexpected keyword argument 'download_data'"
     ]
    }
   ],
   "source": [
    "instruments = 'BTCUSD'\n",
    "\n",
    "data0 = SmartsDataModel(download_data=True).evaluate(instrument=instruments, evaluation_date=alerting_2, begin_date=alerting_1, use_db=False)\n",
    "data0"
   ]
  },
  {
   "cell_type": "code",
   "execution_count": null,
   "metadata": {},
   "outputs": [],
   "source": []
  }
 ],
 "metadata": {
  "kernelspec": {
   "display_name": "Python 3",
   "language": "python",
   "name": "python3"
  },
  "language_info": {
   "codemirror_mode": {
    "name": "ipython",
    "version": 3
   },
   "file_extension": ".py",
   "mimetype": "text/x-python",
   "name": "python",
   "nbconvert_exporter": "python",
   "pygments_lexer": "ipython3",
   "version": "3.7.0"
  }
 },
 "nbformat": 4,
 "nbformat_minor": 2
}
